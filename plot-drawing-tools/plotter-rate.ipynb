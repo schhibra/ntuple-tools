{
 "cells": [
  {
   "cell_type": "markdown",
   "metadata": {},
   "source": [
    "# Rate performance\n",
    "\n",
    "   * [Comparison new vs old EG ID](#Comparisono-baseline-vs-Manos-EGID)\n",
    "\n",
    "\n"
   ]
  },
  {
   "cell_type": "code",
   "execution_count": 1,
   "metadata": {},
   "outputs": [
    {
     "name": "stdout",
     "output_type": "stream",
     "text": [
      "Welcome to JupyROOT 6.24/02\n"
     ]
    }
   ],
   "source": [
    "import sys\n",
    "sys.path.insert(0, '..')\n",
    "# sys.path.insert(1, '../python/')\n",
    "sys.path.insert(1, 'python/')\n",
    "\n",
    "import ROOT\n",
    "import root_numpy as rnp\n",
    "# import python.l1THistos as histos\n",
    "import math\n",
    "import uuid\n",
    "import pandas as pd\n",
    "\n",
    "from drawingTools import *\n",
    "\n",
    "# ROOT.enableJSVis()\n",
    "ROOT.enableJSVis()\n",
    "\n",
    "\n",
    "normalized_histos = list()"
   ]
  },
  {
   "cell_type": "code",
   "execution_count": 2,
   "metadata": {},
   "outputs": [],
   "source": [
    "# %load python/drawingTools.py\n"
   ]
  },
  {
   "cell_type": "code",
   "execution_count": 3,
   "metadata": {},
   "outputs": [],
   "source": [
    "# %load samples.py\n",
    "\n",
    "samples = [\n",
    "    HistoFile('nugun_alleta_pu200_rate', 'PU200', 'v149E.68Al', 'ref'),\n",
    "]\n"
   ]
  },
  {
   "cell_type": "code",
   "execution_count": 4,
   "metadata": {},
   "outputs": [
    {
     "name": "stdout",
     "output_type": "stream",
     "text": [
      "<HistoFile ../plots1/histos_nugun_alleta_pu200_rate_v149E.68Al.root, ref>\n",
      "--- HistoClass: \n",
      "['RateHistos']\n",
      "--- TPs: \n",
      "['PFNFtkEleEE', 'tkEleEE', 'tkEmEE', 'PFNFtkEmEE']\n",
      "--- TP selections:\n",
      "{   'PFNFtkEleEE': [   'EGq1EtaBC',\n",
      "                       'EGq1EtaBCD',\n",
      "                       'EGq2or3EtaBCD',\n",
      "                       'EGq1or3EtaBC',\n",
      "                       'EGq2EtaBC',\n",
      "                       'EGq3EtaBC',\n",
      "                       'EGq6',\n",
      "                       'EGq3',\n",
      "                       'EGq1',\n",
      "                       'EGq2or3',\n",
      "                       'EGq6EtaBC',\n",
      "                       'EGq1or3EtaBCD',\n",
      "                       'EGq1or3',\n",
      "                       'EGq6EtaBCD',\n",
      "                       'EGq2EtaBCD',\n",
      "                       'EGq3EtaBCD',\n",
      "                       'EGq2',\n",
      "                       'EGq2or3EtaBC'],\n",
      "    'PFNFtkEmEE': [   'EGq6EtaBCD',\n",
      "                      'EGq2EtaBCD',\n",
      "                      'EGq2',\n",
      "                      'EGq1EtaBCD',\n",
      "                      'EGq3EtaBCD',\n",
      "                      'EGq1EtaBC',\n",
      "                      'EGq2EtaBC',\n",
      "                      'EGq2or3EtaBC',\n",
      "                      'EGq1or3EtaBC',\n",
      "                      'EGq2or3EtaBCD',\n",
      "                      'EGq3EtaBC',\n",
      "                      'EGq6',\n",
      "                      'EGq6EtaBC',\n",
      "                      'EGq1',\n",
      "                      'EGq3',\n",
      "                      'EGq1or3',\n",
      "                      'EGq1or3EtaBCD',\n",
      "                      'EGq2or3'],\n",
      "    'tkEleEE': [   'EGq4',\n",
      "                   'EGq4EtaBCD',\n",
      "                   'EGq4EtaBC',\n",
      "                   'EGq5EtaBC',\n",
      "                   'EGq5',\n",
      "                   'EGq5EtaBCD'],\n",
      "    'tkEmEE': [   'EGq5EtaBC',\n",
      "                  'EGq5',\n",
      "                  'EGq5EtaBCD',\n",
      "                  'EGq4',\n",
      "                  'EGq4EtaBCD',\n",
      "                  'EGq4EtaBC']}\n",
      "--- GEN selections:\n",
      "{   'PFNFtkEleEE': [None],\n",
      "    'PFNFtkEmEE': [None],\n",
      "    'tkEleEE': [None],\n",
      "    'tkEmEE': [None]}\n"
     ]
    }
   ],
   "source": [
    "for hf in samples:\n",
    "    hf.print_primitives()"
   ]
  },
  {
   "cell_type": "code",
   "execution_count": 5,
   "metadata": {},
   "outputs": [],
   "source": [
    "import python.collections as collections\n",
    "import python.selections as selections\n",
    "\n",
    "labels_dict = {}\n",
    "\n",
    "evm = collections.EventManager()\n",
    "labels_dict.update(evm.get_labels())\n",
    "selm = selections.SelectionManager()\n",
    "labels_dict.update(selm.get_labels())\n",
    "\n",
    "\n",
    "\n",
    "# #  ==== labels ===============================================\n",
    "# tp_labels = histo_primitives[['data', 'data_label']].drop_duplicates().set_index('data').T.to_dict('records')[0]\n",
    "# tp_selection_labels = histo_primitives[['data_sel', 'data_sel_label']].drop_duplicates().set_index('data_sel').T.to_dict('records')[0]\n",
    "# gen_selection_labels = histo_primitives[['gen_sel', 'gen_sel_label']].drop_duplicates().set_index('gen_sel').T.to_dict('records')[0]\n",
    "\n",
    "\n",
    "\n",
    "\n"
   ]
  },
  {
   "cell_type": "code",
   "execution_count": 6,
   "metadata": {},
   "outputs": [],
   "source": [
    "ROOT.gStyle.SetPadGridX(True)\n",
    "ROOT.gStyle.SetPadGridY(True)\n"
   ]
  },
  {
   "cell_type": "markdown",
   "metadata": {},
   "source": [
    "\n"
   ]
  },
  {
   "cell_type": "code",
   "execution_count": 7,
   "metadata": {},
   "outputs": [
    {
     "name": "stdout",
     "output_type": "stream",
     "text": [
      "--- RateHistos\n",
      "# of plots: 144\n",
      "# of primitives: 48\n",
      "CPU times: user 195 ms, sys: 9.51 ms, total: 204 ms\n",
      "Wall time: 205 ms\n"
     ]
    }
   ],
   "source": [
    "%%time\n",
    "\n",
    "import python.l1THistos as histos\n",
    "\n",
    "hplot = HPlot(samples, labels_dict)\n",
    "\n",
    "hplot.create_histo_proxies(histos.RateHistos)\n"
   ]
  },
  {
   "cell_type": "code",
   "execution_count": 8,
   "metadata": {},
   "outputs": [
    {
     "data": {
      "text/plain": [
       "array(['ref'], dtype=object)"
      ]
     },
     "execution_count": 8,
     "metadata": {},
     "output_type": "execute_result"
    }
   ],
   "source": [
    "hplot.data['sample'].unique()"
   ]
  },
  {
   "cell_type": "code",
   "execution_count": 9,
   "metadata": {},
   "outputs": [
    {
     "data": {
      "text/plain": [
       "array(['PFNFtkEleEE', 'tkEleEE', 'tkEmEE', 'PFNFtkEmEE'], dtype=object)"
      ]
     },
     "execution_count": 9,
     "metadata": {},
     "output_type": "execute_result"
    }
   ],
   "source": [
    "hplot.data['tp'].unique()"
   ]
  },
  {
   "cell_type": "code",
   "execution_count": 10,
   "metadata": {},
   "outputs": [
    {
     "data": {
      "text/plain": [
       "array(['EGq4', 'EGq4EtaBCD', 'EGq4EtaBC', 'EGq5EtaBC', 'EGq5',\n",
       "       'EGq5EtaBCD'], dtype=object)"
      ]
     },
     "execution_count": 10,
     "metadata": {},
     "output_type": "execute_result"
    }
   ],
   "source": [
    "hplot.data[hplot.data.tp == 'tkEleEE'].tp_sel.unique()"
   ]
  },
  {
   "cell_type": "code",
   "execution_count": 11,
   "metadata": {},
   "outputs": [],
   "source": [
    "# %load python/rate_utilities.py\n",
    "import ROOT\n",
    "\n",
    "\n",
    "def convertRateToGraph(histo_rate, params=None):\n",
    "    \"\"\"\n",
    "    Converts a rate TH1F to a graph.\n",
    "    Optionally applyes a linear scale mapping to the X axis.\n",
    "    \"\"\"\n",
    "    \n",
    "    xaxis = histo_rate.GetXaxis()\n",
    "    fNpoints = xaxis.GetNbins()\n",
    "    fX = [0]*fNpoints\n",
    "    fEX = [0]*fNpoints\n",
    "    fY = [0]*fNpoints\n",
    "    fEY = [0]*fNpoints\n",
    "\n",
    "    graph = ROOT.TGraphAsymmErrors()\n",
    "    graph.Set(fNpoints)\n",
    "    for i in range(0, fNpoints):\n",
    "        if params is None:\n",
    "            fX[i] = xaxis.GetBinLowEdge(i + 1)\n",
    "        else:\n",
    "            fX[i] = params[0] + params[1]*xaxis.GetBinLowEdge(i + 1)\n",
    "        fY[i] = histo_rate.GetBinContent(i + 1)\n",
    "        fEX[i] = histo_rate.GetBinWidth(i + 1) * ROOT.gStyle.GetErrorX()\n",
    "        fEY[i] = histo_rate.GetBinError(i + 1)\n",
    "    return fX, fY, fEX, fEX, fEY, fEY\n",
    "\n",
    "\n",
    "def cutAtRate(histo, rate):\n",
    "    \"\"\"\n",
    "    Determines the X value (pt cut) corresponding to Y value (rate)\n",
    "    \"\"\"\n",
    "    cut = None\n",
    "    for ix in range(1, histo.GetNbinsX()+1):\n",
    "        if histo.GetBinContent(ix) <= rate:\n",
    "            cut = histo.GetXaxis().GetBinLowEdge(ix)\n",
    "            break\n",
    "    return cut\n"
   ]
  },
  {
   "cell_type": "code",
   "execution_count": 16,
   "metadata": {},
   "outputs": [
    {
     "name": "stdout",
     "output_type": "stream",
     "text": [
      "0.0 60.0\n",
      "0.0 60.0\n",
      "0.0 60.0\n"
     ]
    },
    {
     "data": {
      "text/html": [
       "\n",
       "\n",
       "<div id=\"root_plot_1627657096311\"\n",
       "     style=\"width: 796px; height: 772px\">\n",
       "</div>\n",
       "<script>\n",
       "\n",
       "function display_root_plot_1627657096311(Core) {\n",
       "   let obj = Core.parse({\"_typename\":\"TCanvas\",\"fUniqueID\":0,\"fBits\":3342344,\"fLineColor\":1,\"fLineStyle\":1,\"fLineWidth\":1,\"fFillColor\":0,\"fFillStyle\":1001,\"fLeftMargin\":0.13,\"fRightMargin\":0.3,\"fBottomMargin\":0.13,\"fTopMargin\":0.1,\"fXfile\":2,\"fYfile\":2,\"fAfile\":1,\"fXstat\":0.99,\"fYstat\":0.99,\"fAstat\":2,\"fFrameFillColor\":0,\"fFrameLineColor\":1,\"fFrameFillStyle\":1001,\"fFrameLineStyle\":1,\"fFrameLineWidth\":1,\"fFrameBorderSize\":1,\"fFrameBorderMode\":0,\"fX1\":0,\"fY1\":0,\"fX2\":1,\"fY2\":1,\"fXtoAbsPixelk\":5e-5,\"fXtoPixelk\":5e-5,\"fXtoPixel\":796,\"fYtoAbsPixelk\":772.00005,\"fYtoPixelk\":772.00005,\"fYtoPixel\":-772,\"fUtoAbsPixelk\":5e-5,\"fUtoPixelk\":5e-5,\"fUtoPixel\":796,\"fVtoAbsPixelk\":772.00005,\"fVtoPixelk\":772,\"fVtoPixel\":-772,\"fAbsPixeltoXk\":0,\"fPixeltoXk\":0,\"fPixeltoX\":0.00125628140703518,\"fAbsPixeltoYk\":1,\"fPixeltoYk\":0,\"fPixeltoY\":-0.00129533678756477,\"fXlowNDC\":0,\"fYlowNDC\":0,\"fXUpNDC\":1,\"fYUpNDC\":1,\"fWNDC\":1,\"fHNDC\":1,\"fAbsXlowNDC\":0,\"fAbsYlowNDC\":0,\"fAbsWNDC\":1,\"fAbsHNDC\":1,\"fUxmin\":0,\"fUymin\":0,\"fUxmax\":1,\"fUymax\":1,\"fTheta\":30,\"fPhi\":30,\"fAspectRatio\":0,\"fNumber\":0,\"fTickx\":0,\"fTicky\":0,\"fLogx\":0,\"fLogy\":0,\"fLogz\":0,\"fPadPaint\":0,\"fCrosshair\":0,\"fCrosshairPos\":0,\"fBorderSize\":2,\"fBorderMode\":0,\"fModified\":false,\"fGridx\":true,\"fGridy\":true,\"fAbsCoord\":false,\"fEditable\":true,\"fFixedAspectRatio\":false,\"fPrimitives\":{\"_typename\":\"TList\",\"name\":\"TList\",\"arr\":[{\"_typename\":\"TPad\",\"fUniqueID\":0,\"fBits\":9,\"fLineColor\":1,\"fLineStyle\":1,\"fLineWidth\":1,\"fFillColor\":0,\"fFillStyle\":1001,\"fLeftMargin\":0.13,\"fRightMargin\":0.13,\"fBottomMargin\":0,\"fTopMargin\":0.1,\"fXfile\":2,\"fYfile\":2,\"fAfile\":1,\"fXstat\":0.99,\"fYstat\":0.99,\"fAstat\":2,\"fFrameFillColor\":0,\"fFrameLineColor\":1,\"fFrameFillStyle\":1001,\"fFrameLineStyle\":1,\"fFrameLineWidth\":1,\"fFrameBorderSize\":1,\"fFrameBorderMode\":0,\"fX1\":-10.5405400180747,\"fY1\":0,\"fX2\":70.5405400180747,\"fY2\":5.11340001152985,\"fXtoAbsPixelk\":103.480046204376,\"fXtoPixelk\":103.480046204376,\"fXtoPixel\":9.81733345985413,\"fYtoAbsPixelk\":617.60005,\"fYtoPixelk\":617.60005,\"fYtoPixel\":-120.780693590843,\"fUtoAbsPixelk\":5e-5,\"fUtoPixelk\":5e-5,\"fUtoPixel\":796,\"fVtoAbsPixelk\":617.60005,\"fVtoPixelk\":617.6,\"fVtoPixel\":-617.6,\"fAbsPixeltoXk\":-10.5405400180747,\"fPixeltoXk\":-10.5405400180747,\"fPixeltoX\":0.101860653311745,\"fAbsPixeltoYk\":5.11340001152985,\"fPixeltoYk\":0,\"fPixeltoY\":-0.00827946893058589,\"fXlowNDC\":0,\"fYlowNDC\":0.2,\"fXUpNDC\":1,\"fYUpNDC\":1,\"fWNDC\":1,\"fHNDC\":0.8,\"fAbsXlowNDC\":0,\"fAbsYlowNDC\":0.2,\"fAbsWNDC\":1,\"fAbsHNDC\":0.8,\"fUxmin\":0,\"fUymin\":0,\"fUxmax\":60,\"fUymax\":4.60205999132796,\"fTheta\":30,\"fPhi\":30,\"fAspectRatio\":0,\"fNumber\":1,\"fTickx\":0,\"fTicky\":0,\"fLogx\":0,\"fLogy\":1,\"fLogz\":0,\"fPadPaint\":0,\"fCrosshair\":0,\"fCrosshairPos\":0,\"fBorderSize\":2,\"fBorderMode\":0,\"fModified\":false,\"fGridx\":true,\"fGridy\":true,\"fAbsCoord\":false,\"fEditable\":true,\"fFixedAspectRatio\":false,\"fPrimitives\":{\"_typename\":\"TList\",\"name\":\"TList\",\"arr\":[{\"_typename\":\"TFrame\",\"fUniqueID\":0,\"fBits\":8,\"fLineColor\":1,\"fLineStyle\":1,\"fLineWidth\":1,\"fFillColor\":0,\"fFillStyle\":1001,\"fX1\":0,\"fY1\":0,\"fX2\":60,\"fY2\":4.60205999132796,\"fBorderSize\":1,\"fBorderMode\":0},{\"_typename\":\"TH1F\",\"fUniqueID\":0,\"fBits\":520,\"fName\":\"8ae365\",\"fTitle\":\"\",\"fLineColor\":604,\"fLineStyle\":1,\"fLineWidth\":1,\"fFillColor\":0,\"fFillStyle\":1001,\"fMarkerColor\":604,\"fMarkerStyle\":20,\"fMarkerSize\":0.6,\"fNcells\":102,\"fXaxis\":{\"_typename\":\"TAxis\",\"fUniqueID\":0,\"fBits\":2048,\"fName\":\"xaxis\",\"fTitle\":\"online p_{T} thresh. [GeV]\",\"fNdivisions\":510,\"fAxisColor\":1,\"fLabelColor\":1,\"fLabelFont\":42,\"fLabelOffset\":0.005,\"fLabelSize\":0.035,\"fTickLength\":0.03,\"fTitleOffset\":1.4,\"fTitleSize\":0.035,\"fTitleColor\":1,\"fTitleFont\":42,\"fNbins\":100,\"fXmin\":0,\"fXmax\":100,\"fXbins\":[],\"fFirst\":1,\"fLast\":60,\"fBits2\":0,\"fTimeDisplay\":false,\"fTimeFormat\":\"\",\"fLabels\":null,\"fModLabs\":null},\"fYaxis\":{\"_typename\":\"TAxis\",\"fUniqueID\":0,\"fBits\":0,\"fName\":\"yaxis\",\"fTitle\":\" rate [kHz]\",\"fNdivisions\":510,\"fAxisColor\":1,\"fLabelColor\":1,\"fLabelFont\":42,\"fLabelOffset\":0.005,\"fLabelSize\":0.035,\"fTickLength\":0.03,\"fTitleOffset\":0,\"fTitleSize\":0.035,\"fTitleColor\":1,\"fTitleFont\":42,\"fNbins\":1,\"fXmin\":0,\"fXmax\":1,\"fXbins\":[],\"fFirst\":0,\"fLast\":0,\"fBits2\":0,\"fTimeDisplay\":false,\"fTimeFormat\":\"\",\"fLabels\":null,\"fModLabs\":null},\"fZaxis\":{\"_typename\":\"TAxis\",\"fUniqueID\":0,\"fBits\":0,\"fName\":\"zaxis\",\"fTitle\":\"\",\"fNdivisions\":510,\"fAxisColor\":1,\"fLabelColor\":1,\"fLabelFont\":42,\"fLabelOffset\":0.005,\"fLabelSize\":0.035,\"fTickLength\":0.03,\"fTitleOffset\":1,\"fTitleSize\":0.035,\"fTitleColor\":1,\"fTitleFont\":42,\"fNbins\":1,\"fXmin\":0,\"fXmax\":1,\"fXbins\":[],\"fFirst\":0,\"fLast\":0,\"fBits2\":0,\"fTimeDisplay\":false,\"fTimeFormat\":\"\",\"fLabels\":null,\"fModLabs\":null},\"fBarOffset\":0,\"fBarWidth\":1000,\"fEntries\":467981,\"fTsumw\":80596.5555555556,\"fTsumw2\":13880.5179012346,\"fTsumwx\":374202.55,\"fTsumwx2\":3259572.67222222,\"fMaximum\":40000,\"fMinimum\":1,\"fNormFactor\":0,\"fContour\":[],\"fSumw2\":[0,1984.34635802469,1973.8762037037,1878.31009259259,1667.06805555556,1408.01330246914,1154.08981481481,927.216697530864,730.004074074074,566.901018518519,433.903364197531,319.206234567901,219.280030864198,148.391450617284,100.845679012346,70.236049382716,52.4694135802469,39.8043827160494,31.0841975308642,25.3300617283951,20.3470987654321,16.6691975308642,14.5039814814815,11.7158950617284,9.81762345679012,8.42358024691358,7.08885802469136,6.02108024691358,5.24990740740741,4.53805555555556,3.97450617283951,3.61858024691358,3.44061728395062,2.87706790123457,2.52114197530864,2.1058950617284,2.04657407407407,1.92793209876543,1.72030864197531,1.51268518518519,1.48302469135802,1.4237037037037,1.33472222222222,1.24574074074074,1.09743827160494,1.03811728395062,0.978796296296296,0.919475308641975,0.860154320987654,0.741512345679012,0.682191358024691,0.652530864197531,0.563549382716049,0.504228395061728,0.474567901234568,0.385586419753086,0.355925925925926,0.355925925925926,0.355925925925926,0.326265432098765,0.296604938271605,0.296604938271605,0.296604938271605,0.296604938271605,0.296604938271605,0.266944444444444,0.266944444444444,0.207623456790123,0.148302469135802,0.148302469135802,0.148302469135802,0.118641975308642,0.118641975308642,0.118641975308642,0.0889814814814815,0.0889814814814815,0.059320987654321,0.059320987654321,0.059320987654321,0.059320987654321,0.059320987654321,0.059320987654321,0.059320987654321,0.059320987654321,0.059320987654321,0.059320987654321,0.0296604938271605,0.0296604938271605,0.0296604938271605,0.0296604938271605,0.0296604938271605,0.0296604938271605,0.0296604938271605,0.0296604938271605,0.0296604938271605,0.0296604938271605,0.0296604938271605,0.0296604938271605,0.0296604938271605,0.0296604938271605,0.0296604938271605,0.0296604938271605],\"fOption\":\"\",\"fFunctions\":{\"_typename\":\"TList\",\"name\":\"TList\",\"arr\":[],\"opt\":[]},\"fBufferSize\":0,\"fBuffer\":[],\"fBinStatErrOpt\":0,\"fStatOverflows\":2,\"fArray\":[0,11522.01,11461.22,10906.32,9679.75,8175.561,6701.167,5383.839,4238.733,3291.683,2519.439,1853.456,1273.239,861.6278,585.5555,407.8222,304.6611,231.1222,180.4889,147.0778,118.1444,96.78889,84.21667,68.02778,57.00555,48.91111,41.16111,34.96111,30.48333,26.35,23.07778,21.01111,19.97778,16.70555,14.63889,12.22778,11.88333,11.19444,9.988889,8.783334,8.611111,8.266666,7.75,7.233333,6.372222,6.027778,5.683333,5.338889,4.994444,4.305555,3.961111,3.788889,3.272222,2.927778,2.755556,2.238889,2.066667,2.066667,2.066667,1.894444,1.722222,1.722222,1.722222,1.722222,1.722222,1.55,1.55,1.205556,0.8611111,0.8611111,0.8611111,0.6888889,0.6888889,0.6888889,0.5166667,0.5166667,0.3444445,0.3444445,0.3444445,0.3444445,0.3444445,0.3444445,0.3444445,0.3444445,0.3444445,0.3444445,0.1722222,0.1722222,0.1722222,0.1722222,0.1722222,0.1722222,0.1722222,0.1722222,0.1722222,0.1722222,0.1722222,0.1722222,0.1722222,0.1722222,0.1722222,0.1722222]},{\"_typename\":\"TH1F\",\"fUniqueID\":0,\"fBits\":520,\"fName\":\"cd6eb2\",\"fTitle\":\"\",\"fLineColor\":861,\"fLineStyle\":1,\"fLineWidth\":1,\"fFillColor\":0,\"fFillStyle\":1001,\"fMarkerColor\":861,\"fMarkerStyle\":21,\"fMarkerSize\":0.6,\"fNcells\":102,\"fXaxis\":{\"_typename\":\"TAxis\",\"fUniqueID\":0,\"fBits\":2048,\"fName\":\"xaxis\",\"fTitle\":\"online p_{T} thresh. [GeV]\",\"fNdivisions\":510,\"fAxisColor\":1,\"fLabelColor\":1,\"fLabelFont\":42,\"fLabelOffset\":0.005,\"fLabelSize\":0.035,\"fTickLength\":0.03,\"fTitleOffset\":1.4,\"fTitleSize\":0.035,\"fTitleColor\":1,\"fTitleFont\":42,\"fNbins\":100,\"fXmin\":0,\"fXmax\":100,\"fXbins\":[],\"fFirst\":1,\"fLast\":60,\"fBits2\":0,\"fTimeDisplay\":false,\"fTimeFormat\":\"\",\"fLabels\":null,\"fModLabs\":null},\"fYaxis\":{\"_typename\":\"TAxis\",\"fUniqueID\":0,\"fBits\":0,\"fName\":\"yaxis\",\"fTitle\":\" rate [kHz]\",\"fNdivisions\":510,\"fAxisColor\":1,\"fLabelColor\":1,\"fLabelFont\":42,\"fLabelOffset\":0.005,\"fLabelSize\":0.035,\"fTickLength\":0.03,\"fTitleOffset\":0,\"fTitleSize\":0.035,\"fTitleColor\":1,\"fTitleFont\":42,\"fNbins\":1,\"fXmin\":0,\"fXmax\":1,\"fXbins\":[],\"fFirst\":0,\"fLast\":0,\"fBits2\":0,\"fTimeDisplay\":false,\"fTimeFormat\":\"\",\"fLabels\":null,\"fModLabs\":null},\"fZaxis\":{\"_typename\":\"TAxis\",\"fUniqueID\":0,\"fBits\":0,\"fName\":\"zaxis\",\"fTitle\":\"\",\"fNdivisions\":510,\"fAxisColor\":1,\"fLabelColor\":1,\"fLabelFont\":42,\"fLabelOffset\":0.005,\"fLabelSize\":0.035,\"fTickLength\":0.03,\"fTitleOffset\":1,\"fTitleSize\":0.035,\"fTitleColor\":1,\"fTitleFont\":42,\"fNbins\":1,\"fXmin\":0,\"fXmax\":1,\"fXbins\":[],\"fFirst\":0,\"fLast\":0,\"fBits2\":0,\"fTimeDisplay\":false,\"fTimeFormat\":\"\",\"fLabels\":null,\"fModLabs\":null},\"fBarOffset\":0,\"fBarWidth\":1000,\"fEntries\":476498,\"fTsumw\":82063.3722222222,\"fTsumw2\":14133.1363271605,\"fTsumwx\":384279.186111111,\"fTsumwx2\":3350665.00972222,\"fMaximum\":40000,\"fMinimum\":1,\"fNormFactor\":0,\"fContour\":[],\"fSumw2\":[0,1985.41413580247,1980.10490740741,1899.33938271605,1698.38953703704,1440.25425925926,1185.32231481481,954.148425925926,753.851111111111,584.282067901235,449.148858024691,332.227191358025,229.868827160494,154.946419753086,106.273549382716,73.3504012345679,54.5456481481481,41.1687654320988,31.9146913580247,25.9232716049383,20.9996296296296,17.1437654320988,14.7116049382716,12.0421604938272,9.93626543209876,8.54222222222222,7.2075,6.0804012345679,5.30922839506173,4.59737654320988,4.03382716049383,3.64824074074074,3.44061728395062,2.90672839506173,2.5508024691358,2.1058950617284,2.04657407407407,1.92793209876543,1.72030864197531,1.54234567901235,1.48302469135802,1.4237037037037,1.36438271604938,1.2754012345679,1.09743827160494,1.06777777777778,0.978796296296296,0.919475308641975,0.860154320987654,0.741512345679012,0.682191358024691,0.652530864197531,0.59320987654321,0.504228395061728,0.474567901234568,0.385586419753086,0.355925925925926,0.355925925925926,0.355925925925926,0.326265432098765,0.296604938271605,0.296604938271605,0.296604938271605,0.296604938271605,0.296604938271605,0.266944444444444,0.266944444444444,0.237283950617284,0.148302469135802,0.148302469135802,0.148302469135802,0.118641975308642,0.118641975308642,0.118641975308642,0.0889814814814815,0.0889814814814815,0.059320987654321,0.059320987654321,0.059320987654321,0.059320987654321,0.059320987654321,0.059320987654321,0.059320987654321,0.059320987654321,0.059320987654321,0.059320987654321,0.0296604938271605,0.0296604938271605,0.0296604938271605,0.0296604938271605,0.0296604938271605,0.0296604938271605,0.0296604938271605,0.0296604938271605,0.0296604938271605,0.0296604938271605,0.0296604938271605,0.0296604938271605,0.0296604938271605,0.0296604938271605,0.0296604938271605,0.0296604938271605],\"fOption\":\"\",\"fFunctions\":{\"_typename\":\"TList\",\"name\":\"TList\",\"arr\":[],\"opt\":[]},\"fBufferSize\":0,\"fBuffer\":[],\"fBinStatErrOpt\":0,\"fStatOverflows\":2,\"fArray\":[0,11528.21,11497.38,11028.42,9861.616,8362.767,6882.517,5540.217,4377.2,3392.605,2607.961,1929.061,1334.722,899.6889,617.0722,425.9055,316.7167,239.0444,185.3111,150.5222,121.9333,99.54444,85.42223,69.92223,57.69444,49.6,41.85,35.30556,30.82778,26.69444,23.42222,21.18333,19.97778,16.87778,14.81111,12.22778,11.88333,11.19444,9.988889,8.955556,8.611111,8.266666,7.922222,7.405556,6.372222,6.2,5.683333,5.338889,4.994444,4.305555,3.961111,3.788889,3.444444,2.927778,2.755556,2.238889,2.066667,2.066667,2.066667,1.894444,1.722222,1.722222,1.722222,1.722222,1.722222,1.55,1.55,1.377778,0.8611111,0.8611111,0.8611111,0.6888889,0.6888889,0.6888889,0.5166667,0.5166667,0.3444445,0.3444445,0.3444445,0.3444445,0.3444445,0.3444445,0.3444445,0.3444445,0.3444445,0.3444445,0.1722222,0.1722222,0.1722222,0.1722222,0.1722222,0.1722222,0.1722222,0.1722222,0.1722222,0.1722222,0.1722222,0.1722222,0.1722222,0.1722222,0.1722222,0.1722222]},{\"_typename\":\"TLegend\",\"fUniqueID\":0,\"fBits\":8,\"fLineColor\":1,\"fLineStyle\":1,\"fLineWidth\":1,\"fFillColor\":0,\"fFillStyle\":0,\"fX1\":13.7837839927701,\"fY1\":2.55670000576492,\"fX2\":54.3243240108448,\"fY2\":4.09072000922388,\"fX1NDC\":0.3,\"fY1NDC\":0.5,\"fX2NDC\":0.8,\"fY2NDC\":0.8,\"fBorderSize\":0,\"fInit\":1,\"fShadowColor\":1,\"fCornerRadius\":0,\"fOption\":\"brNDC\",\"fName\":\"TPave\",\"fTextAngle\":0,\"fTextSize\":0.03,\"fTextAlign\":12,\"fTextColor\":1,\"fTextFont\":42,\"fPrimitives\":{\"_typename\":\"TList\",\"name\":\"TList\",\"arr\":[{\"_typename\":\"TLegendEntry\",\"fUniqueID\":0,\"fBits\":0,\"fTextAngle\":0,\"fTextSize\":0,\"fTextAlign\":0,\"fTextColor\":0,\"fTextFont\":42,\"fLineColor\":604,\"fLineStyle\":1,\"fLineWidth\":1,\"fFillColor\":0,\"fFillStyle\":0,\"fMarkerColor\":604,\"fMarkerStyle\":20,\"fMarkerSize\":0.6,\"fObject\":{\"$ref\":5},\"fLabel\":\"simu\",\"fOption\":\"lP\"},{\"_typename\":\"TLegendEntry\",\"fUniqueID\":0,\"fBits\":0,\"fTextAngle\":0,\"fTextSize\":0,\"fTextAlign\":0,\"fTextColor\":0,\"fTextFont\":42,\"fLineColor\":861,\"fLineStyle\":1,\"fLineWidth\":1,\"fFillColor\":0,\"fFillStyle\":0,\"fMarkerColor\":861,\"fMarkerStyle\":21,\"fMarkerSize\":0.6,\"fObject\":{\"$ref\":10},\"fLabel\":\"emu\",\"fOption\":\"lP\"}],\"opt\":[\"lP\",\"lP\"]},\"fEntrySeparation\":0.1,\"fMargin\":0.25,\"fNColumns\":1,\"fColumnSeparation\":0},{\"_typename\":\"TLatex\",\"fUniqueID\":0,\"fBits\":16392,\"fName\":\"\",\"fTitle\":\"PU200, TkEm EE Corr. New, hwQual=1, 1.52 < |#eta^{L1}| <= 2.4\",\"fTextAngle\":0,\"fTextSize\":0.03,\"fTextAlign\":11,\"fTextColor\":1,\"fTextFont\":62,\"fX\":0.15,\"fY\":0.85,\"fLineColor\":1,\"fLineStyle\":1,\"fLineWidth\":2,\"fLimitFactorSize\":3,\"fOriginSize\":0.04},{\"_typename\":\"TLatex\",\"fUniqueID\":0,\"fBits\":8,\"fName\":\"\",\"fTitle\":\"\",\"fTextAngle\":0,\"fTextSize\":0.03,\"fTextAlign\":11,\"fTextColor\":1,\"fTextFont\":62,\"fX\":0,\"fY\":0,\"fLineColor\":1,\"fLineStyle\":1,\"fLineWidth\":2,\"fLimitFactorSize\":3,\"fOriginSize\":0.04}],\"opt\":[\"\",\"\",\"same,\",\"same\",\"same\",\"same\"]},\"fExecs\":{\"_typename\":\"TList\",\"name\":\"TList\",\"arr\":[],\"opt\":[]},\"fName\":\"c_aa1b9d_1\",\"fTitle\":\"c_aa1b9d_1\",\"fNumPaletteColor\":0,\"fNextPaletteColor\":0},{\"_typename\":\"TPad\",\"fUniqueID\":0,\"fBits\":9,\"fLineColor\":1,\"fLineStyle\":1,\"fLineWidth\":1,\"fFillColor\":0,\"fFillStyle\":1001,\"fLeftMargin\":0.13,\"fRightMargin\":0.13,\"fBottomMargin\":0.26,\"fTopMargin\":0,\"fXfile\":2,\"fYfile\":2,\"fAfile\":1,\"fXstat\":0.99,\"fYstat\":0.99,\"fAstat\":2,\"fFrameFillColor\":0,\"fFrameLineColor\":1,\"fFrameFillStyle\":1001,\"fFrameLineStyle\":1,\"fFrameLineWidth\":1,\"fFrameBorderSize\":1,\"fFrameBorderMode\":0,\"fX1\":-10.5405400180747,\"fY1\":0.489189199638506,\"fX2\":70.5405400180747,\"fY2\":1.3,\"fXtoAbsPixelk\":103.480046204376,\"fXtoPixelk\":103.480046204376,\"fXtoPixel\":9.81733345985413,\"fYtoAbsPixelk\":865.154719857025,\"fYtoPixelk\":247.554719857025,\"fYtoPixel\":-190.426669120789,\"fUtoAbsPixelk\":5e-5,\"fUtoPixelk\":5e-5,\"fUtoPixel\":796,\"fVtoAbsPixelk\":772.00005,\"fVtoPixelk\":154.4,\"fVtoPixel\":-154.4,\"fAbsPixeltoXk\":-10.5405400180747,\"fPixeltoXk\":-10.5405400180747,\"fPixeltoX\":0.101860653311745,\"fAbsPixeltoYk\":4.54324320144598,\"fPixeltoYk\":0.489189199638506,\"fPixeltoY\":-0.00525136528731538,\"fXlowNDC\":0,\"fYlowNDC\":0,\"fXUpNDC\":1,\"fYUpNDC\":0.2,\"fWNDC\":1,\"fHNDC\":0.2,\"fAbsXlowNDC\":0,\"fAbsYlowNDC\":0,\"fAbsWNDC\":1,\"fAbsHNDC\":0.2,\"fUxmin\":0,\"fUymin\":0.7,\"fUxmax\":60,\"fUymax\":1.3,\"fTheta\":30,\"fPhi\":30,\"fAspectRatio\":0,\"fNumber\":2,\"fTickx\":0,\"fTicky\":0,\"fLogx\":0,\"fLogy\":0,\"fLogz\":0,\"fPadPaint\":0,\"fCrosshair\":0,\"fCrosshairPos\":0,\"fBorderSize\":2,\"fBorderMode\":0,\"fModified\":false,\"fGridx\":true,\"fGridy\":false,\"fAbsCoord\":false,\"fEditable\":true,\"fFixedAspectRatio\":false,\"fPrimitives\":{\"_typename\":\"TList\",\"name\":\"TList\",\"arr\":[{\"_typename\":\"TFrame\",\"fUniqueID\":0,\"fBits\":8,\"fLineColor\":1,\"fLineStyle\":1,\"fLineWidth\":1,\"fFillColor\":0,\"fFillStyle\":1001,\"fX1\":0,\"fY1\":0.7,\"fX2\":60,\"fY2\":1.3,\"fBorderSize\":1,\"fBorderMode\":0},{\"_typename\":\"TH1F\",\"fUniqueID\":0,\"fBits\":520,\"fName\":\"cd6eb2\",\"fTitle\":\"\",\"fLineColor\":861,\"fLineStyle\":1,\"fLineWidth\":1,\"fFillColor\":0,\"fFillStyle\":1001,\"fMarkerColor\":861,\"fMarkerStyle\":21,\"fMarkerSize\":0.6,\"fNcells\":102,\"fXaxis\":{\"_typename\":\"TAxis\",\"fUniqueID\":0,\"fBits\":2048,\"fName\":\"xaxis\",\"fTitle\":\" p_{T} [GeV]\",\"fNdivisions\":510,\"fAxisColor\":1,\"fLabelColor\":1,\"fLabelFont\":42,\"fLabelOffset\":0.005,\"fLabelSize\":20,\"fTickLength\":0.03,\"fTitleOffset\":5,\"fTitleSize\":20,\"fTitleColor\":1,\"fTitleFont\":42,\"fNbins\":100,\"fXmin\":0,\"fXmax\":100,\"fXbins\":[],\"fFirst\":1,\"fLast\":60,\"fBits2\":0,\"fTimeDisplay\":false,\"fTimeFormat\":\"\",\"fLabels\":null,\"fModLabs\":null},\"fYaxis\":{\"_typename\":\"TAxis\",\"fUniqueID\":0,\"fBits\":4096,\"fName\":\"yaxis\",\"fTitle\":\"#splitline{ratio}{scale[0.5]{to simu}}\",\"fNdivisions\":510,\"fAxisColor\":1,\"fLabelColor\":1,\"fLabelFont\":42,\"fLabelOffset\":0.005,\"fLabelSize\":20,\"fTickLength\":0.03,\"fTitleOffset\":2,\"fTitleSize\":20,\"fTitleColor\":1,\"fTitleFont\":42,\"fNbins\":1,\"fXmin\":0,\"fXmax\":1,\"fXbins\":[],\"fFirst\":0,\"fLast\":0,\"fBits2\":0,\"fTimeDisplay\":false,\"fTimeFormat\":\"\",\"fLabels\":null,\"fModLabs\":null},\"fZaxis\":{\"_typename\":\"TAxis\",\"fUniqueID\":0,\"fBits\":0,\"fName\":\"zaxis\",\"fTitle\":\"\",\"fNdivisions\":510,\"fAxisColor\":1,\"fLabelColor\":1,\"fLabelFont\":42,\"fLabelOffset\":0.005,\"fLabelSize\":0.035,\"fTickLength\":0.03,\"fTitleOffset\":1,\"fTitleSize\":0.035,\"fTitleColor\":1,\"fTitleFont\":42,\"fNbins\":1,\"fXmin\":0,\"fXmax\":1,\"fXbins\":[],\"fFirst\":0,\"fLast\":0,\"fBits2\":0,\"fTimeDisplay\":false,\"fTimeFormat\":\"\",\"fLabels\":null,\"fModLabs\":null},\"fBarOffset\":0,\"fBarWidth\":1000,\"fEntries\":212.410692274252,\"fTsumw\":101.081276893616,\"fTsumw2\":48.1022138247715,\"fTsumwx\":5028.0979142189,\"fTsumwx2\":334486.928957939,\"fMaximum\":1.3,\"fMinimum\":0.7,\"fNormFactor\":0,\"fContour\":[],\"fSumw2\":[0,2.99186086096462e-5,3.01954451248415e-5,3.21144693108594e-5,3.65931500536588e-5,4.35891163057029e-5,5.35060360871642e-5,6.67918831739861e-5,8.52863686579317e-5,1.09502391904049e-4,1.44004474068608e-4,1.97364708991789e-4,2.90436694531949e-4,4.26638336648412e-4,6.36578720236139e-4,9.01600316752196e-4,0.00119857387897387,0.00156781411458997,0.00198555955080443,0.00242483156088826,0.00305719862833967,0.00371213493253483,0.0041782203582673,0.00527675912652651,0.00615226555664185,0.00719173232470178,0.00857945361771814,0.00999829304938844,0.011491671960103,0.0133293234526528,0.0152611854934239,0.0165955532612881,0.0172413798224633,0.020938497433471,0.0239462634785451,0.0281690154515109,0.0289855078666906,0.0307692296042154,0.0344827596449266,0.0403766228733055,0.0400000039377523,0.0416666692303074,0.0459368993658804,0.0493332310672224,0.0540540506383635,0.0596151616487712,0.0606060592500854,0.0645161233981179,0.0689655192898532,0.0800000078755046,0.0869565236000719,0.0909090888751281,0.113719194024545,0.117647059675119,0.124999993270444,0.153846141467866,0.16666667692123,0.16666667692123,0.16666667692123,0.181818177750256,0.200000003076369,0.200000003076369,0.200000003076369,0.200000003076369,0.200000003076369,0.222222235894973,0.222222235894973,0.349854235092967,0.400000006152738,0.400000006152738,0.400000006152738,0.499999973081774,0.499999973081774,0.499999973081774,0.666666707684919,0.666666707684919,0.999999946163549,0.999999946163549,0.999999946163549,0.999999946163549,0.999999946163549,0.999999946163549,0.999999946163549,0.999999946163549,0.999999946163549,0.999999946163549,1.9999998923271,1.9999998923271,1.9999998923271,1.9999998923271,1.9999998923271,1.9999998923271,1.9999998923271,1.9999998923271,1.9999998923271,1.9999998923271,1.9999998923271,1.9999998923271,1.9999998923271,1.9999998923271,1.9999998923271,1.9999998923271],\"fOption\":\"\",\"fFunctions\":{\"_typename\":\"TList\",\"name\":\"TList\",\"arr\":[],\"opt\":[]},\"fBufferSize\":0,\"fBuffer\":[],\"fBinStatErrOpt\":0,\"fStatOverflows\":2,\"fArray\":[0,1.000538,1.003156,1.011196,1.018788,1.022898,1.027062,1.029046,1.032667,1.03066,1.035136,1.040792,1.048289,1.044173,1.053823,1.044341,1.03957,1.034277,1.026718,1.023419,1.03207,1.02847,1.014315,1.027848,1.012085,1.014084,1.016736,1.009852,1.011299,1.013072,1.014925,1.008197,1,1.010309,1.011765,1,1,1,1,1.019608,1,1,1.022222,1.02381,1,1.028571,1,1,1,1,1,1,1.052631,1,1,1,1,1,1,1,1,1,1,1,1,1,1,1.142857,1,1,1,1,1,1,1,1,1,1,1,1,1,1,1,1,1,1,1,1,1,1,1,1,1,1,1,1,1,1,1,1,1,1]},{\"_typename\":\"TLine\",\"fUniqueID\":0,\"fBits\":8,\"fLineColor\":1,\"fLineStyle\":2,\"fLineWidth\":1,\"fX1\":0,\"fY1\":0.9,\"fX2\":60,\"fY2\":0.9},{\"_typename\":\"TLine\",\"fUniqueID\":0,\"fBits\":8,\"fLineColor\":1,\"fLineStyle\":2,\"fLineWidth\":1,\"fX1\":0,\"fY1\":1,\"fX2\":60,\"fY2\":1},{\"_typename\":\"TLine\",\"fUniqueID\":0,\"fBits\":8,\"fLineColor\":1,\"fLineStyle\":2,\"fLineWidth\":1,\"fX1\":0,\"fY1\":1.1,\"fX2\":60,\"fY2\":1.1}],\"opt\":[\"\",\"\",\"same\",\"same\",\"same\"]},\"fExecs\":{\"_typename\":\"TList\",\"name\":\"TList\",\"arr\":[],\"opt\":[]},\"fName\":\"c_aa1b9d_2\",\"fTitle\":\"c_aa1b9d_2\",\"fNumPaletteColor\":0,\"fNextPaletteColor\":0},{\"_typename\":\"TStyle\",\"fUniqueID\":0,\"fBits\":0,\"fName\":\"Modern\",\"fTitle\":\"Modern Style\",\"fLineColor\":1,\"fLineStyle\":1,\"fLineWidth\":1,\"fFillColor\":19,\"fFillStyle\":1001,\"fMarkerColor\":1,\"fMarkerStyle\":1,\"fMarkerSize\":1,\"fTextAngle\":0,\"fTextSize\":0.05,\"fTextAlign\":11,\"fTextColor\":1,\"fTextFont\":62,\"fXaxis\":{\"_typename\":\"TAttAxis\",\"fNdivisions\":510,\"fAxisColor\":1,\"fLabelColor\":1,\"fLabelFont\":42,\"fLabelOffset\":0.005,\"fLabelSize\":0.035,\"fTickLength\":0.03,\"fTitleOffset\":1,\"fTitleSize\":0.035,\"fTitleColor\":1,\"fTitleFont\":42},\"fYaxis\":{\"_typename\":\"TAttAxis\",\"fNdivisions\":510,\"fAxisColor\":1,\"fLabelColor\":1,\"fLabelFont\":42,\"fLabelOffset\":0.005,\"fLabelSize\":0.035,\"fTickLength\":0.03,\"fTitleOffset\":0,\"fTitleSize\":0.035,\"fTitleColor\":1,\"fTitleFont\":42},\"fZaxis\":{\"_typename\":\"TAttAxis\",\"fNdivisions\":510,\"fAxisColor\":1,\"fLabelColor\":1,\"fLabelFont\":42,\"fLabelOffset\":0.005,\"fLabelSize\":0.035,\"fTickLength\":0.03,\"fTitleOffset\":1,\"fTitleSize\":0.035,\"fTitleColor\":1,\"fTitleFont\":42},\"fBarWidth\":1,\"fBarOffset\":0,\"fColorModelPS\":0,\"fDrawBorder\":0,\"fOptLogx\":0,\"fOptLogy\":0,\"fOptLogz\":0,\"fOptDate\":0,\"fOptStat\":0,\"fOptTitle\":0,\"fOptFile\":0,\"fOptFit\":0,\"fShowEventStatus\":0,\"fShowEditor\":0,\"fShowToolBar\":0,\"fNumberContours\":20,\"fAttDate\":{\"_typename\":\"TAttText\",\"fTextAngle\":0,\"fTextSize\":0.025,\"fTextAlign\":11,\"fTextColor\":1,\"fTextFont\":62},\"fDateX\":0.01,\"fDateY\":0.01,\"fEndErrorSize\":2,\"fErrorX\":0.5,\"fFuncColor\":2,\"fFuncStyle\":1,\"fFuncWidth\":2,\"fGridColor\":0,\"fGridStyle\":3,\"fGridWidth\":1,\"fLegendBorderSize\":1,\"fLegendFillColor\":0,\"fLegendFont\":42,\"fLegendTextSize\":0,\"fHatchesLineWidth\":1,\"fHatchesSpacing\":1,\"fFrameFillColor\":0,\"fFrameLineColor\":1,\"fFrameFillStyle\":1001,\"fFrameLineStyle\":1,\"fFrameLineWidth\":1,\"fFrameBorderSize\":1,\"fFrameBorderMode\":0,\"fHistFillColor\":0,\"fHistLineColor\":602,\"fHistFillStyle\":1001,\"fHistLineStyle\":1,\"fHistLineWidth\":1,\"fHistMinimumZero\":false,\"fHistTopMargin\":0.05,\"fCanvasPreferGL\":false,\"fCanvasColor\":0,\"fCanvasBorderSize\":2,\"fCanvasBorderMode\":0,\"fCanvasDefH\":500,\"fCanvasDefW\":700,\"fCanvasDefX\":10,\"fCanvasDefY\":10,\"fPadColor\":0,\"fPadBorderSize\":2,\"fPadBorderMode\":0,\"fPadBottomMargin\":0.13,\"fPadTopMargin\":0.1,\"fPadLeftMargin\":0.13,\"fPadRightMargin\":0.13,\"fPadGridX\":true,\"fPadGridY\":true,\"fPadTickX\":0,\"fPadTickY\":0,\"fPaperSizeX\":20,\"fPaperSizeY\":26,\"fScreenFactor\":1,\"fStatColor\":0,\"fStatTextColor\":1,\"fStatBorderSize\":1,\"fStatFont\":42,\"fStatFontSize\":0,\"fStatStyle\":1001,\"fStatFormat\":\"6.4g\",\"fStatX\":0.98,\"fStatY\":0.935,\"fStatW\":0.2,\"fStatH\":0.16,\"fStripDecimals\":true,\"fTitleAlign\":23,\"fTitleColor\":0,\"fTitleTextColor\":1,\"fTitleBorderSize\":0,\"fTitleFont\":42,\"fTitleFontSize\":0.05,\"fTitleStyle\":0,\"fTitleX\":0.5,\"fTitleY\":0.995,\"fTitleW\":0,\"fTitleH\":0,\"fLegoInnerR\":0.5,\"fLineStyle\":[\"\",\"  \",\" 12 12\",\" 4 8\",\" 12 16 4 16\",\" 20 12 4 12\",\" 20 12 4 12 4 12 4 12\",\" 20 20\",\" 20 12 4 12 4 12\",\" 80 20\",\" 80 40 4 40\",\"  \",\"  \",\"  \",\"  \",\"  \",\"  \",\"  \",\"  \",\"  \",\"  \",\"  \",\"  \",\"  \",\"  \",\"  \",\"  \",\"  \",\"  \",\"  \"],\"fHeaderPS\":\"\",\"fTitlePS\":\"\",\"fFitFormat\":\"5.4g\",\"fPaintTextFormat\":\"g\",\"fLineScalePS\":3,\"fJoinLinePS\":0,\"fCapLinePS\":0,\"fTimeOffset\":788918400,\"fImageScaling\":1}],\"opt\":[\"\",\"\",\"\"]},\"fExecs\":null,\"fName\":\"c_aa1b9d\",\"fTitle\":\"c_aa1b9d\",\"fNumPaletteColor\":0,\"fNextPaletteColor\":0,\"fDISPLAY\":\"$DISPLAY\",\"fDoubleBuffer\":0,\"fRetained\":true,\"fXsizeUser\":0,\"fYsizeUser\":0,\"fXsizeReal\":20,\"fYsizeReal\":20,\"fWindowTopX\":0,\"fWindowTopY\":0,\"fWindowWidth\":0,\"fWindowHeight\":0,\"fCw\":796,\"fCh\":772,\"fCatt\":{\"_typename\":\"TAttCanvas\",\"fXBetween\":2,\"fYBetween\":2,\"fTitleFromTop\":1.2,\"fXdate\":0.2,\"fYdate\":0.3,\"fAdate\":1},\"kMoveOpaque\":true,\"kResizeOpaque\":true,\"fHighLightColor\":2,\"fBatch\":true,\"kShowEventStatus\":false,\"kAutoExec\":true,\"kMenuBar\":true});\n",
       "   Core.settings.HandleKeys = false;\n",
       "   Core.draw(\"root_plot_1627657096311\", obj, \"\");\n",
       "}\n",
       "\n",
       "function script_load_root_plot_1627657096311(src, on_error) {\n",
       "    let script = document.createElement('script');\n",
       "    script.src = src;\n",
       "    script.onload = function() { display_root_plot_1627657096311(JSROOT); };\n",
       "    script.onerror = function() { script.remove(); on_error(); };\n",
       "    document.head.appendChild(script);\n",
       "}\n",
       "\n",
       "if (typeof requirejs !== 'undefined') {\n",
       "\n",
       "    // We are in jupyter notebooks, use require.js which should be configured already\n",
       "    requirejs.config({\n",
       "       paths: { 'JSRootCore' : [ 'scripts/JSRoot.core', 'https://root.cern/js/6.1.1/scripts/JSRoot.core.min', 'https://jsroot.gsi.de/6.1.1/scripts/JSRoot.core.min' ] }\n",
       "    })(['JSRootCore'],  function(Core) {\n",
       "       display_root_plot_1627657096311(Core);\n",
       "    });\n",
       "\n",
       "} else if (typeof JSROOT !== 'undefined') {\n",
       "\n",
       "   // JSROOT already loaded, just use it\n",
       "   display_root_plot_1627657096311(JSROOT);\n",
       "\n",
       "} else {\n",
       "\n",
       "    // We are in jupyterlab without require.js, directly loading jsroot\n",
       "    // Jupyterlab might be installed in a different base_url so we need to know it.\n",
       "    try {\n",
       "        var base_url = JSON.parse(document.getElementById('jupyter-config-data').innerHTML).baseUrl;\n",
       "    } catch(_) {\n",
       "        var base_url = '/';\n",
       "    }\n",
       "\n",
       "    // Try loading a local version of requirejs and fallback to cdn if not possible.\n",
       "    script_load_root_plot_1627657096311(base_url + 'static/scripts/JSRoot.core.js', function(){\n",
       "        console.error('Fail to load JSROOT locally, please check your jupyter_notebook_config.py file');\n",
       "        script_load_root_plot_1627657096311('https://root.cern/js/6.1.1/scripts/JSRoot.core.min.js', function(){\n",
       "            document.getElementById(\"root_plot_1627657096311\").innerHTML = \"Failed to load JSROOT\";\n",
       "        });\n",
       "    });\n",
       "}\n",
       "\n",
       "</script>\n"
      ],
      "text/plain": [
       "<IPython.core.display.HTML object>"
      ]
     },
     "metadata": {},
     "output_type": "display_data"
    }
   ],
   "source": [
    "rleg_config.legend_size=(0.5, 0.3)\n",
    "rleg_config.legend_position=(0.3, 0.5)\n",
    "rleg_config.marker_size = 0.6\n",
    "\n",
    "dm = DrawMachine(rleg_config)\n",
    "\n",
    "hsets, labels, text = hplot.get_histo(histos.RateHistos, None, 'PU200', ['tkEmEE'], 'EGq4EtaBC', None)\n",
    "dm.addHistos([his.h_pt for his in hsets], labels=['simu'])\n",
    "\n",
    "\n",
    "hsets, labels, text = hplot.get_histo(histos.RateHistos, None, 'PU200', ['PFNFtkEmEE'], ['EGq1EtaBC'], None)\n",
    "dm.addHistos([his.h_pt for his in hsets], labels=['emu'])\n",
    "\n",
    "dm.addRatioHisto(1,0)\n",
    "\n",
    "dm.draw(\n",
    "    text=text,\n",
    "    y_min=1, y_max=40000,\n",
    "    x_min=0, x_max=60,\n",
    "    y_log=True, x_axis_label='online p_{T} thresh. [GeV]',\n",
    "   do_ratio=True)\n",
    "\n",
    "\n"
   ]
  },
  {
   "cell_type": "code",
   "execution_count": 17,
   "metadata": {},
   "outputs": [
    {
     "name": "stdout",
     "output_type": "stream",
     "text": [
      "normalize to 31000\n",
      "normalize to 31000\n",
      "0.0 60.0\n",
      "0.0 60.0\n",
      "0.0 60.0\n"
     ]
    },
    {
     "data": {
      "text/html": [
       "\n",
       "\n",
       "<div id=\"root_plot_1627657171983\"\n",
       "     style=\"width: 796px; height: 772px\">\n",
       "</div>\n",
       "<script>\n",
       "\n",
       "function display_root_plot_1627657171983(Core) {\n",
       "   let obj = Core.parse({\"_typename\":\"TCanvas\",\"fUniqueID\":0,\"fBits\":3342344,\"fLineColor\":1,\"fLineStyle\":1,\"fLineWidth\":1,\"fFillColor\":0,\"fFillStyle\":1001,\"fLeftMargin\":0.13,\"fRightMargin\":0.3,\"fBottomMargin\":0.13,\"fTopMargin\":0.1,\"fXfile\":2,\"fYfile\":2,\"fAfile\":1,\"fXstat\":0.99,\"fYstat\":0.99,\"fAstat\":2,\"fFrameFillColor\":0,\"fFrameLineColor\":1,\"fFrameFillStyle\":1001,\"fFrameLineStyle\":1,\"fFrameLineWidth\":1,\"fFrameBorderSize\":1,\"fFrameBorderMode\":0,\"fX1\":0,\"fY1\":0,\"fX2\":1,\"fY2\":1,\"fXtoAbsPixelk\":5e-5,\"fXtoPixelk\":5e-5,\"fXtoPixel\":796,\"fYtoAbsPixelk\":772.00005,\"fYtoPixelk\":772.00005,\"fYtoPixel\":-772,\"fUtoAbsPixelk\":5e-5,\"fUtoPixelk\":5e-5,\"fUtoPixel\":796,\"fVtoAbsPixelk\":772.00005,\"fVtoPixelk\":772,\"fVtoPixel\":-772,\"fAbsPixeltoXk\":0,\"fPixeltoXk\":0,\"fPixeltoX\":0.00125628140703518,\"fAbsPixeltoYk\":1,\"fPixeltoYk\":0,\"fPixeltoY\":-0.00129533678756477,\"fXlowNDC\":0,\"fYlowNDC\":0,\"fXUpNDC\":1,\"fYUpNDC\":1,\"fWNDC\":1,\"fHNDC\":1,\"fAbsXlowNDC\":0,\"fAbsYlowNDC\":0,\"fAbsWNDC\":1,\"fAbsHNDC\":1,\"fUxmin\":0,\"fUymin\":0,\"fUxmax\":1,\"fUymax\":1,\"fTheta\":30,\"fPhi\":30,\"fAspectRatio\":0,\"fNumber\":0,\"fTickx\":0,\"fTicky\":0,\"fLogx\":0,\"fLogy\":0,\"fLogz\":0,\"fPadPaint\":0,\"fCrosshair\":0,\"fCrosshairPos\":0,\"fBorderSize\":2,\"fBorderMode\":0,\"fModified\":false,\"fGridx\":true,\"fGridy\":true,\"fAbsCoord\":false,\"fEditable\":true,\"fFixedAspectRatio\":false,\"fPrimitives\":{\"_typename\":\"TList\",\"name\":\"TList\",\"arr\":[{\"_typename\":\"TPad\",\"fUniqueID\":0,\"fBits\":9,\"fLineColor\":1,\"fLineStyle\":1,\"fLineWidth\":1,\"fFillColor\":0,\"fFillStyle\":1001,\"fLeftMargin\":0.13,\"fRightMargin\":0.13,\"fBottomMargin\":0,\"fTopMargin\":0.1,\"fXfile\":2,\"fYfile\":2,\"fAfile\":1,\"fXstat\":0.99,\"fYstat\":0.99,\"fAstat\":2,\"fFrameFillColor\":0,\"fFrameLineColor\":1,\"fFrameFillStyle\":1001,\"fFrameLineStyle\":1,\"fFrameLineWidth\":1,\"fFrameBorderSize\":1,\"fFrameBorderMode\":0,\"fX1\":-10.5405400180747,\"fY1\":0,\"fX2\":70.5405400180747,\"fY2\":5.11340001152985,\"fXtoAbsPixelk\":103.480046204376,\"fXtoPixelk\":103.480046204376,\"fXtoPixel\":9.81733345985413,\"fYtoAbsPixelk\":617.60005,\"fYtoPixelk\":617.60005,\"fYtoPixel\":-120.780693590843,\"fUtoAbsPixelk\":5e-5,\"fUtoPixelk\":5e-5,\"fUtoPixel\":796,\"fVtoAbsPixelk\":617.60005,\"fVtoPixelk\":617.6,\"fVtoPixel\":-617.6,\"fAbsPixeltoXk\":-10.5405400180747,\"fPixeltoXk\":-10.5405400180747,\"fPixeltoX\":0.101860653311745,\"fAbsPixeltoYk\":5.11340001152985,\"fPixeltoYk\":0,\"fPixeltoY\":-0.00827946893058589,\"fXlowNDC\":0,\"fYlowNDC\":0.2,\"fXUpNDC\":1,\"fYUpNDC\":1,\"fWNDC\":1,\"fHNDC\":0.8,\"fAbsXlowNDC\":0,\"fAbsYlowNDC\":0.2,\"fAbsWNDC\":1,\"fAbsHNDC\":0.8,\"fUxmin\":0,\"fUymin\":0,\"fUxmax\":60,\"fUymax\":4.60205999132796,\"fTheta\":30,\"fPhi\":30,\"fAspectRatio\":0,\"fNumber\":1,\"fTickx\":0,\"fTicky\":0,\"fLogx\":0,\"fLogy\":1,\"fLogz\":0,\"fPadPaint\":0,\"fCrosshair\":0,\"fCrosshairPos\":0,\"fBorderSize\":2,\"fBorderMode\":0,\"fModified\":false,\"fGridx\":true,\"fGridy\":true,\"fAbsCoord\":false,\"fEditable\":true,\"fFixedAspectRatio\":false,\"fPrimitives\":{\"_typename\":\"TList\",\"name\":\"TList\",\"arr\":[{\"_typename\":\"TFrame\",\"fUniqueID\":0,\"fBits\":8,\"fLineColor\":1,\"fLineStyle\":1,\"fLineWidth\":1,\"fFillColor\":0,\"fFillStyle\":1001,\"fX1\":0,\"fY1\":0,\"fX2\":60,\"fY2\":4.60205999132796,\"fBorderSize\":1,\"fBorderMode\":0},{\"_typename\":\"TH1F\",\"fUniqueID\":0,\"fBits\":520,\"fName\":\"071714\",\"fTitle\":\"\",\"fLineColor\":604,\"fLineStyle\":1,\"fLineWidth\":1,\"fFillColor\":0,\"fFillStyle\":1001,\"fMarkerColor\":604,\"fMarkerStyle\":20,\"fMarkerSize\":0.6,\"fNcells\":102,\"fXaxis\":{\"_typename\":\"TAxis\",\"fUniqueID\":0,\"fBits\":2048,\"fName\":\"xaxis\",\"fTitle\":\"online p_{T} thresh. [GeV]\",\"fNdivisions\":510,\"fAxisColor\":1,\"fLabelColor\":1,\"fLabelFont\":42,\"fLabelOffset\":0.005,\"fLabelSize\":0.035,\"fTickLength\":0.03,\"fTitleOffset\":1.4,\"fTitleSize\":0.035,\"fTitleColor\":1,\"fTitleFont\":42,\"fNbins\":100,\"fXmin\":0,\"fXmax\":100,\"fXbins\":[],\"fFirst\":1,\"fLast\":60,\"fBits2\":0,\"fTimeDisplay\":false,\"fTimeFormat\":\"\",\"fLabels\":null,\"fModLabs\":null},\"fYaxis\":{\"_typename\":\"TAxis\",\"fUniqueID\":0,\"fBits\":0,\"fName\":\"yaxis\",\"fTitle\":\" rate [kHz]\",\"fNdivisions\":510,\"fAxisColor\":1,\"fLabelColor\":1,\"fLabelFont\":42,\"fLabelOffset\":0.005,\"fLabelSize\":0.035,\"fTickLength\":0.03,\"fTitleOffset\":0,\"fTitleSize\":0.035,\"fTitleColor\":1,\"fTitleFont\":42,\"fNbins\":1,\"fXmin\":0,\"fXmax\":1,\"fXbins\":[],\"fFirst\":0,\"fLast\":0,\"fBits2\":0,\"fTimeDisplay\":false,\"fTimeFormat\":\"\",\"fLabels\":null,\"fModLabs\":null},\"fZaxis\":{\"_typename\":\"TAxis\",\"fUniqueID\":0,\"fBits\":0,\"fName\":\"zaxis\",\"fTitle\":\"\",\"fNdivisions\":510,\"fAxisColor\":1,\"fLabelColor\":1,\"fLabelFont\":42,\"fLabelOffset\":0.005,\"fLabelSize\":0.035,\"fTickLength\":0.03,\"fTitleOffset\":1,\"fTitleSize\":0.035,\"fTitleColor\":1,\"fTitleFont\":42,\"fNbins\":1,\"fXmin\":0,\"fXmax\":1,\"fXbins\":[],\"fFirst\":0,\"fLast\":0,\"fBits2\":0,\"fTimeDisplay\":false,\"fTimeFormat\":\"\",\"fLabels\":null,\"fModLabs\":null},\"fBarOffset\":0,\"fBarWidth\":1000,\"fEntries\":497675,\"fTsumw\":85710.1777777778,\"fTsumw2\":14761.1972839506,\"fTsumwx\":407464.861111111,\"fTsumwx2\":3940647.32222222,\"fMaximum\":40000,\"fMinimum\":1,\"fNormFactor\":0,\"fContour\":[],\"fSumw2\":[0,2143.20796296296,2111.56021604938,1987.10478395062,1749.49456790123,1473.02910493827,1206.35160493827,967.614290123457,762.067067901235,592.913271604938,455.881790123457,337.121172839506,234.317901234568,161.620030864198,112.057345679012,79.6977469135802,60.6557098765432,46.9229012345679,37.2832407407407,30.9062345679012,25.0927777777778,20.9403086419753,18.5674691358025,15.1861728395062,12.8133333333333,11.1226851851852,9.63966049382716,8.21595679012346,7.32614197530864,6.43632716049383,5.81345679012346,5.33888888888889,5.1016049382716,4.44907407407407,3.91518518518519,3.35163580246914,3.20333333333333,3.02537037037037,2.78808641975309,2.49148148148148,2.4025,2.28385802469136,2.16521604938272,1.98725308641975,1.80929012345679,1.74996913580247,1.66098765432099,1.54234567901235,1.48302469135802,1.30506172839506,1.1270987654321,1.09743827160494,0.978796296296296,0.889814814814815,0.860154320987654,0.741512345679012,0.682191358024691,0.682191358024691,0.682191358024691,0.62287037037037,0.59320987654321,0.533888888888889,0.533888888888889,0.533888888888889,0.533888888888889,0.504228395061728,0.504228395061728,0.444907407407407,0.355925925925926,0.355925925925926,0.355925925925926,0.326265432098765,0.326265432098765,0.326265432098765,0.296604938271605,0.266944444444444,0.237283950617284,0.237283950617284,0.237283950617284,0.207623456790123,0.177962962962963,0.118641975308642,0.118641975308642,0.118641975308642,0.118641975308642,0.118641975308642,0.0889814814814815,0.0889814814814815,0.0889814814814815,0.0889814814814815,0.0889814814814815,0.0889814814814815,0.0889814814814815,0.0889814814814815,0.0889814814814815,0.0889814814814815,0.0889814814814815,0.0889814814814815,0.0889814814814815,0.0889814814814815,0.0889814814814815,0.0889814814814815],\"fOption\":\"\",\"fFunctions\":{\"_typename\":\"TList\",\"name\":\"TList\",\"arr\":[],\"opt\":[]},\"fBufferSize\":0,\"fBuffer\":[],\"fBinStatErrOpt\":0,\"fStatOverflows\":2,\"fArray\":[0,12444.43,12260.67,11538.03,10158.36,8553.072,7004.622,5618.406,4424.906,3442.722,2647.056,1957.478,1360.556,938.4389,650.6556,462.7611,352.1945,272.4556,216.4833,179.4556,145.7,121.5889,107.8111,88.17778,74.4,64.58334,55.97222,47.70555,42.53889,37.37222,33.75555,31,29.62222,25.83333,22.73333,19.46111,18.6,17.56667,16.18889,14.46667,13.95,13.26111,12.57222,11.53889,10.50556,10.16111,9.644444,8.955556,8.611111,7.577778,6.544445,6.372222,5.683333,5.166667,4.994444,4.305555,3.961111,3.961111,3.961111,3.616667,3.444444,3.1,3.1,3.1,3.1,2.927778,2.927778,2.583333,2.066667,2.066667,2.066667,1.894444,1.894444,1.894444,1.722222,1.55,1.377778,1.377778,1.377778,1.205556,1.033333,0.6888889,0.6888889,0.6888889,0.6888889,0.6888889,0.5166667,0.5166667,0.5166667,0.5166667,0.5166667,0.5166667,0.5166667,0.5166667,0.5166667,0.5166667,0.5166667,0.5166667,0.5166667,0.5166667,0.5166667,0.5166667]},{\"_typename\":\"TH1F\",\"fUniqueID\":0,\"fBits\":520,\"fName\":\"4eb3dd\",\"fTitle\":\"\",\"fLineColor\":861,\"fLineStyle\":1,\"fLineWidth\":1,\"fFillColor\":0,\"fFillStyle\":1001,\"fMarkerColor\":861,\"fMarkerStyle\":21,\"fMarkerSize\":0.6,\"fNcells\":102,\"fXaxis\":{\"_typename\":\"TAxis\",\"fUniqueID\":0,\"fBits\":2048,\"fName\":\"xaxis\",\"fTitle\":\"online p_{T} thresh. [GeV]\",\"fNdivisions\":510,\"fAxisColor\":1,\"fLabelColor\":1,\"fLabelFont\":42,\"fLabelOffset\":0.005,\"fLabelSize\":0.035,\"fTickLength\":0.03,\"fTitleOffset\":1.4,\"fTitleSize\":0.035,\"fTitleColor\":1,\"fTitleFont\":42,\"fNbins\":100,\"fXmin\":0,\"fXmax\":100,\"fXbins\":[],\"fFirst\":1,\"fLast\":60,\"fBits2\":0,\"fTimeDisplay\":false,\"fTimeFormat\":\"\",\"fLabels\":null,\"fModLabs\":null},\"fYaxis\":{\"_typename\":\"TAxis\",\"fUniqueID\":0,\"fBits\":0,\"fName\":\"yaxis\",\"fTitle\":\" rate [kHz]\",\"fNdivisions\":510,\"fAxisColor\":1,\"fLabelColor\":1,\"fLabelFont\":42,\"fLabelOffset\":0.005,\"fLabelSize\":0.035,\"fTickLength\":0.03,\"fTitleOffset\":0,\"fTitleSize\":0.035,\"fTitleColor\":1,\"fTitleFont\":42,\"fNbins\":1,\"fXmin\":0,\"fXmax\":1,\"fXbins\":[],\"fFirst\":0,\"fLast\":0,\"fBits2\":0,\"fTimeDisplay\":false,\"fTimeFormat\":\"\",\"fLabels\":null,\"fModLabs\":null},\"fZaxis\":{\"_typename\":\"TAxis\",\"fUniqueID\":0,\"fBits\":0,\"fName\":\"zaxis\",\"fTitle\":\"\",\"fNdivisions\":510,\"fAxisColor\":1,\"fLabelColor\":1,\"fLabelFont\":42,\"fLabelOffset\":0.005,\"fLabelSize\":0.035,\"fTickLength\":0.03,\"fTitleOffset\":1,\"fTitleSize\":0.035,\"fTitleColor\":1,\"fTitleFont\":42,\"fNbins\":1,\"fXmin\":0,\"fXmax\":1,\"fXbins\":[],\"fFirst\":0,\"fLast\":0,\"fBits2\":0,\"fTimeDisplay\":false,\"fTimeFormat\":\"\",\"fLabels\":null,\"fModLabs\":null},\"fBarOffset\":0,\"fBarWidth\":1000,\"fEntries\":506144,\"fTsumw\":87168.7277777778,\"fTsumw2\":15012.3920061728,\"fTsumwx\":417845.986111111,\"fTsumwx2\":4037205.99305556,\"fMaximum\":40000,\"fMinimum\":1,\"fNormFactor\":0,\"fContour\":[],\"fSumw2\":[0,2134.57675925926,2118.58975308642,2009.55777777778,1782.26941358025,1505.89293209877,1237.91037037037,995.762098765432,786.121728395062,610.828209876543,471.483209876543,350.55737654321,245.232962962963,168.234320987654,117.633518518519,82.8417592592592,62.7912654320988,48.2576234567901,38.0544135802469,31.4994444444444,25.685987654321,21.4148765432099,18.7157716049383,15.6014197530864,13.0209567901235,11.2413271604938,9.7583024691358,8.30493827160494,7.38546296296296,6.52530864197531,5.87277777777778,5.39820987654321,5.1016049382716,4.47873456790123,3.97450617283951,3.3812962962963,3.23299382716049,3.02537037037037,2.78808641975309,2.58046296296296,2.4025,2.28385802469136,2.19487654320988,2.01691358024691,1.80929012345679,1.77962962962963,1.66098765432099,1.57200617283951,1.48302469135802,1.30506172839506,1.15675925925926,1.09743827160494,1.00845679012346,0.889814814814815,0.860154320987654,0.741512345679012,0.682191358024691,0.682191358024691,0.682191358024691,0.62287037037037,0.59320987654321,0.533888888888889,0.533888888888889,0.533888888888889,0.533888888888889,0.504228395061728,0.504228395061728,0.474567901234568,0.355925925925926,0.355925925925926,0.355925925925926,0.326265432098765,0.326265432098765,0.326265432098765,0.296604938271605,0.266944444444444,0.237283950617284,0.237283950617284,0.237283950617284,0.207623456790123,0.177962962962963,0.148302469135802,0.118641975308642,0.118641975308642,0.118641975308642,0.118641975308642,0.0889814814814815,0.0889814814814815,0.0889814814814815,0.0889814814814815,0.0889814814814815,0.0889814814814815,0.0889814814814815,0.0889814814814815,0.0889814814814815,0.0889814814814815,0.0889814814814815,0.0889814814814815,0.0889814814814815,0.0889814814814815,0.0889814814814815,0.0889814814814815],\"fOption\":\"\",\"fFunctions\":{\"_typename\":\"TList\",\"name\":\"TList\",\"arr\":[],\"opt\":[]},\"fBufferSize\":0,\"fBuffer\":[],\"fBinStatErrOpt\":0,\"fStatOverflows\":2,\"fArray\":[0,12394.32,12301.49,11668.4,10348.66,8743.895,7187.867,5781.844,4564.578,3546.744,2737.645,2035.494,1423.933,976.8444,683.0333,481.0167,364.5945,280.2056,220.9611,182.9,149.1444,124.3444,108.6722,90.58889,75.60555,65.27222,56.66111,48.22222,42.88334,37.88889,34.1,31.34444,29.62222,26.00556,23.07778,19.63333,18.77222,17.56667,16.18889,14.98333,13.95,13.26111,12.74444,11.71111,10.50556,10.33333,9.644444,9.127778,8.611111,7.577778,6.716667,6.372222,5.855556,5.166667,4.994444,4.305555,3.961111,3.961111,3.961111,3.616667,3.444444,3.1,3.1,3.1,3.1,2.927778,2.927778,2.755556,2.066667,2.066667,2.066667,1.894444,1.894444,1.894444,1.722222,1.55,1.377778,1.377778,1.377778,1.205556,1.033333,0.8611111,0.6888889,0.6888889,0.6888889,0.6888889,0.5166667,0.5166667,0.5166667,0.5166667,0.5166667,0.5166667,0.5166667,0.5166667,0.5166667,0.5166667,0.5166667,0.5166667,0.5166667,0.5166667,0.5166667,0.5166667]},{\"_typename\":\"TLegend\",\"fUniqueID\":0,\"fBits\":8,\"fLineColor\":1,\"fLineStyle\":1,\"fLineWidth\":1,\"fFillColor\":0,\"fFillStyle\":0,\"fX1\":13.7837839927701,\"fY1\":2.55670000576492,\"fX2\":54.3243240108448,\"fY2\":4.09072000922388,\"fX1NDC\":0.3,\"fY1NDC\":0.5,\"fX2NDC\":0.8,\"fY2NDC\":0.8,\"fBorderSize\":0,\"fInit\":1,\"fShadowColor\":1,\"fCornerRadius\":0,\"fOption\":\"brNDC\",\"fName\":\"TPave\",\"fTextAngle\":0,\"fTextSize\":0.03,\"fTextAlign\":12,\"fTextColor\":1,\"fTextFont\":42,\"fPrimitives\":{\"_typename\":\"TList\",\"name\":\"TList\",\"arr\":[{\"_typename\":\"TLegendEntry\",\"fUniqueID\":0,\"fBits\":0,\"fTextAngle\":0,\"fTextSize\":0,\"fTextAlign\":0,\"fTextColor\":0,\"fTextFont\":42,\"fLineColor\":604,\"fLineStyle\":1,\"fLineWidth\":1,\"fFillColor\":0,\"fFillStyle\":0,\"fMarkerColor\":604,\"fMarkerStyle\":20,\"fMarkerSize\":0.6,\"fObject\":{\"$ref\":5},\"fLabel\":\"simu\",\"fOption\":\"lP\"},{\"_typename\":\"TLegendEntry\",\"fUniqueID\":0,\"fBits\":0,\"fTextAngle\":0,\"fTextSize\":0,\"fTextAlign\":0,\"fTextColor\":0,\"fTextFont\":42,\"fLineColor\":861,\"fLineStyle\":1,\"fLineWidth\":1,\"fFillColor\":0,\"fFillStyle\":0,\"fMarkerColor\":861,\"fMarkerStyle\":21,\"fMarkerSize\":0.6,\"fObject\":{\"$ref\":10},\"fLabel\":\"emu\",\"fOption\":\"lP\"}],\"opt\":[\"lP\",\"lP\"]},\"fEntrySeparation\":0.1,\"fMargin\":0.25,\"fNColumns\":1,\"fColumnSeparation\":0},{\"_typename\":\"TLatex\",\"fUniqueID\":0,\"fBits\":16392,\"fName\":\"\",\"fTitle\":\"PU200, TkEm EE Corr. New, hwQual=1, 1.52 < |#eta^{L1}| <= 2.8\",\"fTextAngle\":0,\"fTextSize\":0.03,\"fTextAlign\":11,\"fTextColor\":1,\"fTextFont\":62,\"fX\":0.15,\"fY\":0.85,\"fLineColor\":1,\"fLineStyle\":1,\"fLineWidth\":2,\"fLimitFactorSize\":3,\"fOriginSize\":0.04},{\"_typename\":\"TLatex\",\"fUniqueID\":0,\"fBits\":8,\"fName\":\"\",\"fTitle\":\"\",\"fTextAngle\":0,\"fTextSize\":0.03,\"fTextAlign\":11,\"fTextColor\":1,\"fTextFont\":62,\"fX\":0,\"fY\":0,\"fLineColor\":1,\"fLineStyle\":1,\"fLineWidth\":2,\"fLimitFactorSize\":3,\"fOriginSize\":0.04}],\"opt\":[\"\",\"\",\"same,\",\"same\",\"same\",\"same\"]},\"fExecs\":{\"_typename\":\"TList\",\"name\":\"TList\",\"arr\":[],\"opt\":[]},\"fName\":\"c_9c5ae6_1\",\"fTitle\":\"c_9c5ae6_1\",\"fNumPaletteColor\":0,\"fNextPaletteColor\":0},{\"_typename\":\"TPad\",\"fUniqueID\":0,\"fBits\":9,\"fLineColor\":1,\"fLineStyle\":1,\"fLineWidth\":1,\"fFillColor\":0,\"fFillStyle\":1001,\"fLeftMargin\":0.13,\"fRightMargin\":0.13,\"fBottomMargin\":0.26,\"fTopMargin\":0,\"fXfile\":2,\"fYfile\":2,\"fAfile\":1,\"fXstat\":0.99,\"fYstat\":0.99,\"fAstat\":2,\"fFrameFillColor\":0,\"fFrameLineColor\":1,\"fFrameFillStyle\":1001,\"fFrameLineStyle\":1,\"fFrameLineWidth\":1,\"fFrameBorderSize\":1,\"fFrameBorderMode\":0,\"fX1\":-10.5405400180747,\"fY1\":0.489189199638506,\"fX2\":70.5405400180747,\"fY2\":1.3,\"fXtoAbsPixelk\":103.480046204376,\"fXtoPixelk\":103.480046204376,\"fXtoPixel\":9.81733345985413,\"fYtoAbsPixelk\":865.154719857025,\"fYtoPixelk\":247.554719857025,\"fYtoPixel\":-190.426669120789,\"fUtoAbsPixelk\":5e-5,\"fUtoPixelk\":5e-5,\"fUtoPixel\":796,\"fVtoAbsPixelk\":772.00005,\"fVtoPixelk\":154.4,\"fVtoPixel\":-154.4,\"fAbsPixeltoXk\":-10.5405400180747,\"fPixeltoXk\":-10.5405400180747,\"fPixeltoX\":0.101860653311745,\"fAbsPixeltoYk\":4.54324320144598,\"fPixeltoYk\":0.489189199638506,\"fPixeltoY\":-0.00525136528731538,\"fXlowNDC\":0,\"fYlowNDC\":0,\"fXUpNDC\":1,\"fYUpNDC\":0.2,\"fWNDC\":1,\"fHNDC\":0.2,\"fAbsXlowNDC\":0,\"fAbsYlowNDC\":0,\"fAbsWNDC\":1,\"fAbsHNDC\":0.2,\"fUxmin\":0,\"fUymin\":0.7,\"fUxmax\":60,\"fUymax\":1.3,\"fTheta\":30,\"fPhi\":30,\"fAspectRatio\":0,\"fNumber\":2,\"fTickx\":0,\"fTicky\":0,\"fLogx\":0,\"fLogy\":0,\"fLogz\":0,\"fPadPaint\":0,\"fCrosshair\":0,\"fCrosshairPos\":0,\"fBorderSize\":2,\"fBorderMode\":0,\"fModified\":false,\"fGridx\":true,\"fGridy\":false,\"fAbsCoord\":false,\"fEditable\":true,\"fFixedAspectRatio\":false,\"fPrimitives\":{\"_typename\":\"TList\",\"name\":\"TList\",\"arr\":[{\"_typename\":\"TFrame\",\"fUniqueID\":0,\"fBits\":8,\"fLineColor\":1,\"fLineStyle\":1,\"fLineWidth\":1,\"fFillColor\":0,\"fFillStyle\":1001,\"fX1\":0,\"fY1\":0.7,\"fX2\":60,\"fY2\":1.3,\"fBorderSize\":1,\"fBorderMode\":0},{\"_typename\":\"TH1F\",\"fUniqueID\":0,\"fBits\":520,\"fName\":\"4eb3dd\",\"fTitle\":\"\",\"fLineColor\":861,\"fLineStyle\":1,\"fLineWidth\":1,\"fFillColor\":0,\"fFillStyle\":1001,\"fMarkerColor\":861,\"fMarkerStyle\":21,\"fMarkerSize\":0.6,\"fNcells\":102,\"fXaxis\":{\"_typename\":\"TAxis\",\"fUniqueID\":0,\"fBits\":2048,\"fName\":\"xaxis\",\"fTitle\":\" p_{T} [GeV]\",\"fNdivisions\":510,\"fAxisColor\":1,\"fLabelColor\":1,\"fLabelFont\":42,\"fLabelOffset\":0.005,\"fLabelSize\":20,\"fTickLength\":0.03,\"fTitleOffset\":5,\"fTitleSize\":20,\"fTitleColor\":1,\"fTitleFont\":42,\"fNbins\":100,\"fXmin\":0,\"fXmax\":100,\"fXbins\":[],\"fFirst\":1,\"fLast\":60,\"fBits2\":0,\"fTimeDisplay\":false,\"fTimeFormat\":\"\",\"fLabels\":null,\"fModLabs\":null},\"fYaxis\":{\"_typename\":\"TAxis\",\"fUniqueID\":0,\"fBits\":4096,\"fName\":\"yaxis\",\"fTitle\":\"#splitline{ratio}{scale[0.5]{to simu}}\",\"fNdivisions\":510,\"fAxisColor\":1,\"fLabelColor\":1,\"fLabelFont\":42,\"fLabelOffset\":0.005,\"fLabelSize\":20,\"fTickLength\":0.03,\"fTitleOffset\":2,\"fTitleSize\":20,\"fTitleColor\":1,\"fTitleFont\":42,\"fNbins\":1,\"fXmin\":0,\"fXmax\":1,\"fXbins\":[],\"fFirst\":0,\"fLast\":0,\"fBits2\":0,\"fTimeDisplay\":false,\"fTimeFormat\":\"\",\"fLabels\":null,\"fModLabs\":null},\"fZaxis\":{\"_typename\":\"TAxis\",\"fUniqueID\":0,\"fBits\":0,\"fName\":\"zaxis\",\"fTitle\":\"\",\"fNdivisions\":510,\"fAxisColor\":1,\"fLabelColor\":1,\"fLabelFont\":42,\"fLabelOffset\":0.005,\"fLabelSize\":0.035,\"fTickLength\":0.03,\"fTitleOffset\":1,\"fTitleSize\":0.035,\"fTitleColor\":1,\"fTitleFont\":42,\"fNbins\":1,\"fXmin\":0,\"fXmax\":1,\"fXbins\":[],\"fFirst\":0,\"fLast\":0,\"fBits2\":0,\"fTimeDisplay\":false,\"fTimeFormat\":\"\",\"fLabels\":null,\"fModLabs\":null},\"fBarOffset\":0,\"fBarWidth\":1000,\"fEntries\":576.281224697141,\"fTsumw\":101.211613833904,\"fTsumw2\":17.775680233634,\"fTsumwx\":5043.00872263312,\"fTsumwx2\":335786.434557244,\"fMaximum\":1.3,\"fMinimum\":0.7,\"fNormFactor\":0,\"fContour\":[],\"fSumw2\":[0,2.75116159457912e-5,2.82338853429989e-5,3.03608631370739e-5,3.48662806495153e-5,4.16291576742469e-5,5.11203291689587e-5,6.40074681611567e-5,8.15666151581907e-5,1.04630232068092e-4,1.36879539499304e-4,1.86622868775317e-4,2.71128713126061e-4,3.89878788521939e-4,5.69550374247442e-4,7.88948216659219e-4,0.00103025078816056,0.00131867507512903,0.00164079567998979,0.00197500005843085,0.0024485590197159,0.00292988981794359,0.00323326758411452,0.00406792732298442,0.00474276265275683,0.00541896961673838,0.00626792186470441,0.00733793613981296,0.00819577900023213,0.00940859766549948,0.0103607985819058,0.0112969821059096,0.0116279064443278,0.0134669622538468,0.0154976064591726,0.0179347521001105,0.01877651313794,0.0196078411502118,0.0212765966359783,0.025100221422467,0.0246913586998889,0.0259740253928937,0.0279627922661634,0.0305223709868478,0.0327868877592479,0.0347649967684352,0.0357142855573281,0.0395781143022222,0.0400000039377523,0.0454545444375641,0.0547273628307242,0.0540540506383635,0.0633887056460296,0.0666666707684919,0.0689655192898532,0.0800000078755046,0.0869565236000719,0.0869565236000719,0.0869565236000719,0.0952381010978455,0.100000001538184,0.111111117947486,0.111111117947486,0.111111117947486,0.111111117947486,0.117647059675119,0.117647059675119,0.14696298075577,0.16666667692123,0.16666667692123,0.16666667692123,0.181818177750256,0.181818177750256,0.181818177750256,0.200000003076369,0.222222235894973,0.249999986540887,0.249999986540887,0.249999986540887,0.285714284458625,0.333333353842459,0.703124935107851,0.499999973081774,0.499999973081774,0.499999973081774,0.499999973081774,0.666666707684919,0.666666707684919,0.666666707684919,0.666666707684919,0.666666707684919,0.666666707684919,0.666666707684919,0.666666707684919,0.666666707684919,0.666666707684919,0.666666707684919,0.666666707684919,0.666666707684919,0.666666707684919,0.666666707684919,0.666666707684919],\"fOption\":\"\",\"fFunctions\":{\"_typename\":\"TList\",\"name\":\"TList\",\"arr\":[],\"opt\":[]},\"fBufferSize\":0,\"fBuffer\":[],\"fBinStatErrOpt\":0,\"fStatOverflows\":2,\"fArray\":[0,0.9959727,1.003329,1.011299,1.018734,1.02231,1.02616,1.02909,1.031565,1.030215,1.034222,1.039856,1.046582,1.040925,1.049762,1.039449,1.035208,1.028445,1.020684,1.019194,1.023641,1.022663,1.007987,1.027344,1.016204,1.010667,1.012308,1.01083,1.008097,1.013825,1.010204,1.011111,1,1.006667,1.015152,1.00885,1.009259,1,1,1.035714,1,1,1.013699,1.014925,1,1.016949,1,1.019231,1,1,1.026316,1,1.030303,1,1,1,1,1,1,1,1,1,1,1,1,1,1,1.066667,1,1,1,1,1,1,1,1,1,1,1,1,1,1.25,1,1,1,1,1,1,1,1,1,1,1,1,1,1,1,1,1,1,1,1]},{\"_typename\":\"TLine\",\"fUniqueID\":0,\"fBits\":8,\"fLineColor\":1,\"fLineStyle\":2,\"fLineWidth\":1,\"fX1\":0,\"fY1\":0.9,\"fX2\":60,\"fY2\":0.9},{\"_typename\":\"TLine\",\"fUniqueID\":0,\"fBits\":8,\"fLineColor\":1,\"fLineStyle\":2,\"fLineWidth\":1,\"fX1\":0,\"fY1\":1,\"fX2\":60,\"fY2\":1},{\"_typename\":\"TLine\",\"fUniqueID\":0,\"fBits\":8,\"fLineColor\":1,\"fLineStyle\":2,\"fLineWidth\":1,\"fX1\":0,\"fY1\":1.1,\"fX2\":60,\"fY2\":1.1}],\"opt\":[\"\",\"\",\"same\",\"same\",\"same\"]},\"fExecs\":{\"_typename\":\"TList\",\"name\":\"TList\",\"arr\":[],\"opt\":[]},\"fName\":\"c_9c5ae6_2\",\"fTitle\":\"c_9c5ae6_2\",\"fNumPaletteColor\":0,\"fNextPaletteColor\":0},{\"_typename\":\"TStyle\",\"fUniqueID\":0,\"fBits\":0,\"fName\":\"Modern\",\"fTitle\":\"Modern Style\",\"fLineColor\":1,\"fLineStyle\":1,\"fLineWidth\":1,\"fFillColor\":19,\"fFillStyle\":1001,\"fMarkerColor\":1,\"fMarkerStyle\":1,\"fMarkerSize\":1,\"fTextAngle\":0,\"fTextSize\":0.05,\"fTextAlign\":11,\"fTextColor\":1,\"fTextFont\":62,\"fXaxis\":{\"_typename\":\"TAttAxis\",\"fNdivisions\":510,\"fAxisColor\":1,\"fLabelColor\":1,\"fLabelFont\":42,\"fLabelOffset\":0.005,\"fLabelSize\":0.035,\"fTickLength\":0.03,\"fTitleOffset\":1,\"fTitleSize\":0.035,\"fTitleColor\":1,\"fTitleFont\":42},\"fYaxis\":{\"_typename\":\"TAttAxis\",\"fNdivisions\":510,\"fAxisColor\":1,\"fLabelColor\":1,\"fLabelFont\":42,\"fLabelOffset\":0.005,\"fLabelSize\":0.035,\"fTickLength\":0.03,\"fTitleOffset\":0,\"fTitleSize\":0.035,\"fTitleColor\":1,\"fTitleFont\":42},\"fZaxis\":{\"_typename\":\"TAttAxis\",\"fNdivisions\":510,\"fAxisColor\":1,\"fLabelColor\":1,\"fLabelFont\":42,\"fLabelOffset\":0.005,\"fLabelSize\":0.035,\"fTickLength\":0.03,\"fTitleOffset\":1,\"fTitleSize\":0.035,\"fTitleColor\":1,\"fTitleFont\":42},\"fBarWidth\":1,\"fBarOffset\":0,\"fColorModelPS\":0,\"fDrawBorder\":0,\"fOptLogx\":0,\"fOptLogy\":0,\"fOptLogz\":0,\"fOptDate\":0,\"fOptStat\":0,\"fOptTitle\":0,\"fOptFile\":0,\"fOptFit\":0,\"fShowEventStatus\":0,\"fShowEditor\":0,\"fShowToolBar\":0,\"fNumberContours\":20,\"fAttDate\":{\"_typename\":\"TAttText\",\"fTextAngle\":0,\"fTextSize\":0.025,\"fTextAlign\":11,\"fTextColor\":1,\"fTextFont\":62},\"fDateX\":0.01,\"fDateY\":0.01,\"fEndErrorSize\":2,\"fErrorX\":0.5,\"fFuncColor\":2,\"fFuncStyle\":1,\"fFuncWidth\":2,\"fGridColor\":0,\"fGridStyle\":3,\"fGridWidth\":1,\"fLegendBorderSize\":1,\"fLegendFillColor\":0,\"fLegendFont\":42,\"fLegendTextSize\":0,\"fHatchesLineWidth\":1,\"fHatchesSpacing\":1,\"fFrameFillColor\":0,\"fFrameLineColor\":1,\"fFrameFillStyle\":1001,\"fFrameLineStyle\":1,\"fFrameLineWidth\":1,\"fFrameBorderSize\":1,\"fFrameBorderMode\":0,\"fHistFillColor\":0,\"fHistLineColor\":602,\"fHistFillStyle\":1001,\"fHistLineStyle\":1,\"fHistLineWidth\":1,\"fHistMinimumZero\":false,\"fHistTopMargin\":0.05,\"fCanvasPreferGL\":false,\"fCanvasColor\":0,\"fCanvasBorderSize\":2,\"fCanvasBorderMode\":0,\"fCanvasDefH\":500,\"fCanvasDefW\":700,\"fCanvasDefX\":10,\"fCanvasDefY\":10,\"fPadColor\":0,\"fPadBorderSize\":2,\"fPadBorderMode\":0,\"fPadBottomMargin\":0.13,\"fPadTopMargin\":0.1,\"fPadLeftMargin\":0.13,\"fPadRightMargin\":0.13,\"fPadGridX\":true,\"fPadGridY\":true,\"fPadTickX\":0,\"fPadTickY\":0,\"fPaperSizeX\":20,\"fPaperSizeY\":26,\"fScreenFactor\":1,\"fStatColor\":0,\"fStatTextColor\":1,\"fStatBorderSize\":1,\"fStatFont\":42,\"fStatFontSize\":0,\"fStatStyle\":1001,\"fStatFormat\":\"6.4g\",\"fStatX\":0.98,\"fStatY\":0.935,\"fStatW\":0.2,\"fStatH\":0.16,\"fStripDecimals\":true,\"fTitleAlign\":23,\"fTitleColor\":0,\"fTitleTextColor\":1,\"fTitleBorderSize\":0,\"fTitleFont\":42,\"fTitleFontSize\":0.05,\"fTitleStyle\":0,\"fTitleX\":0.5,\"fTitleY\":0.995,\"fTitleW\":0,\"fTitleH\":0,\"fLegoInnerR\":0.5,\"fLineStyle\":[\"\",\"  \",\" 12 12\",\" 4 8\",\" 12 16 4 16\",\" 20 12 4 12\",\" 20 12 4 12 4 12 4 12\",\" 20 20\",\" 20 12 4 12 4 12\",\" 80 20\",\" 80 40 4 40\",\"  \",\"  \",\"  \",\"  \",\"  \",\"  \",\"  \",\"  \",\"  \",\"  \",\"  \",\"  \",\"  \",\"  \",\"  \",\"  \",\"  \",\"  \",\"  \"],\"fHeaderPS\":\"\",\"fTitlePS\":\"\",\"fFitFormat\":\"5.4g\",\"fPaintTextFormat\":\"g\",\"fLineScalePS\":3,\"fJoinLinePS\":0,\"fCapLinePS\":0,\"fTimeOffset\":788918400,\"fImageScaling\":1}],\"opt\":[\"\",\"\",\"\"]},\"fExecs\":null,\"fName\":\"c_9c5ae6\",\"fTitle\":\"c_9c5ae6\",\"fNumPaletteColor\":0,\"fNextPaletteColor\":0,\"fDISPLAY\":\"$DISPLAY\",\"fDoubleBuffer\":0,\"fRetained\":true,\"fXsizeUser\":0,\"fYsizeUser\":0,\"fXsizeReal\":20,\"fYsizeReal\":20,\"fWindowTopX\":0,\"fWindowTopY\":0,\"fWindowWidth\":0,\"fWindowHeight\":0,\"fCw\":796,\"fCh\":772,\"fCatt\":{\"_typename\":\"TAttCanvas\",\"fXBetween\":2,\"fYBetween\":2,\"fTitleFromTop\":1.2,\"fXdate\":0.2,\"fYdate\":0.3,\"fAdate\":1},\"kMoveOpaque\":true,\"kResizeOpaque\":true,\"fHighLightColor\":2,\"fBatch\":true,\"kShowEventStatus\":false,\"kAutoExec\":true,\"kMenuBar\":true});\n",
       "   Core.settings.HandleKeys = false;\n",
       "   Core.draw(\"root_plot_1627657171983\", obj, \"\");\n",
       "}\n",
       "\n",
       "function script_load_root_plot_1627657171983(src, on_error) {\n",
       "    let script = document.createElement('script');\n",
       "    script.src = src;\n",
       "    script.onload = function() { display_root_plot_1627657171983(JSROOT); };\n",
       "    script.onerror = function() { script.remove(); on_error(); };\n",
       "    document.head.appendChild(script);\n",
       "}\n",
       "\n",
       "if (typeof requirejs !== 'undefined') {\n",
       "\n",
       "    // We are in jupyter notebooks, use require.js which should be configured already\n",
       "    requirejs.config({\n",
       "       paths: { 'JSRootCore' : [ 'scripts/JSRoot.core', 'https://root.cern/js/6.1.1/scripts/JSRoot.core.min', 'https://jsroot.gsi.de/6.1.1/scripts/JSRoot.core.min' ] }\n",
       "    })(['JSRootCore'],  function(Core) {\n",
       "       display_root_plot_1627657171983(Core);\n",
       "    });\n",
       "\n",
       "} else if (typeof JSROOT !== 'undefined') {\n",
       "\n",
       "   // JSROOT already loaded, just use it\n",
       "   display_root_plot_1627657171983(JSROOT);\n",
       "\n",
       "} else {\n",
       "\n",
       "    // We are in jupyterlab without require.js, directly loading jsroot\n",
       "    // Jupyterlab might be installed in a different base_url so we need to know it.\n",
       "    try {\n",
       "        var base_url = JSON.parse(document.getElementById('jupyter-config-data').innerHTML).baseUrl;\n",
       "    } catch(_) {\n",
       "        var base_url = '/';\n",
       "    }\n",
       "\n",
       "    // Try loading a local version of requirejs and fallback to cdn if not possible.\n",
       "    script_load_root_plot_1627657171983(base_url + 'static/scripts/JSRoot.core.js', function(){\n",
       "        console.error('Fail to load JSROOT locally, please check your jupyter_notebook_config.py file');\n",
       "        script_load_root_plot_1627657171983('https://root.cern/js/6.1.1/scripts/JSRoot.core.min.js', function(){\n",
       "            document.getElementById(\"root_plot_1627657171983\").innerHTML = \"Failed to load JSROOT\";\n",
       "        });\n",
       "    });\n",
       "}\n",
       "\n",
       "</script>\n"
      ],
      "text/plain": [
       "<IPython.core.display.HTML object>"
      ]
     },
     "metadata": {},
     "output_type": "display_data"
    }
   ],
   "source": [
    "rleg_config.legend_size=(0.5, 0.3)\n",
    "rleg_config.legend_position=(0.3, 0.5)\n",
    "rleg_config.marker_size = 0.6\n",
    "\n",
    "dm = DrawMachine(rleg_config)\n",
    "\n",
    "hsets, labels, text = hplot.get_histo(histos.RateHistos, None, 'PU200', ['tkEmEE'], 'EGq4EtaBCD', None)\n",
    "dm.addHistos([his.h_pt for his in hsets], labels=['simu'])\n",
    "\n",
    "\n",
    "hsets, labels, text = hplot.get_histo(histos.RateHistos, None, 'PU200', ['PFNFtkEmEE'], ['EGq1EtaBCD'], None)\n",
    "dm.addHistos([his.h_pt for his in hsets], labels=['emu'])\n",
    "\n",
    "dm.addRatioHisto(1,0)\n",
    "\n",
    "dm.draw(\n",
    "    text=text,\n",
    "    y_min=1, y_max=40000,\n",
    "    x_min=0, x_max=60,\n",
    "    y_log=True, x_axis_label='online p_{T} thresh. [GeV]',\n",
    "   do_ratio=True)\n",
    "\n",
    "\n"
   ]
  },
  {
   "cell_type": "code",
   "execution_count": 19,
   "metadata": {},
   "outputs": [
    {
     "name": "stdout",
     "output_type": "stream",
     "text": [
      "normalize to 31000\n",
      "normalize to 31000\n",
      "0.0 60.0\n",
      "0.0 60.0\n",
      "0.0 60.0\n"
     ]
    },
    {
     "data": {
      "text/html": [
       "\n",
       "\n",
       "<div id=\"root_plot_1627657272348\"\n",
       "     style=\"width: 796px; height: 772px\">\n",
       "</div>\n",
       "<script>\n",
       "\n",
       "function display_root_plot_1627657272348(Core) {\n",
       "   let obj = Core.parse({\"_typename\":\"TCanvas\",\"fUniqueID\":0,\"fBits\":3342344,\"fLineColor\":1,\"fLineStyle\":1,\"fLineWidth\":1,\"fFillColor\":0,\"fFillStyle\":1001,\"fLeftMargin\":0.13,\"fRightMargin\":0.3,\"fBottomMargin\":0.13,\"fTopMargin\":0.1,\"fXfile\":2,\"fYfile\":2,\"fAfile\":1,\"fXstat\":0.99,\"fYstat\":0.99,\"fAstat\":2,\"fFrameFillColor\":0,\"fFrameLineColor\":1,\"fFrameFillStyle\":1001,\"fFrameLineStyle\":1,\"fFrameLineWidth\":1,\"fFrameBorderSize\":1,\"fFrameBorderMode\":0,\"fX1\":0,\"fY1\":0,\"fX2\":1,\"fY2\":1,\"fXtoAbsPixelk\":5e-5,\"fXtoPixelk\":5e-5,\"fXtoPixel\":796,\"fYtoAbsPixelk\":772.00005,\"fYtoPixelk\":772.00005,\"fYtoPixel\":-772,\"fUtoAbsPixelk\":5e-5,\"fUtoPixelk\":5e-5,\"fUtoPixel\":796,\"fVtoAbsPixelk\":772.00005,\"fVtoPixelk\":772,\"fVtoPixel\":-772,\"fAbsPixeltoXk\":0,\"fPixeltoXk\":0,\"fPixeltoX\":0.00125628140703518,\"fAbsPixeltoYk\":1,\"fPixeltoYk\":0,\"fPixeltoY\":-0.00129533678756477,\"fXlowNDC\":0,\"fYlowNDC\":0,\"fXUpNDC\":1,\"fYUpNDC\":1,\"fWNDC\":1,\"fHNDC\":1,\"fAbsXlowNDC\":0,\"fAbsYlowNDC\":0,\"fAbsWNDC\":1,\"fAbsHNDC\":1,\"fUxmin\":0,\"fUymin\":0,\"fUxmax\":1,\"fUymax\":1,\"fTheta\":30,\"fPhi\":30,\"fAspectRatio\":0,\"fNumber\":0,\"fTickx\":0,\"fTicky\":0,\"fLogx\":0,\"fLogy\":0,\"fLogz\":0,\"fPadPaint\":0,\"fCrosshair\":0,\"fCrosshairPos\":0,\"fBorderSize\":2,\"fBorderMode\":0,\"fModified\":false,\"fGridx\":true,\"fGridy\":true,\"fAbsCoord\":false,\"fEditable\":true,\"fFixedAspectRatio\":false,\"fPrimitives\":{\"_typename\":\"TList\",\"name\":\"TList\",\"arr\":[{\"_typename\":\"TPad\",\"fUniqueID\":0,\"fBits\":9,\"fLineColor\":1,\"fLineStyle\":1,\"fLineWidth\":1,\"fFillColor\":0,\"fFillStyle\":1001,\"fLeftMargin\":0.13,\"fRightMargin\":0.13,\"fBottomMargin\":0,\"fTopMargin\":0.1,\"fXfile\":2,\"fYfile\":2,\"fAfile\":1,\"fXstat\":0.99,\"fYstat\":0.99,\"fAstat\":2,\"fFrameFillColor\":0,\"fFrameLineColor\":1,\"fFrameFillStyle\":1001,\"fFrameLineStyle\":1,\"fFrameLineWidth\":1,\"fFrameBorderSize\":1,\"fFrameBorderMode\":0,\"fX1\":-10.5405400180747,\"fY1\":0,\"fX2\":70.5405400180747,\"fY2\":5.11340001152985,\"fXtoAbsPixelk\":103.480046204376,\"fXtoPixelk\":103.480046204376,\"fXtoPixel\":9.81733345985413,\"fYtoAbsPixelk\":617.60005,\"fYtoPixelk\":617.60005,\"fYtoPixel\":-120.780693590843,\"fUtoAbsPixelk\":5e-5,\"fUtoPixelk\":5e-5,\"fUtoPixel\":796,\"fVtoAbsPixelk\":617.60005,\"fVtoPixelk\":617.6,\"fVtoPixel\":-617.6,\"fAbsPixeltoXk\":-10.5405400180747,\"fPixeltoXk\":-10.5405400180747,\"fPixeltoX\":0.101860653311745,\"fAbsPixeltoYk\":5.11340001152985,\"fPixeltoYk\":0,\"fPixeltoY\":-0.00827946893058589,\"fXlowNDC\":0,\"fYlowNDC\":0.2,\"fXUpNDC\":1,\"fYUpNDC\":1,\"fWNDC\":1,\"fHNDC\":0.8,\"fAbsXlowNDC\":0,\"fAbsYlowNDC\":0.2,\"fAbsWNDC\":1,\"fAbsHNDC\":0.8,\"fUxmin\":0,\"fUymin\":0,\"fUxmax\":60,\"fUymax\":4.60205999132796,\"fTheta\":30,\"fPhi\":30,\"fAspectRatio\":0,\"fNumber\":1,\"fTickx\":0,\"fTicky\":0,\"fLogx\":0,\"fLogy\":1,\"fLogz\":0,\"fPadPaint\":0,\"fCrosshair\":0,\"fCrosshairPos\":0,\"fBorderSize\":2,\"fBorderMode\":0,\"fModified\":false,\"fGridx\":true,\"fGridy\":true,\"fAbsCoord\":false,\"fEditable\":true,\"fFixedAspectRatio\":false,\"fPrimitives\":{\"_typename\":\"TList\",\"name\":\"TList\",\"arr\":[{\"_typename\":\"TFrame\",\"fUniqueID\":0,\"fBits\":8,\"fLineColor\":1,\"fLineStyle\":1,\"fLineWidth\":1,\"fFillColor\":0,\"fFillStyle\":1001,\"fX1\":0,\"fY1\":0,\"fX2\":60,\"fY2\":4.60205999132796,\"fBorderSize\":1,\"fBorderMode\":0},{\"_typename\":\"TH1F\",\"fUniqueID\":0,\"fBits\":520,\"fName\":\"e0a720\",\"fTitle\":\"\",\"fLineColor\":604,\"fLineStyle\":1,\"fLineWidth\":1,\"fFillColor\":0,\"fFillStyle\":1001,\"fMarkerColor\":604,\"fMarkerStyle\":20,\"fMarkerSize\":0.6,\"fNcells\":102,\"fXaxis\":{\"_typename\":\"TAxis\",\"fUniqueID\":0,\"fBits\":2048,\"fName\":\"xaxis\",\"fTitle\":\"online p_{T} thresh. [GeV]\",\"fNdivisions\":510,\"fAxisColor\":1,\"fLabelColor\":1,\"fLabelFont\":42,\"fLabelOffset\":0.005,\"fLabelSize\":0.035,\"fTickLength\":0.03,\"fTitleOffset\":1.4,\"fTitleSize\":0.035,\"fTitleColor\":1,\"fTitleFont\":42,\"fNbins\":100,\"fXmin\":0,\"fXmax\":100,\"fXbins\":[],\"fFirst\":1,\"fLast\":60,\"fBits2\":0,\"fTimeDisplay\":false,\"fTimeFormat\":\"\",\"fLabels\":null,\"fModLabs\":null},\"fYaxis\":{\"_typename\":\"TAxis\",\"fUniqueID\":0,\"fBits\":0,\"fName\":\"yaxis\",\"fTitle\":\" rate [kHz]\",\"fNdivisions\":510,\"fAxisColor\":1,\"fLabelColor\":1,\"fLabelFont\":42,\"fLabelOffset\":0.005,\"fLabelSize\":0.035,\"fTickLength\":0.03,\"fTitleOffset\":0,\"fTitleSize\":0.035,\"fTitleColor\":1,\"fTitleFont\":42,\"fNbins\":1,\"fXmin\":0,\"fXmax\":1,\"fXbins\":[],\"fFirst\":0,\"fLast\":0,\"fBits2\":0,\"fTimeDisplay\":false,\"fTimeFormat\":\"\",\"fLabels\":null,\"fModLabs\":null},\"fZaxis\":{\"_typename\":\"TAxis\",\"fUniqueID\":0,\"fBits\":0,\"fName\":\"zaxis\",\"fTitle\":\"\",\"fNdivisions\":510,\"fAxisColor\":1,\"fLabelColor\":1,\"fLabelFont\":42,\"fLabelOffset\":0.005,\"fLabelSize\":0.035,\"fTickLength\":0.03,\"fTitleOffset\":1,\"fTitleSize\":0.035,\"fTitleColor\":1,\"fTitleFont\":42,\"fNbins\":1,\"fXmin\":0,\"fXmax\":1,\"fXbins\":[],\"fFirst\":0,\"fLast\":0,\"fBits2\":0,\"fTimeDisplay\":false,\"fTimeFormat\":\"\",\"fLabels\":null,\"fModLabs\":null},\"fBarOffset\":0,\"fBarWidth\":1000,\"fEntries\":16381,\"fTsumw\":2821.17222222222,\"fTsumw2\":485.868549382716,\"fTsumwx\":27717.7027777778,\"fTsumwx2\":504408.448611111,\"fMaximum\":40000,\"fMinimum\":1,\"fNormFactor\":0,\"fContour\":[],\"fSumw2\":[0,31.6180864197531,31.6180864197531,31.5884259259259,31.5884259259259,31.4401234567901,31.2918209876543,30.9655555555556,30.0757407407407,28.8596604938272,27.2283333333333,24.7071913580247,22.0970679012346,18.9233950617284,15.7200617283951,12.6946913580247,10.4998148148148,8.83882716049383,7.17783950617284,6.28802469135802,5.22024691358025,4.47873456790123,4.03382716049383,3.55925925925926,3.08469135802469,2.75842592592593,2.37283950617284,2.07623456790123,1.83895061728395,1.66098765432099,1.51268518518519,1.51268518518519,1.48302469135802,1.39404320987654,1.30506172839506,1.15675925925926,1.1270987654321,1.09743827160494,1.00845679012346,0.889814814814815,0.860154320987654,0.800833333333333,0.711851851851852,0.652530864197531,0.563549382716049,0.504228395061728,0.444907407407407,0.415246913580247,0.385586419753086,0.326265432098765,0.296604938271605,0.296604938271605,0.237283950617284,0.207623456790123,0.207623456790123,0.148302469135802,0.148302469135802,0.148302469135802,0.148302469135802,0.118641975308642,0.118641975308642,0.118641975308642,0.118641975308642,0.118641975308642,0.118641975308642,0.0889814814814815,0.0889814814814815,0.059320987654321,0.059320987654321,0.059320987654321,0.059320987654321,0.0296604938271605,0.0296604938271605,0.0296604938271605,0.0296604938271605,0.0296604938271605,0.0296604938271605,0.0296604938271605,0.0296604938271605,0.0296604938271605,0.0296604938271605,0.0296604938271605,0.0296604938271605,0.0296604938271605,0.0296604938271605,0.0296604938271605,0,0,0,0,0,0,0,0,0,0,0,0,0,0,0,0],\"fOption\":\"\",\"fFunctions\":{\"_typename\":\"TList\",\"name\":\"TList\",\"arr\":[],\"opt\":[]},\"fBufferSize\":0,\"fBuffer\":[],\"fBinStatErrOpt\":0,\"fStatOverflows\":2,\"fArray\":[0,183.5889,183.5889,183.4167,183.4167,182.5556,181.6944,179.8,174.6333,167.5722,158.1,143.4611,128.3056,109.8778,91.27778,73.71111,60.96667,51.32222,41.67778,36.51111,30.31111,26.00556,23.42222,20.66667,17.91111,16.01667,13.77778,12.05556,10.67778,9.644444,8.783334,8.783334,8.611111,8.094444,7.577778,6.716667,6.544445,6.372222,5.855556,5.166667,4.994444,4.65,4.133333,3.788889,3.272222,2.927778,2.583333,2.411111,2.238889,1.894444,1.722222,1.722222,1.377778,1.205556,1.205556,0.8611111,0.8611111,0.8611111,0.8611111,0.6888889,0.6888889,0.6888889,0.6888889,0.6888889,0.6888889,0.5166667,0.5166667,0.3444445,0.3444445,0.3444445,0.3444445,0.1722222,0.1722222,0.1722222,0.1722222,0.1722222,0.1722222,0.1722222,0.1722222,0.1722222,0.1722222,0.1722222,0.1722222,0.1722222,0.1722222,0.1722222,0,0,0,0,0,0,0,0,0,0,0,0,0,0,0,0]},{\"_typename\":\"TH1F\",\"fUniqueID\":0,\"fBits\":520,\"fName\":\"696f8f\",\"fTitle\":\"\",\"fLineColor\":861,\"fLineStyle\":1,\"fLineWidth\":1,\"fFillColor\":0,\"fFillStyle\":1001,\"fMarkerColor\":861,\"fMarkerStyle\":21,\"fMarkerSize\":0.6,\"fNcells\":102,\"fXaxis\":{\"_typename\":\"TAxis\",\"fUniqueID\":0,\"fBits\":2048,\"fName\":\"xaxis\",\"fTitle\":\"online p_{T} thresh. [GeV]\",\"fNdivisions\":510,\"fAxisColor\":1,\"fLabelColor\":1,\"fLabelFont\":42,\"fLabelOffset\":0.005,\"fLabelSize\":0.035,\"fTickLength\":0.03,\"fTitleOffset\":1.4,\"fTitleSize\":0.035,\"fTitleColor\":1,\"fTitleFont\":42,\"fNbins\":100,\"fXmin\":0,\"fXmax\":100,\"fXbins\":[],\"fFirst\":1,\"fLast\":60,\"fBits2\":0,\"fTimeDisplay\":false,\"fTimeFormat\":\"\",\"fLabels\":null,\"fModLabs\":null},\"fYaxis\":{\"_typename\":\"TAxis\",\"fUniqueID\":0,\"fBits\":0,\"fName\":\"yaxis\",\"fTitle\":\" rate [kHz]\",\"fNdivisions\":510,\"fAxisColor\":1,\"fLabelColor\":1,\"fLabelFont\":42,\"fLabelOffset\":0.005,\"fLabelSize\":0.035,\"fTickLength\":0.03,\"fTitleOffset\":0,\"fTitleSize\":0.035,\"fTitleColor\":1,\"fTitleFont\":42,\"fNbins\":1,\"fXmin\":0,\"fXmax\":1,\"fXbins\":[],\"fFirst\":0,\"fLast\":0,\"fBits2\":0,\"fTimeDisplay\":false,\"fTimeFormat\":\"\",\"fLabels\":null,\"fModLabs\":null},\"fZaxis\":{\"_typename\":\"TAxis\",\"fUniqueID\":0,\"fBits\":0,\"fName\":\"zaxis\",\"fTitle\":\"\",\"fNdivisions\":510,\"fAxisColor\":1,\"fLabelColor\":1,\"fLabelFont\":42,\"fLabelOffset\":0.005,\"fLabelSize\":0.035,\"fTickLength\":0.03,\"fTitleOffset\":1,\"fTitleSize\":0.035,\"fTitleColor\":1,\"fTitleFont\":42,\"fNbins\":1,\"fXmin\":0,\"fXmax\":1,\"fXbins\":[],\"fFirst\":0,\"fLast\":0,\"fBits2\":0,\"fTimeDisplay\":false,\"fTimeFormat\":\"\",\"fLabels\":null,\"fModLabs\":null},\"fBarOffset\":0,\"fBarWidth\":1000,\"fEntries\":17334,\"fTsumw\":2985.3,\"fTsumw2\":514.135,\"fTsumwx\":28879.0833333333,\"fTsumwx2\":517166.369444444,\"fMaximum\":40000,\"fMinimum\":1,\"fNormFactor\":0,\"fContour\":[],\"fSumw2\":[0,33.8426234567901,33.8426234567901,33.812962962963,33.812962962963,33.7536419753086,33.5163580246914,33.1307716049383,32.1816358024691,30.7875925925926,28.9783024691358,26.3088580246914,23.3428086419753,19.9021913580247,16.3132716049383,13.2582407407407,10.8557407407407,9.28373456790123,7.53376543209877,6.43632716049383,5.30922839506173,4.53805555555556,4.09314814814815,3.64824074074074,3.17367283950617,2.81774691358025,2.43216049382716,2.1058950617284,1.86861111111111,1.66098765432099,1.51268518518519,1.48302469135802,1.45336419753086,1.36438271604938,1.30506172839506,1.15675925925926,1.1270987654321,1.09743827160494,1.00845679012346,0.919475308641975,0.860154320987654,0.800833333333333,0.741512345679012,0.652530864197531,0.563549382716049,0.533888888888889,0.444907407407407,0.415246913580247,0.385586419753086,0.326265432098765,0.296604938271605,0.296604938271605,0.266944444444444,0.207623456790123,0.207623456790123,0.148302469135802,0.148302469135802,0.148302469135802,0.148302469135802,0.118641975308642,0.118641975308642,0.118641975308642,0.118641975308642,0.118641975308642,0.118641975308642,0.0889814814814815,0.0889814814814815,0.059320987654321,0.059320987654321,0.059320987654321,0.059320987654321,0.0296604938271605,0.0296604938271605,0.0296604938271605,0.0296604938271605,0.0296604938271605,0.0296604938271605,0.0296604938271605,0.0296604938271605,0.0296604938271605,0.0296604938271605,0.0296604938271605,0.0296604938271605,0.0296604938271605,0.0296604938271605,0.0296604938271605,0,0,0,0,0,0,0,0,0,0,0,0,0,0,0,0],\"fOption\":\"\",\"fFunctions\":{\"_typename\":\"TList\",\"name\":\"TList\",\"arr\":[],\"opt\":[]},\"fBufferSize\":0,\"fBuffer\":[],\"fBinStatErrOpt\":0,\"fStatOverflows\":2,\"fArray\":[0,196.5056,196.5056,196.3333,196.3333,195.9889,194.6111,192.3722,186.8611,178.7667,168.2611,152.7611,135.5389,115.5611,94.72222,76.98333,63.03333,53.90556,43.74445,37.37222,30.82778,26.35,23.76667,21.18333,18.42778,16.36111,14.12222,12.22778,10.85,9.644444,8.783334,8.611111,8.438889,7.922222,7.577778,6.716667,6.544445,6.372222,5.855556,5.338889,4.994444,4.65,4.305555,3.788889,3.272222,3.1,2.583333,2.411111,2.238889,1.894444,1.722222,1.722222,1.55,1.205556,1.205556,0.8611111,0.8611111,0.8611111,0.8611111,0.6888889,0.6888889,0.6888889,0.6888889,0.6888889,0.6888889,0.5166667,0.5166667,0.3444445,0.3444445,0.3444445,0.3444445,0.1722222,0.1722222,0.1722222,0.1722222,0.1722222,0.1722222,0.1722222,0.1722222,0.1722222,0.1722222,0.1722222,0.1722222,0.1722222,0.1722222,0.1722222,0,0,0,0,0,0,0,0,0,0,0,0,0,0,0,0]},{\"_typename\":\"TLegend\",\"fUniqueID\":0,\"fBits\":8,\"fLineColor\":1,\"fLineStyle\":1,\"fLineWidth\":1,\"fFillColor\":0,\"fFillStyle\":0,\"fX1\":13.7837839927701,\"fY1\":2.55670000576492,\"fX2\":54.3243240108448,\"fY2\":4.09072000922388,\"fX1NDC\":0.3,\"fY1NDC\":0.5,\"fX2NDC\":0.8,\"fY2NDC\":0.8,\"fBorderSize\":0,\"fInit\":1,\"fShadowColor\":1,\"fCornerRadius\":0,\"fOption\":\"brNDC\",\"fName\":\"TPave\",\"fTextAngle\":0,\"fTextSize\":0.03,\"fTextAlign\":12,\"fTextColor\":1,\"fTextFont\":42,\"fPrimitives\":{\"_typename\":\"TList\",\"name\":\"TList\",\"arr\":[{\"_typename\":\"TLegendEntry\",\"fUniqueID\":0,\"fBits\":0,\"fTextAngle\":0,\"fTextSize\":0,\"fTextAlign\":0,\"fTextColor\":0,\"fTextFont\":42,\"fLineColor\":604,\"fLineStyle\":1,\"fLineWidth\":1,\"fFillColor\":0,\"fFillStyle\":0,\"fMarkerColor\":604,\"fMarkerStyle\":20,\"fMarkerSize\":0.6,\"fObject\":{\"$ref\":5},\"fLabel\":\"simu\",\"fOption\":\"lP\"},{\"_typename\":\"TLegendEntry\",\"fUniqueID\":0,\"fBits\":0,\"fTextAngle\":0,\"fTextSize\":0,\"fTextAlign\":0,\"fTextColor\":0,\"fTextFont\":42,\"fLineColor\":861,\"fLineStyle\":1,\"fLineWidth\":1,\"fFillColor\":0,\"fFillStyle\":0,\"fMarkerColor\":861,\"fMarkerStyle\":21,\"fMarkerSize\":0.6,\"fObject\":{\"$ref\":10},\"fLabel\":\"emu\",\"fOption\":\"lP\"}],\"opt\":[\"lP\",\"lP\"]},\"fEntrySeparation\":0.1,\"fMargin\":0.25,\"fNColumns\":1,\"fColumnSeparation\":0},{\"_typename\":\"TLatex\",\"fUniqueID\":0,\"fBits\":16392,\"fName\":\"\",\"fTitle\":\"PU200, TkEle EE Corr. New, hwQual=1, 1.52 < |#eta^{L1}| <= 2.4\",\"fTextAngle\":0,\"fTextSize\":0.03,\"fTextAlign\":11,\"fTextColor\":1,\"fTextFont\":62,\"fX\":0.15,\"fY\":0.85,\"fLineColor\":1,\"fLineStyle\":1,\"fLineWidth\":2,\"fLimitFactorSize\":3,\"fOriginSize\":0.04},{\"_typename\":\"TLatex\",\"fUniqueID\":0,\"fBits\":8,\"fName\":\"\",\"fTitle\":\"\",\"fTextAngle\":0,\"fTextSize\":0.03,\"fTextAlign\":11,\"fTextColor\":1,\"fTextFont\":62,\"fX\":0,\"fY\":0,\"fLineColor\":1,\"fLineStyle\":1,\"fLineWidth\":2,\"fLimitFactorSize\":3,\"fOriginSize\":0.04}],\"opt\":[\"\",\"\",\"same,\",\"same\",\"same\",\"same\"]},\"fExecs\":{\"_typename\":\"TList\",\"name\":\"TList\",\"arr\":[],\"opt\":[]},\"fName\":\"c_cdc0be_1\",\"fTitle\":\"c_cdc0be_1\",\"fNumPaletteColor\":0,\"fNextPaletteColor\":0},{\"_typename\":\"TPad\",\"fUniqueID\":0,\"fBits\":9,\"fLineColor\":1,\"fLineStyle\":1,\"fLineWidth\":1,\"fFillColor\":0,\"fFillStyle\":1001,\"fLeftMargin\":0.13,\"fRightMargin\":0.13,\"fBottomMargin\":0.26,\"fTopMargin\":0,\"fXfile\":2,\"fYfile\":2,\"fAfile\":1,\"fXstat\":0.99,\"fYstat\":0.99,\"fAstat\":2,\"fFrameFillColor\":0,\"fFrameLineColor\":1,\"fFrameFillStyle\":1001,\"fFrameLineStyle\":1,\"fFrameLineWidth\":1,\"fFrameBorderSize\":1,\"fFrameBorderMode\":0,\"fX1\":-10.5405400180747,\"fY1\":0.489189199638506,\"fX2\":70.5405400180747,\"fY2\":1.3,\"fXtoAbsPixelk\":103.480046204376,\"fXtoPixelk\":103.480046204376,\"fXtoPixel\":9.81733345985413,\"fYtoAbsPixelk\":865.154719857025,\"fYtoPixelk\":247.554719857025,\"fYtoPixel\":-190.426669120789,\"fUtoAbsPixelk\":5e-5,\"fUtoPixelk\":5e-5,\"fUtoPixel\":796,\"fVtoAbsPixelk\":772.00005,\"fVtoPixelk\":154.4,\"fVtoPixel\":-154.4,\"fAbsPixeltoXk\":-10.5405400180747,\"fPixeltoXk\":-10.5405400180747,\"fPixeltoX\":0.101860653311745,\"fAbsPixeltoYk\":4.54324320144598,\"fPixeltoYk\":0.489189199638506,\"fPixeltoY\":-0.00525136528731538,\"fXlowNDC\":0,\"fYlowNDC\":0,\"fXUpNDC\":1,\"fYUpNDC\":0.2,\"fWNDC\":1,\"fHNDC\":0.2,\"fAbsXlowNDC\":0,\"fAbsYlowNDC\":0,\"fAbsWNDC\":1,\"fAbsHNDC\":0.2,\"fUxmin\":0,\"fUymin\":0.7,\"fUxmax\":60,\"fUymax\":1.3,\"fTheta\":30,\"fPhi\":30,\"fAspectRatio\":0,\"fNumber\":2,\"fTickx\":0,\"fTicky\":0,\"fLogx\":0,\"fLogy\":0,\"fLogz\":0,\"fPadPaint\":0,\"fCrosshair\":0,\"fCrosshairPos\":0,\"fBorderSize\":2,\"fBorderMode\":0,\"fModified\":false,\"fGridx\":true,\"fGridy\":false,\"fAbsCoord\":false,\"fEditable\":true,\"fFixedAspectRatio\":false,\"fPrimitives\":{\"_typename\":\"TList\",\"name\":\"TList\",\"arr\":[{\"_typename\":\"TFrame\",\"fUniqueID\":0,\"fBits\":8,\"fLineColor\":1,\"fLineStyle\":1,\"fLineWidth\":1,\"fFillColor\":0,\"fFillStyle\":1001,\"fX1\":0,\"fY1\":0.7,\"fX2\":60,\"fY2\":1.3,\"fBorderSize\":1,\"fBorderMode\":0},{\"_typename\":\"TH1F\",\"fUniqueID\":0,\"fBits\":520,\"fName\":\"696f8f\",\"fTitle\":\"\",\"fLineColor\":861,\"fLineStyle\":1,\"fLineWidth\":1,\"fFillColor\":0,\"fFillStyle\":1001,\"fMarkerColor\":861,\"fMarkerStyle\":21,\"fMarkerSize\":0.6,\"fNcells\":102,\"fXaxis\":{\"_typename\":\"TAxis\",\"fUniqueID\":0,\"fBits\":2048,\"fName\":\"xaxis\",\"fTitle\":\" p_{T} [GeV]\",\"fNdivisions\":510,\"fAxisColor\":1,\"fLabelColor\":1,\"fLabelFont\":42,\"fLabelOffset\":0.005,\"fLabelSize\":20,\"fTickLength\":0.03,\"fTitleOffset\":5,\"fTitleSize\":20,\"fTitleColor\":1,\"fTitleFont\":42,\"fNbins\":100,\"fXmin\":0,\"fXmax\":100,\"fXbins\":[],\"fFirst\":1,\"fLast\":60,\"fBits2\":0,\"fTimeDisplay\":false,\"fTimeFormat\":\"\",\"fLabels\":null,\"fModLabs\":null},\"fYaxis\":{\"_typename\":\"TAxis\",\"fUniqueID\":0,\"fBits\":4096,\"fName\":\"yaxis\",\"fTitle\":\"#splitline{ratio}{scale[0.5]{to simu}}\",\"fNdivisions\":510,\"fAxisColor\":1,\"fLabelColor\":1,\"fLabelFont\":42,\"fLabelOffset\":0.005,\"fLabelSize\":20,\"fTickLength\":0.03,\"fTitleOffset\":2,\"fTitleSize\":20,\"fTitleColor\":1,\"fTitleFont\":42,\"fNbins\":1,\"fXmin\":0,\"fXmax\":1,\"fXbins\":[],\"fFirst\":0,\"fLast\":0,\"fBits2\":0,\"fTimeDisplay\":false,\"fTimeFormat\":\"\",\"fLabels\":null,\"fModLabs\":null},\"fZaxis\":{\"_typename\":\"TAxis\",\"fUniqueID\":0,\"fBits\":0,\"fName\":\"zaxis\",\"fTitle\":\"\",\"fNdivisions\":510,\"fAxisColor\":1,\"fLabelColor\":1,\"fLabelFont\":42,\"fLabelOffset\":0.005,\"fLabelSize\":0.035,\"fTickLength\":0.03,\"fTitleOffset\":1,\"fTitleSize\":0.035,\"fTitleColor\":1,\"fTitleFont\":42,\"fNbins\":1,\"fXmin\":0,\"fXmax\":1,\"fXbins\":[],\"fFirst\":0,\"fLast\":0,\"fBits2\":0,\"fTimeDisplay\":false,\"fTimeFormat\":\"\",\"fLabels\":null,\"fModLabs\":null},\"fBarOffset\":0,\"fBarWidth\":1000,\"fEntries\":173.31045146057,\"fTsumw\":86.4834112524986,\"fTsumw2\":43.1559687187732,\"fTsumwx\":3636.02722248435,\"fTsumwx2\":205415.343262658,\"fMaximum\":1.3,\"fMinimum\":0.7,\"fNormFactor\":0,\"fContour\":[],\"fSumw2\":[0,0.00207881770335392,0.00207881770335392,0.00208096403123922,0.00208096403123922,0.00210015983440559,0.00210267681498173,0.00212132115601307,0.00218438072304504,0.00226605742744694,0.00239318171722869,0.0026394722928044,0.00291584665773488,0.0033822066567707,0.00398987068475137,0.00498866355629647,0.00594023711911953,0.00722664498358123,0.00888933666232315,0.00977033403063966,0.0116558343625293,0.0135093405961283,0.015031866987137,0.0172968758671515,0.0200708688709464,0.0222040715579696,0.0259453125886859,0.0291865897509414,0.0330426942900601,0.0357142855573281,0.0392156823004236,0.0380698146925363,0.0388080041677171,0.0412047448307868,0.0454545444375641,0.0512820507966282,0.0526315770725731,0.0540540506383635,0.0588235298375597,0.0700370466444236,0.0689655192898532,0.0740740710356853,0.08861400841278,0.0909090888751281,0.105263154145146,0.128231220633152,0.133333341536984,0.142857142229313,0.153846141467866,0.181818177750256,0.200000003076369,0.200000003076369,0.298828090661238,0.285714284458625,0.285714284458625,0.400000006152738,0.400000006152738,0.400000006152738,0.400000006152738,0.499999973081774,0.499999973081774,0.499999973081774,0.499999973081774,0.499999973081774,0.499999973081774,0.666666707684919,0.666666707684919,0.999999946163549,0.999999946163549,0.999999946163549,0.999999946163549,1.9999998923271,1.9999998923271,1.9999998923271,1.9999998923271,1.9999998923271,1.9999998923271,1.9999998923271,1.9999998923271,1.9999998923271,1.9999998923271,1.9999998923271,1.9999998923271,1.9999998923271,1.9999998923271,1.9999998923271,0,0,0,0,0,0,0,0,0,0,0,0,0,0,0,0],\"fOption\":\"\",\"fFunctions\":{\"_typename\":\"TList\",\"name\":\"TList\",\"arr\":[],\"opt\":[]},\"fBufferSize\":0,\"fBuffer\":[],\"fBinStatErrOpt\":0,\"fStatOverflows\":2,\"fArray\":[0,1.070356,1.070356,1.070423,1.070423,1.073585,1.07109,1.069923,1.07002,1.066804,1.06427,1.064826,1.056376,1.051724,1.037736,1.044392,1.033898,1.050336,1.049587,1.023585,1.017045,1.013245,1.014706,1.025,1.028846,1.021505,1.025,1.014286,1.016129,1,1,0.980392,0.98,0.9787234,1,1,1,1,1,1.033333,1,1,1.041667,1,1,1.058823,1,1,1,1,1,1,1.125,1,1,1,1,1,1,1,1,1,1,1,1,1,1,1,1,1,1,1,1,1,1,1,1,1,1,1,1,1,1,1,1,1,0,0,0,0,0,0,0,0,0,0,0,0,0,0,0,0]},{\"_typename\":\"TLine\",\"fUniqueID\":0,\"fBits\":8,\"fLineColor\":1,\"fLineStyle\":2,\"fLineWidth\":1,\"fX1\":0,\"fY1\":0.9,\"fX2\":60,\"fY2\":0.9},{\"_typename\":\"TLine\",\"fUniqueID\":0,\"fBits\":8,\"fLineColor\":1,\"fLineStyle\":2,\"fLineWidth\":1,\"fX1\":0,\"fY1\":1,\"fX2\":60,\"fY2\":1},{\"_typename\":\"TLine\",\"fUniqueID\":0,\"fBits\":8,\"fLineColor\":1,\"fLineStyle\":2,\"fLineWidth\":1,\"fX1\":0,\"fY1\":1.1,\"fX2\":60,\"fY2\":1.1}],\"opt\":[\"\",\"\",\"same\",\"same\",\"same\"]},\"fExecs\":{\"_typename\":\"TList\",\"name\":\"TList\",\"arr\":[],\"opt\":[]},\"fName\":\"c_cdc0be_2\",\"fTitle\":\"c_cdc0be_2\",\"fNumPaletteColor\":0,\"fNextPaletteColor\":0},{\"_typename\":\"TStyle\",\"fUniqueID\":0,\"fBits\":0,\"fName\":\"Modern\",\"fTitle\":\"Modern Style\",\"fLineColor\":1,\"fLineStyle\":1,\"fLineWidth\":1,\"fFillColor\":19,\"fFillStyle\":1001,\"fMarkerColor\":1,\"fMarkerStyle\":1,\"fMarkerSize\":1,\"fTextAngle\":0,\"fTextSize\":0.05,\"fTextAlign\":11,\"fTextColor\":1,\"fTextFont\":62,\"fXaxis\":{\"_typename\":\"TAttAxis\",\"fNdivisions\":510,\"fAxisColor\":1,\"fLabelColor\":1,\"fLabelFont\":42,\"fLabelOffset\":0.005,\"fLabelSize\":0.035,\"fTickLength\":0.03,\"fTitleOffset\":1,\"fTitleSize\":0.035,\"fTitleColor\":1,\"fTitleFont\":42},\"fYaxis\":{\"_typename\":\"TAttAxis\",\"fNdivisions\":510,\"fAxisColor\":1,\"fLabelColor\":1,\"fLabelFont\":42,\"fLabelOffset\":0.005,\"fLabelSize\":0.035,\"fTickLength\":0.03,\"fTitleOffset\":0,\"fTitleSize\":0.035,\"fTitleColor\":1,\"fTitleFont\":42},\"fZaxis\":{\"_typename\":\"TAttAxis\",\"fNdivisions\":510,\"fAxisColor\":1,\"fLabelColor\":1,\"fLabelFont\":42,\"fLabelOffset\":0.005,\"fLabelSize\":0.035,\"fTickLength\":0.03,\"fTitleOffset\":1,\"fTitleSize\":0.035,\"fTitleColor\":1,\"fTitleFont\":42},\"fBarWidth\":1,\"fBarOffset\":0,\"fColorModelPS\":0,\"fDrawBorder\":0,\"fOptLogx\":0,\"fOptLogy\":0,\"fOptLogz\":0,\"fOptDate\":0,\"fOptStat\":0,\"fOptTitle\":0,\"fOptFile\":0,\"fOptFit\":0,\"fShowEventStatus\":0,\"fShowEditor\":0,\"fShowToolBar\":0,\"fNumberContours\":20,\"fAttDate\":{\"_typename\":\"TAttText\",\"fTextAngle\":0,\"fTextSize\":0.025,\"fTextAlign\":11,\"fTextColor\":1,\"fTextFont\":62},\"fDateX\":0.01,\"fDateY\":0.01,\"fEndErrorSize\":2,\"fErrorX\":0.5,\"fFuncColor\":2,\"fFuncStyle\":1,\"fFuncWidth\":2,\"fGridColor\":0,\"fGridStyle\":3,\"fGridWidth\":1,\"fLegendBorderSize\":1,\"fLegendFillColor\":0,\"fLegendFont\":42,\"fLegendTextSize\":0,\"fHatchesLineWidth\":1,\"fHatchesSpacing\":1,\"fFrameFillColor\":0,\"fFrameLineColor\":1,\"fFrameFillStyle\":1001,\"fFrameLineStyle\":1,\"fFrameLineWidth\":1,\"fFrameBorderSize\":1,\"fFrameBorderMode\":0,\"fHistFillColor\":0,\"fHistLineColor\":602,\"fHistFillStyle\":1001,\"fHistLineStyle\":1,\"fHistLineWidth\":1,\"fHistMinimumZero\":false,\"fHistTopMargin\":0.05,\"fCanvasPreferGL\":false,\"fCanvasColor\":0,\"fCanvasBorderSize\":2,\"fCanvasBorderMode\":0,\"fCanvasDefH\":500,\"fCanvasDefW\":700,\"fCanvasDefX\":10,\"fCanvasDefY\":10,\"fPadColor\":0,\"fPadBorderSize\":2,\"fPadBorderMode\":0,\"fPadBottomMargin\":0.13,\"fPadTopMargin\":0.1,\"fPadLeftMargin\":0.13,\"fPadRightMargin\":0.13,\"fPadGridX\":true,\"fPadGridY\":true,\"fPadTickX\":0,\"fPadTickY\":0,\"fPaperSizeX\":20,\"fPaperSizeY\":26,\"fScreenFactor\":1,\"fStatColor\":0,\"fStatTextColor\":1,\"fStatBorderSize\":1,\"fStatFont\":42,\"fStatFontSize\":0,\"fStatStyle\":1001,\"fStatFormat\":\"6.4g\",\"fStatX\":0.98,\"fStatY\":0.935,\"fStatW\":0.2,\"fStatH\":0.16,\"fStripDecimals\":true,\"fTitleAlign\":23,\"fTitleColor\":0,\"fTitleTextColor\":1,\"fTitleBorderSize\":0,\"fTitleFont\":42,\"fTitleFontSize\":0.05,\"fTitleStyle\":0,\"fTitleX\":0.5,\"fTitleY\":0.995,\"fTitleW\":0,\"fTitleH\":0,\"fLegoInnerR\":0.5,\"fLineStyle\":[\"\",\"  \",\" 12 12\",\" 4 8\",\" 12 16 4 16\",\" 20 12 4 12\",\" 20 12 4 12 4 12 4 12\",\" 20 20\",\" 20 12 4 12 4 12\",\" 80 20\",\" 80 40 4 40\",\"  \",\"  \",\"  \",\"  \",\"  \",\"  \",\"  \",\"  \",\"  \",\"  \",\"  \",\"  \",\"  \",\"  \",\"  \",\"  \",\"  \",\"  \",\"  \"],\"fHeaderPS\":\"\",\"fTitlePS\":\"\",\"fFitFormat\":\"5.4g\",\"fPaintTextFormat\":\"g\",\"fLineScalePS\":3,\"fJoinLinePS\":0,\"fCapLinePS\":0,\"fTimeOffset\":788918400,\"fImageScaling\":1}],\"opt\":[\"\",\"\",\"\"]},\"fExecs\":null,\"fName\":\"c_cdc0be\",\"fTitle\":\"c_cdc0be\",\"fNumPaletteColor\":0,\"fNextPaletteColor\":0,\"fDISPLAY\":\"$DISPLAY\",\"fDoubleBuffer\":0,\"fRetained\":true,\"fXsizeUser\":0,\"fYsizeUser\":0,\"fXsizeReal\":20,\"fYsizeReal\":20,\"fWindowTopX\":0,\"fWindowTopY\":0,\"fWindowWidth\":0,\"fWindowHeight\":0,\"fCw\":796,\"fCh\":772,\"fCatt\":{\"_typename\":\"TAttCanvas\",\"fXBetween\":2,\"fYBetween\":2,\"fTitleFromTop\":1.2,\"fXdate\":0.2,\"fYdate\":0.3,\"fAdate\":1},\"kMoveOpaque\":true,\"kResizeOpaque\":true,\"fHighLightColor\":2,\"fBatch\":true,\"kShowEventStatus\":false,\"kAutoExec\":true,\"kMenuBar\":true});\n",
       "   Core.settings.HandleKeys = false;\n",
       "   Core.draw(\"root_plot_1627657272348\", obj, \"\");\n",
       "}\n",
       "\n",
       "function script_load_root_plot_1627657272348(src, on_error) {\n",
       "    let script = document.createElement('script');\n",
       "    script.src = src;\n",
       "    script.onload = function() { display_root_plot_1627657272348(JSROOT); };\n",
       "    script.onerror = function() { script.remove(); on_error(); };\n",
       "    document.head.appendChild(script);\n",
       "}\n",
       "\n",
       "if (typeof requirejs !== 'undefined') {\n",
       "\n",
       "    // We are in jupyter notebooks, use require.js which should be configured already\n",
       "    requirejs.config({\n",
       "       paths: { 'JSRootCore' : [ 'scripts/JSRoot.core', 'https://root.cern/js/6.1.1/scripts/JSRoot.core.min', 'https://jsroot.gsi.de/6.1.1/scripts/JSRoot.core.min' ] }\n",
       "    })(['JSRootCore'],  function(Core) {\n",
       "       display_root_plot_1627657272348(Core);\n",
       "    });\n",
       "\n",
       "} else if (typeof JSROOT !== 'undefined') {\n",
       "\n",
       "   // JSROOT already loaded, just use it\n",
       "   display_root_plot_1627657272348(JSROOT);\n",
       "\n",
       "} else {\n",
       "\n",
       "    // We are in jupyterlab without require.js, directly loading jsroot\n",
       "    // Jupyterlab might be installed in a different base_url so we need to know it.\n",
       "    try {\n",
       "        var base_url = JSON.parse(document.getElementById('jupyter-config-data').innerHTML).baseUrl;\n",
       "    } catch(_) {\n",
       "        var base_url = '/';\n",
       "    }\n",
       "\n",
       "    // Try loading a local version of requirejs and fallback to cdn if not possible.\n",
       "    script_load_root_plot_1627657272348(base_url + 'static/scripts/JSRoot.core.js', function(){\n",
       "        console.error('Fail to load JSROOT locally, please check your jupyter_notebook_config.py file');\n",
       "        script_load_root_plot_1627657272348('https://root.cern/js/6.1.1/scripts/JSRoot.core.min.js', function(){\n",
       "            document.getElementById(\"root_plot_1627657272348\").innerHTML = \"Failed to load JSROOT\";\n",
       "        });\n",
       "    });\n",
       "}\n",
       "\n",
       "</script>\n"
      ],
      "text/plain": [
       "<IPython.core.display.HTML object>"
      ]
     },
     "metadata": {},
     "output_type": "display_data"
    }
   ],
   "source": [
    "rleg_config.legend_size=(0.5, 0.3)\n",
    "rleg_config.legend_position=(0.3, 0.5)\n",
    "rleg_config.marker_size = 0.6\n",
    "\n",
    "dm = DrawMachine(rleg_config)\n",
    "\n",
    "hsets, labels, text = hplot.get_histo(histos.RateHistos, None, 'PU200', ['tkEleEE'], 'EGq4EtaBC', None)\n",
    "dm.addHistos([his.h_pt for his in hsets], labels=['simu'])\n",
    "\n",
    "\n",
    "hsets, labels, text = hplot.get_histo(histos.RateHistos, None, 'PU200', ['PFNFtkEleEE'], ['EGq1EtaBC'], None)\n",
    "dm.addHistos([his.h_pt for his in hsets], labels=['emu'])\n",
    "\n",
    "dm.addRatioHisto(1,0)\n",
    "\n",
    "dm.draw(\n",
    "    text=text,\n",
    "    y_min=1, y_max=40000,\n",
    "    x_min=0, x_max=60,\n",
    "    y_log=True, x_axis_label='online p_{T} thresh. [GeV]',\n",
    "   do_ratio=True)\n",
    "\n",
    "\n"
   ]
  },
  {
   "cell_type": "markdown",
   "metadata": {},
   "source": [
    "## Online to offline scaling"
   ]
  },
  {
   "cell_type": "code",
   "execution_count": null,
   "metadata": {},
   "outputs": [],
   "source": [
    "# NOTE: this version of the scaling params is clearly obsolete. It is here just to keep track of how to \n",
    "# apply online to offline scaling\n",
    "# version_V9 = 'v113'\n",
    "scaling_params =  pd.read_csv(r'scaling_params_{}.csv'.format('v142A'))"
   ]
  },
  {
   "cell_type": "code",
   "execution_count": null,
   "metadata": {},
   "outputs": [],
   "source": [
    "scaling_params"
   ]
  },
  {
   "cell_type": "code",
   "execution_count": null,
   "metadata": {},
   "outputs": [],
   "source": [
    "# eval(scaling_params[(scaling_params.pu == 'PU200') & (scaling_params.tp == 'EG') & (scaling_params.tp_sel == 'EGq3EtaBC')].params.iloc[0])"
   ]
  },
  {
   "cell_type": "code",
   "execution_count": null,
   "metadata": {},
   "outputs": [],
   "source": [
    "tps = hplot.data.tp.unique().tolist()\n",
    "\n",
    "for sample in samples:\n",
    "    for tp in tps:\n",
    "        for tp_sel in ['EGq4EtaBC']:\n",
    "            hsets, labels, text = hplot.get_histo(histos.RateHistos, sample.type, 'PU200', tp, tp_sel, None)\n",
    "            print(hsets)\n",
    "            if hsets is None:\n",
    "                continue\n",
    "            for his in hsets:\n",
    "                his.normalize(31000)\n",
    "                his.h_pt_graph(\n",
    "                    'online', \n",
    "                    'rate [kHz]', \n",
    "                    convertRateToGraph)\n",
    "                his.h_pt_graph(\n",
    "                    'offline', \n",
    "                    'rate [kHz]', \n",
    "                    lambda x: convertRateToGraph(\n",
    "                        x, \n",
    "                        eval(scaling_params[\n",
    "                                (scaling_params['sample'] == 'ele-'+sample.type) &\n",
    "                                (scaling_params.pu == 'PU200') & \n",
    "                                (scaling_params.tp == tp) & \n",
    "                                (scaling_params.tp_sel == tp_sel)].params.iloc[0])))"
   ]
  },
  {
   "cell_type": "code",
   "execution_count": null,
   "metadata": {},
   "outputs": [],
   "source": [
    "for sample_scaling, sample_rate, tp, tp_sel, tp_scaling, tp_sel_scaling in [\n",
    "    ('ele-V9', 'TDR', 'EG', 'EGq5EtaBC', 'EG', 'EGq5EtaBC'),\n",
    "    ('ele-V9', 'TDR', 'EGBRL', 'EtaF', 'EGBRL', 'allEtaF'),\n",
    "    ('ele-V9', 'TDR', 'TkEleELBRL', 'EtaF', 'TkEleELBRL', 'allEtaF'),\n",
    "    ('ele-V9', 'TDR', 'TkEleEL', 'EGq5EtaBC', 'TkEleEL', 'EGq5EtaBC'),\n",
    "    ('ele-V9', 'TDR', 'TkEleELALL', 'Iso0p1EtaBC', 'TkEleEL', 'EGq5EtaBC'),\n",
    "    ('ele-V9', 'TDR', 'TkEleELALL', 'EtaFIso0p1', 'TkEleELBRL', 'allEtaF'),\n",
    "    ('dele-NM', 'NM', 'EgEE', 'EGq5EtaBC', 'EG', 'EGq5EtaBC'),\n",
    "    ('dele-NM', 'NM', 'EgEB', 'EtaF', 'EGBRL', 'allEtaF'),\n",
    "    ('dele-NM', 'NM', 'tkEleEB', 'EtaF', 'tkEleEB', 'allEtaF'),\n",
    "    ('dele-NM', 'NM', 'tkEleEE', 'EGq5EtaBC', 'tkEleEE', 'EGq5EtaBC'),\n",
    "    ('ele-NM', 'TDR', 'tkEle', 'Iso0p1EtaBC', 'tkEleEE', 'EGq5EtaBC'),\n",
    "    ('ele-NM', 'TDR', 'tkEle', 'EtaFIso0p1', 'tkEleEB', 'allEtaF'),\n",
    "\n",
    "]:\n",
    "    \n",
    "        \n",
    "    hsets, labels, text = hplot.get_histo(histos.RateHistos, sample_rate, 'PU200', tp, tp_sel, None)\n",
    "    if hsets is None:\n",
    "        continue\n",
    "    for his in hsets:\n",
    "        his.normalize(31000)\n",
    "        \n",
    "        his.h_pt_graph(\n",
    "            'online', \n",
    "            'rate [kHz]', \n",
    "            convertRateToGraph)\n",
    "        his.h_pt_graph(\n",
    "            'offline', \n",
    "            'rate [kHz]', \n",
    "            lambda x: convertRateToGraph(\n",
    "                x, \n",
    "                eval(scaling_params[\n",
    "                        (scaling_params['sample'] == sample_scaling) &\n",
    "                        (scaling_params.pu == 'PU200') & \n",
    "                        (scaling_params.tp == tp_scaling) & \n",
    "                        (scaling_params.tp_sel == tp_sel_scaling)].params.iloc[0])))"
   ]
  },
  {
   "cell_type": "code",
   "execution_count": null,
   "metadata": {},
   "outputs": [],
   "source": [
    "hsets, labels, text = hplot.get_histo(histos.RateHistos, ['V11', 'TDR'], 'PU200', ['HMvDRshapeDrCalib', 'HMvDRshapeDrCalibNew'], 'EmEtaBC', None)\n",
    "draw([his.g_pt_online for his in hsets], labels, text=text,  \n",
    "     min_y=1, max_y=40000,\n",
    "     min_x=0, max_x=60,\n",
    "     logy=True, x_axis_label='online p_{T} thresh. [GeV]')\n"
   ]
  },
  {
   "cell_type": "code",
   "execution_count": null,
   "metadata": {},
   "outputs": [],
   "source": [
    "hsets, labels, text = hplot.get_histo(histos.RateHistos, None, 'PU200', 'HMvDRshapeDrCalib', 'EmEtaBC', None)\n",
    "draw([his.g_pt_offline for his in hsets], labels, text=text,  \n",
    "     min_y =1, max_y=40000,\n",
    "     min_x=0, max_x=60,\n",
    "     logy=True, x_axis_label='offline p_{T} thresh. [GeV]')\n"
   ]
  },
  {
   "cell_type": "markdown",
   "metadata": {},
   "source": [
    "## Compute fixed rate WPs"
   ]
  },
  {
   "cell_type": "code",
   "execution_count": null,
   "metadata": {},
   "outputs": [],
   "source": [
    "rate_points = [20, 100, 1000]"
   ]
  },
  {
   "cell_type": "code",
   "execution_count": null,
   "metadata": {
    "scrolled": false
   },
   "outputs": [],
   "source": [
    "import pprint as pp\n",
    "\n",
    "iso_pt_wps = {}\n",
    "\n",
    "histo_primitives = hplot.data\n",
    "\n",
    "tp_sels = [\n",
    "    ('PFNFtkEmEB', histo_primitives[histo_primitives.tp == 'PFNFtkEmEB'].tp_sel.unique().tolist()),\n",
    "    ('PFNFtkEmEE', [sel for sel in histo_primitives[histo_primitives.tp == 'PFNFtkEmEE'].tp_sel.unique().tolist() if 'EtaBC' not in sel]),   \n",
    "]\n",
    "    \n",
    "# print (tp_sels)\n",
    "\n",
    "for tp, tp_sel_list in tp_sels:\n",
    "    iso_pt_wps[tp] = {}\n",
    "    for sel in tp_sel_list:\n",
    "        hsets, labels, text = hplot.get_histo(histos.RateHistos, ['ref'], 'PU200', tp, sel, None)\n",
    "        \n",
    "        for his in hsets:\n",
    "            his.normalize(31000)\n",
    "        rate_cuts = {}\n",
    "        for rate in rate_points:\n",
    "            rate_cuts[rate] = cutAtRate(hsets[0].h_pt, rate)\n",
    "        iso_pt_wps[tp][sel] = rate_cuts\n",
    "\n",
    "pp.pprint(iso_pt_wps)\n",
    "\n",
    "import json\n",
    "with open('iso_pt_wps.json', 'w') as fp:\n",
    "    json.dump(iso_pt_wps, fp)"
   ]
  },
  {
   "cell_type": "code",
   "execution_count": null,
   "metadata": {
    "scrolled": true
   },
   "outputs": [],
   "source": [
    "import tabulate\n",
    "tp = 'PFNFtkEmEB'\n",
    "iso_vars = ['tkIso', 'tkIsoPV', 'pfIso', 'pfIsoPV']\n",
    "rate = 1000\n",
    "# iso_wp = 98\n",
    "\n",
    "for rate in [20, 100, 1000]:\n",
    "    table = []\n",
    "    for pt_wp in [10, 20, 40]:\n",
    "        for iso_wp in [95, 98]:\n",
    "            row = []\n",
    "            row.append(f'WP {iso_wp} @ pT > {pt_wp} GeV')\n",
    "            for iso_var in iso_vars:\n",
    "                iso_pt_wp = f'{iso_var}WP{iso_wp}Pt{pt_wp}'\n",
    "                row.append(iso_pt_wps[tp][iso_pt_wp][rate])\n",
    "            row.append(iso_pt_wps[tp]['all'][rate])\n",
    "            table.append(row)\n",
    "    print(tabulate.tabulate(table, headers=[f'pT threshold [GeV] @ {rate}kHz']+iso_vars+['no iso.']))\n",
    "    print('\\n')\n"
   ]
  },
  {
   "cell_type": "code",
   "execution_count": null,
   "metadata": {},
   "outputs": [],
   "source": [
    "import tabulate\n",
    "tp = 'PFNFtkEmEE'\n",
    "iso_vars = ['tkIso', 'tkIsoPV', 'pfIso', 'pfIsoPV']\n",
    "rate = 1000\n",
    "# iso_wp = 98\n",
    "\n",
    "for rate in [20, 100, 1000]:\n",
    "    table = []\n",
    "    for pt_wp in [10, 20, 40]:\n",
    "        for iso_wp in [95, 98]:\n",
    "            row = []\n",
    "            row.append(f'WP {iso_wp} @ pT > {pt_wp} GeV')\n",
    "            for iso_var in iso_vars:\n",
    "                iso_pt_wp = f'EGq5{iso_var}WP{iso_wp}Pt{pt_wp}EtaABC'\n",
    "                row.append(iso_pt_wps[tp][iso_pt_wp][rate])\n",
    "            row.append(iso_pt_wps[tp]['EGq5EtaABC'][rate])\n",
    "            table.append(row)\n",
    "    print(tabulate.tabulate(table, headers=[f'pT threshold [GeV] @ {rate}kHz']+iso_vars+['no iso.']))\n",
    "    print('\\n')\n"
   ]
  }
 ],
 "metadata": {
  "kernelspec": {
   "display_name": "HGCTPGPerformance-py3.8",
   "language": "python",
   "name": "hgctpgperformance-py3.8"
  },
  "language_info": {
   "codemirror_mode": {
    "name": "ipython",
    "version": 3
   },
   "file_extension": ".py",
   "mimetype": "text/x-python",
   "name": "python",
   "nbconvert_exporter": "python",
   "pygments_lexer": "ipython3",
   "version": "3.8.11"
  },
  "toc": {
   "base_numbering": 1,
   "nav_menu": {},
   "number_sections": true,
   "sideBar": true,
   "skip_h1_title": false,
   "title_cell": "Table of Contents",
   "title_sidebar": "Contents",
   "toc_cell": false,
   "toc_position": {
    "height": "calc(100% - 180px)",
    "left": "10px",
    "top": "150px",
    "width": "175.8px"
   },
   "toc_section_display": true,
   "toc_window_display": true
  }
 },
 "nbformat": 4,
 "nbformat_minor": 2
}
