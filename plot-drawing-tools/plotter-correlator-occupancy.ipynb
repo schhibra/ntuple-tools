{
 "cells": [
  {
   "cell_type": "markdown",
   "metadata": {},
   "source": [
    "# Rate performance\n",
    "\n",
    "   * [Comparison new vs old EG ID](#Comparisono-baseline-vs-Manos-EGID)\n",
    "\n",
    "\n"
   ]
  },
  {
   "cell_type": "code",
   "execution_count": 1,
   "metadata": {},
   "outputs": [
    {
     "name": "stdout",
     "output_type": "stream",
     "text": [
      "Welcome to JupyROOT 6.14/02\n"
     ]
    }
   ],
   "source": [
    "import sys\n",
    "sys.path.insert(0, '..')\n",
    "# sys.path.insert(1, '../python/')\n",
    "sys.path.insert(1, 'python/')\n",
    "\n",
    "import ROOT\n",
    "import root_numpy as rnp\n",
    "# import python.l1THistos as histos\n",
    "import math\n",
    "import uuid\n",
    "import pandas as pd\n",
    "\n",
    "from drawingTools import *\n",
    "\n",
    "# ROOT.enableJSVis()\n",
    "ROOT.enableJSVis()\n",
    "\n",
    "#from drawingTools import *\n",
    "\n",
    "normalized_histos = list()"
   ]
  },
  {
   "cell_type": "code",
   "execution_count": 2,
   "metadata": {},
   "outputs": [],
   "source": [
    "# %load drawingTools.py\n"
   ]
  },
  {
   "cell_type": "code",
   "execution_count": 3,
   "metadata": {},
   "outputs": [],
   "source": [
    "ROOT.gStyle.SetPadGridX(True)\n",
    "ROOT.gStyle.SetPadGridY(True)\n"
   ]
  },
  {
   "cell_type": "code",
   "execution_count": 4,
   "metadata": {},
   "outputs": [],
   "source": [
    "# %load samples.py\n",
    "import ROOT\n",
    "import pandas as pd\n",
    "\n",
    "version = 'v101'\n",
    "version_v8 = 'v117'\n",
    "\n",
    "version_v9 = 'v118'\n",
    "\n",
    "# -------------------------------------------------------------------------\n",
    "\n",
    "samples_ele = [\n",
    "    Sample('ele_flat2to100_PU0', 'PU0', version, 'ele'),\n",
    "    Sample('ele_flat2to100_PU200', 'PU200', version, 'ele')\n",
    "    ]\n",
    "\n",
    "samples_ele_V8 = [\n",
    "    Sample('ele_flat2to100_PU0', 'PU0', version, 'V8'),\n",
    "    Sample('ele_flat2to100_PU200', 'PU200', version, 'V8')\n",
    "    ]\n",
    "\n",
    "\n",
    "samples_ele_V9 = [\n",
    "    Sample('all_flat5to80_PU0', 'PU0', 'v75t', 'V9'),\n",
    "    Sample('all_flat5to80_PU200', 'PU200', 'v75t', 'V9')\n",
    "    ]\n",
    "\n",
    "samples_photons = [\n",
    "    Sample('photon_flat8to150_PU0', 'PU0', version, 'photon'),\n",
    "    Sample('photon_flat8to150_PU200', 'PU200', version, 'photon')\n",
    "    ]\n",
    "\n",
    "samples_pions = [\n",
    "    Sample('pion_flat2to100_PU0', 'PU0', version, 'pions'),\n",
    "    ]\n",
    "\n",
    "# samples_nugus = [\n",
    "#     Sample('nugun_alleta_pu0', 'PU0', version, 'mb'),\n",
    "#     Sample('nugun_alleta_pu200', 'PU200', version, 'mb')\n",
    "#     ]\n",
    "\n",
    "\n",
    "samples_nugunrates = [\n",
    "    Sample('nugun_alleta_pu200_rate', 'PU200', version, 'new-clusters')\n",
    "    ]\n",
    "\n",
    "\n",
    "samples_nugunrates_V8 = [\n",
    "    Sample('nugun_alleta_pu200_rate', 'PU200', version_v8, 'hybrid')\n",
    "    ]\n",
    "\n",
    "samples_nugunrates_V9 = [\n",
    "    Sample('nugun_alleta_pu200_rate', 'PU200', version_v9, 'new-ID')\n",
    "    ]\n",
    "\n",
    "\n",
    "samples_ttbar_v9 = [\n",
    "    Sample('ttbar_PU200_pf', 'PU200', version_v9, 'ttbar')\n",
    "]\n",
    "\n",
    "samples_dyll_v9 = [\n",
    "    Sample('dyll_PU200_pf', 'PU200', version_v9, 'dyll')\n",
    "]\n",
    "\n",
    "\n"
   ]
  },
  {
   "cell_type": "code",
   "execution_count": null,
   "metadata": {},
   "outputs": [],
   "source": []
  },
  {
   "cell_type": "code",
   "execution_count": 5,
   "metadata": {},
   "outputs": [
    {
     "name": "stdout",
     "output_type": "stream",
     "text": [
      "gen_part_selections: 14\n",
      "--- CorrOccupancyHistos\n",
      "# of plots: 42\n",
      "# of primitives: 21\n",
      "--- TPs: \n",
      "['L1Trk', 'L1TrkEmu', 'EGALL']\n",
      "--- TP selections:\n",
      "{   'EGALL': ['Pt15', 'Pt20', 'Pt5', 'all', 'Pt10'],\n",
      "    'L1Trk': [   'St4Pt5',\n",
      "                 'St4Pt10',\n",
      "                 'St4',\n",
      "                 'Pt5',\n",
      "                 'St4Pt2',\n",
      "                 'Pt10',\n",
      "                 'Pt2',\n",
      "                 'all'],\n",
      "    'L1TrkEmu': [   'all',\n",
      "                    'Pt5',\n",
      "                    'St4Pt5',\n",
      "                    'St4Pt2',\n",
      "                    'Pt2',\n",
      "                    'St4Pt10',\n",
      "                    'St4',\n",
      "                    'Pt10']}\n",
      "--- GEN selections:\n",
      "{   'EGALL': [None], 'L1Trk': [None], 'L1TrkEmu': [None]}\n"
     ]
    }
   ],
   "source": [
    "# %load python/settings.py\n",
    "\n",
    "# === samples =====================================================\n",
    "import pprint\n",
    "import python.plotters_config as plotters\n",
    "\n",
    "\n",
    "\n",
    "samples = []\n",
    "\n",
    "# samples += samples_nugunrates\n",
    "# samples += samples_nugunrates_V8\n",
    "samples += samples_ttbar_v9\n",
    "samples += samples_dyll_v9\n",
    "\n",
    "for smp in samples:\n",
    "    smp.open_file()\n",
    "\n",
    "\n",
    "sample = 'ttbar'\n",
    "\n",
    "# === TP ==========================================================\n",
    "tps = [ 'L1Trk',\n",
    "       'L1TrkEmu',    \n",
    "       'EGALL',]      \n",
    "\n",
    "\n",
    "# === Load the Histo Primitives ====================================\n",
    "histo_primitives = samples[0].build_file_primitive_index()\n",
    "# samples[0].print_file_primitive_index()\n",
    "\n",
    "\n",
    "# print histo_primitives.data.unique()\n",
    "# === TP selections ================================================\n",
    "tp_select = {}\n",
    "\n",
    "for tp in tps:\n",
    "    tp_select[tp] = histo_primitives[histo_primitives.tp == tp].tp_sel.unique().tolist()\n",
    "\n",
    "# ==== GEN selections ===============================================\n",
    "gen_select ={}\n",
    "for tp in tps:\n",
    "    gen_select[tp] = histo_primitives[histo_primitives.tp == tp].gen_sel.unique().tolist()\n",
    "\n",
    "\n",
    "import pprint\n",
    "pp = pprint.PrettyPrinter(indent=4)\n",
    "print '--- TPs: '\n",
    "pp.pprint(tps)\n",
    "print '--- TP selections:'\n",
    "pp.pprint(tp_select)\n",
    "print '--- GEN selections:'\n",
    "pp.pprint(gen_select)\n"
   ]
  },
  {
   "cell_type": "code",
   "execution_count": 8,
   "metadata": {},
   "outputs": [],
   "source": [
    "import python.collections as collections\n",
    "import python.selections as selections\n",
    "\n",
    "labels_dict = {}\n",
    "\n",
    "evm = collections.EventManager()\n",
    "labels_dict.update(evm.get_labels())\n",
    "selm = selections.SelectionManager()\n",
    "labels_dict.update(selm.get_labels())\n",
    "\n",
    "\n",
    "\n",
    "\n",
    "# #  ==== labels ===============================================\n",
    "# tp_labels = histo_primitives[['data', 'data_label']].drop_duplicates().set_index('data').T.to_dict('records')[0]\n",
    "# tp_selection_labels = histo_primitives[['data_sel', 'data_sel_label']].drop_duplicates().set_index('data_sel').T.to_dict('records')[0]\n",
    "# gen_selection_labels = histo_primitives[['gen_sel', 'gen_sel_label']].drop_duplicates().set_index('gen_sel').T.to_dict('records')[0]\n",
    "\n",
    "\n",
    "\n",
    "\n"
   ]
  },
  {
   "cell_type": "code",
   "execution_count": 9,
   "metadata": {},
   "outputs": [
    {
     "name": "stdout",
     "output_type": "stream",
     "text": [
      "TP: L1Trk\n",
      "['St4Pt5' 'St4Pt10' 'St4' 'Pt5' 'St4Pt2' 'Pt10' 'Pt2' 'all']\n",
      "[None]\n",
      "TP: L1TrkEmu\n",
      "['all' 'Pt5' 'St4Pt5' 'St4Pt2' 'Pt2' 'St4Pt10' 'St4' 'Pt10']\n",
      "[None]\n",
      "TP: EGALL\n",
      "['Pt15' 'Pt20' 'Pt5' 'all' 'Pt10']\n",
      "[None]\n"
     ]
    }
   ],
   "source": [
    "for tp in tps:\n",
    "    print 'TP: {}'.format(tp)\n",
    "    print histo_primitives[histo_primitives.tp == tp].tp_sel.unique()\n",
    "    print histo_primitives[histo_primitives.tp == tp].gen_sel.unique()"
   ]
  },
  {
   "cell_type": "markdown",
   "metadata": {},
   "source": [
    "\n"
   ]
  },
  {
   "cell_type": "code",
   "execution_count": 11,
   "metadata": {},
   "outputs": [
    {
     "name": "stdout",
     "output_type": "stream",
     "text": [
      "--- CorrOccupancyHistos\n",
      "# of plots: 42\n",
      "# of primitives: 21\n",
      "--- CorrOccupancyHistos\n",
      "# of plots: 42\n",
      "# of primitives: 21\n",
      "CPU times: user 270 ms, sys: 16 ms, total: 286 ms\n",
      "Wall time: 376 ms\n"
     ]
    }
   ],
   "source": [
    "%%time\n",
    "\n",
    "import python.l1THistos as histos\n",
    "\n",
    "hplot = HPlot(samples, labels_dict)\n",
    "\n",
    "hplot.create_histo_proxies(histos.CorrOccupancyHistos)\n",
    "\n",
    "    \n",
    "# for tp in tps:\n",
    "#     hplot.cache_histo(classtype=histos.HistoSetEff, \n",
    "#                       samples=samples,\n",
    "#                       pus=[],\n",
    "#                       tps=[tp],\n",
    "#                       tp_sels=histo_primitives[histo_primitives.data == tp].data_sel.unique(),\n",
    "#                       gen_sels=gen_select[tp])\n",
    "\n"
   ]
  },
  {
   "cell_type": "code",
   "execution_count": 12,
   "metadata": {},
   "outputs": [
    {
     "data": {
      "text/plain": [
       "array(['ttbar', 'dyll'], dtype=object)"
      ]
     },
     "execution_count": 12,
     "metadata": {},
     "output_type": "execute_result"
    }
   ],
   "source": [
    "hplot.data['sample'].unique()"
   ]
  },
  {
   "cell_type": "markdown",
   "metadata": {},
   "source": [
    "## TTBAR sample"
   ]
  },
  {
   "cell_type": "code",
   "execution_count": 13,
   "metadata": {},
   "outputs": [],
   "source": [
    "sample='ttbar'"
   ]
  },
  {
   "cell_type": "code",
   "execution_count": 28,
   "metadata": {},
   "outputs": [],
   "source": [
    "import array\n",
    "import numpy as np\n",
    "\n",
    "quantiles = np.array([0.9, 0.95,0.995])\n"
   ]
  },
  {
   "cell_type": "markdown",
   "metadata": {},
   "source": [
    "### EG Clusters"
   ]
  },
  {
   "cell_type": "code",
   "execution_count": 29,
   "metadata": {},
   "outputs": [
    {
     "name": "stdout",
     "output_type": "stream",
     "text": [
      "quantile 90.0% = 3.33130247062\n",
      "quantile 95.0% = 3.84039337971\n",
      "quantile 99.5% = 5.5563099631\n"
     ]
    },
    {
     "data": {
      "text/plain": [
       "<drawingTools.DrawMachine at 0x107b4a090>"
      ]
     },
     "execution_count": 29,
     "metadata": {},
     "output_type": "execute_result"
    },
    {
     "data": {
      "text/html": [
       "\n",
       "<div id=\"root_plot_17\"\n",
       "     style=\"width: 796px; height: 572px\">\n",
       "</div>\n",
       "\n",
       "<script>\n",
       " requirejs.config({\n",
       "     paths: {\n",
       "       'JSRootCore' : 'https://root.cern.ch/js/notebook//scripts/JSRootCore',\n",
       "     }\n",
       "   });\n",
       " require(['JSRootCore'],\n",
       "     function(Core) {\n",
       "       var obj = Core.JSONR_unref({\"_typename\":\"TCanvas\",\"fUniqueID\":0,\"fBits\":53673992,\"fLineColor\":1,\"fLineStyle\":1,\"fLineWidth\":1,\"fFillColor\":0,\"fFillStyle\":1001,\"fLeftMargin\":0.13,\"fRightMargin\":0.3,\"fBottomMargin\":0.13,\"fTopMargin\":0.1,\"fXfile\":2,\"fYfile\":2,\"fAfile\":1,\"fXstat\":0.99,\"fYstat\":0.99,\"fAstat\":2,\"fFrameFillColor\":0,\"fFrameLineColor\":1,\"fFrameFillStyle\":1001,\"fFrameLineStyle\":1,\"fFrameLineWidth\":1,\"fFrameBorderSize\":1,\"fFrameBorderMode\":0,\"fX1\":-2.28070169934936,\"fY1\":-8976.68560738218,\"fX2\":15.2631581699199,\"fY2\":60074.7431310832,\"fXtoAbsPixelk\":103.480046204376,\"fXtoPixelk\":103.480046204376,\"fXtoPixel\":45.3719994306564,\"fYtoAbsPixelk\":497.640051065433,\"fYtoPixelk\":497.640051065433,\"fYtoPixel\":-0.00828368088032573,\"fUtoAbsPixelk\":5e-5,\"fUtoPixelk\":5e-5,\"fUtoPixel\":796,\"fVtoAbsPixelk\":572.00005,\"fVtoPixelk\":572,\"fVtoPixel\":-572,\"fAbsPixeltoXk\":-2.28070169934936,\"fPixeltoXk\":-2.28070169934936,\"fPixeltoX\":0.0220400249613935,\"fAbsPixeltoYk\":60074.7431310832,\"fPixeltoYk\":-8976.68560738218,\"fPixeltoY\":-120.719281011303,\"fXlowNDC\":0,\"fYlowNDC\":0,\"fXUpNDC\":0,\"fYUpNDC\":0,\"fWNDC\":1,\"fHNDC\":1,\"fAbsXlowNDC\":0,\"fAbsYlowNDC\":0,\"fAbsWNDC\":1,\"fAbsHNDC\":1,\"fUxmin\":0,\"fUymin\":0,\"fUxmax\":10,\"fUymax\":53169.6,\"fTheta\":30,\"fPhi\":30,\"fAspectRatio\":0,\"fNumber\":0,\"fTickx\":0,\"fTicky\":0,\"fLogx\":0,\"fLogy\":0,\"fLogz\":0,\"fPadPaint\":0,\"fCrosshair\":0,\"fCrosshairPos\":0,\"fBorderSize\":2,\"fBorderMode\":0,\"fModified\":true,\"fGridx\":true,\"fGridy\":true,\"fAbsCoord\":false,\"fEditable\":true,\"fFixedAspectRatio\":false,\"fPrimitives\":{\"_typename\":\"TList\",\"name\":\"TList\",\"arr\":[{\"_typename\":\"TFrame\",\"fUniqueID\":0,\"fBits\":50331656,\"fLineColor\":1,\"fLineStyle\":1,\"fLineWidth\":1,\"fFillColor\":0,\"fFillStyle\":1001,\"fX1\":0,\"fY1\":0,\"fX2\":10,\"fY2\":53169.6,\"fBorderSize\":1,\"fBorderMode\":0},{\"_typename\":\"TH1F\",\"fUniqueID\":0,\"fBits\":50332168,\"fName\":\"a276d5\",\"fTitle\":\"\",\"fLineColor\":1,\"fLineStyle\":1,\"fLineWidth\":1,\"fFillColor\":0,\"fFillStyle\":1001,\"fMarkerColor\":1,\"fMarkerStyle\":1,\"fMarkerSize\":1,\"fNcells\":102,\"fXaxis\":{\"_typename\":\"TAxis\",\"fUniqueID\":0,\"fBits\":50333704,\"fName\":\"xaxis\",\"fTitle\":\"\",\"fNdivisions\":510,\"fAxisColor\":1,\"fLabelColor\":1,\"fLabelFont\":42,\"fLabelOffset\":0.005,\"fLabelSize\":0.035,\"fTickLength\":0.03,\"fTitleOffset\":1.4,\"fTitleSize\":0.035,\"fTitleColor\":1,\"fTitleFont\":42,\"fNbins\":100,\"fXmin\":0,\"fXmax\":100,\"fXbins\":[],\"fFirst\":1,\"fLast\":10,\"fBits2\":0,\"fTimeDisplay\":false,\"fTimeFormat\":\"\",\"fLabels\":null,\"fModLabs\":null},\"fYaxis\":{\"_typename\":\"TAxis\",\"fUniqueID\":0,\"fBits\":50331656,\"fName\":\"yaxis\",\"fTitle\":\"\",\"fNdivisions\":510,\"fAxisColor\":1,\"fLabelColor\":1,\"fLabelFont\":42,\"fLabelOffset\":0.005,\"fLabelSize\":0.035,\"fTickLength\":0.03,\"fTitleOffset\":0,\"fTitleSize\":0.035,\"fTitleColor\":1,\"fTitleFont\":42,\"fNbins\":1,\"fXmin\":0,\"fXmax\":1,\"fXbins\":[],\"fFirst\":0,\"fLast\":0,\"fBits2\":0,\"fTimeDisplay\":false,\"fTimeFormat\":\"\",\"fLabels\":null,\"fModLabs\":null},\"fZaxis\":{\"_typename\":\"TAxis\",\"fUniqueID\":0,\"fBits\":50331648,\"fName\":\"zaxis\",\"fTitle\":\"\",\"fNdivisions\":510,\"fAxisColor\":1,\"fLabelColor\":1,\"fLabelFont\":42,\"fLabelOffset\":0.005,\"fLabelSize\":0.035,\"fTickLength\":0.03,\"fTitleOffset\":1,\"fTitleSize\":0.035,\"fTitleColor\":1,\"fTitleFont\":42,\"fNbins\":1,\"fXmin\":0,\"fXmax\":1,\"fXbins\":[],\"fFirst\":0,\"fLast\":0,\"fBits2\":0,\"fTimeDisplay\":false,\"fTimeFormat\":\"\",\"fLabels\":null,\"fModLabs\":null},\"fBarOffset\":0,\"fBarWidth\":1000,\"fEntries\":84896,\"fTsumw\":84896,\"fTsumw2\":84896,\"fTsumwx\":134457,\"fTsumwx2\":280411,\"fMaximum\":53169.6,\"fMinimum\":0,\"fNormFactor\":0,\"fContour\":[],\"fSumw2\":[0,3083,44308,26253,8338,2188,542,139,32,9,3,1,0,0,0,0,0,0,0,0,0,0,0,0,0,0,0,0,0,0,0,0,0,0,0,0,0,0,0,0,0,0,0,0,0,0,0,0,0,0,0,0,0,0,0,0,0,0,0,0,0,0,0,0,0,0,0,0,0,0,0,0,0,0,0,0,0,0,0,0,0,0,0,0,0,0,0,0,0,0,0,0,0,0,0,0,0,0,0,0,0,0],\"fOption\":\"\",\"fFunctions\":{\"_typename\":\"TList\",\"name\":\"TList\",\"arr\":[],\"opt\":[]},\"fBufferSize\":0,\"fBuffer\":[],\"fBinStatErrOpt\":0,\"fStatOverflows\":2,\"fArray\":[0,3083,44308,26253,8338,2188,542,139,32,9,3,1,0,0,0,0,0,0,0,0,0,0,0,0,0,0,0,0,0,0,0,0,0,0,0,0,0,0,0,0,0,0,0,0,0,0,0,0,0,0,0,0,0,0,0,0,0,0,0,0,0,0,0,0,0,0,0,0,0,0,0,0,0,0,0,0,0,0,0,0,0,0,0,0,0,0,0,0,0,0,0,0,0,0,0,0,0,0,0,0,0,0]},{\"_typename\":\"TLatex\",\"fUniqueID\":0,\"fBits\":50348040,\"fName\":\"\",\"fTitle\":\"ttbar, PU200, EG all, p_{T}^{tk} > 10 GeV\",\"fTextAngle\":0,\"fTextSize\":0.03,\"fTextAlign\":11,\"fTextColor\":1,\"fTextFont\":62,\"fX\":0.15,\"fY\":0.85,\"fLineColor\":1,\"fLineStyle\":1,\"fLineWidth\":2,\"fLimitFactorSize\":3,\"fOriginSize\":0.04},{\"_typename\":\"TLatex\",\"fUniqueID\":0,\"fBits\":50331656,\"fName\":\"\",\"fTitle\":\"\",\"fTextAngle\":0,\"fTextSize\":0.03,\"fTextAlign\":11,\"fTextColor\":1,\"fTextFont\":62,\"fX\":0,\"fY\":0,\"fLineColor\":1,\"fLineStyle\":1,\"fLineWidth\":2,\"fLimitFactorSize\":3,\"fOriginSize\":0.04},{\"_typename\":\"TLine\",\"fUniqueID\":0,\"fBits\":50331656,\"fLineColor\":1,\"fLineStyle\":2,\"fLineWidth\":1,\"fX1\":3.33130247061645,\"fY1\":0,\"fX2\":3.33130247061645,\"fY2\":53169.6},{\"_typename\":\"TLine\",\"fUniqueID\":0,\"fBits\":50331656,\"fLineColor\":1,\"fLineStyle\":2,\"fLineWidth\":1,\"fX1\":3.84039337970736,\"fY1\":0,\"fX2\":3.84039337970736,\"fY2\":53169.6},{\"_typename\":\"TLine\",\"fUniqueID\":0,\"fBits\":50331656,\"fLineColor\":1,\"fLineStyle\":2,\"fLineWidth\":1,\"fX1\":5.55630996309963,\"fY1\":0,\"fX2\":5.55630996309963,\"fY2\":53169.6}],\"opt\":[\"\",\"hist\",\"same\",\"same\",\"same\",\"same\",\"same\"]},\"fExecs\":null,\"fName\":\"c_0d392a\",\"fTitle\":\"c_0d392a\",\"fNumPaletteColor\":0,\"fNextPaletteColor\":0,\"fDISPLAY\":\"$DISPLAY\",\"fDoubleBuffer\":0,\"fRetained\":true,\"fXsizeUser\":0,\"fYsizeUser\":0,\"fXsizeReal\":20,\"fYsizeReal\":15,\"fWindowTopX\":0,\"fWindowTopY\":0,\"fWindowWidth\":0,\"fWindowHeight\":0,\"fCw\":796,\"fCh\":572,\"fCatt\":{\"_typename\":\"TAttCanvas\",\"fXBetween\":2,\"fYBetween\":2,\"fTitleFromTop\":1.2,\"fXdate\":0.2,\"fYdate\":0.3,\"fAdate\":1},\"kMoveOpaque\":true,\"kResizeOpaque\":true,\"fHighLightColor\":2,\"fBatch\":true,\"kShowEventStatus\":false,\"kAutoExec\":true,\"kMenuBar\":true});\n",
       "       Core.draw(\"root_plot_17\", obj, \"\");\n",
       "     }\n",
       " );\n",
       "</script>\n"
      ],
      "text/plain": [
       "<IPython.core.display.HTML object>"
      ]
     },
     "metadata": {},
     "output_type": "display_data"
    },
    {
     "data": {
      "text/html": [
       "\n",
       "<div id=\"root_plot_18\"\n",
       "     style=\"width: 796px; height: 572px\">\n",
       "</div>\n",
       "\n",
       "<script>\n",
       " requirejs.config({\n",
       "     paths: {\n",
       "       'JSRootCore' : 'https://root.cern.ch/js/notebook//scripts/JSRootCore',\n",
       "     }\n",
       "   });\n",
       " require(['JSRootCore'],\n",
       "     function(Core) {\n",
       "       var obj = Core.JSONR_unref({\"_typename\":\"TCanvas\",\"fUniqueID\":0,\"fBits\":53673992,\"fLineColor\":1,\"fLineStyle\":1,\"fLineWidth\":1,\"fFillColor\":0,\"fFillStyle\":1001,\"fLeftMargin\":0.13,\"fRightMargin\":0.3,\"fBottomMargin\":0.13,\"fTopMargin\":0.1,\"fXfile\":2,\"fYfile\":2,\"fAfile\":1,\"fXstat\":0.99,\"fYstat\":0.99,\"fAstat\":2,\"fFrameFillColor\":0,\"fFrameLineColor\":1,\"fFrameFillStyle\":1001,\"fFrameLineStyle\":1,\"fFrameLineWidth\":1,\"fFrameBorderSize\":1,\"fFrameBorderMode\":0,\"fX1\":-7.28070169934936,\"fY1\":-0.584798629679065,\"fX2\":10.2631581699199,\"fY2\":1.22853046768854,\"fXtoAbsPixelk\":330.340043357658,\"fXtoPixelk\":330.340043357658,\"fXtoPixel\":45.3719994306564,\"fYtoAbsPixelk\":387.530051331791,\"fYtoPixelk\":387.530051331791,\"fYtoPixel\":-315.441913346215,\"fUtoAbsPixelk\":5e-5,\"fUtoPixelk\":5e-5,\"fUtoPixel\":796,\"fVtoAbsPixelk\":572.00005,\"fVtoPixelk\":572,\"fVtoPixel\":-572,\"fAbsPixeltoXk\":-7.28070169934936,\"fPixeltoXk\":-7.28070169934936,\"fPixeltoX\":0.0220400249613935,\"fAbsPixeltoYk\":1.22853046768854,\"fPixeltoYk\":-0.584798629679065,\"fPixeltoY\":-0.00317015576462867,\"fXlowNDC\":0,\"fYlowNDC\":0,\"fXUpNDC\":0,\"fYUpNDC\":0,\"fWNDC\":1,\"fHNDC\":1,\"fAbsXlowNDC\":0,\"fAbsYlowNDC\":0,\"fAbsWNDC\":1,\"fAbsHNDC\":1,\"fUxmin\":-5,\"fUymin\":-0.349065850398866,\"fUxmax\":5,\"fUymax\":1.0471975511966,\"fTheta\":30,\"fPhi\":30,\"fAspectRatio\":0,\"fNumber\":0,\"fTickx\":0,\"fTicky\":0,\"fLogx\":0,\"fLogy\":0,\"fLogz\":0,\"fPadPaint\":0,\"fCrosshair\":0,\"fCrosshairPos\":0,\"fBorderSize\":2,\"fBorderMode\":0,\"fModified\":false,\"fGridx\":true,\"fGridy\":true,\"fAbsCoord\":false,\"fEditable\":true,\"fFixedAspectRatio\":false,\"fPrimitives\":{\"_typename\":\"TList\",\"name\":\"TList\",\"arr\":[{\"_typename\":\"TFrame\",\"fUniqueID\":0,\"fBits\":50331656,\"fLineColor\":1,\"fLineStyle\":1,\"fLineWidth\":1,\"fFillColor\":0,\"fFillStyle\":1001,\"fX1\":-5,\"fY1\":-0.349065850398866,\"fX2\":5,\"fY2\":1.0471975511966,\"fBorderSize\":1,\"fBorderMode\":0},{\"_typename\":\"TProfile2D\",\"fUniqueID\":0,\"fBits\":50332168,\"fName\":\"55fbde\",\"fTitle\":\"\",\"fLineColor\":1,\"fLineStyle\":1,\"fLineWidth\":1,\"fFillColor\":0,\"fFillStyle\":1001,\"fMarkerColor\":1,\"fMarkerStyle\":1,\"fMarkerSize\":1,\"fNcells\":143,\"fXaxis\":{\"_typename\":\"TAxis\",\"fUniqueID\":0,\"fBits\":50331656,\"fName\":\"xaxis\",\"fTitle\":\" #eta, #phi\",\"fNdivisions\":510,\"fAxisColor\":1,\"fLabelColor\":1,\"fLabelFont\":42,\"fLabelOffset\":0.005,\"fLabelSize\":0.035,\"fTickLength\":0.03,\"fTitleOffset\":1.4,\"fTitleSize\":0.035,\"fTitleColor\":1,\"fTitleFont\":42,\"fNbins\":11,\"fXmin\":-5,\"fXmax\":5,\"fXbins\":[-5,-4,-3,-2.5,-1.5,-0.5,0.5,1.5,2.5,3,4,5],\"fFirst\":0,\"fLast\":0,\"fBits2\":0,\"fTimeDisplay\":false,\"fTimeFormat\":\"\",\"fLabels\":null,\"fModLabs\":null},\"fYaxis\":{\"_typename\":\"TAxis\",\"fUniqueID\":0,\"fBits\":50333704,\"fName\":\"yaxis\",\"fTitle\":\"\",\"fNdivisions\":510,\"fAxisColor\":1,\"fLabelColor\":1,\"fLabelFont\":42,\"fLabelOffset\":0.005,\"fLabelSize\":0.035,\"fTickLength\":0.03,\"fTitleOffset\":0,\"fTitleSize\":0.035,\"fTitleColor\":1,\"fTitleFont\":42,\"fNbins\":9,\"fXmin\":-3.14159265358979,\"fXmax\":3.14159265358979,\"fXbins\":[-3.14159265358979,-2.44346095279206,-1.74532925199433,-1.0471975511966,-0.349065850398866,0.349065850398866,1.0471975511966,1.74532925199433,2.44346095279206,3.14159265358979],\"fFirst\":5,\"fLast\":6,\"fBits2\":0,\"fTimeDisplay\":false,\"fTimeFormat\":\"\",\"fLabels\":null,\"fModLabs\":null},\"fZaxis\":{\"_typename\":\"TAxis\",\"fUniqueID\":0,\"fBits\":50331648,\"fName\":\"zaxis\",\"fTitle\":\"\",\"fNdivisions\":510,\"fAxisColor\":1,\"fLabelColor\":1,\"fLabelFont\":42,\"fLabelOffset\":0.005,\"fLabelSize\":0.035,\"fTickLength\":0.03,\"fTitleOffset\":1,\"fTitleSize\":0.035,\"fTitleColor\":1,\"fTitleFont\":42,\"fNbins\":1,\"fXmin\":0,\"fXmax\":1,\"fXbins\":[],\"fFirst\":0,\"fLast\":0,\"fBits2\":0,\"fTimeDisplay\":false,\"fTimeFormat\":\"\",\"fLabels\":null,\"fModLabs\":null},\"fBarOffset\":0,\"fBarWidth\":1000,\"fEntries\":8404704,\"fTsumw\":8404704,\"fTsumw2\":8404704,\"fTsumwx\":0,\"fTsumwx2\":68861268,\"fMaximum\":-1111,\"fMinimum\":-1111,\"fNormFactor\":0,\"fContour\":[0,0.0160142998492273,0.0320285996984546,0.0480428995476819,0.0640571993969092,0.0800714992461364,0.0960857990953637,0.112100098944591,0.128114398793818,0.144128698643046,0.160142998492273,0.1761572983415,0.192171598190727,0.208185898039955,0.224200197889182,0.240214497738409,0.256228797587637,0.272243097436864,0.288257397286091,0.304271697135318],\"fSumw2\":[0,0,0,0,0,0,0,0,0,0,0,0,0,0,0,0,0,0,0,0,0,0,0,0,0,0,0,0,135,641,5770,31536,45762,30892,5745,706,147,0,0,0,0,140,610,5616,31284,45988,31101,5743,659,146,0,0,0,0,157,618,5516,31780,45393,31168,5604,597,105,0,0,0,0,166,688,5718,31975,46053,31130,5544,661,152,0,0,0,0,146,659,5454,31471,44925,30949,5558,671,159,0,0,0,0,132,593,5466,31484,44563,31198,5760,650,149,0,0,0,0,142,599,5440,31485,45161,31277,5648,725,175,0,0,0,0,0,0,0,0,0,0,0,0,0,0,0,0,0,0,0,0,0,0,0,0,0,0,0,0],\"fOption\":\"\",\"fFunctions\":{\"_typename\":\"TList\",\"name\":\"TList\",\"arr\":[{\"_typename\":\"TPaletteAxis\",\"fUniqueID\":0,\"fBits\":50331648,\"fLineColor\":1,\"fLineStyle\":1,\"fLineWidth\":1,\"fFillColor\":1178,\"fFillStyle\":1001,\"fX1\":5.08771929934635,\"fY1\":-0.349065850398866,\"fX2\":5.87719299346346,\"fY2\":1.0471975511966,\"fX1NDC\":0.704999988079071,\"fY1NDC\":0.129999998137355,\"fX2NDC\":0.749999988079071,\"fY2NDC\":0.89999999627471,\"fBorderSize\":4,\"fInit\":1,\"fShadowColor\":1,\"fCornerRadius\":0,\"fOption\":\"br\",\"fName\":\"TPave\",\"fAxis\":{\"_typename\":\"TGaxis\",\"fUniqueID\":0,\"fBits\":50331648,\"fLineColor\":1,\"fLineStyle\":1,\"fLineWidth\":1,\"fX1\":0,\"fY1\":0,\"fX2\":0,\"fY2\":0,\"fTextAngle\":0,\"fTextSize\":0.04,\"fTextAlign\":11,\"fTextColor\":1,\"fTextFont\":42,\"fWmin\":0,\"fWmax\":0,\"fGridLength\":0,\"fTickSize\":0.03,\"fLabelOffset\":0.005,\"fLabelSize\":0.035,\"fTitleOffset\":1,\"fTitleSize\":0.035,\"fNdiv\":0,\"fLabelColor\":1,\"fLabelFont\":42,\"fNModLabs\":0,\"fChopt\":\"\",\"fName\":\"\",\"fTitle\":\"\",\"fTimeFormat\":\"\",\"fFunctionName\":\"\",\"fModLabs\":null},\"fName\":\"palette\"}],\"opt\":[\"br\"]},\"fBufferSize\":0,\"fBuffer\":[],\"fBinStatErrOpt\":0,\"fStatOverflows\":2,\"fScalefactor\":1,\"fTsumwy\":0,\"fTsumwy2\":27309005.296546,\"fTsumwxy\":1.63069557856943e-12,\"fArray\":[0,0,0,0,0,0,0,0,0,0,0,0,0,0,0,0,0,0,0,0,0,0,0,0,0,0,0,0,131,613,4568,19578,27040,19236,4527,668,137,0,0,0,0,134,588,4526,19550,27148,19297,4487,629,138,0,0,0,0,141,586,4410,19554,27031,19404,4444,585,105,0,0,0,0,150,650,4510,19753,27191,19438,4452,637,146,0,0,0,0,134,631,4378,19335,26741,19317,4502,645,153,0,0,0,0,126,567,4370,19424,26639,19270,4562,616,135,0,0,0,0,134,575,4318,19455,26775,19287,4544,689,159,0,0,0,0,0,0,0,0,0,0,0,0,0,0,0,0,0,0,0,0,0,0,0,0,0,0,0,0],\"fBinEntries\":[0,0,0,0,0,0,0,0,0,0,0,0,0,0,84896,84896,84896,84896,84896,84896,84896,84896,84896,84896,84896,0,0,84896,84896,84896,84896,84896,84896,84896,84896,84896,84896,84896,0,0,84896,84896,84896,84896,84896,84896,84896,84896,84896,84896,84896,0,0,84896,84896,84896,84896,84896,84896,84896,84896,84896,84896,84896,0,0,84896,84896,84896,84896,84896,84896,84896,84896,84896,84896,84896,0,0,84896,84896,84896,84896,84896,84896,84896,84896,84896,84896,84896,0,0,84896,84896,84896,84896,84896,84896,84896,84896,84896,84896,84896,0,0,84896,84896,84896,84896,84896,84896,84896,84896,84896,84896,84896,0,0,84896,84896,84896,84896,84896,84896,84896,84896,84896,84896,84896,0,0,0,0,0,0,0,0,0,0,0,0,0,0],\"fErrorMode\":0,\"fZmin\":0,\"fZmax\":0,\"fTsumwz\":533663,\"fTsumwz2\":846285,\"fBinSumw2\":[0,0,0,0,0,0,0,0,0,0,0,0,0,0,84896,84896,84896,84896,84896,84896,84896,84896,84896,84896,84896,0,0,84896,84896,84896,84896,84896,84896,84896,84896,84896,84896,84896,0,0,84896,84896,84896,84896,84896,84896,84896,84896,84896,84896,84896,0,0,84896,84896,84896,84896,84896,84896,84896,84896,84896,84896,84896,0,0,84896,84896,84896,84896,84896,84896,84896,84896,84896,84896,84896,0,0,84896,84896,84896,84896,84896,84896,84896,84896,84896,84896,84896,0,0,84896,84896,84896,84896,84896,84896,84896,84896,84896,84896,84896,0,0,84896,84896,84896,84896,84896,84896,84896,84896,84896,84896,84896,0,0,84896,84896,84896,84896,84896,84896,84896,84896,84896,84896,84896,0,0,0,0,0,0,0,0,0,0,0,0,0,0]},{\"_typename\":\"TLatex\",\"fUniqueID\":0,\"fBits\":50348040,\"fName\":\"\",\"fTitle\":\"ttbar, PU200, EG all, p_{T}^{tk} > 10 GeV\",\"fTextAngle\":0,\"fTextSize\":0.03,\"fTextAlign\":11,\"fTextColor\":1,\"fTextFont\":62,\"fX\":0.15,\"fY\":0.85,\"fLineColor\":1,\"fLineStyle\":1,\"fLineWidth\":2,\"fLimitFactorSize\":3,\"fOriginSize\":0.04},{\"_typename\":\"TLatex\",\"fUniqueID\":0,\"fBits\":50331656,\"fName\":\"\",\"fTitle\":\"\",\"fTextAngle\":0,\"fTextSize\":0.03,\"fTextAlign\":11,\"fTextColor\":1,\"fTextFont\":62,\"fX\":0,\"fY\":0,\"fLineColor\":1,\"fLineStyle\":1,\"fLineWidth\":2,\"fLimitFactorSize\":3,\"fOriginSize\":0.04}],\"opt\":[\"\",\"COLZ\",\"same\",\"same\"]},\"fExecs\":null,\"fName\":\"c_c7a4a4\",\"fTitle\":\"c_c7a4a4\",\"fNumPaletteColor\":0,\"fNextPaletteColor\":0,\"fDISPLAY\":\"$DISPLAY\",\"fDoubleBuffer\":0,\"fRetained\":true,\"fXsizeUser\":0,\"fYsizeUser\":0,\"fXsizeReal\":20,\"fYsizeReal\":15,\"fWindowTopX\":0,\"fWindowTopY\":0,\"fWindowWidth\":0,\"fWindowHeight\":0,\"fCw\":796,\"fCh\":572,\"fCatt\":{\"_typename\":\"TAttCanvas\",\"fXBetween\":2,\"fYBetween\":2,\"fTitleFromTop\":1.2,\"fXdate\":0.2,\"fYdate\":0.3,\"fAdate\":1},\"kMoveOpaque\":true,\"kResizeOpaque\":true,\"fHighLightColor\":2,\"fBatch\":true,\"kShowEventStatus\":false,\"kAutoExec\":true,\"kMenuBar\":true});\n",
       "       Core.draw(\"root_plot_18\", obj, \"\");\n",
       "     }\n",
       " );\n",
       "</script>\n"
      ],
      "text/plain": [
       "<IPython.core.display.HTML object>"
      ]
     },
     "metadata": {},
     "output_type": "display_data"
    }
   ],
   "source": [
    "# 'HMvDRCalib','HMvDRshapeDrCalib',\n",
    "hsets, labels, text = hplot.get_histo(histos.CorrOccupancyHistos, sample, 'PU200', ['EGALL'], ['Pt10'], None, debug=False)\n",
    "text = '{}, {}'.format(sample, text)\n",
    "\n",
    "res=np.zeros(quantiles.shape)\n",
    "\n",
    "n = hsets[0].h_eventMaxOcc.GetQuantiles(quantiles.shape[0], res, quantiles)\n",
    "for id,quantile in enumerate(quantiles):\n",
    "    print 'quantile {}% = {}'.format(quantile*100, res[id])\n",
    "\n",
    "\n",
    "draw([his.h_eventMaxOcc for his in hsets], labels, text=text, min_x=0., max_x=10, logy=False, options='hist', v_lines=res.tolist())\n",
    "draw([his.h_averageOccupancy for his in hsets], labels, text=text, logy=False, options='COLZ')\n",
    "\n"
   ]
  },
  {
   "cell_type": "code",
   "execution_count": 30,
   "metadata": {},
   "outputs": [
    {
     "name": "stdout",
     "output_type": "stream",
     "text": [
      "quantile 90.0% = 4.94822660889\n",
      "quantile 95.0% = 5.75545105566\n",
      "quantile 99.5% = 8.06003355705\n"
     ]
    },
    {
     "data": {
      "text/plain": [
       "<drawingTools.DrawMachine at 0x11e321990>"
      ]
     },
     "execution_count": 30,
     "metadata": {},
     "output_type": "execute_result"
    },
    {
     "data": {
      "text/html": [
       "\n",
       "<div id=\"root_plot_19\"\n",
       "     style=\"width: 796px; height: 572px\">\n",
       "</div>\n",
       "\n",
       "<script>\n",
       " requirejs.config({\n",
       "     paths: {\n",
       "       'JSRootCore' : 'https://root.cern.ch/js/notebook//scripts/JSRootCore',\n",
       "     }\n",
       "   });\n",
       " require(['JSRootCore'],\n",
       "     function(Core) {\n",
       "       var obj = Core.JSONR_unref({\"_typename\":\"TCanvas\",\"fUniqueID\":0,\"fBits\":53673992,\"fLineColor\":1,\"fLineStyle\":1,\"fLineWidth\":1,\"fFillColor\":0,\"fFillStyle\":1001,\"fLeftMargin\":0.13,\"fRightMargin\":0.3,\"fBottomMargin\":0.13,\"fTopMargin\":0.1,\"fXfile\":2,\"fYfile\":2,\"fAfile\":1,\"fXstat\":0.99,\"fYstat\":0.99,\"fAstat\":2,\"fFrameFillColor\":0,\"fFrameLineColor\":1,\"fFrameFillStyle\":1001,\"fFrameLineStyle\":1,\"fFrameLineWidth\":1,\"fFrameBorderSize\":1,\"fFrameBorderMode\":0,\"fX1\":-2.28070169934936,\"fY1\":-6335.82849597506,\"fX2\":15.2631581699199,\"fY2\":42401.3144790639,\"fXtoAbsPixelk\":103.480046204376,\"fXtoPixelk\":103.480046204376,\"fXtoPixel\":45.3719994306564,\"fYtoAbsPixelk\":497.640051065433,\"fYtoPixelk\":497.640051065433,\"fYtoPixel\":-0.0117364286267858,\"fUtoAbsPixelk\":5e-5,\"fUtoPixelk\":5e-5,\"fUtoPixel\":796,\"fVtoAbsPixelk\":572.00005,\"fVtoPixelk\":572,\"fVtoPixel\":-572,\"fAbsPixeltoXk\":-2.28070169934936,\"fPixeltoXk\":-2.28070169934936,\"fPixeltoX\":0.0220400249613935,\"fAbsPixeltoYk\":42401.3144790639,\"fPixeltoYk\":-6335.82849597506,\"fPixeltoY\":-85.2047954109073,\"fXlowNDC\":0,\"fYlowNDC\":0,\"fXUpNDC\":0,\"fYUpNDC\":0,\"fWNDC\":1,\"fHNDC\":1,\"fAbsXlowNDC\":0,\"fAbsYlowNDC\":0,\"fAbsWNDC\":1,\"fAbsHNDC\":1,\"fUxmin\":0,\"fUymin\":0,\"fUxmax\":10,\"fUymax\":37527.6,\"fTheta\":30,\"fPhi\":30,\"fAspectRatio\":0,\"fNumber\":0,\"fTickx\":0,\"fTicky\":0,\"fLogx\":0,\"fLogy\":0,\"fLogz\":0,\"fPadPaint\":0,\"fCrosshair\":0,\"fCrosshairPos\":0,\"fBorderSize\":2,\"fBorderMode\":0,\"fModified\":true,\"fGridx\":true,\"fGridy\":true,\"fAbsCoord\":false,\"fEditable\":true,\"fFixedAspectRatio\":false,\"fPrimitives\":{\"_typename\":\"TList\",\"name\":\"TList\",\"arr\":[{\"_typename\":\"TFrame\",\"fUniqueID\":0,\"fBits\":50331656,\"fLineColor\":1,\"fLineStyle\":1,\"fLineWidth\":1,\"fFillColor\":0,\"fFillStyle\":1001,\"fX1\":0,\"fY1\":0,\"fX2\":10,\"fY2\":37527.6,\"fBorderSize\":1,\"fBorderMode\":0},{\"_typename\":\"TH1F\",\"fUniqueID\":0,\"fBits\":50332168,\"fName\":\"f541d1\",\"fTitle\":\"\",\"fLineColor\":1,\"fLineStyle\":1,\"fLineWidth\":1,\"fFillColor\":0,\"fFillStyle\":1001,\"fMarkerColor\":1,\"fMarkerStyle\":1,\"fMarkerSize\":1,\"fNcells\":102,\"fXaxis\":{\"_typename\":\"TAxis\",\"fUniqueID\":0,\"fBits\":50333704,\"fName\":\"xaxis\",\"fTitle\":\"\",\"fNdivisions\":510,\"fAxisColor\":1,\"fLabelColor\":1,\"fLabelFont\":42,\"fLabelOffset\":0.005,\"fLabelSize\":0.035,\"fTickLength\":0.03,\"fTitleOffset\":1.4,\"fTitleSize\":0.035,\"fTitleColor\":1,\"fTitleFont\":42,\"fNbins\":100,\"fXmin\":0,\"fXmax\":100,\"fXbins\":[],\"fFirst\":1,\"fLast\":10,\"fBits2\":0,\"fTimeDisplay\":false,\"fTimeFormat\":\"\",\"fLabels\":null,\"fModLabs\":null},\"fYaxis\":{\"_typename\":\"TAxis\",\"fUniqueID\":0,\"fBits\":50331656,\"fName\":\"yaxis\",\"fTitle\":\"\",\"fNdivisions\":510,\"fAxisColor\":1,\"fLabelColor\":1,\"fLabelFont\":42,\"fLabelOffset\":0.005,\"fLabelSize\":0.035,\"fTickLength\":0.03,\"fTitleOffset\":0,\"fTitleSize\":0.035,\"fTitleColor\":1,\"fTitleFont\":42,\"fNbins\":1,\"fXmin\":0,\"fXmax\":1,\"fXbins\":[],\"fFirst\":0,\"fLast\":0,\"fBits2\":0,\"fTimeDisplay\":false,\"fTimeFormat\":\"\",\"fLabels\":null,\"fModLabs\":null},\"fZaxis\":{\"_typename\":\"TAxis\",\"fUniqueID\":0,\"fBits\":50331648,\"fName\":\"zaxis\",\"fTitle\":\"\",\"fNdivisions\":510,\"fAxisColor\":1,\"fLabelColor\":1,\"fLabelFont\":42,\"fLabelOffset\":0.005,\"fLabelSize\":0.035,\"fTickLength\":0.03,\"fTitleOffset\":1,\"fTitleSize\":0.035,\"fTitleColor\":1,\"fTitleFont\":42,\"fNbins\":1,\"fXmin\":0,\"fXmax\":1,\"fXbins\":[],\"fFirst\":0,\"fLast\":0,\"fBits2\":0,\"fTimeDisplay\":false,\"fTimeFormat\":\"\",\"fLabels\":null,\"fModLabs\":null},\"fBarOffset\":0,\"fBarWidth\":1000,\"fEntries\":91622,\"fTsumw\":91622,\"fTsumw2\":91622,\"fTsumwx\":248173,\"fTsumwx2\":836631,\"fMaximum\":37527.6,\"fMinimum\":0,\"fNormFactor\":0,\"fContour\":[],\"fSumw2\":[0,199,14843,31273,24328,12462,5210,1991,840,298,114,44,15,4,1,0,0,0,0,0,0,0,0,0,0,0,0,0,0,0,0,0,0,0,0,0,0,0,0,0,0,0,0,0,0,0,0,0,0,0,0,0,0,0,0,0,0,0,0,0,0,0,0,0,0,0,0,0,0,0,0,0,0,0,0,0,0,0,0,0,0,0,0,0,0,0,0,0,0,0,0,0,0,0,0,0,0,0,0,0,0,0],\"fOption\":\"\",\"fFunctions\":{\"_typename\":\"TList\",\"name\":\"TList\",\"arr\":[],\"opt\":[]},\"fBufferSize\":0,\"fBuffer\":[],\"fBinStatErrOpt\":0,\"fStatOverflows\":2,\"fArray\":[0,199,14843,31273,24328,12462,5210,1991,840,298,114,44,15,4,1,0,0,0,0,0,0,0,0,0,0,0,0,0,0,0,0,0,0,0,0,0,0,0,0,0,0,0,0,0,0,0,0,0,0,0,0,0,0,0,0,0,0,0,0,0,0,0,0,0,0,0,0,0,0,0,0,0,0,0,0,0,0,0,0,0,0,0,0,0,0,0,0,0,0,0,0,0,0,0,0,0,0,0,0,0,0,0]},{\"_typename\":\"TLatex\",\"fUniqueID\":0,\"fBits\":50348040,\"fName\":\"\",\"fTitle\":\"ttbar, PU200, EG all, p_{T}^{tk} > 5 GeV\",\"fTextAngle\":0,\"fTextSize\":0.03,\"fTextAlign\":11,\"fTextColor\":1,\"fTextFont\":62,\"fX\":0.15,\"fY\":0.85,\"fLineColor\":1,\"fLineStyle\":1,\"fLineWidth\":2,\"fLimitFactorSize\":3,\"fOriginSize\":0.04},{\"_typename\":\"TLatex\",\"fUniqueID\":0,\"fBits\":50331656,\"fName\":\"\",\"fTitle\":\"\",\"fTextAngle\":0,\"fTextSize\":0.03,\"fTextAlign\":11,\"fTextColor\":1,\"fTextFont\":62,\"fX\":0,\"fY\":0,\"fLineColor\":1,\"fLineStyle\":1,\"fLineWidth\":2,\"fLimitFactorSize\":3,\"fOriginSize\":0.04},{\"_typename\":\"TLine\",\"fUniqueID\":0,\"fBits\":50331656,\"fLineColor\":1,\"fLineStyle\":2,\"fLineWidth\":1,\"fX1\":4.94822660889103,\"fY1\":0,\"fX2\":4.94822660889103,\"fY2\":37527.6},{\"_typename\":\"TLine\",\"fUniqueID\":0,\"fBits\":50331656,\"fLineColor\":1,\"fLineStyle\":2,\"fLineWidth\":1,\"fX1\":5.75545105566219,\"fY1\":0,\"fX2\":5.75545105566219,\"fY2\":37527.6},{\"_typename\":\"TLine\",\"fUniqueID\":0,\"fBits\":50331656,\"fLineColor\":1,\"fLineStyle\":2,\"fLineWidth\":1,\"fX1\":8.06003355704698,\"fY1\":0,\"fX2\":8.06003355704698,\"fY2\":37527.6}],\"opt\":[\"\",\"hist\",\"same\",\"same\",\"same\",\"same\",\"same\"]},\"fExecs\":null,\"fName\":\"c_ef75b5\",\"fTitle\":\"c_ef75b5\",\"fNumPaletteColor\":0,\"fNextPaletteColor\":0,\"fDISPLAY\":\"$DISPLAY\",\"fDoubleBuffer\":0,\"fRetained\":true,\"fXsizeUser\":0,\"fYsizeUser\":0,\"fXsizeReal\":20,\"fYsizeReal\":15,\"fWindowTopX\":0,\"fWindowTopY\":0,\"fWindowWidth\":0,\"fWindowHeight\":0,\"fCw\":796,\"fCh\":572,\"fCatt\":{\"_typename\":\"TAttCanvas\",\"fXBetween\":2,\"fYBetween\":2,\"fTitleFromTop\":1.2,\"fXdate\":0.2,\"fYdate\":0.3,\"fAdate\":1},\"kMoveOpaque\":true,\"kResizeOpaque\":true,\"fHighLightColor\":2,\"fBatch\":true,\"kShowEventStatus\":false,\"kAutoExec\":true,\"kMenuBar\":true});\n",
       "       Core.draw(\"root_plot_19\", obj, \"\");\n",
       "     }\n",
       " );\n",
       "</script>\n"
      ],
      "text/plain": [
       "<IPython.core.display.HTML object>"
      ]
     },
     "metadata": {},
     "output_type": "display_data"
    },
    {
     "data": {
      "text/html": [
       "\n",
       "<div id=\"root_plot_20\"\n",
       "     style=\"width: 796px; height: 572px\">\n",
       "</div>\n",
       "\n",
       "<script>\n",
       " requirejs.config({\n",
       "     paths: {\n",
       "       'JSRootCore' : 'https://root.cern.ch/js/notebook//scripts/JSRootCore',\n",
       "     }\n",
       "   });\n",
       " require(['JSRootCore'],\n",
       "     function(Core) {\n",
       "       var obj = Core.JSONR_unref({\"_typename\":\"TCanvas\",\"fUniqueID\":0,\"fBits\":53673992,\"fLineColor\":1,\"fLineStyle\":1,\"fLineWidth\":1,\"fFillColor\":0,\"fFillStyle\":1001,\"fLeftMargin\":0.13,\"fRightMargin\":0.3,\"fBottomMargin\":0.13,\"fTopMargin\":0.1,\"fXfile\":2,\"fYfile\":2,\"fAfile\":1,\"fXstat\":0.99,\"fYstat\":0.99,\"fAstat\":2,\"fFrameFillColor\":0,\"fFrameLineColor\":1,\"fFrameFillStyle\":1001,\"fFrameLineStyle\":1,\"fFrameLineWidth\":1,\"fFrameBorderSize\":1,\"fFrameBorderMode\":0,\"fX1\":-7.28070169934936,\"fY1\":-0.584798629679065,\"fX2\":10.2631581699199,\"fY2\":1.22853046768854,\"fXtoAbsPixelk\":330.340043357658,\"fXtoPixelk\":330.340043357658,\"fXtoPixel\":45.3719994306564,\"fYtoAbsPixelk\":387.530051331791,\"fYtoPixelk\":387.530051331791,\"fYtoPixel\":-315.441913346215,\"fUtoAbsPixelk\":5e-5,\"fUtoPixelk\":5e-5,\"fUtoPixel\":796,\"fVtoAbsPixelk\":572.00005,\"fVtoPixelk\":572,\"fVtoPixel\":-572,\"fAbsPixeltoXk\":-7.28070169934936,\"fPixeltoXk\":-7.28070169934936,\"fPixeltoX\":0.0220400249613935,\"fAbsPixeltoYk\":1.22853046768854,\"fPixeltoYk\":-0.584798629679065,\"fPixeltoY\":-0.00317015576462867,\"fXlowNDC\":0,\"fYlowNDC\":0,\"fXUpNDC\":0,\"fYUpNDC\":0,\"fWNDC\":1,\"fHNDC\":1,\"fAbsXlowNDC\":0,\"fAbsYlowNDC\":0,\"fAbsWNDC\":1,\"fAbsHNDC\":1,\"fUxmin\":-5,\"fUymin\":-0.349065850398866,\"fUxmax\":5,\"fUymax\":1.0471975511966,\"fTheta\":30,\"fPhi\":30,\"fAspectRatio\":0,\"fNumber\":0,\"fTickx\":0,\"fTicky\":0,\"fLogx\":0,\"fLogy\":0,\"fLogz\":0,\"fPadPaint\":0,\"fCrosshair\":0,\"fCrosshairPos\":0,\"fBorderSize\":2,\"fBorderMode\":0,\"fModified\":false,\"fGridx\":true,\"fGridy\":true,\"fAbsCoord\":false,\"fEditable\":true,\"fFixedAspectRatio\":false,\"fPrimitives\":{\"_typename\":\"TList\",\"name\":\"TList\",\"arr\":[{\"_typename\":\"TFrame\",\"fUniqueID\":0,\"fBits\":50331656,\"fLineColor\":1,\"fLineStyle\":1,\"fLineWidth\":1,\"fFillColor\":0,\"fFillStyle\":1001,\"fX1\":-5,\"fY1\":-0.349065850398866,\"fX2\":5,\"fY2\":1.0471975511966,\"fBorderSize\":1,\"fBorderMode\":0},{\"_typename\":\"TProfile2D\",\"fUniqueID\":0,\"fBits\":50332168,\"fName\":\"b1a6e8\",\"fTitle\":\"\",\"fLineColor\":1,\"fLineStyle\":1,\"fLineWidth\":1,\"fFillColor\":0,\"fFillStyle\":1001,\"fMarkerColor\":1,\"fMarkerStyle\":1,\"fMarkerSize\":1,\"fNcells\":143,\"fXaxis\":{\"_typename\":\"TAxis\",\"fUniqueID\":0,\"fBits\":50331656,\"fName\":\"xaxis\",\"fTitle\":\" #eta, #phi\",\"fNdivisions\":510,\"fAxisColor\":1,\"fLabelColor\":1,\"fLabelFont\":42,\"fLabelOffset\":0.005,\"fLabelSize\":0.035,\"fTickLength\":0.03,\"fTitleOffset\":1.4,\"fTitleSize\":0.035,\"fTitleColor\":1,\"fTitleFont\":42,\"fNbins\":11,\"fXmin\":-5,\"fXmax\":5,\"fXbins\":[-5,-4,-3,-2.5,-1.5,-0.5,0.5,1.5,2.5,3,4,5],\"fFirst\":0,\"fLast\":0,\"fBits2\":0,\"fTimeDisplay\":false,\"fTimeFormat\":\"\",\"fLabels\":null,\"fModLabs\":null},\"fYaxis\":{\"_typename\":\"TAxis\",\"fUniqueID\":0,\"fBits\":50333704,\"fName\":\"yaxis\",\"fTitle\":\"\",\"fNdivisions\":510,\"fAxisColor\":1,\"fLabelColor\":1,\"fLabelFont\":42,\"fLabelOffset\":0.005,\"fLabelSize\":0.035,\"fTickLength\":0.03,\"fTitleOffset\":0,\"fTitleSize\":0.035,\"fTitleColor\":1,\"fTitleFont\":42,\"fNbins\":9,\"fXmin\":-3.14159265358979,\"fXmax\":3.14159265358979,\"fXbins\":[-3.14159265358979,-2.44346095279206,-1.74532925199433,-1.0471975511966,-0.349065850398866,0.349065850398866,1.0471975511966,1.74532925199433,2.44346095279206,3.14159265358979],\"fFirst\":5,\"fLast\":6,\"fBits2\":0,\"fTimeDisplay\":false,\"fTimeFormat\":\"\",\"fLabels\":null,\"fModLabs\":null},\"fZaxis\":{\"_typename\":\"TAxis\",\"fUniqueID\":0,\"fBits\":50331648,\"fName\":\"zaxis\",\"fTitle\":\"\",\"fNdivisions\":510,\"fAxisColor\":1,\"fLabelColor\":1,\"fLabelFont\":42,\"fLabelOffset\":0.005,\"fLabelSize\":0.035,\"fTickLength\":0.03,\"fTitleOffset\":1,\"fTitleSize\":0.035,\"fTitleColor\":1,\"fTitleFont\":42,\"fNbins\":1,\"fXmin\":0,\"fXmax\":1,\"fXbins\":[],\"fFirst\":0,\"fLast\":0,\"fBits2\":0,\"fTimeDisplay\":false,\"fTimeFormat\":\"\",\"fLabels\":null,\"fModLabs\":null},\"fBarOffset\":0,\"fBarWidth\":1000,\"fEntries\":9070578,\"fTsumw\":9070578,\"fTsumw2\":9070578,\"fTsumwx\":0,\"fTsumwx2\":74316894.75,\"fMaximum\":-1111,\"fMinimum\":-1111,\"fNormFactor\":0,\"fContour\":[0,0.0332922223920019,0.0665844447840038,0.0998766671760058,0.133168889568008,0.16646111196001,0.199753334352012,0.233045556744013,0.266337779136015,0.299630001528017,0.332922223920019,0.366214446312021,0.399506668704023,0.432798891096025,0.466091113488027,0.499383335880029,0.532675558272031,0.565967780664033,0.599260003056035,0.632552225448036],\"fSumw2\":[0,0,0,0,0,0,0,0,0,0,0,0,0,0,0,0,0,0,0,0,0,0,0,0,0,0,0,0,1684,8168,29489,98667,142368,99256,29643,8485,1626,0,0,0,0,1520,7906,28973,98445,142874,99850,30223,8385,1592,0,0,0,0,1497,7897,28762,100475,143187,99832,29528,8154,1515,0,0,0,0,1707,8263,29685,101823,144714,99075,29494,8459,1630,0,0,0,0,1544,8073,29159,100489,142175,99069,29693,8184,1573,0,0,0,0,1522,8087,28900,99782,142725,101669,29588,8080,1570,0,0,0,0,1628,8250,28649,99404,144199,101860,29811,8334,1681,0,0,0,0,0,0,0,0,0,0,0,0,0,0,0,0,0,0,0,0,0,0,0,0,0,0,0,0],\"fOption\":\"\",\"fFunctions\":{\"_typename\":\"TList\",\"name\":\"TList\",\"arr\":[{\"_typename\":\"TPaletteAxis\",\"fUniqueID\":0,\"fBits\":50331648,\"fLineColor\":1,\"fLineStyle\":1,\"fLineWidth\":1,\"fFillColor\":1178,\"fFillStyle\":1001,\"fX1\":5.08771929934635,\"fY1\":-0.349065850398866,\"fX2\":5.87719299346346,\"fY2\":1.0471975511966,\"fX1NDC\":0.704999988079071,\"fY1NDC\":0.129999998137355,\"fX2NDC\":0.749999988079071,\"fY2NDC\":0.89999999627471,\"fBorderSize\":4,\"fInit\":1,\"fShadowColor\":1,\"fCornerRadius\":0,\"fOption\":\"br\",\"fName\":\"TPave\",\"fAxis\":{\"_typename\":\"TGaxis\",\"fUniqueID\":0,\"fBits\":50331648,\"fLineColor\":1,\"fLineStyle\":1,\"fLineWidth\":1,\"fX1\":0,\"fY1\":0,\"fX2\":0,\"fY2\":0,\"fTextAngle\":0,\"fTextSize\":0.04,\"fTextAlign\":11,\"fTextColor\":1,\"fTextFont\":42,\"fWmin\":0,\"fWmax\":0,\"fGridLength\":0,\"fTickSize\":0.03,\"fLabelOffset\":0.005,\"fLabelSize\":0.035,\"fTitleOffset\":1,\"fTitleSize\":0.035,\"fNdiv\":0,\"fLabelColor\":1,\"fLabelFont\":42,\"fNModLabs\":0,\"fChopt\":\"\",\"fName\":\"\",\"fTitle\":\"\",\"fTimeFormat\":\"\",\"fFunctionName\":\"\",\"fModLabs\":null},\"fName\":\"palette\"}],\"opt\":[\"br\"]},\"fBufferSize\":0,\"fBuffer\":[],\"fBinStatErrOpt\":0,\"fStatOverflows\":2,\"fScalefactor\":1,\"fTsumwy\":0,\"fTsumwy2\":29472598.040899,\"fTsumwxy\":1.63069557856943e-12,\"fArray\":[0,0,0,0,0,0,0,0,0,0,0,0,0,0,0,0,0,0,0,0,0,0,0,0,0,0,0,0,1638,7452,20711,45617,60700,45842,20845,7675,1576,0,0,0,0,1468,7210,20613,45625,60668,46014,21015,7609,1546,0,0,0,0,1439,7181,20478,45711,60739,45994,20820,7462,1483,0,0,0,0,1635,7501,20807,46381,61006,45659,20900,7681,1576,0,0,0,0,1474,7353,20511,45879,60445,45539,20923,7500,1521,0,0,0,0,1474,7411,20428,45744,60561,46097,20794,7348,1512,0,0,0,0,1548,7472,20381,45722,60945,46234,20937,7642,1603,0,0,0,0,0,0,0,0,0,0,0,0,0,0,0,0,0,0,0,0,0,0,0,0,0,0,0,0],\"fBinEntries\":[0,0,0,0,0,0,0,0,0,0,0,0,0,0,91622,91622,91622,91622,91622,91622,91622,91622,91622,91622,91622,0,0,91622,91622,91622,91622,91622,91622,91622,91622,91622,91622,91622,0,0,91622,91622,91622,91622,91622,91622,91622,91622,91622,91622,91622,0,0,91622,91622,91622,91622,91622,91622,91622,91622,91622,91622,91622,0,0,91622,91622,91622,91622,91622,91622,91622,91622,91622,91622,91622,0,0,91622,91622,91622,91622,91622,91622,91622,91622,91622,91622,91622,0,0,91622,91622,91622,91622,91622,91622,91622,91622,91622,91622,91622,0,0,91622,91622,91622,91622,91622,91622,91622,91622,91622,91622,91622,0,0,91622,91622,91622,91622,91622,91622,91622,91622,91622,91622,91622,0,0,0,0,0,0,0,0,0,0,0,0,0,0],\"fErrorMode\":0,\"fZmin\":0,\"fZmax\":0,\"fTsumwz\":1483275,\"fTsumwz2\":2950549,\"fBinSumw2\":[0,0,0,0,0,0,0,0,0,0,0,0,0,0,91622,91622,91622,91622,91622,91622,91622,91622,91622,91622,91622,0,0,91622,91622,91622,91622,91622,91622,91622,91622,91622,91622,91622,0,0,91622,91622,91622,91622,91622,91622,91622,91622,91622,91622,91622,0,0,91622,91622,91622,91622,91622,91622,91622,91622,91622,91622,91622,0,0,91622,91622,91622,91622,91622,91622,91622,91622,91622,91622,91622,0,0,91622,91622,91622,91622,91622,91622,91622,91622,91622,91622,91622,0,0,91622,91622,91622,91622,91622,91622,91622,91622,91622,91622,91622,0,0,91622,91622,91622,91622,91622,91622,91622,91622,91622,91622,91622,0,0,91622,91622,91622,91622,91622,91622,91622,91622,91622,91622,91622,0,0,0,0,0,0,0,0,0,0,0,0,0,0]},{\"_typename\":\"TLatex\",\"fUniqueID\":0,\"fBits\":50348040,\"fName\":\"\",\"fTitle\":\"ttbar, PU200, EG all, p_{T}^{tk} > 5 GeV\",\"fTextAngle\":0,\"fTextSize\":0.03,\"fTextAlign\":11,\"fTextColor\":1,\"fTextFont\":62,\"fX\":0.15,\"fY\":0.85,\"fLineColor\":1,\"fLineStyle\":1,\"fLineWidth\":2,\"fLimitFactorSize\":3,\"fOriginSize\":0.04},{\"_typename\":\"TLatex\",\"fUniqueID\":0,\"fBits\":50331656,\"fName\":\"\",\"fTitle\":\"\",\"fTextAngle\":0,\"fTextSize\":0.03,\"fTextAlign\":11,\"fTextColor\":1,\"fTextFont\":62,\"fX\":0,\"fY\":0,\"fLineColor\":1,\"fLineStyle\":1,\"fLineWidth\":2,\"fLimitFactorSize\":3,\"fOriginSize\":0.04}],\"opt\":[\"\",\"COLZ\",\"same\",\"same\"]},\"fExecs\":null,\"fName\":\"c_4ec43d\",\"fTitle\":\"c_4ec43d\",\"fNumPaletteColor\":0,\"fNextPaletteColor\":0,\"fDISPLAY\":\"$DISPLAY\",\"fDoubleBuffer\":0,\"fRetained\":true,\"fXsizeUser\":0,\"fYsizeUser\":0,\"fXsizeReal\":20,\"fYsizeReal\":15,\"fWindowTopX\":0,\"fWindowTopY\":0,\"fWindowWidth\":0,\"fWindowHeight\":0,\"fCw\":796,\"fCh\":572,\"fCatt\":{\"_typename\":\"TAttCanvas\",\"fXBetween\":2,\"fYBetween\":2,\"fTitleFromTop\":1.2,\"fXdate\":0.2,\"fYdate\":0.3,\"fAdate\":1},\"kMoveOpaque\":true,\"kResizeOpaque\":true,\"fHighLightColor\":2,\"fBatch\":true,\"kShowEventStatus\":false,\"kAutoExec\":true,\"kMenuBar\":true});\n",
       "       Core.draw(\"root_plot_20\", obj, \"\");\n",
       "     }\n",
       " );\n",
       "</script>\n"
      ],
      "text/plain": [
       "<IPython.core.display.HTML object>"
      ]
     },
     "metadata": {},
     "output_type": "display_data"
    }
   ],
   "source": [
    "hsets, labels, text = hplot.get_histo(histos.CorrOccupancyHistos, sample, 'PU200', ['EGALL'], ['Pt5'], None, debug=False)\n",
    "text = '{}, {}'.format(sample, text)\n",
    "\n",
    "\n",
    "res=np.zeros(quantiles.shape)\n",
    "n = hsets[0].h_eventMaxOcc.GetQuantiles(quantiles.shape[0], res, quantiles)\n",
    "for id,quantile in enumerate(quantiles):\n",
    "    print 'quantile {}% = {}'.format(quantile*100, res[id])\n",
    "\n",
    "\n",
    "draw([his.h_eventMaxOcc for his in hsets], labels, text=text, min_x=0., max_x=10, logy=False, options='hist', v_lines=res.tolist())\n",
    "draw([his.h_averageOccupancy for his in hsets], labels, text=text, logy=False, options='COLZ')\n",
    "\n",
    "\n"
   ]
  },
  {
   "cell_type": "markdown",
   "metadata": {},
   "source": [
    "### Tracks"
   ]
  },
  {
   "cell_type": "code",
   "execution_count": 31,
   "metadata": {},
   "outputs": [
    {
     "name": "stdout",
     "output_type": "stream",
     "text": [
      "quantile 90.0% = 13.9133891213\n",
      "quantile 95.0% = 17.9301587302\n",
      "quantile 99.5% = 40.9276923077\n"
     ]
    },
    {
     "data": {
      "text/plain": [
       "<drawingTools.DrawMachine at 0x108e6fd90>"
      ]
     },
     "execution_count": 31,
     "metadata": {},
     "output_type": "execute_result"
    },
    {
     "data": {
      "text/html": [
       "\n",
       "<div id=\"root_plot_21\"\n",
       "     style=\"width: 796px; height: 572px\">\n",
       "</div>\n",
       "\n",
       "<script>\n",
       " requirejs.config({\n",
       "     paths: {\n",
       "       'JSRootCore' : 'https://root.cern.ch/js/notebook//scripts/JSRootCore',\n",
       "     }\n",
       "   });\n",
       " require(['JSRootCore'],\n",
       "     function(Core) {\n",
       "       var obj = Core.JSONR_unref({\"_typename\":\"TCanvas\",\"fUniqueID\":0,\"fBits\":53673992,\"fLineColor\":1,\"fLineStyle\":1,\"fLineWidth\":1,\"fFillColor\":0,\"fFillStyle\":1001,\"fLeftMargin\":0.13,\"fRightMargin\":0.3,\"fBottomMargin\":0.13,\"fTopMargin\":0.1,\"fXfile\":2,\"fYfile\":2,\"fAfile\":1,\"fXstat\":0.99,\"fYstat\":0.99,\"fAstat\":2,\"fFrameFillColor\":0,\"fFrameLineColor\":1,\"fFrameFillStyle\":1001,\"fFrameLineStyle\":1,\"fFrameLineWidth\":1,\"fFrameBorderSize\":1,\"fFrameBorderMode\":0,\"fX1\":-2.28070169934936,\"fY1\":-2770.11425272494,\"fX2\":15.2631581699199,\"fY2\":18538.4572273923,\"fXtoAbsPixelk\":103.480046204376,\"fXtoPixelk\":103.480046204376,\"fXtoPixel\":45.3719994306564,\"fYtoAbsPixelk\":497.640051065433,\"fYtoPixelk\":497.640051065433,\"fYtoPixel\":-0.0268436577521738,\"fUtoAbsPixelk\":5e-5,\"fUtoPixelk\":5e-5,\"fUtoPixel\":796,\"fVtoAbsPixelk\":572.00005,\"fVtoPixelk\":572,\"fVtoPixel\":-572,\"fAbsPixeltoXk\":-2.28070169934936,\"fPixeltoXk\":-2.28070169934936,\"fPixeltoX\":0.0220400249613935,\"fAbsPixeltoYk\":18538.4572273923,\"fPixeltoYk\":-2770.11425272494,\"fPixeltoY\":-37.2527473428624,\"fXlowNDC\":0,\"fYlowNDC\":0,\"fXUpNDC\":0,\"fYUpNDC\":0,\"fWNDC\":1,\"fHNDC\":1,\"fAbsXlowNDC\":0,\"fAbsYlowNDC\":0,\"fAbsWNDC\":1,\"fAbsHNDC\":1,\"fUxmin\":0,\"fUymin\":0,\"fUxmax\":10,\"fUymax\":16407.6,\"fTheta\":30,\"fPhi\":30,\"fAspectRatio\":0,\"fNumber\":0,\"fTickx\":0,\"fTicky\":0,\"fLogx\":0,\"fLogy\":0,\"fLogz\":0,\"fPadPaint\":0,\"fCrosshair\":0,\"fCrosshairPos\":0,\"fBorderSize\":2,\"fBorderMode\":0,\"fModified\":true,\"fGridx\":true,\"fGridy\":true,\"fAbsCoord\":false,\"fEditable\":true,\"fFixedAspectRatio\":false,\"fPrimitives\":{\"_typename\":\"TList\",\"name\":\"TList\",\"arr\":[{\"_typename\":\"TFrame\",\"fUniqueID\":0,\"fBits\":50331656,\"fLineColor\":1,\"fLineStyle\":1,\"fLineWidth\":1,\"fFillColor\":0,\"fFillStyle\":1001,\"fX1\":0,\"fY1\":0,\"fX2\":10,\"fY2\":16407.6,\"fBorderSize\":1,\"fBorderMode\":0},{\"_typename\":\"TH1F\",\"fUniqueID\":0,\"fBits\":50332168,\"fName\":\"d45bc1\",\"fTitle\":\"\",\"fLineColor\":1,\"fLineStyle\":1,\"fLineWidth\":1,\"fFillColor\":0,\"fFillStyle\":1001,\"fMarkerColor\":1,\"fMarkerStyle\":1,\"fMarkerSize\":1,\"fNcells\":102,\"fXaxis\":{\"_typename\":\"TAxis\",\"fUniqueID\":0,\"fBits\":50333704,\"fName\":\"xaxis\",\"fTitle\":\"\",\"fNdivisions\":510,\"fAxisColor\":1,\"fLabelColor\":1,\"fLabelFont\":42,\"fLabelOffset\":0.005,\"fLabelSize\":0.035,\"fTickLength\":0.03,\"fTitleOffset\":1.4,\"fTitleSize\":0.035,\"fTitleColor\":1,\"fTitleFont\":42,\"fNbins\":100,\"fXmin\":0,\"fXmax\":100,\"fXbins\":[],\"fFirst\":1,\"fLast\":10,\"fBits2\":0,\"fTimeDisplay\":false,\"fTimeFormat\":\"\",\"fLabels\":null,\"fModLabs\":null},\"fYaxis\":{\"_typename\":\"TAxis\",\"fUniqueID\":0,\"fBits\":50331656,\"fName\":\"yaxis\",\"fTitle\":\"\",\"fNdivisions\":510,\"fAxisColor\":1,\"fLabelColor\":1,\"fLabelFont\":42,\"fLabelOffset\":0.005,\"fLabelSize\":0.035,\"fTickLength\":0.03,\"fTitleOffset\":0,\"fTitleSize\":0.035,\"fTitleColor\":1,\"fTitleFont\":42,\"fNbins\":1,\"fXmin\":0,\"fXmax\":1,\"fXbins\":[],\"fFirst\":0,\"fLast\":0,\"fBits2\":0,\"fTimeDisplay\":false,\"fTimeFormat\":\"\",\"fLabels\":null,\"fModLabs\":null},\"fZaxis\":{\"_typename\":\"TAxis\",\"fUniqueID\":0,\"fBits\":50331648,\"fName\":\"zaxis\",\"fTitle\":\"\",\"fNdivisions\":510,\"fAxisColor\":1,\"fLabelColor\":1,\"fLabelFont\":42,\"fLabelOffset\":0.005,\"fLabelSize\":0.035,\"fTickLength\":0.03,\"fTitleOffset\":1,\"fTitleSize\":0.035,\"fTitleColor\":1,\"fTitleFont\":42,\"fNbins\":1,\"fXmin\":0,\"fXmax\":1,\"fXbins\":[],\"fFirst\":0,\"fLast\":0,\"fBits2\":0,\"fTimeDisplay\":false,\"fTimeFormat\":\"\",\"fLabels\":null,\"fModLabs\":null},\"fBarOffset\":0,\"fBarWidth\":1000,\"fEntries\":91800,\"fTsumw\":91776,\"fTsumw2\":91776,\"fTsumwx\":745412,\"fTsumwx2\":9184776,\"fMaximum\":16407.6,\"fMinimum\":0,\"fNormFactor\":0,\"fContour\":[],\"fSumw2\":[0,0,47,1099,4986,10548,13673,13410,11135,8612,6466,4747,3457,2672,1912,1517,1205,998,756,656,498,392,361,307,268,239,163,157,141,134,115,91,92,86,67,62,55,43,52,41,33,26,34,18,21,37,19,17,21,15,16,23,15,24,10,12,10,4,9,7,11,7,10,9,3,6,7,4,5,4,4,8,4,3,7,3,4,4,3,3,4,2,2,1,3,5,0,0,3,0,1,1,3,0,1,1,3,2,0,3,1,24],\"fOption\":\"\",\"fFunctions\":{\"_typename\":\"TList\",\"name\":\"TList\",\"arr\":[],\"opt\":[]},\"fBufferSize\":0,\"fBuffer\":[],\"fBinStatErrOpt\":0,\"fStatOverflows\":2,\"fArray\":[0,0,47,1099,4986,10548,13673,13410,11135,8612,6466,4747,3457,2672,1912,1517,1205,998,756,656,498,392,361,307,268,239,163,157,141,134,115,91,92,86,67,62,55,43,52,41,33,26,34,18,21,37,19,17,21,15,16,23,15,24,10,12,10,4,9,7,11,7,10,9,3,6,7,4,5,4,4,8,4,3,7,3,4,4,3,3,4,2,2,1,3,5,0,0,3,0,1,1,3,0,1,1,3,2,0,3,1,24]},{\"_typename\":\"TLatex\",\"fUniqueID\":0,\"fBits\":50348040,\"fName\":\"\",\"fTitle\":\"ttbar, PU200, L1Track, p_{T}^{tk} > 5 GeV\",\"fTextAngle\":0,\"fTextSize\":0.03,\"fTextAlign\":11,\"fTextColor\":1,\"fTextFont\":62,\"fX\":0.15,\"fY\":0.85,\"fLineColor\":1,\"fLineStyle\":1,\"fLineWidth\":2,\"fLimitFactorSize\":3,\"fOriginSize\":0.04},{\"_typename\":\"TLatex\",\"fUniqueID\":0,\"fBits\":50331656,\"fName\":\"\",\"fTitle\":\"\",\"fTextAngle\":0,\"fTextSize\":0.03,\"fTextAlign\":11,\"fTextColor\":1,\"fTextFont\":62,\"fX\":0,\"fY\":0,\"fLineColor\":1,\"fLineStyle\":1,\"fLineWidth\":2,\"fLimitFactorSize\":3,\"fOriginSize\":0.04},{\"_typename\":\"TLine\",\"fUniqueID\":0,\"fBits\":50331656,\"fLineColor\":1,\"fLineStyle\":2,\"fLineWidth\":1,\"fX1\":13.9133891213389,\"fY1\":0,\"fX2\":13.9133891213389,\"fY2\":16407.6},{\"_typename\":\"TLine\",\"fUniqueID\":0,\"fBits\":50331656,\"fLineColor\":1,\"fLineStyle\":2,\"fLineWidth\":1,\"fX1\":17.9301587301587,\"fY1\":0,\"fX2\":17.9301587301587,\"fY2\":16407.6},{\"_typename\":\"TLine\",\"fUniqueID\":0,\"fBits\":50331656,\"fLineColor\":1,\"fLineStyle\":2,\"fLineWidth\":1,\"fX1\":40.9276923076921,\"fY1\":0,\"fX2\":40.9276923076921,\"fY2\":16407.6}],\"opt\":[\"\",\"hist\",\"same\",\"same\",\"same\",\"same\",\"same\"]},\"fExecs\":null,\"fName\":\"c_17ea1c\",\"fTitle\":\"c_17ea1c\",\"fNumPaletteColor\":0,\"fNextPaletteColor\":0,\"fDISPLAY\":\"$DISPLAY\",\"fDoubleBuffer\":0,\"fRetained\":true,\"fXsizeUser\":0,\"fYsizeUser\":0,\"fXsizeReal\":20,\"fYsizeReal\":15,\"fWindowTopX\":0,\"fWindowTopY\":0,\"fWindowWidth\":0,\"fWindowHeight\":0,\"fCw\":796,\"fCh\":572,\"fCatt\":{\"_typename\":\"TAttCanvas\",\"fXBetween\":2,\"fYBetween\":2,\"fTitleFromTop\":1.2,\"fXdate\":0.2,\"fYdate\":0.3,\"fAdate\":1},\"kMoveOpaque\":true,\"kResizeOpaque\":true,\"fHighLightColor\":2,\"fBatch\":true,\"kShowEventStatus\":false,\"kAutoExec\":true,\"kMenuBar\":true});\n",
       "       Core.draw(\"root_plot_21\", obj, \"\");\n",
       "     }\n",
       " );\n",
       "</script>\n"
      ],
      "text/plain": [
       "<IPython.core.display.HTML object>"
      ]
     },
     "metadata": {},
     "output_type": "display_data"
    },
    {
     "data": {
      "text/html": [
       "\n",
       "<div id=\"root_plot_22\"\n",
       "     style=\"width: 796px; height: 572px\">\n",
       "</div>\n",
       "\n",
       "<script>\n",
       " requirejs.config({\n",
       "     paths: {\n",
       "       'JSRootCore' : 'https://root.cern.ch/js/notebook//scripts/JSRootCore',\n",
       "     }\n",
       "   });\n",
       " require(['JSRootCore'],\n",
       "     function(Core) {\n",
       "       var obj = Core.JSONR_unref({\"_typename\":\"TCanvas\",\"fUniqueID\":0,\"fBits\":53673992,\"fLineColor\":1,\"fLineStyle\":1,\"fLineWidth\":1,\"fFillColor\":0,\"fFillStyle\":1001,\"fLeftMargin\":0.13,\"fRightMargin\":0.3,\"fBottomMargin\":0.13,\"fTopMargin\":0.1,\"fXfile\":2,\"fYfile\":2,\"fAfile\":1,\"fXstat\":0.99,\"fYstat\":0.99,\"fAstat\":2,\"fFrameFillColor\":0,\"fFrameLineColor\":1,\"fFrameFillStyle\":1001,\"fFrameLineStyle\":1,\"fFrameLineWidth\":1,\"fFrameBorderSize\":1,\"fFrameBorderMode\":0,\"fX1\":-7.28070169934936,\"fY1\":-0.820531408959264,\"fX2\":10.2631581699199,\"fY2\":2.80612678577594,\"fXtoAbsPixelk\":330.340043357658,\"fXtoPixelk\":330.340043357658,\"fXtoPixel\":45.3719994306564,\"fYtoAbsPixelk\":442.585051198612,\"fYtoPixelk\":442.585051198612,\"fYtoPixel\":-157.720956673107,\"fUtoAbsPixelk\":5e-5,\"fUtoPixelk\":5e-5,\"fUtoPixel\":796,\"fVtoAbsPixelk\":572.00005,\"fVtoPixelk\":572,\"fVtoPixel\":-572,\"fAbsPixeltoXk\":-7.28070169934936,\"fPixeltoXk\":-7.28070169934936,\"fPixeltoX\":0.0220400249613935,\"fAbsPixeltoYk\":2.80612678577594,\"fPixeltoYk\":-0.820531408959264,\"fPixeltoY\":-0.00634031152925734,\"fXlowNDC\":0,\"fYlowNDC\":0,\"fXUpNDC\":0,\"fYUpNDC\":0,\"fWNDC\":1,\"fHNDC\":1,\"fAbsXlowNDC\":0,\"fAbsYlowNDC\":0,\"fAbsWNDC\":1,\"fAbsHNDC\":1,\"fUxmin\":-5,\"fUymin\":-0.349065850398866,\"fUxmax\":5,\"fUymax\":2.44346095279206,\"fTheta\":30,\"fPhi\":30,\"fAspectRatio\":0,\"fNumber\":0,\"fTickx\":0,\"fTicky\":0,\"fLogx\":0,\"fLogy\":0,\"fLogz\":0,\"fPadPaint\":0,\"fCrosshair\":0,\"fCrosshairPos\":0,\"fBorderSize\":2,\"fBorderMode\":0,\"fModified\":false,\"fGridx\":true,\"fGridy\":true,\"fAbsCoord\":false,\"fEditable\":true,\"fFixedAspectRatio\":false,\"fPrimitives\":{\"_typename\":\"TList\",\"name\":\"TList\",\"arr\":[{\"_typename\":\"TFrame\",\"fUniqueID\":0,\"fBits\":50331656,\"fLineColor\":1,\"fLineStyle\":1,\"fLineWidth\":1,\"fFillColor\":0,\"fFillStyle\":1001,\"fX1\":-5,\"fY1\":-0.349065850398866,\"fX2\":5,\"fY2\":2.44346095279206,\"fBorderSize\":1,\"fBorderMode\":0},{\"_typename\":\"TProfile2D\",\"fUniqueID\":0,\"fBits\":50332168,\"fName\":\"2b34a1\",\"fTitle\":\"\",\"fLineColor\":1,\"fLineStyle\":1,\"fLineWidth\":1,\"fFillColor\":0,\"fFillStyle\":1001,\"fMarkerColor\":1,\"fMarkerStyle\":1,\"fMarkerSize\":1,\"fNcells\":143,\"fXaxis\":{\"_typename\":\"TAxis\",\"fUniqueID\":0,\"fBits\":50331656,\"fName\":\"xaxis\",\"fTitle\":\" #eta, #phi\",\"fNdivisions\":510,\"fAxisColor\":1,\"fLabelColor\":1,\"fLabelFont\":42,\"fLabelOffset\":0.005,\"fLabelSize\":0.035,\"fTickLength\":0.03,\"fTitleOffset\":1.4,\"fTitleSize\":0.035,\"fTitleColor\":1,\"fTitleFont\":42,\"fNbins\":11,\"fXmin\":-5,\"fXmax\":5,\"fXbins\":[-5,-4,-3,-2.5,-1.5,-0.5,0.5,1.5,2.5,3,4,5],\"fFirst\":0,\"fLast\":0,\"fBits2\":0,\"fTimeDisplay\":false,\"fTimeFormat\":\"\",\"fLabels\":null,\"fModLabs\":null},\"fYaxis\":{\"_typename\":\"TAxis\",\"fUniqueID\":0,\"fBits\":50333704,\"fName\":\"yaxis\",\"fTitle\":\"\",\"fNdivisions\":510,\"fAxisColor\":1,\"fLabelColor\":1,\"fLabelFont\":42,\"fLabelOffset\":0.005,\"fLabelSize\":0.035,\"fTickLength\":0.03,\"fTitleOffset\":0,\"fTitleSize\":0.035,\"fTitleColor\":1,\"fTitleFont\":42,\"fNbins\":9,\"fXmin\":-3.14159265358979,\"fXmax\":3.14159265358979,\"fXbins\":[-3.14159265358979,-2.44346095279206,-1.74532925199433,-1.0471975511966,-0.349065850398866,0.349065850398866,1.0471975511966,1.74532925199433,2.44346095279206,3.14159265358979],\"fFirst\":5,\"fLast\":8,\"fBits2\":0,\"fTimeDisplay\":false,\"fTimeFormat\":\"\",\"fLabels\":null,\"fModLabs\":null},\"fZaxis\":{\"_typename\":\"TAxis\",\"fUniqueID\":0,\"fBits\":50331648,\"fName\":\"zaxis\",\"fTitle\":\"\",\"fNdivisions\":510,\"fAxisColor\":1,\"fLabelColor\":1,\"fLabelFont\":42,\"fLabelOffset\":0.005,\"fLabelSize\":0.035,\"fTickLength\":0.03,\"fTitleOffset\":1,\"fTitleSize\":0.035,\"fTitleColor\":1,\"fTitleFont\":42,\"fNbins\":1,\"fXmin\":0,\"fXmax\":1,\"fXbins\":[],\"fFirst\":0,\"fLast\":0,\"fBits2\":0,\"fTimeDisplay\":false,\"fTimeFormat\":\"\",\"fLabels\":null,\"fModLabs\":null},\"fBarOffset\":0,\"fBarWidth\":1000,\"fEntries\":9088200,\"fTsumw\":9088200,\"fTsumw2\":9088200,\"fTsumwx\":0,\"fTsumwx2\":74461275,\"fMaximum\":-1111,\"fMinimum\":-1111,\"fNormFactor\":0,\"fContour\":[0,0.100984204793028,0.201968409586057,0.302952614379085,0.403936819172113,0.504921023965142,0.60590522875817,0.706889433551198,0.807873638344227,0.908857843137255,1.00984204793028,1.11082625272331,1.21181045751634,1.31279466230937,1.4137788671024,1.51476307189542,1.61574727668845,1.71673148148148,1.81771568627451,1.91869989106754],\"fSumw2\":[0,0,0,0,0,0,0,0,0,0,0,0,0,0,0,0,0,0,0,0,0,0,0,0,0,0,0,0,0,24694,908043,912158,988902,900484,815634,23757,0,0,0,0,0,0,23146,938587,932072,991362,887458,807251,24149,1,0,0,0,0,0,22588,838862,870124,991077,966345,933836,22352,1,0,0,0,0,0,23193,888621,902467,1001696,946834,932886,25440,0,0,0,0,0,0,21247,882137,907986,1002005,877577,788682,24514,0,0,0,0,0,0,21303,851181,860876,984216,863166,801110,23999,1,0,0,0,0,0,22304,854265,840947,1009307,937123,893372,23925,2,0,0,0,0,0,0,0,0,0,0,0,0,0,0,0,0,0,0,0,0,0,0,0,0,0,0,0,0],\"fOption\":\"\",\"fFunctions\":{\"_typename\":\"TList\",\"name\":\"TList\",\"arr\":[{\"_typename\":\"TPaletteAxis\",\"fUniqueID\":0,\"fBits\":50331648,\"fLineColor\":1,\"fLineStyle\":1,\"fLineWidth\":1,\"fFillColor\":1178,\"fFillStyle\":1001,\"fX1\":5.08771929934635,\"fY1\":-0.349065850398866,\"fX2\":5.87719299346346,\"fY2\":2.44346095279206,\"fX1NDC\":0.704999988079071,\"fY1NDC\":0.129999998137355,\"fX2NDC\":0.749999988079071,\"fY2NDC\":0.89999999627471,\"fBorderSize\":4,\"fInit\":1,\"fShadowColor\":1,\"fCornerRadius\":0,\"fOption\":\"br\",\"fName\":\"TPave\",\"fAxis\":{\"_typename\":\"TGaxis\",\"fUniqueID\":0,\"fBits\":50331648,\"fLineColor\":1,\"fLineStyle\":1,\"fLineWidth\":1,\"fX1\":0,\"fY1\":0,\"fX2\":0,\"fY2\":0,\"fTextAngle\":0,\"fTextSize\":0.04,\"fTextAlign\":11,\"fTextColor\":1,\"fTextFont\":42,\"fWmin\":0,\"fWmax\":0,\"fGridLength\":0,\"fTickSize\":0.03,\"fLabelOffset\":0.005,\"fLabelSize\":0.035,\"fTitleOffset\":1,\"fTitleSize\":0.035,\"fNdiv\":0,\"fLabelColor\":1,\"fLabelFont\":42,\"fNModLabs\":0,\"fChopt\":\"\",\"fName\":\"\",\"fTitle\":\"\",\"fTimeFormat\":\"\",\"fFunctionName\":\"\",\"fModLabs\":null},\"fName\":\"palette\"}],\"opt\":[\"br\"]},\"fBufferSize\":0,\"fBuffer\":[],\"fBinStatErrOpt\":0,\"fStatOverflows\":2,\"fScalefactor\":1,\"fTsumwy\":0,\"fTsumwy2\":29529856.3680614,\"fTsumwxy\":1.63069557856943e-12,\"fArray\":[0,0,0,0,0,0,0,0,0,0,0,0,0,0,0,0,0,0,0,0,0,0,0,0,0,0,0,0,0,12732,140095,159688,184596,158406,138712,12497,0,0,0,0,0,0,12532,139675,159748,184378,158846,138627,12617,1,0,0,0,0,0,12334,138214,159042,184247,159901,139492,12352,1,0,0,0,0,0,12599,140629,159983,185352,159788,140556,12870,0,0,0,0,0,0,12209,139305,159750,185407,159579,137758,12490,0,0,0,0,0,0,12293,138565,159176,185044,159420,139098,12515,1,0,0,0,0,0,12562,138849,158893,185047,160305,140348,12795,2,0,0,0,0,0,0,0,0,0,0,0,0,0,0,0,0,0,0,0,0,0,0,0,0,0,0,0,0],\"fBinEntries\":[0,0,0,0,0,0,0,0,0,0,0,0,0,0,91800,91800,91800,91800,91800,91800,91800,91800,91800,91800,91800,0,0,91800,91800,91800,91800,91800,91800,91800,91800,91800,91800,91800,0,0,91800,91800,91800,91800,91800,91800,91800,91800,91800,91800,91800,0,0,91800,91800,91800,91800,91800,91800,91800,91800,91800,91800,91800,0,0,91800,91800,91800,91800,91800,91800,91800,91800,91800,91800,91800,0,0,91800,91800,91800,91800,91800,91800,91800,91800,91800,91800,91800,0,0,91800,91800,91800,91800,91800,91800,91800,91800,91800,91800,91800,0,0,91800,91800,91800,91800,91800,91800,91800,91800,91800,91800,91800,0,0,91800,91800,91800,91800,91800,91800,91800,91800,91800,91800,91800,0,0,0,0,0,0,0,0,0,0,0,0,0,0],\"fErrorMode\":0,\"fZmin\":0,\"fZmax\":0,\"fTsumwz\":5651921,\"fTsumwz2\":32035265,\"fBinSumw2\":[0,0,0,0,0,0,0,0,0,0,0,0,0,0,91800,91800,91800,91800,91800,91800,91800,91800,91800,91800,91800,0,0,91800,91800,91800,91800,91800,91800,91800,91800,91800,91800,91800,0,0,91800,91800,91800,91800,91800,91800,91800,91800,91800,91800,91800,0,0,91800,91800,91800,91800,91800,91800,91800,91800,91800,91800,91800,0,0,91800,91800,91800,91800,91800,91800,91800,91800,91800,91800,91800,0,0,91800,91800,91800,91800,91800,91800,91800,91800,91800,91800,91800,0,0,91800,91800,91800,91800,91800,91800,91800,91800,91800,91800,91800,0,0,91800,91800,91800,91800,91800,91800,91800,91800,91800,91800,91800,0,0,91800,91800,91800,91800,91800,91800,91800,91800,91800,91800,91800,0,0,0,0,0,0,0,0,0,0,0,0,0,0]},{\"_typename\":\"TLatex\",\"fUniqueID\":0,\"fBits\":50348040,\"fName\":\"\",\"fTitle\":\"ttbar, PU200, L1Track, p_{T}^{tk} > 5 GeV\",\"fTextAngle\":0,\"fTextSize\":0.03,\"fTextAlign\":11,\"fTextColor\":1,\"fTextFont\":62,\"fX\":0.15,\"fY\":0.85,\"fLineColor\":1,\"fLineStyle\":1,\"fLineWidth\":2,\"fLimitFactorSize\":3,\"fOriginSize\":0.04},{\"_typename\":\"TLatex\",\"fUniqueID\":0,\"fBits\":50331656,\"fName\":\"\",\"fTitle\":\"\",\"fTextAngle\":0,\"fTextSize\":0.03,\"fTextAlign\":11,\"fTextColor\":1,\"fTextFont\":62,\"fX\":0,\"fY\":0,\"fLineColor\":1,\"fLineStyle\":1,\"fLineWidth\":2,\"fLimitFactorSize\":3,\"fOriginSize\":0.04}],\"opt\":[\"\",\"COLZ\",\"same\",\"same\"]},\"fExecs\":null,\"fName\":\"c_982343\",\"fTitle\":\"c_982343\",\"fNumPaletteColor\":0,\"fNextPaletteColor\":0,\"fDISPLAY\":\"$DISPLAY\",\"fDoubleBuffer\":0,\"fRetained\":true,\"fXsizeUser\":0,\"fYsizeUser\":0,\"fXsizeReal\":20,\"fYsizeReal\":15,\"fWindowTopX\":0,\"fWindowTopY\":0,\"fWindowWidth\":0,\"fWindowHeight\":0,\"fCw\":796,\"fCh\":572,\"fCatt\":{\"_typename\":\"TAttCanvas\",\"fXBetween\":2,\"fYBetween\":2,\"fTitleFromTop\":1.2,\"fXdate\":0.2,\"fYdate\":0.3,\"fAdate\":1},\"kMoveOpaque\":true,\"kResizeOpaque\":true,\"fHighLightColor\":2,\"fBatch\":true,\"kShowEventStatus\":false,\"kAutoExec\":true,\"kMenuBar\":true});\n",
       "       Core.draw(\"root_plot_22\", obj, \"\");\n",
       "     }\n",
       " );\n",
       "</script>\n"
      ],
      "text/plain": [
       "<IPython.core.display.HTML object>"
      ]
     },
     "metadata": {},
     "output_type": "display_data"
    }
   ],
   "source": [
    "hsets, labels, text = hplot.get_histo(histos.CorrOccupancyHistos, sample, 'PU200', ['L1Trk'], ['Pt5'], None, debug=False)\n",
    "text = '{}, {}'.format(sample, text)\n",
    "\n",
    "res=np.zeros(quantiles.shape)\n",
    "n = hsets[0].h_eventMaxOcc.GetQuantiles(quantiles.shape[0], res, quantiles)\n",
    "for id,quantile in enumerate(quantiles):\n",
    "    print 'quantile {}% = {}'.format(quantile*100, res[id])\n",
    "\n",
    "\n",
    "draw([his.h_eventMaxOcc for his in hsets], labels, text=text, min_x=0., max_x=10, logy=False, options='hist', v_lines=res.tolist())\n",
    "draw([his.h_averageOccupancy for his in hsets], labels, text=text, logy=False, options='COLZ')\n",
    "\n"
   ]
  },
  {
   "cell_type": "code",
   "execution_count": 32,
   "metadata": {},
   "outputs": [
    {
     "name": "stdout",
     "output_type": "stream",
     "text": [
      "quantile 90.0% = 10.3601637108\n",
      "quantile 95.0% = 12.5518465909\n",
      "quantile 99.5% = 21.5887850467\n"
     ]
    },
    {
     "data": {
      "text/plain": [
       "<drawingTools.DrawMachine at 0x11e320050>"
      ]
     },
     "execution_count": 32,
     "metadata": {},
     "output_type": "execute_result"
    },
    {
     "data": {
      "text/html": [
       "\n",
       "<div id=\"root_plot_23\"\n",
       "     style=\"width: 796px; height: 572px\">\n",
       "</div>\n",
       "\n",
       "<script>\n",
       " requirejs.config({\n",
       "     paths: {\n",
       "       'JSRootCore' : 'https://root.cern.ch/js/notebook//scripts/JSRootCore',\n",
       "     }\n",
       "   });\n",
       " require(['JSRootCore'],\n",
       "     function(Core) {\n",
       "       var obj = Core.JSONR_unref({\"_typename\":\"TCanvas\",\"fUniqueID\":0,\"fBits\":53673992,\"fLineColor\":1,\"fLineStyle\":1,\"fLineWidth\":1,\"fFillColor\":0,\"fFillStyle\":1001,\"fLeftMargin\":0.13,\"fRightMargin\":0.3,\"fBottomMargin\":0.13,\"fTopMargin\":0.1,\"fXfile\":2,\"fYfile\":2,\"fAfile\":1,\"fXstat\":0.99,\"fYstat\":0.99,\"fAstat\":2,\"fFrameFillColor\":0,\"fFrameLineColor\":1,\"fFrameFillStyle\":1001,\"fFrameLineStyle\":1,\"fFrameLineWidth\":1,\"fFrameBorderSize\":1,\"fFrameBorderMode\":0,\"fX1\":-2.28070169934936,\"fY1\":-3282.28048039177,\"fX2\":15.2631581699199,\"fY2\":21966.0312689961,\"fXtoAbsPixelk\":103.480046204376,\"fXtoPixelk\":103.480046204376,\"fXtoPixel\":45.3719994306564,\"fYtoAbsPixelk\":497.640051065433,\"fYtoPixelk\":497.640051065433,\"fYtoPixel\":-0.0226549800904557,\"fUtoAbsPixelk\":5e-5,\"fUtoPixelk\":5e-5,\"fUtoPixel\":796,\"fVtoAbsPixelk\":572.00005,\"fVtoPixelk\":572,\"fVtoPixel\":-572,\"fAbsPixeltoXk\":-2.28070169934936,\"fPixeltoXk\":-2.28070169934936,\"fPixeltoX\":0.0220400249613935,\"fAbsPixeltoYk\":21966.0312689961,\"fPixeltoYk\":-3282.28048039177,\"fPixeltoY\":-44.1404051562725,\"fXlowNDC\":0,\"fYlowNDC\":0,\"fXUpNDC\":0,\"fYUpNDC\":0,\"fWNDC\":1,\"fHNDC\":1,\"fAbsXlowNDC\":0,\"fAbsYlowNDC\":0,\"fAbsWNDC\":1,\"fAbsHNDC\":1,\"fUxmin\":0,\"fUymin\":0,\"fUxmax\":10,\"fUymax\":19441.2,\"fTheta\":30,\"fPhi\":30,\"fAspectRatio\":0,\"fNumber\":0,\"fTickx\":0,\"fTicky\":0,\"fLogx\":0,\"fLogy\":0,\"fLogz\":0,\"fPadPaint\":0,\"fCrosshair\":0,\"fCrosshairPos\":0,\"fBorderSize\":2,\"fBorderMode\":0,\"fModified\":true,\"fGridx\":true,\"fGridy\":true,\"fAbsCoord\":false,\"fEditable\":true,\"fFixedAspectRatio\":false,\"fPrimitives\":{\"_typename\":\"TList\",\"name\":\"TList\",\"arr\":[{\"_typename\":\"TFrame\",\"fUniqueID\":0,\"fBits\":50331656,\"fLineColor\":1,\"fLineStyle\":1,\"fLineWidth\":1,\"fFillColor\":0,\"fFillStyle\":1001,\"fX1\":0,\"fY1\":0,\"fX2\":10,\"fY2\":19441.2,\"fBorderSize\":1,\"fBorderMode\":0},{\"_typename\":\"TH1F\",\"fUniqueID\":0,\"fBits\":50332168,\"fName\":\"db8446\",\"fTitle\":\"\",\"fLineColor\":1,\"fLineStyle\":1,\"fLineWidth\":1,\"fFillColor\":0,\"fFillStyle\":1001,\"fMarkerColor\":1,\"fMarkerStyle\":1,\"fMarkerSize\":1,\"fNcells\":102,\"fXaxis\":{\"_typename\":\"TAxis\",\"fUniqueID\":0,\"fBits\":50333704,\"fName\":\"xaxis\",\"fTitle\":\"\",\"fNdivisions\":510,\"fAxisColor\":1,\"fLabelColor\":1,\"fLabelFont\":42,\"fLabelOffset\":0.005,\"fLabelSize\":0.035,\"fTickLength\":0.03,\"fTitleOffset\":1.4,\"fTitleSize\":0.035,\"fTitleColor\":1,\"fTitleFont\":42,\"fNbins\":100,\"fXmin\":0,\"fXmax\":100,\"fXbins\":[],\"fFirst\":1,\"fLast\":10,\"fBits2\":0,\"fTimeDisplay\":false,\"fTimeFormat\":\"\",\"fLabels\":null,\"fModLabs\":null},\"fYaxis\":{\"_typename\":\"TAxis\",\"fUniqueID\":0,\"fBits\":50331656,\"fName\":\"yaxis\",\"fTitle\":\"\",\"fNdivisions\":510,\"fAxisColor\":1,\"fLabelColor\":1,\"fLabelFont\":42,\"fLabelOffset\":0.005,\"fLabelSize\":0.035,\"fTickLength\":0.03,\"fTitleOffset\":0,\"fTitleSize\":0.035,\"fTitleColor\":1,\"fTitleFont\":42,\"fNbins\":1,\"fXmin\":0,\"fXmax\":1,\"fXbins\":[],\"fFirst\":0,\"fLast\":0,\"fBits2\":0,\"fTimeDisplay\":false,\"fTimeFormat\":\"\",\"fLabels\":null,\"fModLabs\":null},\"fZaxis\":{\"_typename\":\"TAxis\",\"fUniqueID\":0,\"fBits\":50331648,\"fName\":\"zaxis\",\"fTitle\":\"\",\"fNdivisions\":510,\"fAxisColor\":1,\"fLabelColor\":1,\"fLabelFont\":42,\"fLabelOffset\":0.005,\"fLabelSize\":0.035,\"fTickLength\":0.03,\"fTitleOffset\":1,\"fTitleSize\":0.035,\"fTitleColor\":1,\"fTitleFont\":42,\"fNbins\":1,\"fXmin\":0,\"fXmax\":1,\"fXbins\":[],\"fFirst\":0,\"fLast\":0,\"fBits2\":0,\"fTimeDisplay\":false,\"fTimeFormat\":\"\",\"fLabels\":null,\"fModLabs\":null},\"fBarOffset\":0,\"fBarWidth\":1000,\"fEntries\":91800,\"fTsumw\":91800,\"fTsumw2\":91800,\"fTsumwx\":551399,\"fTsumwx2\":4353401,\"fMaximum\":19441.2,\"fMinimum\":0,\"fNormFactor\":0,\"fContour\":[],\"fSumw2\":[0,3,692,4854,11728,16201,15706,12481,9122,6395,4382,2932,1937,1408,971,726,526,411,286,221,175,121,107,76,52,55,35,31,17,18,22,12,10,9,9,12,11,6,8,3,1,4,2,0,2,3,2,2,2,1,1,0,0,3,1,0,0,1,0,0,0,1,0,0,1,1,0,0,1,0,0,0,0,0,0,0,0,0,0,0,0,0,0,0,0,0,0,0,0,0,0,0,0,0,0,0,0,0,0,0,0,0],\"fOption\":\"\",\"fFunctions\":{\"_typename\":\"TList\",\"name\":\"TList\",\"arr\":[],\"opt\":[]},\"fBufferSize\":0,\"fBuffer\":[],\"fBinStatErrOpt\":0,\"fStatOverflows\":2,\"fArray\":[0,3,692,4854,11728,16201,15706,12481,9122,6395,4382,2932,1937,1408,971,726,526,411,286,221,175,121,107,76,52,55,35,31,17,18,22,12,10,9,9,12,11,6,8,3,1,4,2,0,2,3,2,2,2,1,1,0,0,3,1,0,0,1,0,0,0,1,0,0,1,1,0,0,1,0,0,0,0,0,0,0,0,0,0,0,0,0,0,0,0,0,0,0,0,0,0,0,0,0,0,0,0,0,0,0,0,0]},{\"_typename\":\"TLatex\",\"fUniqueID\":0,\"fBits\":50348040,\"fName\":\"\",\"fTitle\":\"ttbar, PU200, L1Track EMU, p_{T}^{tk} > 5 GeV\",\"fTextAngle\":0,\"fTextSize\":0.03,\"fTextAlign\":11,\"fTextColor\":1,\"fTextFont\":62,\"fX\":0.15,\"fY\":0.85,\"fLineColor\":1,\"fLineStyle\":1,\"fLineWidth\":2,\"fLimitFactorSize\":3,\"fOriginSize\":0.04},{\"_typename\":\"TLatex\",\"fUniqueID\":0,\"fBits\":50331656,\"fName\":\"\",\"fTitle\":\"\",\"fTextAngle\":0,\"fTextSize\":0.03,\"fTextAlign\":11,\"fTextColor\":1,\"fTextFont\":62,\"fX\":0,\"fY\":0,\"fLineColor\":1,\"fLineStyle\":1,\"fLineWidth\":2,\"fLimitFactorSize\":3,\"fOriginSize\":0.04},{\"_typename\":\"TLine\",\"fUniqueID\":0,\"fBits\":50331656,\"fLineColor\":1,\"fLineStyle\":2,\"fLineWidth\":1,\"fX1\":10.3601637107776,\"fY1\":0,\"fX2\":10.3601637107776,\"fY2\":19441.2},{\"_typename\":\"TLine\",\"fUniqueID\":0,\"fBits\":50331656,\"fLineColor\":1,\"fLineStyle\":2,\"fLineWidth\":1,\"fX1\":12.5518465909091,\"fY1\":0,\"fX2\":12.5518465909091,\"fY2\":19441.2},{\"_typename\":\"TLine\",\"fUniqueID\":0,\"fBits\":50331656,\"fLineColor\":1,\"fLineStyle\":2,\"fLineWidth\":1,\"fX1\":21.588785046729,\"fY1\":0,\"fX2\":21.588785046729,\"fY2\":19441.2}],\"opt\":[\"\",\"hist\",\"same\",\"same\",\"same\",\"same\",\"same\"]},\"fExecs\":null,\"fName\":\"c_7692b2\",\"fTitle\":\"c_7692b2\",\"fNumPaletteColor\":0,\"fNextPaletteColor\":0,\"fDISPLAY\":\"$DISPLAY\",\"fDoubleBuffer\":0,\"fRetained\":true,\"fXsizeUser\":0,\"fYsizeUser\":0,\"fXsizeReal\":20,\"fYsizeReal\":15,\"fWindowTopX\":0,\"fWindowTopY\":0,\"fWindowWidth\":0,\"fWindowHeight\":0,\"fCw\":796,\"fCh\":572,\"fCatt\":{\"_typename\":\"TAttCanvas\",\"fXBetween\":2,\"fYBetween\":2,\"fTitleFromTop\":1.2,\"fXdate\":0.2,\"fYdate\":0.3,\"fAdate\":1},\"kMoveOpaque\":true,\"kResizeOpaque\":true,\"fHighLightColor\":2,\"fBatch\":true,\"kShowEventStatus\":false,\"kAutoExec\":true,\"kMenuBar\":true});\n",
       "       Core.draw(\"root_plot_23\", obj, \"\");\n",
       "     }\n",
       " );\n",
       "</script>\n"
      ],
      "text/plain": [
       "<IPython.core.display.HTML object>"
      ]
     },
     "metadata": {},
     "output_type": "display_data"
    },
    {
     "data": {
      "text/html": [
       "\n",
       "<div id=\"root_plot_24\"\n",
       "     style=\"width: 796px; height: 572px\">\n",
       "</div>\n",
       "\n",
       "<script>\n",
       " requirejs.config({\n",
       "     paths: {\n",
       "       'JSRootCore' : 'https://root.cern.ch/js/notebook//scripts/JSRootCore',\n",
       "     }\n",
       "   });\n",
       " require(['JSRootCore'],\n",
       "     function(Core) {\n",
       "       var obj = Core.JSONR_unref({\"_typename\":\"TCanvas\",\"fUniqueID\":0,\"fBits\":53673992,\"fLineColor\":1,\"fLineStyle\":1,\"fLineWidth\":1,\"fFillColor\":0,\"fFillStyle\":1001,\"fLeftMargin\":0.13,\"fRightMargin\":0.3,\"fBottomMargin\":0.13,\"fTopMargin\":0.1,\"fXfile\":2,\"fYfile\":2,\"fAfile\":1,\"fXstat\":0.99,\"fYstat\":0.99,\"fAstat\":2,\"fFrameFillColor\":0,\"fFrameLineColor\":1,\"fFrameFillStyle\":1001,\"fFrameLineStyle\":1,\"fFrameLineWidth\":1,\"fFrameBorderSize\":1,\"fFrameBorderMode\":0,\"fX1\":-7.28070169934936,\"fY1\":-0.820531408959264,\"fX2\":10.2631581699199,\"fY2\":2.80612678577594,\"fXtoAbsPixelk\":330.340043357658,\"fXtoPixelk\":330.340043357658,\"fXtoPixel\":45.3719994306564,\"fYtoAbsPixelk\":442.585051198612,\"fYtoPixelk\":442.585051198612,\"fYtoPixel\":-157.720956673107,\"fUtoAbsPixelk\":5e-5,\"fUtoPixelk\":5e-5,\"fUtoPixel\":796,\"fVtoAbsPixelk\":572.00005,\"fVtoPixelk\":572,\"fVtoPixel\":-572,\"fAbsPixeltoXk\":-7.28070169934936,\"fPixeltoXk\":-7.28070169934936,\"fPixeltoX\":0.0220400249613935,\"fAbsPixeltoYk\":2.80612678577594,\"fPixeltoYk\":-0.820531408959264,\"fPixeltoY\":-0.00634031152925734,\"fXlowNDC\":0,\"fYlowNDC\":0,\"fXUpNDC\":0,\"fYUpNDC\":0,\"fWNDC\":1,\"fHNDC\":1,\"fAbsXlowNDC\":0,\"fAbsYlowNDC\":0,\"fAbsWNDC\":1,\"fAbsHNDC\":1,\"fUxmin\":-5,\"fUymin\":-0.349065850398866,\"fUxmax\":5,\"fUymax\":2.44346095279206,\"fTheta\":30,\"fPhi\":30,\"fAspectRatio\":0,\"fNumber\":0,\"fTickx\":0,\"fTicky\":0,\"fLogx\":0,\"fLogy\":0,\"fLogz\":0,\"fPadPaint\":0,\"fCrosshair\":0,\"fCrosshairPos\":0,\"fBorderSize\":2,\"fBorderMode\":0,\"fModified\":false,\"fGridx\":true,\"fGridy\":true,\"fAbsCoord\":false,\"fEditable\":true,\"fFixedAspectRatio\":false,\"fPrimitives\":{\"_typename\":\"TList\",\"name\":\"TList\",\"arr\":[{\"_typename\":\"TFrame\",\"fUniqueID\":0,\"fBits\":50331656,\"fLineColor\":1,\"fLineStyle\":1,\"fLineWidth\":1,\"fFillColor\":0,\"fFillStyle\":1001,\"fX1\":-5,\"fY1\":-0.349065850398866,\"fX2\":5,\"fY2\":2.44346095279206,\"fBorderSize\":1,\"fBorderMode\":0},{\"_typename\":\"TProfile2D\",\"fUniqueID\":0,\"fBits\":50332168,\"fName\":\"db9ad3\",\"fTitle\":\"\",\"fLineColor\":1,\"fLineStyle\":1,\"fLineWidth\":1,\"fFillColor\":0,\"fFillStyle\":1001,\"fMarkerColor\":1,\"fMarkerStyle\":1,\"fMarkerSize\":1,\"fNcells\":143,\"fXaxis\":{\"_typename\":\"TAxis\",\"fUniqueID\":0,\"fBits\":50331656,\"fName\":\"xaxis\",\"fTitle\":\" #eta, #phi\",\"fNdivisions\":510,\"fAxisColor\":1,\"fLabelColor\":1,\"fLabelFont\":42,\"fLabelOffset\":0.005,\"fLabelSize\":0.035,\"fTickLength\":0.03,\"fTitleOffset\":1.4,\"fTitleSize\":0.035,\"fTitleColor\":1,\"fTitleFont\":42,\"fNbins\":11,\"fXmin\":-5,\"fXmax\":5,\"fXbins\":[-5,-4,-3,-2.5,-1.5,-0.5,0.5,1.5,2.5,3,4,5],\"fFirst\":0,\"fLast\":0,\"fBits2\":0,\"fTimeDisplay\":false,\"fTimeFormat\":\"\",\"fLabels\":null,\"fModLabs\":null},\"fYaxis\":{\"_typename\":\"TAxis\",\"fUniqueID\":0,\"fBits\":50333704,\"fName\":\"yaxis\",\"fTitle\":\"\",\"fNdivisions\":510,\"fAxisColor\":1,\"fLabelColor\":1,\"fLabelFont\":42,\"fLabelOffset\":0.005,\"fLabelSize\":0.035,\"fTickLength\":0.03,\"fTitleOffset\":0,\"fTitleSize\":0.035,\"fTitleColor\":1,\"fTitleFont\":42,\"fNbins\":9,\"fXmin\":-3.14159265358979,\"fXmax\":3.14159265358979,\"fXbins\":[-3.14159265358979,-2.44346095279206,-1.74532925199433,-1.0471975511966,-0.349065850398866,0.349065850398866,1.0471975511966,1.74532925199433,2.44346095279206,3.14159265358979],\"fFirst\":5,\"fLast\":8,\"fBits2\":0,\"fTimeDisplay\":false,\"fTimeFormat\":\"\",\"fLabels\":null,\"fModLabs\":null},\"fZaxis\":{\"_typename\":\"TAxis\",\"fUniqueID\":0,\"fBits\":50331648,\"fName\":\"zaxis\",\"fTitle\":\"\",\"fNdivisions\":510,\"fAxisColor\":1,\"fLabelColor\":1,\"fLabelFont\":42,\"fLabelOffset\":0.005,\"fLabelSize\":0.035,\"fTickLength\":0.03,\"fTitleOffset\":1,\"fTitleSize\":0.035,\"fTitleColor\":1,\"fTitleFont\":42,\"fNbins\":1,\"fXmin\":0,\"fXmax\":1,\"fXbins\":[],\"fFirst\":0,\"fLast\":0,\"fBits2\":0,\"fTimeDisplay\":false,\"fTimeFormat\":\"\",\"fLabels\":null,\"fModLabs\":null},\"fBarOffset\":0,\"fBarWidth\":1000,\"fEntries\":9088200,\"fTsumw\":9088200,\"fTsumw2\":9088200,\"fTsumwx\":0,\"fTsumwx2\":74461275,\"fMaximum\":-1111,\"fMinimum\":-1111,\"fNormFactor\":0,\"fContour\":[0,0.0737211328976035,0.147442265795207,0.22116339869281,0.294884531590414,0.368605664488017,0.442326797385621,0.516047930283224,0.589769063180828,0.663490196078431,0.737211328976035,0.810932461873638,0.884653594771242,0.958374727668845,1.03209586056645,1.10581699346405,1.17953812636166,1.25325925925926,1.32698039215686,1.40070152505447],\"fSumw2\":[0,0,0,0,0,0,0,0,0,0,0,0,0,0,0,0,0,0,0,0,0,0,0,0,0,0,0,0,0,15781,227532,500245,641318,511383,221891,15487,0,0,0,0,0,0,14501,226483,501860,639684,500235,223253,15706,0,0,0,0,0,0,14671,214861,492838,641516,495753,226250,14981,0,0,0,0,0,0,14939,227657,497783,644416,494203,222634,16701,0,0,0,0,0,0,13529,228130,507110,652230,501626,224072,16899,0,0,0,0,0,0,13596,221262,494588,637684,503586,226744,16425,0,0,0,0,0,0,15071,219866,487914,643340,511451,227666,16177,0,0,0,0,0,0,0,0,0,0,0,0,0,0,0,0,0,0,0,0,0,0,0,0,0,0,0,0,0],\"fOption\":\"\",\"fFunctions\":{\"_typename\":\"TList\",\"name\":\"TList\",\"arr\":[{\"_typename\":\"TPaletteAxis\",\"fUniqueID\":0,\"fBits\":50331648,\"fLineColor\":1,\"fLineStyle\":1,\"fLineWidth\":1,\"fFillColor\":1178,\"fFillStyle\":1001,\"fX1\":5.08771929934635,\"fY1\":-0.349065850398866,\"fX2\":5.87719299346346,\"fY2\":2.44346095279206,\"fX1NDC\":0.704999988079071,\"fY1NDC\":0.129999998137355,\"fX2NDC\":0.749999988079071,\"fY2NDC\":0.89999999627471,\"fBorderSize\":4,\"fInit\":1,\"fShadowColor\":1,\"fCornerRadius\":0,\"fOption\":\"br\",\"fName\":\"TPave\",\"fAxis\":{\"_typename\":\"TGaxis\",\"fUniqueID\":0,\"fBits\":50331648,\"fLineColor\":1,\"fLineStyle\":1,\"fLineWidth\":1,\"fX1\":0,\"fY1\":0,\"fX2\":0,\"fY2\":0,\"fTextAngle\":0,\"fTextSize\":0.04,\"fTextAlign\":11,\"fTextColor\":1,\"fTextFont\":42,\"fWmin\":0,\"fWmax\":0,\"fGridLength\":0,\"fTickSize\":0.03,\"fLabelOffset\":0.005,\"fLabelSize\":0.035,\"fTitleOffset\":1,\"fTitleSize\":0.035,\"fNdiv\":0,\"fLabelColor\":1,\"fLabelFont\":42,\"fNModLabs\":0,\"fChopt\":\"\",\"fName\":\"\",\"fTitle\":\"\",\"fTimeFormat\":\"\",\"fFunctionName\":\"\",\"fModLabs\":null},\"fName\":\"palette\"}],\"opt\":[\"br\"]},\"fBufferSize\":0,\"fBuffer\":[],\"fBinStatErrOpt\":0,\"fStatOverflows\":2,\"fScalefactor\":1,\"fTsumwy\":0,\"fTsumwy2\":29529856.3680614,\"fTsumwxy\":1.63069557856943e-12,\"fArray\":[0,0,0,0,0,0,0,0,0,0,0,0,0,0,0,0,0,0,0,0,0,0,0,0,0,0,0,0,0,7109,62346,112613,134774,112013,61451,7067,0,0,0,0,0,0,7051,62311,112726,134342,112009,61717,7158,0,0,0,0,0,0,7023,61879,112298,134296,112573,62378,7129,0,0,0,0,0,0,7067,62817,112683,134900,112393,62310,7259,0,0,0,0,0,0,6787,62414,112624,135352,112458,61980,7179,0,0,0,0,0,0,6758,61586,112412,134836,112586,62354,7093,0,0,0,0,0,0,7101,61370,111962,134870,113141,62622,7211,0,0,0,0,0,0,0,0,0,0,0,0,0,0,0,0,0,0,0,0,0,0,0,0,0,0,0,0,0],\"fBinEntries\":[0,0,0,0,0,0,0,0,0,0,0,0,0,0,91800,91800,91800,91800,91800,91800,91800,91800,91800,91800,91800,0,0,91800,91800,91800,91800,91800,91800,91800,91800,91800,91800,91800,0,0,91800,91800,91800,91800,91800,91800,91800,91800,91800,91800,91800,0,0,91800,91800,91800,91800,91800,91800,91800,91800,91800,91800,91800,0,0,91800,91800,91800,91800,91800,91800,91800,91800,91800,91800,91800,0,0,91800,91800,91800,91800,91800,91800,91800,91800,91800,91800,91800,0,0,91800,91800,91800,91800,91800,91800,91800,91800,91800,91800,91800,0,0,91800,91800,91800,91800,91800,91800,91800,91800,91800,91800,91800,0,0,91800,91800,91800,91800,91800,91800,91800,91800,91800,91800,91800,0,0,0,0,0,0,0,0,0,0,0,0,0,0],\"fErrorMode\":0,\"fZmin\":0,\"fZmax\":0,\"fTsumwz\":3486388,\"fTsumwz2\":14853528,\"fBinSumw2\":[0,0,0,0,0,0,0,0,0,0,0,0,0,0,91800,91800,91800,91800,91800,91800,91800,91800,91800,91800,91800,0,0,91800,91800,91800,91800,91800,91800,91800,91800,91800,91800,91800,0,0,91800,91800,91800,91800,91800,91800,91800,91800,91800,91800,91800,0,0,91800,91800,91800,91800,91800,91800,91800,91800,91800,91800,91800,0,0,91800,91800,91800,91800,91800,91800,91800,91800,91800,91800,91800,0,0,91800,91800,91800,91800,91800,91800,91800,91800,91800,91800,91800,0,0,91800,91800,91800,91800,91800,91800,91800,91800,91800,91800,91800,0,0,91800,91800,91800,91800,91800,91800,91800,91800,91800,91800,91800,0,0,91800,91800,91800,91800,91800,91800,91800,91800,91800,91800,91800,0,0,0,0,0,0,0,0,0,0,0,0,0,0]},{\"_typename\":\"TLatex\",\"fUniqueID\":0,\"fBits\":50348040,\"fName\":\"\",\"fTitle\":\"ttbar, PU200, L1Track EMU, p_{T}^{tk} > 5 GeV\",\"fTextAngle\":0,\"fTextSize\":0.03,\"fTextAlign\":11,\"fTextColor\":1,\"fTextFont\":62,\"fX\":0.15,\"fY\":0.85,\"fLineColor\":1,\"fLineStyle\":1,\"fLineWidth\":2,\"fLimitFactorSize\":3,\"fOriginSize\":0.04},{\"_typename\":\"TLatex\",\"fUniqueID\":0,\"fBits\":50331656,\"fName\":\"\",\"fTitle\":\"\",\"fTextAngle\":0,\"fTextSize\":0.03,\"fTextAlign\":11,\"fTextColor\":1,\"fTextFont\":62,\"fX\":0,\"fY\":0,\"fLineColor\":1,\"fLineStyle\":1,\"fLineWidth\":2,\"fLimitFactorSize\":3,\"fOriginSize\":0.04}],\"opt\":[\"\",\"COLZ\",\"same\",\"same\"]},\"fExecs\":null,\"fName\":\"c_7a0663\",\"fTitle\":\"c_7a0663\",\"fNumPaletteColor\":0,\"fNextPaletteColor\":0,\"fDISPLAY\":\"$DISPLAY\",\"fDoubleBuffer\":0,\"fRetained\":true,\"fXsizeUser\":0,\"fYsizeUser\":0,\"fXsizeReal\":20,\"fYsizeReal\":15,\"fWindowTopX\":0,\"fWindowTopY\":0,\"fWindowWidth\":0,\"fWindowHeight\":0,\"fCw\":796,\"fCh\":572,\"fCatt\":{\"_typename\":\"TAttCanvas\",\"fXBetween\":2,\"fYBetween\":2,\"fTitleFromTop\":1.2,\"fXdate\":0.2,\"fYdate\":0.3,\"fAdate\":1},\"kMoveOpaque\":true,\"kResizeOpaque\":true,\"fHighLightColor\":2,\"fBatch\":true,\"kShowEventStatus\":false,\"kAutoExec\":true,\"kMenuBar\":true});\n",
       "       Core.draw(\"root_plot_24\", obj, \"\");\n",
       "     }\n",
       " );\n",
       "</script>\n"
      ],
      "text/plain": [
       "<IPython.core.display.HTML object>"
      ]
     },
     "metadata": {},
     "output_type": "display_data"
    }
   ],
   "source": [
    "hsets, labels, text = hplot.get_histo(histos.CorrOccupancyHistos, sample, 'PU200', ['L1TrkEmu'], ['Pt5'], None, debug=False)\n",
    "text = '{}, {}'.format(sample, text)\n",
    "\n",
    "res=np.zeros(quantiles.shape)\n",
    "n = hsets[0].h_eventMaxOcc.GetQuantiles(quantiles.shape[0], res, quantiles)\n",
    "for id,quantile in enumerate(quantiles):\n",
    "    print 'quantile {}% = {}'.format(quantile*100, res[id])\n",
    "\n",
    "\n",
    "draw([his.h_eventMaxOcc for his in hsets], labels, text=text, min_x=0., max_x=10, logy=False, options='hist', v_lines=res.tolist())\n",
    "draw([his.h_averageOccupancy for his in hsets], labels, text=text, logy=False, options='COLZ')\n"
   ]
  },
  {
   "cell_type": "code",
   "execution_count": 33,
   "metadata": {},
   "outputs": [
    {
     "name": "stdout",
     "output_type": "stream",
     "text": [
      "quantile 90.0% = 34.1366548043\n",
      "quantile 95.0% = 40.3745327103\n",
      "quantile 99.5% = 69.8890697674\n"
     ]
    },
    {
     "data": {
      "text/plain": [
       "<drawingTools.DrawMachine at 0x11e378c10>"
      ]
     },
     "execution_count": 33,
     "metadata": {},
     "output_type": "execute_result"
    },
    {
     "data": {
      "text/html": [
       "\n",
       "<div id=\"root_plot_25\"\n",
       "     style=\"width: 796px; height: 572px\">\n",
       "</div>\n",
       "\n",
       "<script>\n",
       " requirejs.config({\n",
       "     paths: {\n",
       "       'JSRootCore' : 'https://root.cern.ch/js/notebook//scripts/JSRootCore',\n",
       "     }\n",
       "   });\n",
       " require(['JSRootCore'],\n",
       "     function(Core) {\n",
       "       var obj = Core.JSONR_unref({\"_typename\":\"TCanvas\",\"fUniqueID\":0,\"fBits\":53673992,\"fLineColor\":1,\"fLineStyle\":1,\"fLineWidth\":1,\"fFillColor\":0,\"fFillStyle\":1001,\"fLeftMargin\":0.13,\"fRightMargin\":0.3,\"fBottomMargin\":0.13,\"fTopMargin\":0.1,\"fXfile\":2,\"fYfile\":2,\"fAfile\":1,\"fXstat\":0.99,\"fYstat\":0.99,\"fAstat\":2,\"fFrameFillColor\":0,\"fFrameLineColor\":1,\"fFrameFillStyle\":1001,\"fFrameLineStyle\":1,\"fFrameLineWidth\":1,\"fFrameBorderSize\":1,\"fFrameBorderMode\":0,\"fX1\":-2.28070169934936,\"fY1\":-1357.40258123726,\"fX2\":15.2631581699199,\"fY2\":9084.15588557952,\"fXtoAbsPixelk\":103.480046204376,\"fXtoPixelk\":103.480046204376,\"fXtoPixel\":45.3719994306564,\"fYtoAbsPixelk\":497.640051065433,\"fYtoPixelk\":497.640051065433,\"fYtoPixel\":-0.0547810943948466,\"fUtoAbsPixelk\":5e-5,\"fUtoPixelk\":5e-5,\"fUtoPixel\":796,\"fVtoAbsPixelk\":572.00005,\"fVtoPixelk\":572,\"fVtoPixel\":-572,\"fAbsPixeltoXk\":-2.28070169934936,\"fPixeltoXk\":-2.28070169934936,\"fPixeltoX\":0.0220400249613935,\"fAbsPixeltoYk\":9084.15588557952,\"fPixeltoYk\":-1357.40258123726,\"fPixeltoY\":-18.2544728440853,\"fXlowNDC\":0,\"fYlowNDC\":0,\"fXUpNDC\":0,\"fYUpNDC\":0,\"fWNDC\":1,\"fHNDC\":1,\"fAbsXlowNDC\":0,\"fAbsYlowNDC\":0,\"fAbsWNDC\":1,\"fAbsHNDC\":1,\"fUxmin\":0,\"fUymin\":0,\"fUxmax\":10,\"fUymax\":8040,\"fTheta\":30,\"fPhi\":30,\"fAspectRatio\":0,\"fNumber\":0,\"fTickx\":0,\"fTicky\":0,\"fLogx\":0,\"fLogy\":0,\"fLogz\":0,\"fPadPaint\":0,\"fCrosshair\":0,\"fCrosshairPos\":0,\"fBorderSize\":2,\"fBorderMode\":0,\"fModified\":true,\"fGridx\":true,\"fGridy\":true,\"fAbsCoord\":false,\"fEditable\":true,\"fFixedAspectRatio\":false,\"fPrimitives\":{\"_typename\":\"TList\",\"name\":\"TList\",\"arr\":[{\"_typename\":\"TFrame\",\"fUniqueID\":0,\"fBits\":50331656,\"fLineColor\":1,\"fLineStyle\":1,\"fLineWidth\":1,\"fFillColor\":0,\"fFillStyle\":1001,\"fX1\":0,\"fY1\":0,\"fX2\":10,\"fY2\":8040,\"fBorderSize\":1,\"fBorderMode\":0},{\"_typename\":\"TH1F\",\"fUniqueID\":0,\"fBits\":50332168,\"fName\":\"cda017\",\"fTitle\":\"\",\"fLineColor\":1,\"fLineStyle\":1,\"fLineWidth\":1,\"fFillColor\":0,\"fFillStyle\":1001,\"fMarkerColor\":1,\"fMarkerStyle\":1,\"fMarkerSize\":1,\"fNcells\":102,\"fXaxis\":{\"_typename\":\"TAxis\",\"fUniqueID\":0,\"fBits\":50333704,\"fName\":\"xaxis\",\"fTitle\":\"\",\"fNdivisions\":510,\"fAxisColor\":1,\"fLabelColor\":1,\"fLabelFont\":42,\"fLabelOffset\":0.005,\"fLabelSize\":0.035,\"fTickLength\":0.03,\"fTitleOffset\":1.4,\"fTitleSize\":0.035,\"fTitleColor\":1,\"fTitleFont\":42,\"fNbins\":100,\"fXmin\":0,\"fXmax\":100,\"fXbins\":[],\"fFirst\":1,\"fLast\":10,\"fBits2\":0,\"fTimeDisplay\":false,\"fTimeFormat\":\"\",\"fLabels\":null,\"fModLabs\":null},\"fYaxis\":{\"_typename\":\"TAxis\",\"fUniqueID\":0,\"fBits\":50331656,\"fName\":\"yaxis\",\"fTitle\":\"\",\"fNdivisions\":510,\"fAxisColor\":1,\"fLabelColor\":1,\"fLabelFont\":42,\"fLabelOffset\":0.005,\"fLabelSize\":0.035,\"fTickLength\":0.03,\"fTitleOffset\":0,\"fTitleSize\":0.035,\"fTitleColor\":1,\"fTitleFont\":42,\"fNbins\":1,\"fXmin\":0,\"fXmax\":1,\"fXbins\":[],\"fFirst\":0,\"fLast\":0,\"fBits2\":0,\"fTimeDisplay\":false,\"fTimeFormat\":\"\",\"fLabels\":null,\"fModLabs\":null},\"fZaxis\":{\"_typename\":\"TAxis\",\"fUniqueID\":0,\"fBits\":50331648,\"fName\":\"zaxis\",\"fTitle\":\"\",\"fNdivisions\":510,\"fAxisColor\":1,\"fLabelColor\":1,\"fLabelFont\":42,\"fLabelOffset\":0.005,\"fLabelSize\":0.035,\"fTickLength\":0.03,\"fTitleOffset\":1,\"fTitleSize\":0.035,\"fTitleColor\":1,\"fTitleFont\":42,\"fNbins\":1,\"fXmin\":0,\"fXmax\":1,\"fXbins\":[],\"fFirst\":0,\"fLast\":0,\"fBits2\":0,\"fTimeDisplay\":false,\"fTimeFormat\":\"\",\"fLabels\":null,\"fModLabs\":null},\"fBarOffset\":0,\"fBarWidth\":1000,\"fEntries\":91800,\"fTsumw\":91554,\"fTsumw2\":91554,\"fTsumwx\":2229280,\"fTsumwx2\":61427912,\"fMaximum\":8040,\"fMinimum\":0,\"fNormFactor\":0,\"fContour\":[],\"fSumw2\":[0,0,0,0,0,0,0,0,0,5,11,65,170,464,918,1688,2591,3725,4739,5534,6308,6621,6700,6415,5856,5463,4746,4125,3494,3125,2623,2206,1886,1535,1232,1124,908,812,637,554,536,428,433,355,299,263,257,227,189,186,160,139,138,121,110,99,93,89,78,70,54,68,57,49,51,59,48,38,44,40,43,22,28,24,23,13,16,15,25,21,19,10,23,20,18,12,16,11,17,19,17,8,13,7,12,2,9,7,10,7,9,246],\"fOption\":\"\",\"fFunctions\":{\"_typename\":\"TList\",\"name\":\"TList\",\"arr\":[],\"opt\":[]},\"fBufferSize\":0,\"fBuffer\":[],\"fBinStatErrOpt\":0,\"fStatOverflows\":2,\"fArray\":[0,0,0,0,0,0,0,0,0,5,11,65,170,464,918,1688,2591,3725,4739,5534,6308,6621,6700,6415,5856,5463,4746,4125,3494,3125,2623,2206,1886,1535,1232,1124,908,812,637,554,536,428,433,355,299,263,257,227,189,186,160,139,138,121,110,99,93,89,78,70,54,68,57,49,51,59,48,38,44,40,43,22,28,24,23,13,16,15,25,21,19,10,23,20,18,12,16,11,17,19,17,8,13,7,12,2,9,7,10,7,9,246]},{\"_typename\":\"TLatex\",\"fUniqueID\":0,\"fBits\":50348040,\"fName\":\"\",\"fTitle\":\"ttbar, PU200, L1Track, p_{T}^{tk} > 2 GeV\",\"fTextAngle\":0,\"fTextSize\":0.03,\"fTextAlign\":11,\"fTextColor\":1,\"fTextFont\":62,\"fX\":0.15,\"fY\":0.85,\"fLineColor\":1,\"fLineStyle\":1,\"fLineWidth\":2,\"fLimitFactorSize\":3,\"fOriginSize\":0.04},{\"_typename\":\"TLatex\",\"fUniqueID\":0,\"fBits\":50331656,\"fName\":\"\",\"fTitle\":\"\",\"fTextAngle\":0,\"fTextSize\":0.03,\"fTextAlign\":11,\"fTextColor\":1,\"fTextFont\":62,\"fX\":0,\"fY\":0,\"fLineColor\":1,\"fLineStyle\":1,\"fLineWidth\":2,\"fLimitFactorSize\":3,\"fOriginSize\":0.04},{\"_typename\":\"TLine\",\"fUniqueID\":0,\"fBits\":50331656,\"fLineColor\":1,\"fLineStyle\":2,\"fLineWidth\":1,\"fX1\":34.1366548042705,\"fY1\":0,\"fX2\":34.1366548042705,\"fY2\":8040},{\"_typename\":\"TLine\",\"fUniqueID\":0,\"fBits\":50331656,\"fLineColor\":1,\"fLineStyle\":2,\"fLineWidth\":1,\"fX1\":40.3745327102804,\"fY1\":0,\"fX2\":40.3745327102804,\"fY2\":8040},{\"_typename\":\"TLine\",\"fUniqueID\":0,\"fBits\":50331656,\"fLineColor\":1,\"fLineStyle\":2,\"fLineWidth\":1,\"fX1\":69.8890697674418,\"fY1\":0,\"fX2\":69.8890697674418,\"fY2\":8040}],\"opt\":[\"\",\"hist\",\"same\",\"same\",\"same\",\"same\",\"same\"]},\"fExecs\":null,\"fName\":\"c_70b079\",\"fTitle\":\"c_70b079\",\"fNumPaletteColor\":0,\"fNextPaletteColor\":0,\"fDISPLAY\":\"$DISPLAY\",\"fDoubleBuffer\":0,\"fRetained\":true,\"fXsizeUser\":0,\"fYsizeUser\":0,\"fXsizeReal\":20,\"fYsizeReal\":15,\"fWindowTopX\":0,\"fWindowTopY\":0,\"fWindowWidth\":0,\"fWindowHeight\":0,\"fCw\":796,\"fCh\":572,\"fCatt\":{\"_typename\":\"TAttCanvas\",\"fXBetween\":2,\"fYBetween\":2,\"fTitleFromTop\":1.2,\"fXdate\":0.2,\"fYdate\":0.3,\"fAdate\":1},\"kMoveOpaque\":true,\"kResizeOpaque\":true,\"fHighLightColor\":2,\"fBatch\":true,\"kShowEventStatus\":false,\"kAutoExec\":true,\"kMenuBar\":true});\n",
       "       Core.draw(\"root_plot_25\", obj, \"\");\n",
       "     }\n",
       " );\n",
       "</script>\n"
      ],
      "text/plain": [
       "<IPython.core.display.HTML object>"
      ]
     },
     "metadata": {},
     "output_type": "display_data"
    },
    {
     "data": {
      "text/html": [
       "\n",
       "<div id=\"root_plot_26\"\n",
       "     style=\"width: 796px; height: 572px\">\n",
       "</div>\n",
       "\n",
       "<script>\n",
       " requirejs.config({\n",
       "     paths: {\n",
       "       'JSRootCore' : 'https://root.cern.ch/js/notebook//scripts/JSRootCore',\n",
       "     }\n",
       "   });\n",
       " require(['JSRootCore'],\n",
       "     function(Core) {\n",
       "       var obj = Core.JSONR_unref({\"_typename\":\"TCanvas\",\"fUniqueID\":0,\"fBits\":53673992,\"fLineColor\":1,\"fLineStyle\":1,\"fLineWidth\":1,\"fFillColor\":0,\"fFillStyle\":1001,\"fLeftMargin\":0.13,\"fRightMargin\":0.3,\"fBottomMargin\":0.13,\"fTopMargin\":0.1,\"fXfile\":2,\"fYfile\":2,\"fAfile\":1,\"fXstat\":0.99,\"fYstat\":0.99,\"fAstat\":2,\"fFrameFillColor\":0,\"fFrameLineColor\":1,\"fFrameFillStyle\":1001,\"fFrameLineStyle\":1,\"fFrameLineWidth\":1,\"fFrameBorderSize\":1,\"fFrameBorderMode\":0,\"fX1\":-7.28070169934936,\"fY1\":-1.05626418823946,\"fX2\":10.2631581699199,\"fY2\":4.38372310386334,\"fXtoAbsPixelk\":330.340043357658,\"fXtoPixelk\":330.340043357658,\"fXtoPixel\":45.3719994306564,\"fYtoAbsPixelk\":460.936717820886,\"fYtoPixelk\":460.936717820886,\"fYtoPixel\":-105.147304448738,\"fUtoAbsPixelk\":5e-5,\"fUtoPixelk\":5e-5,\"fUtoPixel\":796,\"fVtoAbsPixelk\":572.00005,\"fVtoPixelk\":572,\"fVtoPixel\":-572,\"fAbsPixeltoXk\":-7.28070169934936,\"fPixeltoXk\":-7.28070169934936,\"fPixeltoX\":0.0220400249613935,\"fAbsPixeltoYk\":4.38372310386334,\"fPixeltoYk\":-1.05626418823946,\"fPixeltoY\":-0.00951046729388602,\"fXlowNDC\":0,\"fYlowNDC\":0,\"fXUpNDC\":0,\"fYUpNDC\":0,\"fWNDC\":1,\"fHNDC\":1,\"fAbsXlowNDC\":0,\"fAbsYlowNDC\":0,\"fAbsWNDC\":1,\"fAbsHNDC\":1,\"fUxmin\":-5,\"fUymin\":-0.349065850398866,\"fUxmax\":5,\"fUymax\":3.83972435438753,\"fTheta\":30,\"fPhi\":30,\"fAspectRatio\":0,\"fNumber\":0,\"fTickx\":0,\"fTicky\":0,\"fLogx\":0,\"fLogy\":0,\"fLogz\":0,\"fPadPaint\":0,\"fCrosshair\":0,\"fCrosshairPos\":0,\"fBorderSize\":2,\"fBorderMode\":0,\"fModified\":false,\"fGridx\":true,\"fGridy\":true,\"fAbsCoord\":false,\"fEditable\":true,\"fFixedAspectRatio\":false,\"fPrimitives\":{\"_typename\":\"TList\",\"name\":\"TList\",\"arr\":[{\"_typename\":\"TFrame\",\"fUniqueID\":0,\"fBits\":50331656,\"fLineColor\":1,\"fLineStyle\":1,\"fLineWidth\":1,\"fFillColor\":0,\"fFillStyle\":1001,\"fX1\":-5,\"fY1\":-0.349065850398866,\"fX2\":5,\"fY2\":3.83972435438753,\"fBorderSize\":1,\"fBorderMode\":0},{\"_typename\":\"TProfile2D\",\"fUniqueID\":0,\"fBits\":50332168,\"fName\":\"f03798\",\"fTitle\":\"\",\"fLineColor\":1,\"fLineStyle\":1,\"fLineWidth\":1,\"fFillColor\":0,\"fFillStyle\":1001,\"fMarkerColor\":1,\"fMarkerStyle\":1,\"fMarkerSize\":1,\"fNcells\":143,\"fXaxis\":{\"_typename\":\"TAxis\",\"fUniqueID\":0,\"fBits\":50331656,\"fName\":\"xaxis\",\"fTitle\":\" #eta, #phi\",\"fNdivisions\":510,\"fAxisColor\":1,\"fLabelColor\":1,\"fLabelFont\":42,\"fLabelOffset\":0.005,\"fLabelSize\":0.035,\"fTickLength\":0.03,\"fTitleOffset\":1.4,\"fTitleSize\":0.035,\"fTitleColor\":1,\"fTitleFont\":42,\"fNbins\":11,\"fXmin\":-5,\"fXmax\":5,\"fXbins\":[-5,-4,-3,-2.5,-1.5,-0.5,0.5,1.5,2.5,3,4,5],\"fFirst\":0,\"fLast\":0,\"fBits2\":0,\"fTimeDisplay\":false,\"fTimeFormat\":\"\",\"fLabels\":null,\"fModLabs\":null},\"fYaxis\":{\"_typename\":\"TAxis\",\"fUniqueID\":0,\"fBits\":50333704,\"fName\":\"yaxis\",\"fTitle\":\"\",\"fNdivisions\":510,\"fAxisColor\":1,\"fLabelColor\":1,\"fLabelFont\":42,\"fLabelOffset\":0.005,\"fLabelSize\":0.035,\"fTickLength\":0.03,\"fTitleOffset\":0,\"fTitleSize\":0.035,\"fTitleColor\":1,\"fTitleFont\":42,\"fNbins\":9,\"fXmin\":-3.14159265358979,\"fXmax\":3.14159265358979,\"fXbins\":[-3.14159265358979,-2.44346095279206,-1.74532925199433,-1.0471975511966,-0.349065850398866,0.349065850398866,1.0471975511966,1.74532925199433,2.44346095279206,3.14159265358979],\"fFirst\":5,\"fLast\":10,\"fBits2\":0,\"fTimeDisplay\":false,\"fTimeFormat\":\"\",\"fLabels\":null,\"fModLabs\":null},\"fZaxis\":{\"_typename\":\"TAxis\",\"fUniqueID\":0,\"fBits\":50331648,\"fName\":\"zaxis\",\"fTitle\":\"\",\"fNdivisions\":510,\"fAxisColor\":1,\"fLabelColor\":1,\"fLabelFont\":42,\"fLabelOffset\":0.005,\"fLabelSize\":0.035,\"fTickLength\":0.03,\"fTitleOffset\":1,\"fTitleSize\":0.035,\"fTitleColor\":1,\"fTitleFont\":42,\"fNbins\":1,\"fXmin\":0,\"fXmax\":1,\"fXbins\":[],\"fFirst\":0,\"fLast\":0,\"fBits2\":0,\"fTimeDisplay\":false,\"fTimeFormat\":\"\",\"fLabels\":null,\"fModLabs\":null},\"fBarOffset\":0,\"fBarWidth\":1000,\"fEntries\":9088200,\"fTsumw\":9088200,\"fTsumw2\":9088200,\"fTsumwx\":0,\"fTsumwx2\":74461275,\"fMaximum\":-1111,\"fMinimum\":-1111,\"fNormFactor\":0,\"fContour\":[0,0.598522331154684,1.19704466230937,1.79556699346405,2.39408932461874,2.99261165577342,3.5911339869281,4.18965631808279,4.78817864923747,5.38670098039216,5.98522331154684,6.58374564270153,7.18226797385621,7.78079030501089,8.37931263616558,8.97783496732026,9.57635729847495,10.1748796296296,10.7734019607843,11.371924291939],\"fSumw2\":[0,0,0,0,0,0,0,0,0,0,0,0,0,0,0,0,0,0,0,0,0,0,0,0,0,0,0,0,0,310155,12673124,15239899,16189424,15154502,12346614,307093,1,0,0,0,0,0,303419,12821408,15383651,16175291,15163011,12339043,310166,1,0,0,0,0,0,299412,12421140,15027694,16079333,15361577,12672646,298233,1,0,0,0,0,1,307390,12498826,15175092,16261061,15317678,12731166,315216,0,0,0,0,0,1,297880,12484740,15199015,16180952,15175505,12260893,307382,0,0,0,0,0,1,299958,12447718,15010716,16126366,15114466,12318465,307940,1,0,0,0,0,1,299632,12442506,14942621,16163577,15393670,12790645,306388,2,0,0,0,0,0,0,0,0,0,0,0,0,0,0,0,0,0,0,0,0,0,0,0,0,0,0,0,0],\"fOption\":\"\",\"fFunctions\":{\"_typename\":\"TList\",\"name\":\"TList\",\"arr\":[{\"_typename\":\"TPaletteAxis\",\"fUniqueID\":0,\"fBits\":50331648,\"fLineColor\":1,\"fLineStyle\":1,\"fLineWidth\":1,\"fFillColor\":1178,\"fFillStyle\":1001,\"fX1\":5.08771929934635,\"fY1\":-0.349065850398866,\"fX2\":5.87719299346346,\"fY2\":3.83972435438753,\"fX1NDC\":0.704999988079071,\"fY1NDC\":0.129999998137355,\"fX2NDC\":0.749999988079071,\"fY2NDC\":0.89999999627471,\"fBorderSize\":4,\"fInit\":1,\"fShadowColor\":1,\"fCornerRadius\":0,\"fOption\":\"br\",\"fName\":\"TPave\",\"fAxis\":{\"_typename\":\"TGaxis\",\"fUniqueID\":0,\"fBits\":50331648,\"fLineColor\":1,\"fLineStyle\":1,\"fLineWidth\":1,\"fX1\":0,\"fY1\":0,\"fX2\":0,\"fY2\":0,\"fTextAngle\":0,\"fTextSize\":0.04,\"fTextAlign\":11,\"fTextColor\":1,\"fTextFont\":42,\"fWmin\":0,\"fWmax\":0,\"fGridLength\":0,\"fTickSize\":0.03,\"fLabelOffset\":0.005,\"fLabelSize\":0.035,\"fTitleOffset\":1,\"fTitleSize\":0.035,\"fNdiv\":0,\"fLabelColor\":1,\"fLabelFont\":42,\"fNModLabs\":0,\"fChopt\":\"\",\"fName\":\"\",\"fTitle\":\"\",\"fTimeFormat\":\"\",\"fFunctionName\":\"\",\"fModLabs\":null},\"fName\":\"palette\"}],\"opt\":[\"br\"]},\"fBufferSize\":0,\"fBuffer\":[],\"fBinStatErrOpt\":0,\"fStatOverflows\":2,\"fScalefactor\":1,\"fTsumwy\":0,\"fTsumwy2\":29529856.3680614,\"fTsumwxy\":1.63069557856943e-12,\"fArray\":[0,0,0,0,0,0,0,0,0,0,0,0,0,0,0,0,0,0,0,0,0,0,0,0,0,0,0,0,0,115209,912104,1055383,1097750,1052772,907642,114455,1,0,0,0,0,0,114667,910870,1054441,1096009,1053975,909277,114866,1,0,0,0,0,0,114204,907330,1050144,1092467,1055305,911876,113823,1,0,0,0,0,1,115146,910834,1054096,1098887,1056042,914080,115958,0,0,0,0,0,1,114346,908338,1052609,1097934,1056147,909881,114924,0,0,0,0,0,1,114580,907420,1049546,1095358,1053988,911535,115094,1,0,0,0,0,1,114142,905412,1049115,1095303,1056040,913507,115124,2,0,0,0,0,0,0,0,0,0,0,0,0,0,0,0,0,0,0,0,0,0,0,0,0,0,0,0,0],\"fBinEntries\":[0,0,0,0,0,0,0,0,0,0,0,0,0,0,91800,91800,91800,91800,91800,91800,91800,91800,91800,91800,91800,0,0,91800,91800,91800,91800,91800,91800,91800,91800,91800,91800,91800,0,0,91800,91800,91800,91800,91800,91800,91800,91800,91800,91800,91800,0,0,91800,91800,91800,91800,91800,91800,91800,91800,91800,91800,91800,0,0,91800,91800,91800,91800,91800,91800,91800,91800,91800,91800,91800,0,0,91800,91800,91800,91800,91800,91800,91800,91800,91800,91800,91800,0,0,91800,91800,91800,91800,91800,91800,91800,91800,91800,91800,91800,0,0,91800,91800,91800,91800,91800,91800,91800,91800,91800,91800,91800,0,0,91800,91800,91800,91800,91800,91800,91800,91800,91800,91800,91800,0,0,0,0,0,0,0,0,0,0,0,0,0,0],\"fErrorMode\":0,\"fZmin\":0,\"fZmax\":0,\"fTsumwz\":36769965,\"fTsumwz2\":505354309,\"fBinSumw2\":[0,0,0,0,0,0,0,0,0,0,0,0,0,0,91800,91800,91800,91800,91800,91800,91800,91800,91800,91800,91800,0,0,91800,91800,91800,91800,91800,91800,91800,91800,91800,91800,91800,0,0,91800,91800,91800,91800,91800,91800,91800,91800,91800,91800,91800,0,0,91800,91800,91800,91800,91800,91800,91800,91800,91800,91800,91800,0,0,91800,91800,91800,91800,91800,91800,91800,91800,91800,91800,91800,0,0,91800,91800,91800,91800,91800,91800,91800,91800,91800,91800,91800,0,0,91800,91800,91800,91800,91800,91800,91800,91800,91800,91800,91800,0,0,91800,91800,91800,91800,91800,91800,91800,91800,91800,91800,91800,0,0,91800,91800,91800,91800,91800,91800,91800,91800,91800,91800,91800,0,0,0,0,0,0,0,0,0,0,0,0,0,0]},{\"_typename\":\"TLatex\",\"fUniqueID\":0,\"fBits\":50348040,\"fName\":\"\",\"fTitle\":\"ttbar, PU200, L1Track, p_{T}^{tk} > 2 GeV\",\"fTextAngle\":0,\"fTextSize\":0.03,\"fTextAlign\":11,\"fTextColor\":1,\"fTextFont\":62,\"fX\":0.15,\"fY\":0.85,\"fLineColor\":1,\"fLineStyle\":1,\"fLineWidth\":2,\"fLimitFactorSize\":3,\"fOriginSize\":0.04},{\"_typename\":\"TLatex\",\"fUniqueID\":0,\"fBits\":50331656,\"fName\":\"\",\"fTitle\":\"\",\"fTextAngle\":0,\"fTextSize\":0.03,\"fTextAlign\":11,\"fTextColor\":1,\"fTextFont\":62,\"fX\":0,\"fY\":0,\"fLineColor\":1,\"fLineStyle\":1,\"fLineWidth\":2,\"fLimitFactorSize\":3,\"fOriginSize\":0.04}],\"opt\":[\"\",\"COLZ\",\"same\",\"same\"]},\"fExecs\":null,\"fName\":\"c_113d2a\",\"fTitle\":\"c_113d2a\",\"fNumPaletteColor\":0,\"fNextPaletteColor\":0,\"fDISPLAY\":\"$DISPLAY\",\"fDoubleBuffer\":0,\"fRetained\":true,\"fXsizeUser\":0,\"fYsizeUser\":0,\"fXsizeReal\":20,\"fYsizeReal\":15,\"fWindowTopX\":0,\"fWindowTopY\":0,\"fWindowWidth\":0,\"fWindowHeight\":0,\"fCw\":796,\"fCh\":572,\"fCatt\":{\"_typename\":\"TAttCanvas\",\"fXBetween\":2,\"fYBetween\":2,\"fTitleFromTop\":1.2,\"fXdate\":0.2,\"fYdate\":0.3,\"fAdate\":1},\"kMoveOpaque\":true,\"kResizeOpaque\":true,\"fHighLightColor\":2,\"fBatch\":true,\"kShowEventStatus\":false,\"kAutoExec\":true,\"kMenuBar\":true});\n",
       "       Core.draw(\"root_plot_26\", obj, \"\");\n",
       "     }\n",
       " );\n",
       "</script>\n"
      ],
      "text/plain": [
       "<IPython.core.display.HTML object>"
      ]
     },
     "metadata": {},
     "output_type": "display_data"
    }
   ],
   "source": [
    "hsets, labels, text = hplot.get_histo(histos.CorrOccupancyHistos, sample, 'PU200', ['L1Trk'], ['Pt2'], None, debug=False)\n",
    "text = '{}, {}'.format(sample, text)\n",
    "\n",
    "res=np.zeros(quantiles.shape)\n",
    "n = hsets[0].h_eventMaxOcc.GetQuantiles(quantiles.shape[0], res, quantiles)\n",
    "for id,quantile in enumerate(quantiles):\n",
    "    print 'quantile {}% = {}'.format(quantile*100, res[id])\n",
    "\n",
    "\n",
    "draw([his.h_eventMaxOcc for his in hsets], labels, text=text, min_x=0., max_x=10, logy=False, options='hist', v_lines=res.tolist())\n",
    "draw([his.h_averageOccupancy for his in hsets], labels, text=text, logy=False, options='COLZ')\n",
    "\n"
   ]
  },
  {
   "cell_type": "code",
   "execution_count": 38,
   "metadata": {},
   "outputs": [
    {
     "name": "stdout",
     "output_type": "stream",
     "text": [
      "quantile 90.0% = 27.6067125645\n",
      "quantile 95.0% = 30.5558712121\n",
      "quantile 99.5% = 41.825\n"
     ]
    },
    {
     "data": {
      "text/plain": [
       "<drawingTools.DrawMachine at 0x11e2a0910>"
      ]
     },
     "execution_count": 38,
     "metadata": {},
     "output_type": "execute_result"
    },
    {
     "data": {
      "text/html": [
       "\n",
       "<div id=\"root_plot_35\"\n",
       "     style=\"width: 796px; height: 572px\">\n",
       "</div>\n",
       "\n",
       "<script>\n",
       " requirejs.config({\n",
       "     paths: {\n",
       "       'JSRootCore' : 'https://root.cern.ch/js/notebook//scripts/JSRootCore',\n",
       "     }\n",
       "   });\n",
       " require(['JSRootCore'],\n",
       "     function(Core) {\n",
       "       var obj = Core.JSONR_unref({\"_typename\":\"TCanvas\",\"fUniqueID\":0,\"fBits\":53673992,\"fLineColor\":1,\"fLineStyle\":1,\"fLineWidth\":1,\"fFillColor\":0,\"fFillStyle\":1001,\"fLeftMargin\":0.13,\"fRightMargin\":0.3,\"fBottomMargin\":0.13,\"fTopMargin\":0.1,\"fXfile\":2,\"fYfile\":2,\"fAfile\":1,\"fXstat\":0.99,\"fYstat\":0.99,\"fAstat\":2,\"fFrameFillColor\":0,\"fFrameLineColor\":1,\"fFrameFillStyle\":1001,\"fFrameLineStyle\":1,\"fFrameLineWidth\":1,\"fFrameBorderSize\":1,\"fFrameBorderMode\":0,\"fX1\":-13.6842101960961,\"fY1\":-1708.90907055766,\"fX2\":91.5789490195193,\"fY2\":11436.545506696,\"fXtoAbsPixelk\":103.480046204376,\"fXtoPixelk\":103.480046204376,\"fXtoPixel\":7.56199990510941,\"fYtoAbsPixelk\":497.640051065433,\"fYtoPixelk\":497.640051065433,\"fYtoPixel\":-0.0435131395904532,\"fUtoAbsPixelk\":5e-5,\"fUtoPixelk\":5e-5,\"fUtoPixel\":796,\"fVtoAbsPixelk\":572.00005,\"fVtoPixelk\":572,\"fVtoPixel\":-572,\"fAbsPixeltoXk\":-13.6842101960961,\"fPixeltoXk\":-13.6842101960961,\"fPixeltoX\":0.132240149768361,\"fAbsPixeltoYk\":11436.545506696,\"fPixeltoYk\":-1708.90907055766,\"fPixeltoY\":-22.9815639462477,\"fXlowNDC\":0,\"fYlowNDC\":0,\"fXUpNDC\":0,\"fYUpNDC\":0,\"fWNDC\":1,\"fHNDC\":1,\"fAbsXlowNDC\":0,\"fAbsYlowNDC\":0,\"fAbsWNDC\":1,\"fAbsHNDC\":1,\"fUxmin\":0,\"fUymin\":0,\"fUxmax\":60,\"fUymax\":10122,\"fTheta\":30,\"fPhi\":30,\"fAspectRatio\":0,\"fNumber\":0,\"fTickx\":0,\"fTicky\":0,\"fLogx\":0,\"fLogy\":0,\"fLogz\":0,\"fPadPaint\":0,\"fCrosshair\":0,\"fCrosshairPos\":0,\"fBorderSize\":2,\"fBorderMode\":0,\"fModified\":true,\"fGridx\":true,\"fGridy\":true,\"fAbsCoord\":false,\"fEditable\":true,\"fFixedAspectRatio\":false,\"fPrimitives\":{\"_typename\":\"TList\",\"name\":\"TList\",\"arr\":[{\"_typename\":\"TFrame\",\"fUniqueID\":0,\"fBits\":50331656,\"fLineColor\":1,\"fLineStyle\":1,\"fLineWidth\":1,\"fFillColor\":0,\"fFillStyle\":1001,\"fX1\":0,\"fY1\":0,\"fX2\":60,\"fY2\":10122,\"fBorderSize\":1,\"fBorderMode\":0},{\"_typename\":\"TH1F\",\"fUniqueID\":0,\"fBits\":50332168,\"fName\":\"38b6b1\",\"fTitle\":\"\",\"fLineColor\":1,\"fLineStyle\":1,\"fLineWidth\":1,\"fFillColor\":0,\"fFillStyle\":1001,\"fMarkerColor\":1,\"fMarkerStyle\":1,\"fMarkerSize\":1,\"fNcells\":102,\"fXaxis\":{\"_typename\":\"TAxis\",\"fUniqueID\":0,\"fBits\":50333704,\"fName\":\"xaxis\",\"fTitle\":\"\",\"fNdivisions\":510,\"fAxisColor\":1,\"fLabelColor\":1,\"fLabelFont\":42,\"fLabelOffset\":0.005,\"fLabelSize\":0.035,\"fTickLength\":0.03,\"fTitleOffset\":1.4,\"fTitleSize\":0.035,\"fTitleColor\":1,\"fTitleFont\":42,\"fNbins\":100,\"fXmin\":0,\"fXmax\":100,\"fXbins\":[],\"fFirst\":1,\"fLast\":60,\"fBits2\":0,\"fTimeDisplay\":false,\"fTimeFormat\":\"\",\"fLabels\":null,\"fModLabs\":null},\"fYaxis\":{\"_typename\":\"TAxis\",\"fUniqueID\":0,\"fBits\":50331656,\"fName\":\"yaxis\",\"fTitle\":\"\",\"fNdivisions\":510,\"fAxisColor\":1,\"fLabelColor\":1,\"fLabelFont\":42,\"fLabelOffset\":0.005,\"fLabelSize\":0.035,\"fTickLength\":0.03,\"fTitleOffset\":0,\"fTitleSize\":0.035,\"fTitleColor\":1,\"fTitleFont\":42,\"fNbins\":1,\"fXmin\":0,\"fXmax\":1,\"fXbins\":[],\"fFirst\":0,\"fLast\":0,\"fBits2\":0,\"fTimeDisplay\":false,\"fTimeFormat\":\"\",\"fLabels\":null,\"fModLabs\":null},\"fZaxis\":{\"_typename\":\"TAxis\",\"fUniqueID\":0,\"fBits\":50331648,\"fName\":\"zaxis\",\"fTitle\":\"\",\"fNdivisions\":510,\"fAxisColor\":1,\"fLabelColor\":1,\"fLabelFont\":42,\"fLabelOffset\":0.005,\"fLabelSize\":0.035,\"fTickLength\":0.03,\"fTitleOffset\":1,\"fTitleSize\":0.035,\"fTitleColor\":1,\"fTitleFont\":42,\"fNbins\":1,\"fXmin\":0,\"fXmax\":1,\"fXbins\":[],\"fFirst\":0,\"fLast\":0,\"fBits2\":0,\"fTimeDisplay\":false,\"fTimeFormat\":\"\",\"fLabels\":null,\"fModLabs\":null},\"fBarOffset\":0,\"fBarWidth\":1000,\"fEntries\":91800,\"fTsumw\":91800,\"fTsumw2\":91800,\"fTsumwx\":1892183,\"fTsumwx2\":41571281,\"fMaximum\":10122,\"fMinimum\":0,\"fNormFactor\":0,\"fContour\":[],\"fSumw2\":[0,0,0,0,0,0,0,0,2,7,37,143,435,999,1984,3471,5231,6476,7875,8180,8435,8001,7352,6435,5345,4457,3557,2788,2324,1775,1314,1056,832,647,538,407,347,278,180,161,117,89,80,72,49,40,51,32,23,15,17,14,15,18,10,12,11,5,7,4,4,4,5,5,2,4,2,2,2,4,1,1,3,1,1,1,0,1,1,0,0,0,1,1,1,0,0,0,0,0,1,1,0,0,0,0,0,0,0,0,1,0],\"fOption\":\"\",\"fFunctions\":{\"_typename\":\"TList\",\"name\":\"TList\",\"arr\":[],\"opt\":[]},\"fBufferSize\":0,\"fBuffer\":[],\"fBinStatErrOpt\":0,\"fStatOverflows\":2,\"fArray\":[0,0,0,0,0,0,0,0,2,7,37,143,435,999,1984,3471,5231,6476,7875,8180,8435,8001,7352,6435,5345,4457,3557,2788,2324,1775,1314,1056,832,647,538,407,347,278,180,161,117,89,80,72,49,40,51,32,23,15,17,14,15,18,10,12,11,5,7,4,4,4,5,5,2,4,2,2,2,4,1,1,3,1,1,1,0,1,1,0,0,0,1,1,1,0,0,0,0,0,1,1,0,0,0,0,0,0,0,0,1,0]},{\"_typename\":\"TLatex\",\"fUniqueID\":0,\"fBits\":50348040,\"fName\":\"\",\"fTitle\":\"ttbar, PU200, L1Track EMU, p_{T}^{tk} > 2 GeV\",\"fTextAngle\":0,\"fTextSize\":0.03,\"fTextAlign\":11,\"fTextColor\":1,\"fTextFont\":62,\"fX\":0.15,\"fY\":0.85,\"fLineColor\":1,\"fLineStyle\":1,\"fLineWidth\":2,\"fLimitFactorSize\":3,\"fOriginSize\":0.04},{\"_typename\":\"TLatex\",\"fUniqueID\":0,\"fBits\":50331656,\"fName\":\"\",\"fTitle\":\"\",\"fTextAngle\":0,\"fTextSize\":0.03,\"fTextAlign\":11,\"fTextColor\":1,\"fTextFont\":62,\"fX\":0,\"fY\":0,\"fLineColor\":1,\"fLineStyle\":1,\"fLineWidth\":2,\"fLimitFactorSize\":3,\"fOriginSize\":0.04},{\"_typename\":\"TLine\",\"fUniqueID\":0,\"fBits\":50331656,\"fLineColor\":1,\"fLineStyle\":2,\"fLineWidth\":1,\"fX1\":27.6067125645439,\"fY1\":0,\"fX2\":27.6067125645439,\"fY2\":10122},{\"_typename\":\"TLine\",\"fUniqueID\":0,\"fBits\":50331656,\"fLineColor\":1,\"fLineStyle\":2,\"fLineWidth\":1,\"fX1\":30.5558712121212,\"fY1\":0,\"fX2\":30.5558712121212,\"fY2\":10122},{\"_typename\":\"TLine\",\"fUniqueID\":0,\"fBits\":50331656,\"fLineColor\":1,\"fLineStyle\":2,\"fLineWidth\":1,\"fX1\":41.8249999999999,\"fY1\":0,\"fX2\":41.8249999999999,\"fY2\":10122}],\"opt\":[\"\",\"hist\",\"same\",\"same\",\"same\",\"same\",\"same\"]},\"fExecs\":null,\"fName\":\"c_fbeb40\",\"fTitle\":\"c_fbeb40\",\"fNumPaletteColor\":0,\"fNextPaletteColor\":0,\"fDISPLAY\":\"$DISPLAY\",\"fDoubleBuffer\":0,\"fRetained\":true,\"fXsizeUser\":0,\"fYsizeUser\":0,\"fXsizeReal\":20,\"fYsizeReal\":15,\"fWindowTopX\":0,\"fWindowTopY\":0,\"fWindowWidth\":0,\"fWindowHeight\":0,\"fCw\":796,\"fCh\":572,\"fCatt\":{\"_typename\":\"TAttCanvas\",\"fXBetween\":2,\"fYBetween\":2,\"fTitleFromTop\":1.2,\"fXdate\":0.2,\"fYdate\":0.3,\"fAdate\":1},\"kMoveOpaque\":true,\"kResizeOpaque\":true,\"fHighLightColor\":2,\"fBatch\":true,\"kShowEventStatus\":false,\"kAutoExec\":true,\"kMenuBar\":true});\n",
       "       Core.draw(\"root_plot_35\", obj, \"\");\n",
       "     }\n",
       " );\n",
       "</script>\n"
      ],
      "text/plain": [
       "<IPython.core.display.HTML object>"
      ]
     },
     "metadata": {},
     "output_type": "display_data"
    },
    {
     "data": {
      "text/html": [
       "\n",
       "<div id=\"root_plot_36\"\n",
       "     style=\"width: 796px; height: 572px\">\n",
       "</div>\n",
       "\n",
       "<script>\n",
       " requirejs.config({\n",
       "     paths: {\n",
       "       'JSRootCore' : 'https://root.cern.ch/js/notebook//scripts/JSRootCore',\n",
       "     }\n",
       "   });\n",
       " require(['JSRootCore'],\n",
       "     function(Core) {\n",
       "       var obj = Core.JSONR_unref({\"_typename\":\"TCanvas\",\"fUniqueID\":0,\"fBits\":53673992,\"fLineColor\":1,\"fLineStyle\":1,\"fLineWidth\":1,\"fFillColor\":0,\"fFillStyle\":1001,\"fLeftMargin\":0.13,\"fRightMargin\":0.3,\"fBottomMargin\":0.13,\"fTopMargin\":0.1,\"fXfile\":2,\"fYfile\":2,\"fAfile\":1,\"fXstat\":0.99,\"fYstat\":0.99,\"fAstat\":2,\"fFrameFillColor\":0,\"fFrameLineColor\":1,\"fFrameFillStyle\":1001,\"fFrameLineStyle\":1,\"fFrameLineWidth\":1,\"fFrameBorderSize\":1,\"fFrameBorderMode\":0,\"fX1\":-7.28070169934936,\"fY1\":-1.05626418823946,\"fX2\":10.2631581699199,\"fY2\":4.38372310386334,\"fXtoAbsPixelk\":330.340043357658,\"fXtoPixelk\":330.340043357658,\"fXtoPixel\":45.3719994306564,\"fYtoAbsPixelk\":460.936717820886,\"fYtoPixelk\":460.936717820886,\"fYtoPixel\":-105.147304448738,\"fUtoAbsPixelk\":5e-5,\"fUtoPixelk\":5e-5,\"fUtoPixel\":796,\"fVtoAbsPixelk\":572.00005,\"fVtoPixelk\":572,\"fVtoPixel\":-572,\"fAbsPixeltoXk\":-7.28070169934936,\"fPixeltoXk\":-7.28070169934936,\"fPixeltoX\":0.0220400249613935,\"fAbsPixeltoYk\":4.38372310386334,\"fPixeltoYk\":-1.05626418823946,\"fPixeltoY\":-0.00951046729388602,\"fXlowNDC\":0,\"fYlowNDC\":0,\"fXUpNDC\":0,\"fYUpNDC\":0,\"fWNDC\":1,\"fHNDC\":1,\"fAbsXlowNDC\":0,\"fAbsYlowNDC\":0,\"fAbsWNDC\":1,\"fAbsHNDC\":1,\"fUxmin\":-5,\"fUymin\":-0.349065850398866,\"fUxmax\":5,\"fUymax\":3.83972435438753,\"fTheta\":30,\"fPhi\":30,\"fAspectRatio\":0,\"fNumber\":0,\"fTickx\":0,\"fTicky\":0,\"fLogx\":0,\"fLogy\":0,\"fLogz\":0,\"fPadPaint\":0,\"fCrosshair\":0,\"fCrosshairPos\":0,\"fBorderSize\":2,\"fBorderMode\":0,\"fModified\":false,\"fGridx\":true,\"fGridy\":true,\"fAbsCoord\":false,\"fEditable\":true,\"fFixedAspectRatio\":false,\"fPrimitives\":{\"_typename\":\"TList\",\"name\":\"TList\",\"arr\":[{\"_typename\":\"TFrame\",\"fUniqueID\":0,\"fBits\":50331656,\"fLineColor\":1,\"fLineStyle\":1,\"fLineWidth\":1,\"fFillColor\":0,\"fFillStyle\":1001,\"fX1\":-5,\"fY1\":-0.349065850398866,\"fX2\":5,\"fY2\":3.83972435438753,\"fBorderSize\":1,\"fBorderMode\":0},{\"_typename\":\"TProfile2D\",\"fUniqueID\":0,\"fBits\":50332168,\"fName\":\"d9ed43\",\"fTitle\":\"\",\"fLineColor\":1,\"fLineStyle\":1,\"fLineWidth\":1,\"fFillColor\":0,\"fFillStyle\":1001,\"fMarkerColor\":1,\"fMarkerStyle\":1,\"fMarkerSize\":1,\"fNcells\":143,\"fXaxis\":{\"_typename\":\"TAxis\",\"fUniqueID\":0,\"fBits\":50331656,\"fName\":\"xaxis\",\"fTitle\":\" #eta, #phi\",\"fNdivisions\":510,\"fAxisColor\":1,\"fLabelColor\":1,\"fLabelFont\":42,\"fLabelOffset\":0.005,\"fLabelSize\":0.035,\"fTickLength\":0.03,\"fTitleOffset\":1.4,\"fTitleSize\":0.035,\"fTitleColor\":1,\"fTitleFont\":42,\"fNbins\":11,\"fXmin\":-5,\"fXmax\":5,\"fXbins\":[-5,-4,-3,-2.5,-1.5,-0.5,0.5,1.5,2.5,3,4,5],\"fFirst\":0,\"fLast\":0,\"fBits2\":0,\"fTimeDisplay\":false,\"fTimeFormat\":\"\",\"fLabels\":null,\"fModLabs\":null},\"fYaxis\":{\"_typename\":\"TAxis\",\"fUniqueID\":0,\"fBits\":50333704,\"fName\":\"yaxis\",\"fTitle\":\"\",\"fNdivisions\":510,\"fAxisColor\":1,\"fLabelColor\":1,\"fLabelFont\":42,\"fLabelOffset\":0.005,\"fLabelSize\":0.035,\"fTickLength\":0.03,\"fTitleOffset\":0,\"fTitleSize\":0.035,\"fTitleColor\":1,\"fTitleFont\":42,\"fNbins\":9,\"fXmin\":-3.14159265358979,\"fXmax\":3.14159265358979,\"fXbins\":[-3.14159265358979,-2.44346095279206,-1.74532925199433,-1.0471975511966,-0.349065850398866,0.349065850398866,1.0471975511966,1.74532925199433,2.44346095279206,3.14159265358979],\"fFirst\":5,\"fLast\":10,\"fBits2\":0,\"fTimeDisplay\":false,\"fTimeFormat\":\"\",\"fLabels\":null,\"fModLabs\":null},\"fZaxis\":{\"_typename\":\"TAxis\",\"fUniqueID\":0,\"fBits\":50331648,\"fName\":\"zaxis\",\"fTitle\":\"\",\"fNdivisions\":510,\"fAxisColor\":1,\"fLabelColor\":1,\"fLabelFont\":42,\"fLabelOffset\":0.005,\"fLabelSize\":0.035,\"fTickLength\":0.03,\"fTitleOffset\":1,\"fTitleSize\":0.035,\"fTitleColor\":1,\"fTitleFont\":42,\"fNbins\":1,\"fXmin\":0,\"fXmax\":1,\"fXbins\":[],\"fFirst\":0,\"fLast\":0,\"fBits2\":0,\"fTimeDisplay\":false,\"fTimeFormat\":\"\",\"fLabels\":null,\"fModLabs\":null},\"fBarOffset\":0,\"fBarWidth\":1000,\"fEntries\":9088200,\"fTsumw\":9088200,\"fTsumw2\":9088200,\"fTsumwx\":0,\"fTsumwx2\":74461275,\"fMaximum\":-1111,\"fMinimum\":-1111,\"fNormFactor\":0,\"fContour\":[0,0.542191721132898,1.0843834422658,1.62657516339869,2.16876688453159,2.71095860566449,3.25315032679739,3.79534204793028,4.33753376906318,4.87972549019608,5.42191721132898,5.96410893246187,6.50630065359477,7.04849237472767,7.59068409586057,8.13287581699346,8.67506753812636,9.21725925925926,9.75945098039216,10.3016427015251],\"fSumw2\":[0,0,0,0,0,0,0,0,0,0,0,0,0,0,0,0,0,0,0,0,0,0,0,0,0,0,0,0,0,259146,7091249,12160837,13197512,12082320,6963317,258929,0,0,0,0,0,0,254020,7091864,12147550,13127798,12072685,6996286,260895,0,0,0,0,0,0,254160,7042805,12058183,13073528,12111039,7045125,253523,0,0,0,0,0,0,259437,7083027,12112094,13188520,12139641,7077993,260579,0,0,0,0,0,0,254634,7072371,12124619,13152699,12126525,7030738,257204,0,0,0,0,0,0,256412,7050027,12065006,13129396,12101537,7042301,258459,0,0,0,0,0,0,257194,7001573,12007775,13091761,12140610,7075829,258790,0,0,0,0,0,0,0,0,0,0,0,0,0,0,0,0,0,0,0,0,0,0,0,0,0,0,0,0,0],\"fOption\":\"\",\"fFunctions\":{\"_typename\":\"TList\",\"name\":\"TList\",\"arr\":[{\"_typename\":\"TPaletteAxis\",\"fUniqueID\":0,\"fBits\":50331648,\"fLineColor\":1,\"fLineStyle\":1,\"fLineWidth\":1,\"fFillColor\":1178,\"fFillStyle\":1001,\"fX1\":5.08771929934635,\"fY1\":-0.349065850398866,\"fX2\":5.87719299346346,\"fY2\":3.83972435438753,\"fX1NDC\":0.704999988079071,\"fY1NDC\":0.129999998137355,\"fX2NDC\":0.749999988079071,\"fY2NDC\":0.89999999627471,\"fBorderSize\":4,\"fInit\":1,\"fShadowColor\":1,\"fCornerRadius\":0,\"fOption\":\"br\",\"fName\":\"TPave\",\"fAxis\":{\"_typename\":\"TGaxis\",\"fUniqueID\":0,\"fBits\":50331648,\"fLineColor\":1,\"fLineStyle\":1,\"fLineWidth\":1,\"fX1\":0,\"fY1\":0,\"fX2\":0,\"fY2\":0,\"fTextAngle\":0,\"fTextSize\":0.04,\"fTextAlign\":11,\"fTextColor\":1,\"fTextFont\":42,\"fWmin\":0,\"fWmax\":0,\"fGridLength\":0,\"fTickSize\":0.03,\"fLabelOffset\":0.005,\"fLabelSize\":0.035,\"fTitleOffset\":1,\"fTitleSize\":0.035,\"fNdiv\":0,\"fLabelColor\":1,\"fLabelFont\":42,\"fNModLabs\":0,\"fChopt\":\"\",\"fName\":\"\",\"fTitle\":\"\",\"fTimeFormat\":\"\",\"fFunctionName\":\"\",\"fModLabs\":null},\"fName\":\"palette\"}],\"opt\":[\"br\"]},\"fBufferSize\":0,\"fBuffer\":[],\"fBinStatErrOpt\":0,\"fStatOverflows\":2,\"fScalefactor\":1,\"fTsumwy\":0,\"fTsumwy2\":29529856.3680614,\"fTsumwxy\":1.63069557856943e-12,\"fArray\":[0,0,0,0,0,0,0,0,0,0,0,0,0,0,0,0,0,0,0,0,0,0,0,0,0,0,0,0,0,101120,716983,955977,996148,951728,710715,100907,0,0,0,0,0,0,100818,717032,954612,992552,951911,712910,101063,0,0,0,0,0,0,100740,714753,951607,990266,953953,715125,100187,0,0,0,0,0,0,101433,716653,954758,995464,955729,716335,101171,0,0,0,0,0,0,101272,716263,954019,994951,954357,714186,100598,0,0,0,0,0,0,101090,715013,951956,993274,953295,714897,100761,0,0,0,0,0,0,100782,712129,950147,991543,953666,715699,100972,0,0,0,0,0,0,0,0,0,0,0,0,0,0,0,0,0,0,0,0,0,0,0,0,0,0,0,0,0],\"fBinEntries\":[0,0,0,0,0,0,0,0,0,0,0,0,0,0,91800,91800,91800,91800,91800,91800,91800,91800,91800,91800,91800,0,0,91800,91800,91800,91800,91800,91800,91800,91800,91800,91800,91800,0,0,91800,91800,91800,91800,91800,91800,91800,91800,91800,91800,91800,0,0,91800,91800,91800,91800,91800,91800,91800,91800,91800,91800,91800,0,0,91800,91800,91800,91800,91800,91800,91800,91800,91800,91800,91800,0,0,91800,91800,91800,91800,91800,91800,91800,91800,91800,91800,91800,0,0,91800,91800,91800,91800,91800,91800,91800,91800,91800,91800,91800,0,0,91800,91800,91800,91800,91800,91800,91800,91800,91800,91800,91800,0,0,91800,91800,91800,91800,91800,91800,91800,91800,91800,91800,91800,0,0,0,0,0,0,0,0,0,0,0,0,0,0],\"fErrorMode\":0,\"fZmin\":0,\"fZmax\":0,\"fTsumwz\":31723520,\"fTsumwz2\":363679522,\"fBinSumw2\":[0,0,0,0,0,0,0,0,0,0,0,0,0,0,91800,91800,91800,91800,91800,91800,91800,91800,91800,91800,91800,0,0,91800,91800,91800,91800,91800,91800,91800,91800,91800,91800,91800,0,0,91800,91800,91800,91800,91800,91800,91800,91800,91800,91800,91800,0,0,91800,91800,91800,91800,91800,91800,91800,91800,91800,91800,91800,0,0,91800,91800,91800,91800,91800,91800,91800,91800,91800,91800,91800,0,0,91800,91800,91800,91800,91800,91800,91800,91800,91800,91800,91800,0,0,91800,91800,91800,91800,91800,91800,91800,91800,91800,91800,91800,0,0,91800,91800,91800,91800,91800,91800,91800,91800,91800,91800,91800,0,0,91800,91800,91800,91800,91800,91800,91800,91800,91800,91800,91800,0,0,0,0,0,0,0,0,0,0,0,0,0,0]},{\"_typename\":\"TLatex\",\"fUniqueID\":0,\"fBits\":50348040,\"fName\":\"\",\"fTitle\":\"ttbar, PU200, L1Track EMU, p_{T}^{tk} > 2 GeV\",\"fTextAngle\":0,\"fTextSize\":0.03,\"fTextAlign\":11,\"fTextColor\":1,\"fTextFont\":62,\"fX\":0.15,\"fY\":0.85,\"fLineColor\":1,\"fLineStyle\":1,\"fLineWidth\":2,\"fLimitFactorSize\":3,\"fOriginSize\":0.04},{\"_typename\":\"TLatex\",\"fUniqueID\":0,\"fBits\":50331656,\"fName\":\"\",\"fTitle\":\"\",\"fTextAngle\":0,\"fTextSize\":0.03,\"fTextAlign\":11,\"fTextColor\":1,\"fTextFont\":62,\"fX\":0,\"fY\":0,\"fLineColor\":1,\"fLineStyle\":1,\"fLineWidth\":2,\"fLimitFactorSize\":3,\"fOriginSize\":0.04}],\"opt\":[\"\",\"COLZ\",\"same\",\"same\"]},\"fExecs\":null,\"fName\":\"c_3a636d\",\"fTitle\":\"c_3a636d\",\"fNumPaletteColor\":0,\"fNextPaletteColor\":0,\"fDISPLAY\":\"$DISPLAY\",\"fDoubleBuffer\":0,\"fRetained\":true,\"fXsizeUser\":0,\"fYsizeUser\":0,\"fXsizeReal\":20,\"fYsizeReal\":15,\"fWindowTopX\":0,\"fWindowTopY\":0,\"fWindowWidth\":0,\"fWindowHeight\":0,\"fCw\":796,\"fCh\":572,\"fCatt\":{\"_typename\":\"TAttCanvas\",\"fXBetween\":2,\"fYBetween\":2,\"fTitleFromTop\":1.2,\"fXdate\":0.2,\"fYdate\":0.3,\"fAdate\":1},\"kMoveOpaque\":true,\"kResizeOpaque\":true,\"fHighLightColor\":2,\"fBatch\":true,\"kShowEventStatus\":false,\"kAutoExec\":true,\"kMenuBar\":true});\n",
       "       Core.draw(\"root_plot_36\", obj, \"\");\n",
       "     }\n",
       " );\n",
       "</script>\n"
      ],
      "text/plain": [
       "<IPython.core.display.HTML object>"
      ]
     },
     "metadata": {},
     "output_type": "display_data"
    }
   ],
   "source": [
    "hsets, labels, text = hplot.get_histo(histos.CorrOccupancyHistos, sample, 'PU200', ['L1TrkEmu'], ['Pt2'], None, debug=False)\n",
    "text = '{}, {}'.format(sample, text)\n",
    "\n",
    "res=np.zeros(quantiles.shape)\n",
    "n = hsets[0].h_eventMaxOcc.GetQuantiles(quantiles.shape[0], res, quantiles)\n",
    "for id,quantile in enumerate(quantiles):\n",
    "    print 'quantile {}% = {}'.format(quantile*100, res[id])\n",
    "\n",
    "\n",
    "draw([his.h_eventMaxOcc for his in hsets], labels, text=text, min_x=0., max_x=60, logy=False, options='hist', v_lines=res.tolist())\n",
    "draw([his.h_averageOccupancy for his in hsets], labels, text=text, logy=False, options='COLZ')\n",
    "\n"
   ]
  },
  {
   "cell_type": "code",
   "execution_count": 35,
   "metadata": {},
   "outputs": [
    {
     "name": "stdout",
     "output_type": "stream",
     "text": [
      "quantile 90.0% = 7.85190380762\n",
      "quantile 95.0% = 10.2705743879\n",
      "quantile 99.5% = 23.7781896552\n"
     ]
    },
    {
     "data": {
      "text/plain": [
       "<drawingTools.DrawMachine at 0x11e26fc50>"
      ]
     },
     "execution_count": 35,
     "metadata": {},
     "output_type": "execute_result"
    },
    {
     "data": {
      "text/html": [
       "\n",
       "<div id=\"root_plot_29\"\n",
       "     style=\"width: 796px; height: 572px\">\n",
       "</div>\n",
       "\n",
       "<script>\n",
       " requirejs.config({\n",
       "     paths: {\n",
       "       'JSRootCore' : 'https://root.cern.ch/js/notebook//scripts/JSRootCore',\n",
       "     }\n",
       "   });\n",
       " require(['JSRootCore'],\n",
       "     function(Core) {\n",
       "       var obj = Core.JSONR_unref({\"_typename\":\"TCanvas\",\"fUniqueID\":0,\"fBits\":53673992,\"fLineColor\":1,\"fLineStyle\":1,\"fLineWidth\":1,\"fFillColor\":0,\"fFillStyle\":1001,\"fLeftMargin\":0.13,\"fRightMargin\":0.3,\"fBottomMargin\":0.13,\"fTopMargin\":0.1,\"fXfile\":2,\"fYfile\":2,\"fAfile\":1,\"fXstat\":0.99,\"fYstat\":0.99,\"fAstat\":2,\"fFrameFillColor\":0,\"fFrameLineColor\":1,\"fFrameFillStyle\":1001,\"fFrameLineStyle\":1,\"fFrameLineWidth\":1,\"fFrameBorderSize\":1,\"fFrameBorderMode\":0,\"fX1\":-2.28070169934936,\"fY1\":-4561.48046515776,\"fX2\":15.2631581699199,\"fY2\":30526.8313080333,\"fXtoAbsPixelk\":103.480046204376,\"fXtoPixelk\":103.480046204376,\"fXtoPixel\":45.3719994306564,\"fYtoAbsPixelk\":497.640051065433,\"fYtoPixelk\":497.640051065433,\"fYtoPixel\":-0.016301724736641,\"fUtoAbsPixelk\":5e-5,\"fUtoPixelk\":5e-5,\"fUtoPixel\":796,\"fVtoAbsPixelk\":572.00005,\"fVtoPixelk\":572,\"fVtoPixel\":-572,\"fAbsPixeltoXk\":-2.28070169934936,\"fPixeltoXk\":-2.28070169934936,\"fPixeltoX\":0.0220400249613935,\"fAbsPixeltoYk\":30526.8313080333,\"fPixeltoYk\":-4561.48046515776,\"fPixeltoY\":-61.3432024006836,\"fXlowNDC\":0,\"fYlowNDC\":0,\"fXUpNDC\":0,\"fYUpNDC\":0,\"fWNDC\":1,\"fHNDC\":1,\"fAbsXlowNDC\":0,\"fAbsYlowNDC\":0,\"fAbsWNDC\":1,\"fAbsHNDC\":1,\"fUxmin\":0,\"fUymin\":0,\"fUxmax\":10,\"fUymax\":27018,\"fTheta\":30,\"fPhi\":30,\"fAspectRatio\":0,\"fNumber\":0,\"fTickx\":0,\"fTicky\":0,\"fLogx\":0,\"fLogy\":0,\"fLogz\":0,\"fPadPaint\":0,\"fCrosshair\":0,\"fCrosshairPos\":0,\"fBorderSize\":2,\"fBorderMode\":0,\"fModified\":true,\"fGridx\":true,\"fGridy\":true,\"fAbsCoord\":false,\"fEditable\":true,\"fFixedAspectRatio\":false,\"fPrimitives\":{\"_typename\":\"TList\",\"name\":\"TList\",\"arr\":[{\"_typename\":\"TFrame\",\"fUniqueID\":0,\"fBits\":50331656,\"fLineColor\":1,\"fLineStyle\":1,\"fLineWidth\":1,\"fFillColor\":0,\"fFillStyle\":1001,\"fX1\":0,\"fY1\":0,\"fX2\":10,\"fY2\":27018,\"fBorderSize\":1,\"fBorderMode\":0},{\"_typename\":\"TH1F\",\"fUniqueID\":0,\"fBits\":50332168,\"fName\":\"47f19e\",\"fTitle\":\"\",\"fLineColor\":1,\"fLineStyle\":1,\"fLineWidth\":1,\"fFillColor\":0,\"fFillStyle\":1001,\"fMarkerColor\":1,\"fMarkerStyle\":1,\"fMarkerSize\":1,\"fNcells\":102,\"fXaxis\":{\"_typename\":\"TAxis\",\"fUniqueID\":0,\"fBits\":50333704,\"fName\":\"xaxis\",\"fTitle\":\"\",\"fNdivisions\":510,\"fAxisColor\":1,\"fLabelColor\":1,\"fLabelFont\":42,\"fLabelOffset\":0.005,\"fLabelSize\":0.035,\"fTickLength\":0.03,\"fTitleOffset\":1.4,\"fTitleSize\":0.035,\"fTitleColor\":1,\"fTitleFont\":42,\"fNbins\":100,\"fXmin\":0,\"fXmax\":100,\"fXbins\":[],\"fFirst\":1,\"fLast\":10,\"fBits2\":0,\"fTimeDisplay\":false,\"fTimeFormat\":\"\",\"fLabels\":null,\"fModLabs\":null},\"fYaxis\":{\"_typename\":\"TAxis\",\"fUniqueID\":0,\"fBits\":50331656,\"fName\":\"yaxis\",\"fTitle\":\"\",\"fNdivisions\":510,\"fAxisColor\":1,\"fLabelColor\":1,\"fLabelFont\":42,\"fLabelOffset\":0.005,\"fLabelSize\":0.035,\"fTickLength\":0.03,\"fTitleOffset\":0,\"fTitleSize\":0.035,\"fTitleColor\":1,\"fTitleFont\":42,\"fNbins\":1,\"fXmin\":0,\"fXmax\":1,\"fXbins\":[],\"fFirst\":0,\"fLast\":0,\"fBits2\":0,\"fTimeDisplay\":false,\"fTimeFormat\":\"\",\"fLabels\":null,\"fModLabs\":null},\"fZaxis\":{\"_typename\":\"TAxis\",\"fUniqueID\":0,\"fBits\":50331648,\"fName\":\"zaxis\",\"fTitle\":\"\",\"fNdivisions\":510,\"fAxisColor\":1,\"fLabelColor\":1,\"fLabelFont\":42,\"fLabelOffset\":0.005,\"fLabelSize\":0.035,\"fTickLength\":0.03,\"fTitleOffset\":1,\"fTitleSize\":0.035,\"fTitleColor\":1,\"fTitleFont\":42,\"fNbins\":1,\"fXmin\":0,\"fXmax\":1,\"fXbins\":[],\"fFirst\":0,\"fLast\":0,\"fBits2\":0,\"fTimeDisplay\":false,\"fTimeFormat\":\"\",\"fLabels\":null,\"fModLabs\":null},\"fBarOffset\":0,\"fBarWidth\":1000,\"fEntries\":91777,\"fTsumw\":91773,\"fTsumw2\":91773,\"fTsumwx\":386506,\"fTsumwx2\":2775670,\"fMaximum\":27018,\"fMinimum\":0,\"fNormFactor\":0,\"fContour\":[],\"fSumw2\":[0,58,5839,20899,22515,15295,9331,5683,3493,2277,1507,1062,810,597,406,350,286,192,180,141,117,95,64,72,58,52,38,42,23,27,21,22,21,26,19,12,9,12,10,11,13,8,4,11,2,4,7,3,3,4,1,6,3,6,3,2,0,2,3,0,2,2,2,1,1,1,1,0,0,0,1,0,1,1,0,1,0,0,0,0,0,0,0,0,0,0,0,0,0,0,0,0,0,0,0,1,0,1,0,0,0,4],\"fOption\":\"\",\"fFunctions\":{\"_typename\":\"TList\",\"name\":\"TList\",\"arr\":[],\"opt\":[]},\"fBufferSize\":0,\"fBuffer\":[],\"fBinStatErrOpt\":0,\"fStatOverflows\":2,\"fArray\":[0,58,5839,20899,22515,15295,9331,5683,3493,2277,1507,1062,810,597,406,350,286,192,180,141,117,95,64,72,58,52,38,42,23,27,21,22,21,26,19,12,9,12,10,11,13,8,4,11,2,4,7,3,3,4,1,6,3,6,3,2,0,2,3,0,2,2,2,1,1,1,1,0,0,0,1,0,1,1,0,1,0,0,0,0,0,0,0,0,0,0,0,0,0,0,0,0,0,0,0,1,0,1,0,0,0,4]},{\"_typename\":\"TLatex\",\"fUniqueID\":0,\"fBits\":50348040,\"fName\":\"\",\"fTitle\":\"ttbar, PU200, L1Track, p_{T}^{tk} > 10 GeV\",\"fTextAngle\":0,\"fTextSize\":0.03,\"fTextAlign\":11,\"fTextColor\":1,\"fTextFont\":62,\"fX\":0.15,\"fY\":0.85,\"fLineColor\":1,\"fLineStyle\":1,\"fLineWidth\":2,\"fLimitFactorSize\":3,\"fOriginSize\":0.04},{\"_typename\":\"TLatex\",\"fUniqueID\":0,\"fBits\":50331656,\"fName\":\"\",\"fTitle\":\"\",\"fTextAngle\":0,\"fTextSize\":0.03,\"fTextAlign\":11,\"fTextColor\":1,\"fTextFont\":62,\"fX\":0,\"fY\":0,\"fLineColor\":1,\"fLineStyle\":1,\"fLineWidth\":2,\"fLimitFactorSize\":3,\"fOriginSize\":0.04},{\"_typename\":\"TLine\",\"fUniqueID\":0,\"fBits\":50331656,\"fLineColor\":1,\"fLineStyle\":2,\"fLineWidth\":1,\"fX1\":7.85190380761523,\"fY1\":0,\"fX2\":7.85190380761523,\"fY2\":27018},{\"_typename\":\"TLine\",\"fUniqueID\":0,\"fBits\":50331656,\"fLineColor\":1,\"fLineStyle\":2,\"fLineWidth\":1,\"fX1\":10.2705743879473,\"fY1\":0,\"fX2\":10.2705743879473,\"fY2\":27018},{\"_typename\":\"TLine\",\"fUniqueID\":0,\"fBits\":50331656,\"fLineColor\":1,\"fLineStyle\":2,\"fLineWidth\":1,\"fX1\":23.7781896551724,\"fY1\":0,\"fX2\":23.7781896551724,\"fY2\":27018}],\"opt\":[\"\",\"hist\",\"same\",\"same\",\"same\",\"same\",\"same\"]},\"fExecs\":null,\"fName\":\"c_a8373f\",\"fTitle\":\"c_a8373f\",\"fNumPaletteColor\":0,\"fNextPaletteColor\":0,\"fDISPLAY\":\"$DISPLAY\",\"fDoubleBuffer\":0,\"fRetained\":true,\"fXsizeUser\":0,\"fYsizeUser\":0,\"fXsizeReal\":20,\"fYsizeReal\":15,\"fWindowTopX\":0,\"fWindowTopY\":0,\"fWindowWidth\":0,\"fWindowHeight\":0,\"fCw\":796,\"fCh\":572,\"fCatt\":{\"_typename\":\"TAttCanvas\",\"fXBetween\":2,\"fYBetween\":2,\"fTitleFromTop\":1.2,\"fXdate\":0.2,\"fYdate\":0.3,\"fAdate\":1},\"kMoveOpaque\":true,\"kResizeOpaque\":true,\"fHighLightColor\":2,\"fBatch\":true,\"kShowEventStatus\":false,\"kAutoExec\":true,\"kMenuBar\":true});\n",
       "       Core.draw(\"root_plot_29\", obj, \"\");\n",
       "     }\n",
       " );\n",
       "</script>\n"
      ],
      "text/plain": [
       "<IPython.core.display.HTML object>"
      ]
     },
     "metadata": {},
     "output_type": "display_data"
    },
    {
     "data": {
      "text/html": [
       "\n",
       "<div id=\"root_plot_30\"\n",
       "     style=\"width: 796px; height: 572px\">\n",
       "</div>\n",
       "\n",
       "<script>\n",
       " requirejs.config({\n",
       "     paths: {\n",
       "       'JSRootCore' : 'https://root.cern.ch/js/notebook//scripts/JSRootCore',\n",
       "     }\n",
       "   });\n",
       " require(['JSRootCore'],\n",
       "     function(Core) {\n",
       "       var obj = Core.JSONR_unref({\"_typename\":\"TCanvas\",\"fUniqueID\":0,\"fBits\":53673992,\"fLineColor\":1,\"fLineStyle\":1,\"fLineWidth\":1,\"fFillColor\":0,\"fFillStyle\":1001,\"fLeftMargin\":0.13,\"fRightMargin\":0.3,\"fBottomMargin\":0.13,\"fTopMargin\":0.1,\"fXfile\":2,\"fYfile\":2,\"fAfile\":1,\"fXstat\":0.99,\"fYstat\":0.99,\"fAstat\":2,\"fFrameFillColor\":0,\"fFrameLineColor\":1,\"fFrameFillStyle\":1001,\"fFrameLineStyle\":1,\"fFrameLineWidth\":1,\"fFrameBorderSize\":1,\"fFrameBorderMode\":0,\"fX1\":-7.28070169934936,\"fY1\":-0.584798629679065,\"fX2\":10.2631581699199,\"fY2\":1.22853046768854,\"fXtoAbsPixelk\":330.340043357658,\"fXtoPixelk\":330.340043357658,\"fXtoPixel\":45.3719994306564,\"fYtoAbsPixelk\":387.530051331791,\"fYtoPixelk\":387.530051331791,\"fYtoPixel\":-315.441913346215,\"fUtoAbsPixelk\":5e-5,\"fUtoPixelk\":5e-5,\"fUtoPixel\":796,\"fVtoAbsPixelk\":572.00005,\"fVtoPixelk\":572,\"fVtoPixel\":-572,\"fAbsPixeltoXk\":-7.28070169934936,\"fPixeltoXk\":-7.28070169934936,\"fPixeltoX\":0.0220400249613935,\"fAbsPixeltoYk\":1.22853046768854,\"fPixeltoYk\":-0.584798629679065,\"fPixeltoY\":-0.00317015576462867,\"fXlowNDC\":0,\"fYlowNDC\":0,\"fXUpNDC\":0,\"fYUpNDC\":0,\"fWNDC\":1,\"fHNDC\":1,\"fAbsXlowNDC\":0,\"fAbsYlowNDC\":0,\"fAbsWNDC\":1,\"fAbsHNDC\":1,\"fUxmin\":-5,\"fUymin\":-0.349065850398866,\"fUxmax\":5,\"fUymax\":1.0471975511966,\"fTheta\":30,\"fPhi\":30,\"fAspectRatio\":0,\"fNumber\":0,\"fTickx\":0,\"fTicky\":0,\"fLogx\":0,\"fLogy\":0,\"fLogz\":0,\"fPadPaint\":0,\"fCrosshair\":0,\"fCrosshairPos\":0,\"fBorderSize\":2,\"fBorderMode\":0,\"fModified\":false,\"fGridx\":true,\"fGridy\":true,\"fAbsCoord\":false,\"fEditable\":true,\"fFixedAspectRatio\":false,\"fPrimitives\":{\"_typename\":\"TList\",\"name\":\"TList\",\"arr\":[{\"_typename\":\"TFrame\",\"fUniqueID\":0,\"fBits\":50331656,\"fLineColor\":1,\"fLineStyle\":1,\"fLineWidth\":1,\"fFillColor\":0,\"fFillStyle\":1001,\"fX1\":-5,\"fY1\":-0.349065850398866,\"fX2\":5,\"fY2\":1.0471975511966,\"fBorderSize\":1,\"fBorderMode\":0},{\"_typename\":\"TProfile2D\",\"fUniqueID\":0,\"fBits\":50332168,\"fName\":\"2303c9\",\"fTitle\":\"\",\"fLineColor\":1,\"fLineStyle\":1,\"fLineWidth\":1,\"fFillColor\":0,\"fFillStyle\":1001,\"fMarkerColor\":1,\"fMarkerStyle\":1,\"fMarkerSize\":1,\"fNcells\":143,\"fXaxis\":{\"_typename\":\"TAxis\",\"fUniqueID\":0,\"fBits\":50331656,\"fName\":\"xaxis\",\"fTitle\":\" #eta, #phi\",\"fNdivisions\":510,\"fAxisColor\":1,\"fLabelColor\":1,\"fLabelFont\":42,\"fLabelOffset\":0.005,\"fLabelSize\":0.035,\"fTickLength\":0.03,\"fTitleOffset\":1.4,\"fTitleSize\":0.035,\"fTitleColor\":1,\"fTitleFont\":42,\"fNbins\":11,\"fXmin\":-5,\"fXmax\":5,\"fXbins\":[-5,-4,-3,-2.5,-1.5,-0.5,0.5,1.5,2.5,3,4,5],\"fFirst\":0,\"fLast\":0,\"fBits2\":0,\"fTimeDisplay\":false,\"fTimeFormat\":\"\",\"fLabels\":null,\"fModLabs\":null},\"fYaxis\":{\"_typename\":\"TAxis\",\"fUniqueID\":0,\"fBits\":50333704,\"fName\":\"yaxis\",\"fTitle\":\"\",\"fNdivisions\":510,\"fAxisColor\":1,\"fLabelColor\":1,\"fLabelFont\":42,\"fLabelOffset\":0.005,\"fLabelSize\":0.035,\"fTickLength\":0.03,\"fTitleOffset\":0,\"fTitleSize\":0.035,\"fTitleColor\":1,\"fTitleFont\":42,\"fNbins\":9,\"fXmin\":-3.14159265358979,\"fXmax\":3.14159265358979,\"fXbins\":[-3.14159265358979,-2.44346095279206,-1.74532925199433,-1.0471975511966,-0.349065850398866,0.349065850398866,1.0471975511966,1.74532925199433,2.44346095279206,3.14159265358979],\"fFirst\":5,\"fLast\":6,\"fBits2\":0,\"fTimeDisplay\":false,\"fTimeFormat\":\"\",\"fLabels\":null,\"fModLabs\":null},\"fZaxis\":{\"_typename\":\"TAxis\",\"fUniqueID\":0,\"fBits\":50331648,\"fName\":\"zaxis\",\"fTitle\":\"\",\"fNdivisions\":510,\"fAxisColor\":1,\"fLabelColor\":1,\"fLabelFont\":42,\"fLabelOffset\":0.005,\"fLabelSize\":0.035,\"fTickLength\":0.03,\"fTitleOffset\":1,\"fTitleSize\":0.035,\"fTitleColor\":1,\"fTitleFont\":42,\"fNbins\":1,\"fXmin\":0,\"fXmax\":1,\"fXbins\":[],\"fFirst\":0,\"fLast\":0,\"fBits2\":0,\"fTimeDisplay\":false,\"fTimeFormat\":\"\",\"fLabels\":null,\"fModLabs\":null},\"fBarOffset\":0,\"fBarWidth\":1000,\"fEntries\":9085923,\"fTsumw\":9085923,\"fTsumw2\":9085923,\"fTsumwx\":0,\"fTsumwx2\":74442619.125,\"fMaximum\":-1111,\"fMinimum\":-1111,\"fNormFactor\":0,\"fContour\":[0,0.0415093106115911,0.0830186212231823,0.124527931834773,0.166037242446365,0.207546553057956,0.249055863669547,0.290565174281138,0.332074484892729,0.37358379550432,0.415093106115911,0.456602416727503,0.498111727339094,0.539621037950685,0.581130348562276,0.622639659173867,0.664148969785458,0.705658280397049,0.74716759100864,0.788676901620232],\"fSumw2\":[0,0,0,0,0,0,0,0,0,0,0,0,0,0,0,0,0,0,0,0,0,0,0,0,0,0,0,0,0,7373,237553,242784,266833,242498,210787,6976,0,0,0,0,0,0,6789,246587,250981,268727,241090,208645,7180,0,0,0,0,0,0,6370,220048,231161,265363,260560,246596,6726,0,0,0,0,0,0,6708,233507,242362,273758,259969,246792,7299,0,0,0,0,0,0,6278,232425,241842,271837,238887,205288,7133,0,0,0,0,0,0,6140,220502,228847,264661,231288,210215,6793,1,0,0,0,0,0,6253,220864,224929,278120,255571,226235,6858,2,0,0,0,0,0,0,0,0,0,0,0,0,0,0,0,0,0,0,0,0,0,0,0,0,0,0,0,0],\"fOption\":\"\",\"fFunctions\":{\"_typename\":\"TList\",\"name\":\"TList\",\"arr\":[{\"_typename\":\"TPaletteAxis\",\"fUniqueID\":0,\"fBits\":50331648,\"fLineColor\":1,\"fLineStyle\":1,\"fLineWidth\":1,\"fFillColor\":1178,\"fFillStyle\":1001,\"fX1\":5.08771929934635,\"fY1\":-0.349065850398866,\"fX2\":5.87719299346346,\"fY2\":1.0471975511966,\"fX1NDC\":0.704999988079071,\"fY1NDC\":0.129999998137355,\"fX2NDC\":0.749999988079071,\"fY2NDC\":0.89999999627471,\"fBorderSize\":4,\"fInit\":1,\"fShadowColor\":1,\"fCornerRadius\":0,\"fOption\":\"br\",\"fName\":\"TPave\",\"fAxis\":{\"_typename\":\"TGaxis\",\"fUniqueID\":0,\"fBits\":50331648,\"fLineColor\":1,\"fLineStyle\":1,\"fLineWidth\":1,\"fX1\":0,\"fY1\":0,\"fX2\":0,\"fY2\":0,\"fTextAngle\":0,\"fTextSize\":0.04,\"fTextAlign\":11,\"fTextColor\":1,\"fTextFont\":42,\"fWmin\":0,\"fWmax\":0,\"fGridLength\":0,\"fTickSize\":0.03,\"fLabelOffset\":0.005,\"fLabelSize\":0.035,\"fTitleOffset\":1,\"fTitleSize\":0.035,\"fNdiv\":0,\"fLabelColor\":1,\"fLabelFont\":42,\"fNModLabs\":0,\"fChopt\":\"\",\"fName\":\"\",\"fTitle\":\"\",\"fTimeFormat\":\"\",\"fFunctionName\":\"\",\"fModLabs\":null},\"fName\":\"palette\"}],\"opt\":[\"br\"]},\"fBufferSize\":0,\"fBuffer\":[],\"fBinStatErrOpt\":0,\"fStatOverflows\":2,\"fScalefactor\":1,\"fTsumwy\":0,\"fTsumwy2\":29522457.8201697,\"fTsumwxy\":1.63069557856943e-12,\"fArray\":[0,0,0,0,0,0,0,0,0,0,0,0,0,0,0,0,0,0,0,0,0,0,0,0,0,0,0,0,0,4427,56539,63330,75433,62488,55855,4312,0,0,0,0,0,0,4219,56527,63567,75535,62864,55591,4336,0,0,0,0,0,0,4112,55752,62889,75375,63278,55890,4248,0,0,0,0,0,0,4336,56473,63372,76192,63677,56568,4415,0,0,0,0,0,0,4266,55863,63110,76127,63455,55078,4363,0,0,0,0,0,0,4216,55522,62913,76145,63218,55631,4297,1,0,0,0,0,0,4243,55726,63087,76232,63715,56435,4392,2,0,0,0,0,0,0,0,0,0,0,0,0,0,0,0,0,0,0,0,0,0,0,0,0,0,0,0,0],\"fBinEntries\":[0,0,0,0,0,0,0,0,0,0,0,0,0,0,91777,91777,91777,91777,91777,91777,91777,91777,91777,91777,91777,0,0,91777,91777,91777,91777,91777,91777,91777,91777,91777,91777,91777,0,0,91777,91777,91777,91777,91777,91777,91777,91777,91777,91777,91777,0,0,91777,91777,91777,91777,91777,91777,91777,91777,91777,91777,91777,0,0,91777,91777,91777,91777,91777,91777,91777,91777,91777,91777,91777,0,0,91777,91777,91777,91777,91777,91777,91777,91777,91777,91777,91777,0,0,91777,91777,91777,91777,91777,91777,91777,91777,91777,91777,91777,0,0,91777,91777,91777,91777,91777,91777,91777,91777,91777,91777,91777,0,0,91777,91777,91777,91777,91777,91777,91777,91777,91777,91777,91777,0,0,0,0,0,0,0,0,0,0,0,0,0,0],\"fErrorMode\":0,\"fZmin\":0,\"fZmax\":0,\"fTsumwz\":2259637,\"fTsumwz2\":8542991,\"fBinSumw2\":[0,0,0,0,0,0,0,0,0,0,0,0,0,0,91777,91777,91777,91777,91777,91777,91777,91777,91777,91777,91777,0,0,91777,91777,91777,91777,91777,91777,91777,91777,91777,91777,91777,0,0,91777,91777,91777,91777,91777,91777,91777,91777,91777,91777,91777,0,0,91777,91777,91777,91777,91777,91777,91777,91777,91777,91777,91777,0,0,91777,91777,91777,91777,91777,91777,91777,91777,91777,91777,91777,0,0,91777,91777,91777,91777,91777,91777,91777,91777,91777,91777,91777,0,0,91777,91777,91777,91777,91777,91777,91777,91777,91777,91777,91777,0,0,91777,91777,91777,91777,91777,91777,91777,91777,91777,91777,91777,0,0,91777,91777,91777,91777,91777,91777,91777,91777,91777,91777,91777,0,0,0,0,0,0,0,0,0,0,0,0,0,0]},{\"_typename\":\"TLatex\",\"fUniqueID\":0,\"fBits\":50348040,\"fName\":\"\",\"fTitle\":\"ttbar, PU200, L1Track, p_{T}^{tk} > 10 GeV\",\"fTextAngle\":0,\"fTextSize\":0.03,\"fTextAlign\":11,\"fTextColor\":1,\"fTextFont\":62,\"fX\":0.15,\"fY\":0.85,\"fLineColor\":1,\"fLineStyle\":1,\"fLineWidth\":2,\"fLimitFactorSize\":3,\"fOriginSize\":0.04},{\"_typename\":\"TLatex\",\"fUniqueID\":0,\"fBits\":50331656,\"fName\":\"\",\"fTitle\":\"\",\"fTextAngle\":0,\"fTextSize\":0.03,\"fTextAlign\":11,\"fTextColor\":1,\"fTextFont\":62,\"fX\":0,\"fY\":0,\"fLineColor\":1,\"fLineStyle\":1,\"fLineWidth\":2,\"fLimitFactorSize\":3,\"fOriginSize\":0.04}],\"opt\":[\"\",\"COLZ\",\"same\",\"same\"]},\"fExecs\":null,\"fName\":\"c_6d958d\",\"fTitle\":\"c_6d958d\",\"fNumPaletteColor\":0,\"fNextPaletteColor\":0,\"fDISPLAY\":\"$DISPLAY\",\"fDoubleBuffer\":0,\"fRetained\":true,\"fXsizeUser\":0,\"fYsizeUser\":0,\"fXsizeReal\":20,\"fYsizeReal\":15,\"fWindowTopX\":0,\"fWindowTopY\":0,\"fWindowWidth\":0,\"fWindowHeight\":0,\"fCw\":796,\"fCh\":572,\"fCatt\":{\"_typename\":\"TAttCanvas\",\"fXBetween\":2,\"fYBetween\":2,\"fTitleFromTop\":1.2,\"fXdate\":0.2,\"fYdate\":0.3,\"fAdate\":1},\"kMoveOpaque\":true,\"kResizeOpaque\":true,\"fHighLightColor\":2,\"fBatch\":true,\"kShowEventStatus\":false,\"kAutoExec\":true,\"kMenuBar\":true});\n",
       "       Core.draw(\"root_plot_30\", obj, \"\");\n",
       "     }\n",
       " );\n",
       "</script>\n"
      ],
      "text/plain": [
       "<IPython.core.display.HTML object>"
      ]
     },
     "metadata": {},
     "output_type": "display_data"
    }
   ],
   "source": [
    "hsets, labels, text = hplot.get_histo(histos.CorrOccupancyHistos, sample, 'PU200', ['L1Trk'], ['Pt10'], None, debug=False)\n",
    "text = '{}, {}'.format(sample, text)\n",
    "\n",
    "res=np.zeros(quantiles.shape)\n",
    "n = hsets[0].h_eventMaxOcc.GetQuantiles(quantiles.shape[0], res, quantiles)\n",
    "for id,quantile in enumerate(quantiles):\n",
    "    print 'quantile {}% = {}'.format(quantile*100, res[id])\n",
    "\n",
    "\n",
    "draw([his.h_eventMaxOcc for his in hsets], labels, text=text, min_x=0., max_x=10, logy=False, options='hist', v_lines=res.tolist())\n",
    "draw([his.h_averageOccupancy for his in hsets], labels, text=text, logy=False, options='COLZ')\n",
    "\n"
   ]
  },
  {
   "cell_type": "code",
   "execution_count": 36,
   "metadata": {},
   "outputs": [
    {
     "name": "stdout",
     "output_type": "stream",
     "text": [
      "quantile 90.0% = 5.90063161489\n",
      "quantile 95.0% = 7.37072213501\n",
      "quantile 99.5% = 13.4158766234\n"
     ]
    },
    {
     "data": {
      "text/plain": [
       "<drawingTools.DrawMachine at 0x11e2a0090>"
      ]
     },
     "execution_count": 36,
     "metadata": {},
     "output_type": "execute_result"
    },
    {
     "data": {
      "text/html": [
       "\n",
       "<div id=\"root_plot_31\"\n",
       "     style=\"width: 796px; height: 572px\">\n",
       "</div>\n",
       "\n",
       "<script>\n",
       " requirejs.config({\n",
       "     paths: {\n",
       "       'JSRootCore' : 'https://root.cern.ch/js/notebook//scripts/JSRootCore',\n",
       "     }\n",
       "   });\n",
       " require(['JSRootCore'],\n",
       "     function(Core) {\n",
       "       var obj = Core.JSONR_unref({\"_typename\":\"TCanvas\",\"fUniqueID\":0,\"fBits\":53673992,\"fLineColor\":1,\"fLineStyle\":1,\"fLineWidth\":1,\"fFillColor\":0,\"fFillStyle\":1001,\"fLeftMargin\":0.13,\"fRightMargin\":0.3,\"fBottomMargin\":0.13,\"fTopMargin\":0.1,\"fXfile\":2,\"fYfile\":2,\"fAfile\":1,\"fXstat\":0.99,\"fYstat\":0.99,\"fAstat\":2,\"fFrameFillColor\":0,\"fFrameLineColor\":1,\"fFrameFillStyle\":1001,\"fFrameLineStyle\":1,\"fFrameLineWidth\":1,\"fFrameBorderSize\":1,\"fFrameBorderMode\":0,\"fX1\":-2.28070169934936,\"fY1\":-5316.35837824582,\"fX2\":15.2631581699199,\"fY2\":35578.7066557451,\"fXtoAbsPixelk\":103.480046204376,\"fXtoPixelk\":103.480046204376,\"fXtoPixel\":45.3719994306564,\"fYtoAbsPixelk\":497.640051065433,\"fYtoPixelk\":497.640051065433,\"fYtoPixel\":-0.0139870177373375,\"fUtoAbsPixelk\":5e-5,\"fUtoPixelk\":5e-5,\"fUtoPixel\":796,\"fVtoAbsPixelk\":572.00005,\"fVtoPixelk\":572,\"fVtoPixel\":-572,\"fAbsPixeltoXk\":-2.28070169934936,\"fPixeltoXk\":-2.28070169934936,\"fPixeltoX\":0.0220400249613935,\"fAbsPixeltoYk\":35578.7066557451,\"fPixeltoYk\":-5316.35837824582,\"fPixeltoY\":-71.4948689405435,\"fXlowNDC\":0,\"fYlowNDC\":0,\"fXUpNDC\":0,\"fYUpNDC\":0,\"fWNDC\":1,\"fHNDC\":1,\"fAbsXlowNDC\":0,\"fAbsYlowNDC\":0,\"fAbsWNDC\":1,\"fAbsHNDC\":1,\"fUxmin\":0,\"fUymin\":0,\"fUxmax\":10,\"fUymax\":31489.2,\"fTheta\":30,\"fPhi\":30,\"fAspectRatio\":0,\"fNumber\":0,\"fTickx\":0,\"fTicky\":0,\"fLogx\":0,\"fLogy\":0,\"fLogz\":0,\"fPadPaint\":0,\"fCrosshair\":0,\"fCrosshairPos\":0,\"fBorderSize\":2,\"fBorderMode\":0,\"fModified\":true,\"fGridx\":true,\"fGridy\":true,\"fAbsCoord\":false,\"fEditable\":true,\"fFixedAspectRatio\":false,\"fPrimitives\":{\"_typename\":\"TList\",\"name\":\"TList\",\"arr\":[{\"_typename\":\"TFrame\",\"fUniqueID\":0,\"fBits\":50331656,\"fLineColor\":1,\"fLineStyle\":1,\"fLineWidth\":1,\"fFillColor\":0,\"fFillStyle\":1001,\"fX1\":0,\"fY1\":0,\"fX2\":10,\"fY2\":31489.2,\"fBorderSize\":1,\"fBorderMode\":0},{\"_typename\":\"TH1F\",\"fUniqueID\":0,\"fBits\":50332168,\"fName\":\"806584\",\"fTitle\":\"\",\"fLineColor\":1,\"fLineStyle\":1,\"fLineWidth\":1,\"fFillColor\":0,\"fFillStyle\":1001,\"fMarkerColor\":1,\"fMarkerStyle\":1,\"fMarkerSize\":1,\"fNcells\":102,\"fXaxis\":{\"_typename\":\"TAxis\",\"fUniqueID\":0,\"fBits\":50333704,\"fName\":\"xaxis\",\"fTitle\":\"\",\"fNdivisions\":510,\"fAxisColor\":1,\"fLabelColor\":1,\"fLabelFont\":42,\"fLabelOffset\":0.005,\"fLabelSize\":0.035,\"fTickLength\":0.03,\"fTitleOffset\":1.4,\"fTitleSize\":0.035,\"fTitleColor\":1,\"fTitleFont\":42,\"fNbins\":100,\"fXmin\":0,\"fXmax\":100,\"fXbins\":[],\"fFirst\":1,\"fLast\":10,\"fBits2\":0,\"fTimeDisplay\":false,\"fTimeFormat\":\"\",\"fLabels\":null,\"fModLabs\":null},\"fYaxis\":{\"_typename\":\"TAxis\",\"fUniqueID\":0,\"fBits\":50331656,\"fName\":\"yaxis\",\"fTitle\":\"\",\"fNdivisions\":510,\"fAxisColor\":1,\"fLabelColor\":1,\"fLabelFont\":42,\"fLabelOffset\":0.005,\"fLabelSize\":0.035,\"fTickLength\":0.03,\"fTitleOffset\":0,\"fTitleSize\":0.035,\"fTitleColor\":1,\"fTitleFont\":42,\"fNbins\":1,\"fXmin\":0,\"fXmax\":1,\"fXbins\":[],\"fFirst\":0,\"fLast\":0,\"fBits2\":0,\"fTimeDisplay\":false,\"fTimeFormat\":\"\",\"fLabels\":null,\"fModLabs\":null},\"fZaxis\":{\"_typename\":\"TAxis\",\"fUniqueID\":0,\"fBits\":50331648,\"fName\":\"zaxis\",\"fTitle\":\"\",\"fNdivisions\":510,\"fAxisColor\":1,\"fLabelColor\":1,\"fLabelFont\":42,\"fLabelOffset\":0.005,\"fLabelSize\":0.035,\"fTickLength\":0.03,\"fTitleOffset\":1,\"fTitleSize\":0.035,\"fTitleColor\":1,\"fTitleFont\":42,\"fNbins\":1,\"fXmin\":0,\"fXmax\":1,\"fXbins\":[],\"fFirst\":0,\"fLast\":0,\"fBits2\":0,\"fTimeDisplay\":false,\"fTimeFormat\":\"\",\"fLabels\":null,\"fModLabs\":null},\"fBarOffset\":0,\"fBarWidth\":1000,\"fEntries\":90791,\"fTsumw\":90791,\"fTsumw2\":90791,\"fTsumwx\":266909,\"fTsumwx2\":1208803,\"fMaximum\":31489.2,\"fMinimum\":0,\"fNormFactor\":0,\"fContour\":[],\"fSumw2\":[0,989,20125,26241,18478,10603,5858,3249,1911,1115,776,473,271,184,154,97,51,44,42,27,16,14,21,12,5,9,2,2,2,3,6,0,2,1,1,1,0,0,0,0,1,4,0,0,0,0,0,0,0,0,1,0,0,0,0,0,0,0,0,0,0,0,0,0,0,0,0,0,0,0,0,0,0,0,0,0,0,0,0,0,0,0,0,0,0,0,0,0,0,0,0,0,0,0,0,0,0,0,0,0,0,0],\"fOption\":\"\",\"fFunctions\":{\"_typename\":\"TList\",\"name\":\"TList\",\"arr\":[],\"opt\":[]},\"fBufferSize\":0,\"fBuffer\":[],\"fBinStatErrOpt\":0,\"fStatOverflows\":2,\"fArray\":[0,989,20125,26241,18478,10603,5858,3249,1911,1115,776,473,271,184,154,97,51,44,42,27,16,14,21,12,5,9,2,2,2,3,6,0,2,1,1,1,0,0,0,0,1,4,0,0,0,0,0,0,0,0,1,0,0,0,0,0,0,0,0,0,0,0,0,0,0,0,0,0,0,0,0,0,0,0,0,0,0,0,0,0,0,0,0,0,0,0,0,0,0,0,0,0,0,0,0,0,0,0,0,0,0,0]},{\"_typename\":\"TLatex\",\"fUniqueID\":0,\"fBits\":50348040,\"fName\":\"\",\"fTitle\":\"ttbar, PU200, L1Track EMU, p_{T}^{tk} > 10 GeV\",\"fTextAngle\":0,\"fTextSize\":0.03,\"fTextAlign\":11,\"fTextColor\":1,\"fTextFont\":62,\"fX\":0.15,\"fY\":0.85,\"fLineColor\":1,\"fLineStyle\":1,\"fLineWidth\":2,\"fLimitFactorSize\":3,\"fOriginSize\":0.04},{\"_typename\":\"TLatex\",\"fUniqueID\":0,\"fBits\":50331656,\"fName\":\"\",\"fTitle\":\"\",\"fTextAngle\":0,\"fTextSize\":0.03,\"fTextAlign\":11,\"fTextColor\":1,\"fTextFont\":62,\"fX\":0,\"fY\":0,\"fLineColor\":1,\"fLineStyle\":1,\"fLineWidth\":2,\"fLimitFactorSize\":3,\"fOriginSize\":0.04},{\"_typename\":\"TLine\",\"fUniqueID\":0,\"fBits\":50331656,\"fLineColor\":1,\"fLineStyle\":2,\"fLineWidth\":1,\"fX1\":5.90063161488563,\"fY1\":0,\"fX2\":5.90063161488563,\"fY2\":31489.2},{\"_typename\":\"TLine\",\"fUniqueID\":0,\"fBits\":50331656,\"fLineColor\":1,\"fLineStyle\":2,\"fLineWidth\":1,\"fX1\":7.37072213500785,\"fY1\":0,\"fX2\":7.37072213500785,\"fY2\":31489.2},{\"_typename\":\"TLine\",\"fUniqueID\":0,\"fBits\":50331656,\"fLineColor\":1,\"fLineStyle\":2,\"fLineWidth\":1,\"fX1\":13.4158766233766,\"fY1\":0,\"fX2\":13.4158766233766,\"fY2\":31489.2}],\"opt\":[\"\",\"hist\",\"same\",\"same\",\"same\",\"same\",\"same\"]},\"fExecs\":null,\"fName\":\"c_2ccd41\",\"fTitle\":\"c_2ccd41\",\"fNumPaletteColor\":0,\"fNextPaletteColor\":0,\"fDISPLAY\":\"$DISPLAY\",\"fDoubleBuffer\":0,\"fRetained\":true,\"fXsizeUser\":0,\"fYsizeUser\":0,\"fXsizeReal\":20,\"fYsizeReal\":15,\"fWindowTopX\":0,\"fWindowTopY\":0,\"fWindowWidth\":0,\"fWindowHeight\":0,\"fCw\":796,\"fCh\":572,\"fCatt\":{\"_typename\":\"TAttCanvas\",\"fXBetween\":2,\"fYBetween\":2,\"fTitleFromTop\":1.2,\"fXdate\":0.2,\"fYdate\":0.3,\"fAdate\":1},\"kMoveOpaque\":true,\"kResizeOpaque\":true,\"fHighLightColor\":2,\"fBatch\":true,\"kShowEventStatus\":false,\"kAutoExec\":true,\"kMenuBar\":true});\n",
       "       Core.draw(\"root_plot_31\", obj, \"\");\n",
       "     }\n",
       " );\n",
       "</script>\n"
      ],
      "text/plain": [
       "<IPython.core.display.HTML object>"
      ]
     },
     "metadata": {},
     "output_type": "display_data"
    },
    {
     "data": {
      "text/html": [
       "\n",
       "<div id=\"root_plot_32\"\n",
       "     style=\"width: 796px; height: 572px\">\n",
       "</div>\n",
       "\n",
       "<script>\n",
       " requirejs.config({\n",
       "     paths: {\n",
       "       'JSRootCore' : 'https://root.cern.ch/js/notebook//scripts/JSRootCore',\n",
       "     }\n",
       "   });\n",
       " require(['JSRootCore'],\n",
       "     function(Core) {\n",
       "       var obj = Core.JSONR_unref({\"_typename\":\"TCanvas\",\"fUniqueID\":0,\"fBits\":53673992,\"fLineColor\":1,\"fLineStyle\":1,\"fLineWidth\":1,\"fFillColor\":0,\"fFillStyle\":1001,\"fLeftMargin\":0.13,\"fRightMargin\":0.3,\"fBottomMargin\":0.13,\"fTopMargin\":0.1,\"fXfile\":2,\"fYfile\":2,\"fAfile\":1,\"fXstat\":0.99,\"fYstat\":0.99,\"fAstat\":2,\"fFrameFillColor\":0,\"fFrameLineColor\":1,\"fFrameFillStyle\":1001,\"fFrameLineStyle\":1,\"fFrameLineWidth\":1,\"fFrameBorderSize\":1,\"fFrameBorderMode\":0,\"fX1\":-7.28070169934936,\"fY1\":-0.584798629679065,\"fX2\":10.2631581699199,\"fY2\":1.22853046768854,\"fXtoAbsPixelk\":330.340043357658,\"fXtoPixelk\":330.340043357658,\"fXtoPixel\":45.3719994306564,\"fYtoAbsPixelk\":387.530051331791,\"fYtoPixelk\":387.530051331791,\"fYtoPixel\":-315.441913346215,\"fUtoAbsPixelk\":5e-5,\"fUtoPixelk\":5e-5,\"fUtoPixel\":796,\"fVtoAbsPixelk\":572.00005,\"fVtoPixelk\":572,\"fVtoPixel\":-572,\"fAbsPixeltoXk\":-7.28070169934936,\"fPixeltoXk\":-7.28070169934936,\"fPixeltoX\":0.0220400249613935,\"fAbsPixeltoYk\":1.22853046768854,\"fPixeltoYk\":-0.584798629679065,\"fPixeltoY\":-0.00317015576462867,\"fXlowNDC\":0,\"fYlowNDC\":0,\"fXUpNDC\":0,\"fYUpNDC\":0,\"fWNDC\":1,\"fHNDC\":1,\"fAbsXlowNDC\":0,\"fAbsYlowNDC\":0,\"fAbsWNDC\":1,\"fAbsHNDC\":1,\"fUxmin\":-5,\"fUymin\":-0.349065850398866,\"fUxmax\":5,\"fUymax\":1.0471975511966,\"fTheta\":30,\"fPhi\":30,\"fAspectRatio\":0,\"fNumber\":0,\"fTickx\":0,\"fTicky\":0,\"fLogx\":0,\"fLogy\":0,\"fLogz\":0,\"fPadPaint\":0,\"fCrosshair\":0,\"fCrosshairPos\":0,\"fBorderSize\":2,\"fBorderMode\":0,\"fModified\":false,\"fGridx\":true,\"fGridy\":true,\"fAbsCoord\":false,\"fEditable\":true,\"fFixedAspectRatio\":false,\"fPrimitives\":{\"_typename\":\"TList\",\"name\":\"TList\",\"arr\":[{\"_typename\":\"TFrame\",\"fUniqueID\":0,\"fBits\":50331656,\"fLineColor\":1,\"fLineStyle\":1,\"fLineWidth\":1,\"fFillColor\":0,\"fFillStyle\":1001,\"fX1\":-5,\"fY1\":-0.349065850398866,\"fX2\":5,\"fY2\":1.0471975511966,\"fBorderSize\":1,\"fBorderMode\":0},{\"_typename\":\"TProfile2D\",\"fUniqueID\":0,\"fBits\":50332168,\"fName\":\"9c8e67\",\"fTitle\":\"\",\"fLineColor\":1,\"fLineStyle\":1,\"fLineWidth\":1,\"fFillColor\":0,\"fFillStyle\":1001,\"fMarkerColor\":1,\"fMarkerStyle\":1,\"fMarkerSize\":1,\"fNcells\":143,\"fXaxis\":{\"_typename\":\"TAxis\",\"fUniqueID\":0,\"fBits\":50331656,\"fName\":\"xaxis\",\"fTitle\":\" #eta, #phi\",\"fNdivisions\":510,\"fAxisColor\":1,\"fLabelColor\":1,\"fLabelFont\":42,\"fLabelOffset\":0.005,\"fLabelSize\":0.035,\"fTickLength\":0.03,\"fTitleOffset\":1.4,\"fTitleSize\":0.035,\"fTitleColor\":1,\"fTitleFont\":42,\"fNbins\":11,\"fXmin\":-5,\"fXmax\":5,\"fXbins\":[-5,-4,-3,-2.5,-1.5,-0.5,0.5,1.5,2.5,3,4,5],\"fFirst\":0,\"fLast\":0,\"fBits2\":0,\"fTimeDisplay\":false,\"fTimeFormat\":\"\",\"fLabels\":null,\"fModLabs\":null},\"fYaxis\":{\"_typename\":\"TAxis\",\"fUniqueID\":0,\"fBits\":50333704,\"fName\":\"yaxis\",\"fTitle\":\"\",\"fNdivisions\":510,\"fAxisColor\":1,\"fLabelColor\":1,\"fLabelFont\":42,\"fLabelOffset\":0.005,\"fLabelSize\":0.035,\"fTickLength\":0.03,\"fTitleOffset\":0,\"fTitleSize\":0.035,\"fTitleColor\":1,\"fTitleFont\":42,\"fNbins\":9,\"fXmin\":-3.14159265358979,\"fXmax\":3.14159265358979,\"fXbins\":[-3.14159265358979,-2.44346095279206,-1.74532925199433,-1.0471975511966,-0.349065850398866,0.349065850398866,1.0471975511966,1.74532925199433,2.44346095279206,3.14159265358979],\"fFirst\":5,\"fLast\":6,\"fBits2\":0,\"fTimeDisplay\":false,\"fTimeFormat\":\"\",\"fLabels\":null,\"fModLabs\":null},\"fZaxis\":{\"_typename\":\"TAxis\",\"fUniqueID\":0,\"fBits\":50331648,\"fName\":\"zaxis\",\"fTitle\":\"\",\"fNdivisions\":510,\"fAxisColor\":1,\"fLabelColor\":1,\"fLabelFont\":42,\"fLabelOffset\":0.005,\"fLabelSize\":0.035,\"fTickLength\":0.03,\"fTitleOffset\":1,\"fTitleSize\":0.035,\"fTitleColor\":1,\"fTitleFont\":42,\"fNbins\":1,\"fXmin\":0,\"fXmax\":1,\"fXbins\":[],\"fFirst\":0,\"fLast\":0,\"fBits2\":0,\"fTimeDisplay\":false,\"fTimeFormat\":\"\",\"fLabels\":null,\"fModLabs\":null},\"fBarOffset\":0,\"fBarWidth\":1000,\"fEntries\":8988309,\"fTsumw\":8988309,\"fTsumw2\":8988309,\"fTsumwx\":0,\"fTsumwx2\":73642849.875,\"fMaximum\":-1111,\"fMinimum\":-1111,\"fNormFactor\":0,\"fContour\":[0,0.0268782148010265,0.0537564296020531,0.0806346444030796,0.107512859204106,0.134391074005133,0.161269288806159,0.188147503607186,0.215025718408212,0.241903933209239,0.268782148010265,0.295660362811292,0.322538577612318,0.349416792413345,0.376295007214371,0.403173222015398,0.430051436816425,0.456929651617451,0.483807866418478,0.510686081219504],\"fSumw2\":[0,0,0,0,0,0,0,0,0,0,0,0,0,0,0,0,0,0,0,0,0,0,0,0,0,0,0,0,0,4319,52993,121669,157518,123028,50919,3856,0,0,0,0,0,0,3608,53197,122274,156667,121265,51277,3875,0,0,0,0,0,0,3480,48600,117998,158354,120179,52833,3788,0,0,0,0,0,0,3540,51318,121297,162474,122202,50559,4117,0,0,0,0,0,0,3280,51743,122992,163642,123476,51167,4259,0,0,0,0,0,0,3107,50268,118298,156699,122144,52290,4052,0,0,0,0,0,0,3370,50853,117555,160669,125996,51901,3957,0,0,0,0,0,0,0,0,0,0,0,0,0,0,0,0,0,0,0,0,0,0,0,0,0,0,0,0,0],\"fOption\":\"\",\"fFunctions\":{\"_typename\":\"TList\",\"name\":\"TList\",\"arr\":[{\"_typename\":\"TPaletteAxis\",\"fUniqueID\":0,\"fBits\":50331648,\"fLineColor\":1,\"fLineStyle\":1,\"fLineWidth\":1,\"fFillColor\":1178,\"fFillStyle\":1001,\"fX1\":5.08771929934635,\"fY1\":-0.349065850398866,\"fX2\":5.87719299346346,\"fY2\":1.0471975511966,\"fX1NDC\":0.704999988079071,\"fY1NDC\":0.129999998137355,\"fX2NDC\":0.749999988079071,\"fY2NDC\":0.89999999627471,\"fBorderSize\":4,\"fInit\":1,\"fShadowColor\":1,\"fCornerRadius\":0,\"fOption\":\"br\",\"fName\":\"TPave\",\"fAxis\":{\"_typename\":\"TGaxis\",\"fUniqueID\":0,\"fBits\":50331648,\"fLineColor\":1,\"fLineStyle\":1,\"fLineWidth\":1,\"fX1\":0,\"fY1\":0,\"fX2\":0,\"fY2\":0,\"fTextAngle\":0,\"fTextSize\":0.04,\"fTextAlign\":11,\"fTextColor\":1,\"fTextFont\":42,\"fWmin\":0,\"fWmax\":0,\"fGridLength\":0,\"fTickSize\":0.03,\"fLabelOffset\":0.005,\"fLabelSize\":0.035,\"fTitleOffset\":1,\"fTitleSize\":0.035,\"fNdiv\":0,\"fLabelColor\":1,\"fLabelFont\":42,\"fNModLabs\":0,\"fChopt\":\"\",\"fName\":\"\",\"fTitle\":\"\",\"fTimeFormat\":\"\",\"fFunctionName\":\"\",\"fModLabs\":null},\"fName\":\"palette\"}],\"opt\":[\"br\"]},\"fBufferSize\":0,\"fBuffer\":[],\"fBinStatErrOpt\":0,\"fStatOverflows\":2,\"fScalefactor\":1,\"fTsumwy\":0,\"fTsumwy2\":29205285.288809,\"fTsumwxy\":1.63069557856943e-12,\"fArray\":[0,0,0,0,0,0,0,0,0,0,0,0,0,0,0,0,0,0,0,0,0,0,0,0,0,0,0,0,0,1795,18167,38345,48260,38086,17869,1672,0,0,0,0,0,0,1680,18403,38884,48275,38279,17839,1687,0,0,0,0,0,0,1632,17872,38368,48308,38607,18163,1692,0,0,0,0,0,0,1658,18154,38443,48806,38920,18097,1701,0,0,0,0,0,0,1624,18025,38272,48704,38678,18017,1779,0,0,0,0,0,0,1533,17712,38356,48395,38554,18196,1730,0,0,0,0,0,0,1616,17793,38353,48679,38864,18231,1745,0,0,0,0,0,0,0,0,0,0,0,0,0,0,0,0,0,0,0,0,0,0,0,0,0,0,0,0,0],\"fBinEntries\":[0,0,0,0,0,0,0,0,0,0,0,0,0,0,90791,90791,90791,90791,90791,90791,90791,90791,90791,90791,90791,0,0,90791,90791,90791,90791,90791,90791,90791,90791,90791,90791,90791,0,0,90791,90791,90791,90791,90791,90791,90791,90791,90791,90791,90791,0,0,90791,90791,90791,90791,90791,90791,90791,90791,90791,90791,90791,0,0,90791,90791,90791,90791,90791,90791,90791,90791,90791,90791,90791,0,0,90791,90791,90791,90791,90791,90791,90791,90791,90791,90791,90791,0,0,90791,90791,90791,90791,90791,90791,90791,90791,90791,90791,90791,0,0,90791,90791,90791,90791,90791,90791,90791,90791,90791,90791,90791,0,0,90791,90791,90791,90791,90791,90791,90791,90791,90791,90791,90791,0,0,0,0,0,0,0,0,0,0,0,0,0,0],\"fErrorMode\":0,\"fZmin\":0,\"fZmax\":0,\"fTsumwz\":1154518,\"fTsumwz2\":3588922,\"fBinSumw2\":[0,0,0,0,0,0,0,0,0,0,0,0,0,0,90791,90791,90791,90791,90791,90791,90791,90791,90791,90791,90791,0,0,90791,90791,90791,90791,90791,90791,90791,90791,90791,90791,90791,0,0,90791,90791,90791,90791,90791,90791,90791,90791,90791,90791,90791,0,0,90791,90791,90791,90791,90791,90791,90791,90791,90791,90791,90791,0,0,90791,90791,90791,90791,90791,90791,90791,90791,90791,90791,90791,0,0,90791,90791,90791,90791,90791,90791,90791,90791,90791,90791,90791,0,0,90791,90791,90791,90791,90791,90791,90791,90791,90791,90791,90791,0,0,90791,90791,90791,90791,90791,90791,90791,90791,90791,90791,90791,0,0,90791,90791,90791,90791,90791,90791,90791,90791,90791,90791,90791,0,0,0,0,0,0,0,0,0,0,0,0,0,0]},{\"_typename\":\"TLatex\",\"fUniqueID\":0,\"fBits\":50348040,\"fName\":\"\",\"fTitle\":\"ttbar, PU200, L1Track EMU, p_{T}^{tk} > 10 GeV\",\"fTextAngle\":0,\"fTextSize\":0.03,\"fTextAlign\":11,\"fTextColor\":1,\"fTextFont\":62,\"fX\":0.15,\"fY\":0.85,\"fLineColor\":1,\"fLineStyle\":1,\"fLineWidth\":2,\"fLimitFactorSize\":3,\"fOriginSize\":0.04},{\"_typename\":\"TLatex\",\"fUniqueID\":0,\"fBits\":50331656,\"fName\":\"\",\"fTitle\":\"\",\"fTextAngle\":0,\"fTextSize\":0.03,\"fTextAlign\":11,\"fTextColor\":1,\"fTextFont\":62,\"fX\":0,\"fY\":0,\"fLineColor\":1,\"fLineStyle\":1,\"fLineWidth\":2,\"fLimitFactorSize\":3,\"fOriginSize\":0.04}],\"opt\":[\"\",\"COLZ\",\"same\",\"same\"]},\"fExecs\":null,\"fName\":\"c_693e68\",\"fTitle\":\"c_693e68\",\"fNumPaletteColor\":0,\"fNextPaletteColor\":0,\"fDISPLAY\":\"$DISPLAY\",\"fDoubleBuffer\":0,\"fRetained\":true,\"fXsizeUser\":0,\"fYsizeUser\":0,\"fXsizeReal\":20,\"fYsizeReal\":15,\"fWindowTopX\":0,\"fWindowTopY\":0,\"fWindowWidth\":0,\"fWindowHeight\":0,\"fCw\":796,\"fCh\":572,\"fCatt\":{\"_typename\":\"TAttCanvas\",\"fXBetween\":2,\"fYBetween\":2,\"fTitleFromTop\":1.2,\"fXdate\":0.2,\"fYdate\":0.3,\"fAdate\":1},\"kMoveOpaque\":true,\"kResizeOpaque\":true,\"fHighLightColor\":2,\"fBatch\":true,\"kShowEventStatus\":false,\"kAutoExec\":true,\"kMenuBar\":true});\n",
       "       Core.draw(\"root_plot_32\", obj, \"\");\n",
       "     }\n",
       " );\n",
       "</script>\n"
      ],
      "text/plain": [
       "<IPython.core.display.HTML object>"
      ]
     },
     "metadata": {},
     "output_type": "display_data"
    }
   ],
   "source": [
    "hsets, labels, text = hplot.get_histo(histos.CorrOccupancyHistos, sample, 'PU200', ['L1TrkEmu'], ['Pt10'], None, debug=False)\n",
    "text = '{}, {}'.format(sample, text)\n",
    "\n",
    "res=np.zeros(quantiles.shape)\n",
    "n = hsets[0].h_eventMaxOcc.GetQuantiles(quantiles.shape[0], res, quantiles)\n",
    "for id,quantile in enumerate(quantiles):\n",
    "    print 'quantile {}% = {}'.format(quantile*100, res[id])\n",
    "\n",
    "\n",
    "draw([his.h_eventMaxOcc for his in hsets], labels, text=text, min_x=0., max_x=10, logy=False, options='hist', v_lines=res.tolist())\n",
    "draw([his.h_averageOccupancy for his in hsets], labels, text=text, logy=False, options='COLZ')\n"
   ]
  },
  {
   "cell_type": "markdown",
   "metadata": {},
   "source": [
    "## DrellYan sample"
   ]
  },
  {
   "cell_type": "code",
   "execution_count": 39,
   "metadata": {},
   "outputs": [],
   "source": [
    "sample = 'dyll'"
   ]
  },
  {
   "cell_type": "markdown",
   "metadata": {},
   "source": [
    "### EG clusters"
   ]
  },
  {
   "cell_type": "code",
   "execution_count": 40,
   "metadata": {},
   "outputs": [
    {
     "name": "stdout",
     "output_type": "stream",
     "text": [
      "quantile 90.0% = 1.95372706093\n",
      "quantile 95.0% = 2.17604901269\n",
      "quantile 99.5% = 2.97425158674\n"
     ]
    },
    {
     "data": {
      "text/plain": [
       "<drawingTools.DrawMachine at 0x11e370090>"
      ]
     },
     "execution_count": 40,
     "metadata": {},
     "output_type": "execute_result"
    },
    {
     "data": {
      "text/html": [
       "\n",
       "<div id=\"root_plot_37\"\n",
       "     style=\"width: 796px; height: 572px\">\n",
       "</div>\n",
       "\n",
       "<script>\n",
       " requirejs.config({\n",
       "     paths: {\n",
       "       'JSRootCore' : 'https://root.cern.ch/js/notebook//scripts/JSRootCore',\n",
       "     }\n",
       "   });\n",
       " require(['JSRootCore'],\n",
       "     function(Core) {\n",
       "       var obj = Core.JSONR_unref({\"_typename\":\"TCanvas\",\"fUniqueID\":0,\"fBits\":53673992,\"fLineColor\":1,\"fLineStyle\":1,\"fLineWidth\":1,\"fFillColor\":0,\"fFillStyle\":1001,\"fLeftMargin\":0.13,\"fRightMargin\":0.3,\"fBottomMargin\":0.13,\"fTopMargin\":0.1,\"fXfile\":2,\"fYfile\":2,\"fAfile\":1,\"fXstat\":0.99,\"fYstat\":0.99,\"fAstat\":2,\"fFrameFillColor\":0,\"fFrameLineColor\":1,\"fFrameFillStyle\":1001,\"fFrameLineStyle\":1,\"fFrameLineWidth\":1,\"fFrameBorderSize\":1,\"fFrameBorderMode\":0,\"fX1\":-2.28070169934936,\"fY1\":-17652.9192702905,\"fX2\":15.2631581699199,\"fY2\":118138.769369881,\"fXtoAbsPixelk\":103.480046204376,\"fXtoPixelk\":103.480046204376,\"fXtoPixel\":45.3719994306564,\"fYtoAbsPixelk\":497.640051065433,\"fYtoPixelk\":497.640051065433,\"fYtoPixel\":-0.00421233439047746,\"fUtoAbsPixelk\":5e-5,\"fUtoPixelk\":5e-5,\"fUtoPixel\":796,\"fVtoAbsPixelk\":572.00005,\"fVtoPixelk\":572,\"fVtoPixel\":-572,\"fAbsPixeltoXk\":-2.28070169934936,\"fPixeltoXk\":-2.28070169934936,\"fPixeltoX\":0.0220400249613935,\"fAbsPixeltoYk\":118138.769369881,\"fPixeltoYk\":-17652.9192702905,\"fPixeltoY\":-237.398057063236,\"fXlowNDC\":0,\"fYlowNDC\":0,\"fXUpNDC\":0,\"fYUpNDC\":0,\"fWNDC\":1,\"fHNDC\":1,\"fAbsXlowNDC\":0,\"fAbsYlowNDC\":0,\"fAbsWNDC\":1,\"fAbsHNDC\":1,\"fUxmin\":0,\"fUymin\":0,\"fUxmax\":10,\"fUymax\":104559.6,\"fTheta\":30,\"fPhi\":30,\"fAspectRatio\":0,\"fNumber\":0,\"fTickx\":0,\"fTicky\":0,\"fLogx\":0,\"fLogy\":0,\"fLogz\":0,\"fPadPaint\":0,\"fCrosshair\":0,\"fCrosshairPos\":0,\"fBorderSize\":2,\"fBorderMode\":0,\"fModified\":true,\"fGridx\":true,\"fGridy\":true,\"fAbsCoord\":false,\"fEditable\":true,\"fFixedAspectRatio\":false,\"fPrimitives\":{\"_typename\":\"TList\",\"name\":\"TList\",\"arr\":[{\"_typename\":\"TFrame\",\"fUniqueID\":0,\"fBits\":50331656,\"fLineColor\":1,\"fLineStyle\":1,\"fLineWidth\":1,\"fFillColor\":0,\"fFillStyle\":1001,\"fX1\":0,\"fY1\":0,\"fX2\":10,\"fY2\":104559.6,\"fBorderSize\":1,\"fBorderMode\":0},{\"_typename\":\"TH1F\",\"fUniqueID\":0,\"fBits\":50332168,\"fName\":\"790551\",\"fTitle\":\"\",\"fLineColor\":1,\"fLineStyle\":1,\"fLineWidth\":1,\"fFillColor\":0,\"fFillStyle\":1001,\"fMarkerColor\":1,\"fMarkerStyle\":1,\"fMarkerSize\":1,\"fNcells\":102,\"fXaxis\":{\"_typename\":\"TAxis\",\"fUniqueID\":0,\"fBits\":50333704,\"fName\":\"xaxis\",\"fTitle\":\"\",\"fNdivisions\":510,\"fAxisColor\":1,\"fLabelColor\":1,\"fLabelFont\":42,\"fLabelOffset\":0.005,\"fLabelSize\":0.035,\"fTickLength\":0.03,\"fTitleOffset\":1.4,\"fTitleSize\":0.035,\"fTitleColor\":1,\"fTitleFont\":42,\"fNbins\":100,\"fXmin\":0,\"fXmax\":100,\"fXbins\":[],\"fFirst\":1,\"fLast\":10,\"fBits2\":0,\"fTimeDisplay\":false,\"fTimeFormat\":\"\",\"fLabels\":null,\"fModLabs\":null},\"fYaxis\":{\"_typename\":\"TAxis\",\"fUniqueID\":0,\"fBits\":50331656,\"fName\":\"yaxis\",\"fTitle\":\"\",\"fNdivisions\":510,\"fAxisColor\":1,\"fLabelColor\":1,\"fLabelFont\":42,\"fLabelOffset\":0.005,\"fLabelSize\":0.035,\"fTickLength\":0.03,\"fTitleOffset\":0,\"fTitleSize\":0.035,\"fTitleColor\":1,\"fTitleFont\":42,\"fNbins\":1,\"fXmin\":0,\"fXmax\":1,\"fXbins\":[],\"fFirst\":0,\"fLast\":0,\"fBits2\":0,\"fTimeDisplay\":false,\"fTimeFormat\":\"\",\"fLabels\":null,\"fModLabs\":null},\"fZaxis\":{\"_typename\":\"TAxis\",\"fUniqueID\":0,\"fBits\":50331648,\"fName\":\"zaxis\",\"fTitle\":\"\",\"fNdivisions\":510,\"fAxisColor\":1,\"fLabelColor\":1,\"fLabelFont\":42,\"fLabelOffset\":0.005,\"fLabelSize\":0.035,\"fTickLength\":0.03,\"fTitleOffset\":1,\"fTitleSize\":0.035,\"fTitleColor\":1,\"fTitleFont\":42,\"fNbins\":1,\"fXmin\":0,\"fXmax\":1,\"fXbins\":[],\"fFirst\":0,\"fLast\":0,\"fBits2\":0,\"fTimeDisplay\":false,\"fTimeFormat\":\"\",\"fLabels\":null,\"fModLabs\":null},\"fBarOffset\":0,\"fBarWidth\":1000,\"fEntries\":100609,\"fTsumw\":100609,\"fTsumw2\":100609,\"fTsumwx\":99606,\"fTsumwx2\":113476,\"fMaximum\":104559.6,\"fMinimum\":0,\"fNormFactor\":0,\"fContour\":[],\"fSumw2\":[0,7447,87133,5672,312,36,6,2,1,0,0,0,0,0,0,0,0,0,0,0,0,0,0,0,0,0,0,0,0,0,0,0,0,0,0,0,0,0,0,0,0,0,0,0,0,0,0,0,0,0,0,0,0,0,0,0,0,0,0,0,0,0,0,0,0,0,0,0,0,0,0,0,0,0,0,0,0,0,0,0,0,0,0,0,0,0,0,0,0,0,0,0,0,0,0,0,0,0,0,0,0,0],\"fOption\":\"\",\"fFunctions\":{\"_typename\":\"TList\",\"name\":\"TList\",\"arr\":[],\"opt\":[]},\"fBufferSize\":0,\"fBuffer\":[],\"fBinStatErrOpt\":0,\"fStatOverflows\":2,\"fArray\":[0,7447,87133,5672,312,36,6,2,1,0,0,0,0,0,0,0,0,0,0,0,0,0,0,0,0,0,0,0,0,0,0,0,0,0,0,0,0,0,0,0,0,0,0,0,0,0,0,0,0,0,0,0,0,0,0,0,0,0,0,0,0,0,0,0,0,0,0,0,0,0,0,0,0,0,0,0,0,0,0,0,0,0,0,0,0,0,0,0,0,0,0,0,0,0,0,0,0,0,0,0,0,0]},{\"_typename\":\"TLatex\",\"fUniqueID\":0,\"fBits\":50348040,\"fName\":\"\",\"fTitle\":\"DY -> ll, PU200, EG all, p_{T}^{tk} > 10 GeV\",\"fTextAngle\":0,\"fTextSize\":0.03,\"fTextAlign\":11,\"fTextColor\":1,\"fTextFont\":62,\"fX\":0.15,\"fY\":0.85,\"fLineColor\":1,\"fLineStyle\":1,\"fLineWidth\":2,\"fLimitFactorSize\":3,\"fOriginSize\":0.04},{\"_typename\":\"TLatex\",\"fUniqueID\":0,\"fBits\":50331656,\"fName\":\"\",\"fTitle\":\"\",\"fTextAngle\":0,\"fTextSize\":0.03,\"fTextAlign\":11,\"fTextColor\":1,\"fTextFont\":62,\"fX\":0,\"fY\":0,\"fLineColor\":1,\"fLineStyle\":1,\"fLineWidth\":2,\"fLimitFactorSize\":3,\"fOriginSize\":0.04},{\"_typename\":\"TLine\",\"fUniqueID\":0,\"fBits\":50331656,\"fLineColor\":1,\"fLineStyle\":2,\"fLineWidth\":1,\"fX1\":1.95372706092984,\"fY1\":0,\"fX2\":1.95372706092984,\"fY2\":104559.6},{\"_typename\":\"TLine\",\"fUniqueID\":0,\"fBits\":50331656,\"fLineColor\":1,\"fLineStyle\":2,\"fLineWidth\":1,\"fX1\":2.17604901269393,\"fY1\":0,\"fX2\":2.17604901269393,\"fY2\":104559.6},{\"_typename\":\"TLine\",\"fUniqueID\":0,\"fBits\":50331656,\"fLineColor\":1,\"fLineStyle\":2,\"fLineWidth\":1,\"fX1\":2.97425158674189,\"fY1\":0,\"fX2\":2.97425158674189,\"fY2\":104559.6}],\"opt\":[\"\",\"hist\",\"same\",\"same\",\"same\",\"same\",\"same\"]},\"fExecs\":null,\"fName\":\"c_f76767\",\"fTitle\":\"c_f76767\",\"fNumPaletteColor\":0,\"fNextPaletteColor\":0,\"fDISPLAY\":\"$DISPLAY\",\"fDoubleBuffer\":0,\"fRetained\":true,\"fXsizeUser\":0,\"fYsizeUser\":0,\"fXsizeReal\":20,\"fYsizeReal\":15,\"fWindowTopX\":0,\"fWindowTopY\":0,\"fWindowWidth\":0,\"fWindowHeight\":0,\"fCw\":796,\"fCh\":572,\"fCatt\":{\"_typename\":\"TAttCanvas\",\"fXBetween\":2,\"fYBetween\":2,\"fTitleFromTop\":1.2,\"fXdate\":0.2,\"fYdate\":0.3,\"fAdate\":1},\"kMoveOpaque\":true,\"kResizeOpaque\":true,\"fHighLightColor\":2,\"fBatch\":true,\"kShowEventStatus\":false,\"kAutoExec\":true,\"kMenuBar\":true});\n",
       "       Core.draw(\"root_plot_37\", obj, \"\");\n",
       "     }\n",
       " );\n",
       "</script>\n"
      ],
      "text/plain": [
       "<IPython.core.display.HTML object>"
      ]
     },
     "metadata": {},
     "output_type": "display_data"
    },
    {
     "data": {
      "text/html": [
       "\n",
       "<div id=\"root_plot_38\"\n",
       "     style=\"width: 796px; height: 572px\">\n",
       "</div>\n",
       "\n",
       "<script>\n",
       " requirejs.config({\n",
       "     paths: {\n",
       "       'JSRootCore' : 'https://root.cern.ch/js/notebook//scripts/JSRootCore',\n",
       "     }\n",
       "   });\n",
       " require(['JSRootCore'],\n",
       "     function(Core) {\n",
       "       var obj = Core.JSONR_unref({\"_typename\":\"TCanvas\",\"fUniqueID\":0,\"fBits\":53673992,\"fLineColor\":1,\"fLineStyle\":1,\"fLineWidth\":1,\"fFillColor\":0,\"fFillStyle\":1001,\"fLeftMargin\":0.13,\"fRightMargin\":0.3,\"fBottomMargin\":0.13,\"fTopMargin\":0.1,\"fXfile\":2,\"fYfile\":2,\"fAfile\":1,\"fXstat\":0.99,\"fYstat\":0.99,\"fAstat\":2,\"fFrameFillColor\":0,\"fFrameLineColor\":1,\"fFrameFillStyle\":1001,\"fFrameLineStyle\":1,\"fFrameLineWidth\":1,\"fFrameBorderSize\":1,\"fFrameBorderMode\":0,\"fX1\":-7.28070169934936,\"fY1\":-0.466932240038966,\"fX2\":10.2631581699199,\"fY2\":0.439732308644835,\"fXtoAbsPixelk\":330.340043357658,\"fXtoPixelk\":330.340043357658,\"fXtoPixel\":45.3719994306564,\"fYtoAbsPixelk\":277.42005159815,\"fYtoPixelk\":277.42005159815,\"fYtoPixel\":-630.883826692429,\"fUtoAbsPixelk\":5e-5,\"fUtoPixelk\":5e-5,\"fUtoPixel\":796,\"fVtoAbsPixelk\":572.00005,\"fVtoPixelk\":572,\"fVtoPixel\":-572,\"fAbsPixeltoXk\":-7.28070169934936,\"fPixeltoXk\":-7.28070169934936,\"fPixeltoX\":0.0220400249613935,\"fAbsPixeltoYk\":0.439732308644835,\"fPixeltoYk\":-0.466932240038966,\"fPixeltoY\":-0.00158507788231434,\"fXlowNDC\":0,\"fYlowNDC\":0,\"fXUpNDC\":0,\"fYUpNDC\":0,\"fWNDC\":1,\"fHNDC\":1,\"fAbsXlowNDC\":0,\"fAbsYlowNDC\":0,\"fAbsWNDC\":1,\"fAbsHNDC\":1,\"fUxmin\":-5,\"fUymin\":-0.349065850398866,\"fUxmax\":5,\"fUymax\":0.349065850398866,\"fTheta\":30,\"fPhi\":30,\"fAspectRatio\":0,\"fNumber\":0,\"fTickx\":0,\"fTicky\":0,\"fLogx\":0,\"fLogy\":0,\"fLogz\":0,\"fPadPaint\":0,\"fCrosshair\":0,\"fCrosshairPos\":0,\"fBorderSize\":2,\"fBorderMode\":0,\"fModified\":false,\"fGridx\":true,\"fGridy\":true,\"fAbsCoord\":false,\"fEditable\":true,\"fFixedAspectRatio\":false,\"fPrimitives\":{\"_typename\":\"TList\",\"name\":\"TList\",\"arr\":[{\"_typename\":\"TFrame\",\"fUniqueID\":0,\"fBits\":50331656,\"fLineColor\":1,\"fLineStyle\":1,\"fLineWidth\":1,\"fFillColor\":0,\"fFillStyle\":1001,\"fX1\":-5,\"fY1\":-0.349065850398866,\"fX2\":5,\"fY2\":0.349065850398866,\"fBorderSize\":1,\"fBorderMode\":0},{\"_typename\":\"TProfile2D\",\"fUniqueID\":0,\"fBits\":50332168,\"fName\":\"0a7872\",\"fTitle\":\"\",\"fLineColor\":1,\"fLineStyle\":1,\"fLineWidth\":1,\"fFillColor\":0,\"fFillStyle\":1001,\"fMarkerColor\":1,\"fMarkerStyle\":1,\"fMarkerSize\":1,\"fNcells\":143,\"fXaxis\":{\"_typename\":\"TAxis\",\"fUniqueID\":0,\"fBits\":50331656,\"fName\":\"xaxis\",\"fTitle\":\" #eta, #phi\",\"fNdivisions\":510,\"fAxisColor\":1,\"fLabelColor\":1,\"fLabelFont\":42,\"fLabelOffset\":0.005,\"fLabelSize\":0.035,\"fTickLength\":0.03,\"fTitleOffset\":1.4,\"fTitleSize\":0.035,\"fTitleColor\":1,\"fTitleFont\":42,\"fNbins\":11,\"fXmin\":-5,\"fXmax\":5,\"fXbins\":[-5,-4,-3,-2.5,-1.5,-0.5,0.5,1.5,2.5,3,4,5],\"fFirst\":0,\"fLast\":0,\"fBits2\":0,\"fTimeDisplay\":false,\"fTimeFormat\":\"\",\"fLabels\":null,\"fModLabs\":null},\"fYaxis\":{\"_typename\":\"TAxis\",\"fUniqueID\":0,\"fBits\":50333704,\"fName\":\"yaxis\",\"fTitle\":\"\",\"fNdivisions\":510,\"fAxisColor\":1,\"fLabelColor\":1,\"fLabelFont\":42,\"fLabelOffset\":0.005,\"fLabelSize\":0.035,\"fTickLength\":0.03,\"fTitleOffset\":0,\"fTitleSize\":0.035,\"fTitleColor\":1,\"fTitleFont\":42,\"fNbins\":9,\"fXmin\":-3.14159265358979,\"fXmax\":3.14159265358979,\"fXbins\":[-3.14159265358979,-2.44346095279206,-1.74532925199433,-1.0471975511966,-0.349065850398866,0.349065850398866,1.0471975511966,1.74532925199433,2.44346095279206,3.14159265358979],\"fFirst\":5,\"fLast\":5,\"fBits2\":0,\"fTimeDisplay\":false,\"fTimeFormat\":\"\",\"fLabels\":null,\"fModLabs\":null},\"fZaxis\":{\"_typename\":\"TAxis\",\"fUniqueID\":0,\"fBits\":50331648,\"fName\":\"zaxis\",\"fTitle\":\"\",\"fNdivisions\":510,\"fAxisColor\":1,\"fLabelColor\":1,\"fLabelFont\":42,\"fLabelOffset\":0.005,\"fLabelSize\":0.035,\"fTickLength\":0.03,\"fTitleOffset\":1,\"fTitleSize\":0.035,\"fTitleColor\":1,\"fTitleFont\":42,\"fNbins\":1,\"fXmin\":0,\"fXmax\":1,\"fXbins\":[],\"fFirst\":0,\"fLast\":0,\"fBits2\":0,\"fTimeDisplay\":false,\"fTimeFormat\":\"\",\"fLabels\":null,\"fModLabs\":null},\"fBarOffset\":0,\"fBarWidth\":1000,\"fEntries\":9960291,\"fTsumw\":9960291,\"fTsumw2\":9960291,\"fTsumwx\":0,\"fTsumwx2\":81606475.125,\"fMaximum\":-1111,\"fMinimum\":-1111,\"fNormFactor\":0,\"fContour\":[0,0.00560536333727599,0.011210726674552,0.016816090011828,0.022421453349104,0.0280268166863799,0.0336321800236559,0.0392375433609319,0.0448429066982079,0.0504482700354839,0.0560536333727599,0.0616589967100359,0.0672643600473119,0.0728697233845879,0.0784750867218638,0.0840804500591398,0.0896858133964158,0.0952911767336918,0.100896540070968,0.106501903408244],\"fSumw2\":[0,0,0,0,0,0,0,0,0,0,0,0,0,0,0,0,0,0,0,0,0,0,0,0,0,0,0,0,731,2570,6523,10346,12239,10566,6487,2512,735,0,0,0,0,692,2496,6439,10521,12410,10729,6393,2409,690,0,0,0,0,694,2432,6273,10652,12556,10570,6421,2514,744,0,0,0,0,726,2403,6153,10481,12523,10446,6383,2556,716,0,0,0,0,725,2483,6415,10611,12367,10585,6420,2525,667,0,0,0,0,690,2473,6418,10576,12442,10705,6405,2568,770,0,0,0,0,729,2511,6391,10740,12366,10889,6461,2604,792,0,0,0,0,0,0,0,0,0,0,0,0,0,0,0,0,0,0,0,0,0,0,0,0,0,0,0,0],\"fOption\":\"\",\"fFunctions\":{\"_typename\":\"TList\",\"name\":\"TList\",\"arr\":[{\"_typename\":\"TPaletteAxis\",\"fUniqueID\":0,\"fBits\":50331648,\"fLineColor\":1,\"fLineStyle\":1,\"fLineWidth\":1,\"fFillColor\":1178,\"fFillStyle\":1001,\"fX1\":5.08771929934635,\"fY1\":-0.349065850398866,\"fX2\":5.87719299346346,\"fY2\":0.349065850398866,\"fX1NDC\":0.704999988079071,\"fY1NDC\":0.129999998137355,\"fX2NDC\":0.749999988079071,\"fY2NDC\":0.89999999627471,\"fBorderSize\":4,\"fInit\":1,\"fShadowColor\":1,\"fCornerRadius\":0,\"fOption\":\"br\",\"fName\":\"TPave\",\"fAxis\":{\"_typename\":\"TGaxis\",\"fUniqueID\":0,\"fBits\":50331648,\"fLineColor\":1,\"fLineStyle\":1,\"fLineWidth\":1,\"fX1\":0,\"fY1\":0,\"fX2\":0,\"fY2\":0,\"fTextAngle\":0,\"fTextSize\":0.04,\"fTextAlign\":11,\"fTextColor\":1,\"fTextFont\":42,\"fWmin\":0,\"fWmax\":0,\"fGridLength\":0,\"fTickSize\":0.03,\"fLabelOffset\":0.005,\"fLabelSize\":0.035,\"fTitleOffset\":1,\"fTitleSize\":0.035,\"fNdiv\":0,\"fLabelColor\":1,\"fLabelFont\":42,\"fNModLabs\":0,\"fChopt\":\"\",\"fName\":\"\",\"fTitle\":\"\",\"fTimeFormat\":\"\",\"fFunctionName\":\"\",\"fModLabs\":null},\"fName\":\"palette\"}],\"opt\":[\"br\"]},\"fBufferSize\":0,\"fBuffer\":[],\"fBinStatErrOpt\":0,\"fStatOverflows\":2,\"fScalefactor\":1,\"fTsumwy\":0,\"fTsumwy2\":32363500.2106105,\"fTsumwxy\":3.26849658449646e-12,\"fArray\":[0,0,0,0,0,0,0,0,0,0,0,0,0,0,0,0,0,0,0,0,0,0,0,0,0,0,0,0,651,2430,6301,9556,11115,9740,6265,2380,661,0,0,0,0,624,2366,6217,9665,11222,9833,6203,2321,634,0,0,0,0,612,2304,6111,9766,11252,9738,6261,2382,656,0,0,0,0,640,2255,5985,9699,11279,9652,6177,2398,628,0,0,0,0,633,2339,6221,9805,11211,9765,6218,2365,585,0,0,0,0,604,2345,6232,9700,11168,9851,6199,2408,674,0,0,0,0,649,2379,6181,9846,11158,9899,6217,2452,714,0,0,0,0,0,0,0,0,0,0,0,0,0,0,0,0,0,0,0,0,0,0,0,0,0,0,0,0],\"fBinEntries\":[0,0,0,0,0,0,0,0,0,0,0,0,0,0,100609,100609,100609,100609,100609,100609,100609,100609,100609,100609,100609,0,0,100609,100609,100609,100609,100609,100609,100609,100609,100609,100609,100609,0,0,100609,100609,100609,100609,100609,100609,100609,100609,100609,100609,100609,0,0,100609,100609,100609,100609,100609,100609,100609,100609,100609,100609,100609,0,0,100609,100609,100609,100609,100609,100609,100609,100609,100609,100609,100609,0,0,100609,100609,100609,100609,100609,100609,100609,100609,100609,100609,100609,0,0,100609,100609,100609,100609,100609,100609,100609,100609,100609,100609,100609,0,0,100609,100609,100609,100609,100609,100609,100609,100609,100609,100609,100609,0,0,100609,100609,100609,100609,100609,100609,100609,100609,100609,100609,100609,0,0,0,0,0,0,0,0,0,0,0,0,0,0],\"fErrorMode\":0,\"fZmin\":0,\"fZmax\":0,\"fTsumwz\":343797,\"fTsumwz2\":370059,\"fBinSumw2\":[0,0,0,0,0,0,0,0,0,0,0,0,0,0,100609,100609,100609,100609,100609,100609,100609,100609,100609,100609,100609,0,0,100609,100609,100609,100609,100609,100609,100609,100609,100609,100609,100609,0,0,100609,100609,100609,100609,100609,100609,100609,100609,100609,100609,100609,0,0,100609,100609,100609,100609,100609,100609,100609,100609,100609,100609,100609,0,0,100609,100609,100609,100609,100609,100609,100609,100609,100609,100609,100609,0,0,100609,100609,100609,100609,100609,100609,100609,100609,100609,100609,100609,0,0,100609,100609,100609,100609,100609,100609,100609,100609,100609,100609,100609,0,0,100609,100609,100609,100609,100609,100609,100609,100609,100609,100609,100609,0,0,100609,100609,100609,100609,100609,100609,100609,100609,100609,100609,100609,0,0,0,0,0,0,0,0,0,0,0,0,0,0]},{\"_typename\":\"TLatex\",\"fUniqueID\":0,\"fBits\":50348040,\"fName\":\"\",\"fTitle\":\"DY -> ll, PU200, EG all, p_{T}^{tk} > 10 GeV\",\"fTextAngle\":0,\"fTextSize\":0.03,\"fTextAlign\":11,\"fTextColor\":1,\"fTextFont\":62,\"fX\":0.15,\"fY\":0.85,\"fLineColor\":1,\"fLineStyle\":1,\"fLineWidth\":2,\"fLimitFactorSize\":3,\"fOriginSize\":0.04},{\"_typename\":\"TLatex\",\"fUniqueID\":0,\"fBits\":50331656,\"fName\":\"\",\"fTitle\":\"\",\"fTextAngle\":0,\"fTextSize\":0.03,\"fTextAlign\":11,\"fTextColor\":1,\"fTextFont\":62,\"fX\":0,\"fY\":0,\"fLineColor\":1,\"fLineStyle\":1,\"fLineWidth\":2,\"fLimitFactorSize\":3,\"fOriginSize\":0.04}],\"opt\":[\"\",\"COLZ\",\"same\",\"same\"]},\"fExecs\":null,\"fName\":\"c_d96a4a\",\"fTitle\":\"c_d96a4a\",\"fNumPaletteColor\":0,\"fNextPaletteColor\":0,\"fDISPLAY\":\"$DISPLAY\",\"fDoubleBuffer\":0,\"fRetained\":true,\"fXsizeUser\":0,\"fYsizeUser\":0,\"fXsizeReal\":20,\"fYsizeReal\":15,\"fWindowTopX\":0,\"fWindowTopY\":0,\"fWindowWidth\":0,\"fWindowHeight\":0,\"fCw\":796,\"fCh\":572,\"fCatt\":{\"_typename\":\"TAttCanvas\",\"fXBetween\":2,\"fYBetween\":2,\"fTitleFromTop\":1.2,\"fXdate\":0.2,\"fYdate\":0.3,\"fAdate\":1},\"kMoveOpaque\":true,\"kResizeOpaque\":true,\"fHighLightColor\":2,\"fBatch\":true,\"kShowEventStatus\":false,\"kAutoExec\":true,\"kMenuBar\":true});\n",
       "       Core.draw(\"root_plot_38\", obj, \"\");\n",
       "     }\n",
       " );\n",
       "</script>\n"
      ],
      "text/plain": [
       "<IPython.core.display.HTML object>"
      ]
     },
     "metadata": {},
     "output_type": "display_data"
    }
   ],
   "source": [
    "hsets, labels, text = hplot.get_histo(histos.CorrOccupancyHistos, sample, 'PU200', ['EGALL'], ['Pt10'], None, debug=False)\n",
    "text = '{}, {}'.format(sample, text)\n",
    "res=np.zeros(quantiles.shape)\n",
    "n = hsets[0].h_eventMaxOcc.GetQuantiles(quantiles.shape[0], res, quantiles)\n",
    "for id,quantile in enumerate(quantiles):\n",
    "    print 'quantile {}% = {}'.format(quantile*100, res[id])\n",
    "\n",
    "\n",
    "draw([his.h_eventMaxOcc for his in hsets], labels, text=text, min_x=0., max_x=10, logy=False, options='hist', v_lines=res.tolist())\n",
    "draw([his.h_averageOccupancy for his in hsets], labels, text=text, logy=False, options='COLZ')\n"
   ]
  },
  {
   "cell_type": "code",
   "execution_count": 41,
   "metadata": {},
   "outputs": [
    {
     "name": "stdout",
     "output_type": "stream",
     "text": [
      "quantile 90.0% = 2.85577279653\n",
      "quantile 95.0% = 3.11993159571\n",
      "quantile 99.5% = 4.44380508475\n"
     ]
    },
    {
     "data": {
      "text/plain": [
       "<drawingTools.DrawMachine at 0x119f29a10>"
      ]
     },
     "execution_count": 41,
     "metadata": {},
     "output_type": "execute_result"
    },
    {
     "data": {
      "text/html": [
       "\n",
       "<div id=\"root_plot_39\"\n",
       "     style=\"width: 796px; height: 572px\">\n",
       "</div>\n",
       "\n",
       "<script>\n",
       " requirejs.config({\n",
       "     paths: {\n",
       "       'JSRootCore' : 'https://root.cern.ch/js/notebook//scripts/JSRootCore',\n",
       "     }\n",
       "   });\n",
       " require(['JSRootCore'],\n",
       "     function(Core) {\n",
       "       var obj = Core.JSONR_unref({\"_typename\":\"TCanvas\",\"fUniqueID\":0,\"fBits\":53673992,\"fLineColor\":1,\"fLineStyle\":1,\"fLineWidth\":1,\"fFillColor\":0,\"fFillStyle\":1001,\"fLeftMargin\":0.13,\"fRightMargin\":0.3,\"fBottomMargin\":0.13,\"fTopMargin\":0.1,\"fXfile\":2,\"fYfile\":2,\"fAfile\":1,\"fXstat\":0.99,\"fYstat\":0.99,\"fAstat\":2,\"fFrameFillColor\":0,\"fFrameLineColor\":1,\"fFrameFillStyle\":1001,\"fFrameLineStyle\":1,\"fFrameLineWidth\":1,\"fFrameBorderSize\":1,\"fFrameBorderMode\":0,\"fX1\":-2.28070169934936,\"fY1\":-22221.8958392551,\"fX2\":15.2631581699199,\"fY2\":148715.766911909,\"fXtoAbsPixelk\":103.480046204376,\"fXtoPixelk\":103.480046204376,\"fXtoPixel\":45.3719994306564,\"fYtoAbsPixelk\":497.640051065433,\"fYtoPixelk\":497.640051065433,\"fYtoPixel\":-0.00334624909919745,\"fUtoAbsPixelk\":5e-5,\"fUtoPixelk\":5e-5,\"fUtoPixel\":796,\"fVtoAbsPixelk\":572.00005,\"fVtoPixelk\":572,\"fVtoPixel\":-572,\"fAbsPixeltoXk\":-2.28070169934936,\"fPixeltoXk\":-2.28070169934936,\"fPixeltoX\":0.0220400249613935,\"fAbsPixeltoYk\":148715.766911909,\"fPixeltoYk\":-22221.8958392551,\"fPixeltoY\":-298.84206774679,\"fXlowNDC\":0,\"fYlowNDC\":0,\"fXUpNDC\":0,\"fYUpNDC\":0,\"fWNDC\":1,\"fHNDC\":1,\"fAbsXlowNDC\":0,\"fAbsYlowNDC\":0,\"fAbsWNDC\":1,\"fAbsHNDC\":1,\"fUxmin\":0,\"fUymin\":0,\"fUxmax\":10,\"fUymax\":131622,\"fTheta\":30,\"fPhi\":30,\"fAspectRatio\":0,\"fNumber\":0,\"fTickx\":0,\"fTicky\":0,\"fLogx\":0,\"fLogy\":0,\"fLogz\":0,\"fPadPaint\":0,\"fCrosshair\":0,\"fCrosshairPos\":0,\"fBorderSize\":2,\"fBorderMode\":0,\"fModified\":true,\"fGridx\":true,\"fGridy\":true,\"fAbsCoord\":false,\"fEditable\":true,\"fFixedAspectRatio\":false,\"fPrimitives\":{\"_typename\":\"TList\",\"name\":\"TList\",\"arr\":[{\"_typename\":\"TFrame\",\"fUniqueID\":0,\"fBits\":50331656,\"fLineColor\":1,\"fLineStyle\":1,\"fLineWidth\":1,\"fFillColor\":0,\"fFillStyle\":1001,\"fX1\":0,\"fY1\":0,\"fX2\":10,\"fY2\":131622,\"fBorderSize\":1,\"fBorderMode\":0},{\"_typename\":\"TH1F\",\"fUniqueID\":0,\"fBits\":50332168,\"fName\":\"59e3fd\",\"fTitle\":\"\",\"fLineColor\":1,\"fLineStyle\":1,\"fLineWidth\":1,\"fFillColor\":0,\"fFillStyle\":1001,\"fMarkerColor\":1,\"fMarkerStyle\":1,\"fMarkerSize\":1,\"fNcells\":102,\"fXaxis\":{\"_typename\":\"TAxis\",\"fUniqueID\":0,\"fBits\":50333704,\"fName\":\"xaxis\",\"fTitle\":\"\",\"fNdivisions\":510,\"fAxisColor\":1,\"fLabelColor\":1,\"fLabelFont\":42,\"fLabelOffset\":0.005,\"fLabelSize\":0.035,\"fTickLength\":0.03,\"fTitleOffset\":1.4,\"fTitleSize\":0.035,\"fTitleColor\":1,\"fTitleFont\":42,\"fNbins\":100,\"fXmin\":0,\"fXmax\":100,\"fXbins\":[],\"fFirst\":1,\"fLast\":10,\"fBits2\":0,\"fTimeDisplay\":false,\"fTimeFormat\":\"\",\"fLabels\":null,\"fModLabs\":null},\"fYaxis\":{\"_typename\":\"TAxis\",\"fUniqueID\":0,\"fBits\":50331656,\"fName\":\"yaxis\",\"fTitle\":\"\",\"fNdivisions\":510,\"fAxisColor\":1,\"fLabelColor\":1,\"fLabelFont\":42,\"fLabelOffset\":0.005,\"fLabelSize\":0.035,\"fTickLength\":0.03,\"fTitleOffset\":0,\"fTitleSize\":0.035,\"fTitleColor\":1,\"fTitleFont\":42,\"fNbins\":1,\"fXmin\":0,\"fXmax\":1,\"fXbins\":[],\"fFirst\":0,\"fLast\":0,\"fBits2\":0,\"fTimeDisplay\":false,\"fTimeFormat\":\"\",\"fLabels\":null,\"fModLabs\":null},\"fZaxis\":{\"_typename\":\"TAxis\",\"fUniqueID\":0,\"fBits\":50331648,\"fName\":\"zaxis\",\"fTitle\":\"\",\"fNdivisions\":510,\"fAxisColor\":1,\"fLabelColor\":1,\"fLabelFont\":42,\"fLabelOffset\":0.005,\"fLabelSize\":0.035,\"fTickLength\":0.03,\"fTitleOffset\":1,\"fTitleSize\":0.035,\"fTitleColor\":1,\"fTitleFont\":42,\"fNbins\":1,\"fXmin\":0,\"fXmax\":1,\"fXbins\":[],\"fFirst\":0,\"fLast\":0,\"fBits2\":0,\"fTimeDisplay\":false,\"fTimeFormat\":\"\",\"fLabels\":null,\"fModLabs\":null},\"fBarOffset\":0,\"fBarWidth\":1000,\"fEntries\":177462,\"fTsumw\":177462,\"fTsumw2\":177462,\"fTsumwx\":250001,\"fTsumwx2\":429247,\"fMaximum\":131622,\"fMinimum\":0,\"fNormFactor\":0,\"fContour\":[],\"fSumw2\":[0,3416,109685,54471,8479,1180,181,41,6,3,0,0,0,0,0,0,0,0,0,0,0,0,0,0,0,0,0,0,0,0,0,0,0,0,0,0,0,0,0,0,0,0,0,0,0,0,0,0,0,0,0,0,0,0,0,0,0,0,0,0,0,0,0,0,0,0,0,0,0,0,0,0,0,0,0,0,0,0,0,0,0,0,0,0,0,0,0,0,0,0,0,0,0,0,0,0,0,0,0,0,0,0],\"fOption\":\"\",\"fFunctions\":{\"_typename\":\"TList\",\"name\":\"TList\",\"arr\":[],\"opt\":[]},\"fBufferSize\":0,\"fBuffer\":[],\"fBinStatErrOpt\":0,\"fStatOverflows\":2,\"fArray\":[0,3416,109685,54471,8479,1180,181,41,6,3,0,0,0,0,0,0,0,0,0,0,0,0,0,0,0,0,0,0,0,0,0,0,0,0,0,0,0,0,0,0,0,0,0,0,0,0,0,0,0,0,0,0,0,0,0,0,0,0,0,0,0,0,0,0,0,0,0,0,0,0,0,0,0,0,0,0,0,0,0,0,0,0,0,0,0,0,0,0,0,0,0,0,0,0,0,0,0,0,0,0,0,0]},{\"_typename\":\"TLatex\",\"fUniqueID\":0,\"fBits\":50348040,\"fName\":\"\",\"fTitle\":\"DY, PU200, EG all, p_{T}^{tk} > 5 GeV\",\"fTextAngle\":0,\"fTextSize\":0.03,\"fTextAlign\":11,\"fTextColor\":1,\"fTextFont\":62,\"fX\":0.15,\"fY\":0.85,\"fLineColor\":1,\"fLineStyle\":1,\"fLineWidth\":2,\"fLimitFactorSize\":3,\"fOriginSize\":0.04},{\"_typename\":\"TLatex\",\"fUniqueID\":0,\"fBits\":50331656,\"fName\":\"\",\"fTitle\":\"\",\"fTextAngle\":0,\"fTextSize\":0.03,\"fTextAlign\":11,\"fTextColor\":1,\"fTextFont\":62,\"fX\":0,\"fY\":0,\"fLineColor\":1,\"fLineStyle\":1,\"fLineWidth\":2,\"fLimitFactorSize\":3,\"fOriginSize\":0.04},{\"_typename\":\"TLine\",\"fUniqueID\":0,\"fBits\":50331656,\"fLineColor\":1,\"fLineStyle\":2,\"fLineWidth\":1,\"fX1\":2.85577279653394,\"fY1\":0,\"fX2\":2.85577279653394,\"fY2\":131622},{\"_typename\":\"TLine\",\"fUniqueID\":0,\"fBits\":50331656,\"fLineColor\":1,\"fLineStyle\":2,\"fLineWidth\":1,\"fX1\":3.11993159570704,\"fY1\":0,\"fX2\":3.11993159570704,\"fY2\":131622},{\"_typename\":\"TLine\",\"fUniqueID\":0,\"fBits\":50331656,\"fLineColor\":1,\"fLineStyle\":2,\"fLineWidth\":1,\"fX1\":4.44380508474576,\"fY1\":0,\"fX2\":4.44380508474576,\"fY2\":131622}],\"opt\":[\"\",\"hist\",\"same\",\"same\",\"same\",\"same\",\"same\"]},\"fExecs\":null,\"fName\":\"c_301903\",\"fTitle\":\"c_301903\",\"fNumPaletteColor\":0,\"fNextPaletteColor\":0,\"fDISPLAY\":\"$DISPLAY\",\"fDoubleBuffer\":0,\"fRetained\":true,\"fXsizeUser\":0,\"fYsizeUser\":0,\"fXsizeReal\":20,\"fYsizeReal\":15,\"fWindowTopX\":0,\"fWindowTopY\":0,\"fWindowWidth\":0,\"fWindowHeight\":0,\"fCw\":796,\"fCh\":572,\"fCatt\":{\"_typename\":\"TAttCanvas\",\"fXBetween\":2,\"fYBetween\":2,\"fTitleFromTop\":1.2,\"fXdate\":0.2,\"fYdate\":0.3,\"fAdate\":1},\"kMoveOpaque\":true,\"kResizeOpaque\":true,\"fHighLightColor\":2,\"fBatch\":true,\"kShowEventStatus\":false,\"kAutoExec\":true,\"kMenuBar\":true});\n",
       "       Core.draw(\"root_plot_39\", obj, \"\");\n",
       "     }\n",
       " );\n",
       "</script>\n"
      ],
      "text/plain": [
       "<IPython.core.display.HTML object>"
      ]
     },
     "metadata": {},
     "output_type": "display_data"
    },
    {
     "data": {
      "text/html": [
       "\n",
       "<div id=\"root_plot_40\"\n",
       "     style=\"width: 796px; height: 572px\">\n",
       "</div>\n",
       "\n",
       "<script>\n",
       " requirejs.config({\n",
       "     paths: {\n",
       "       'JSRootCore' : 'https://root.cern.ch/js/notebook//scripts/JSRootCore',\n",
       "     }\n",
       "   });\n",
       " require(['JSRootCore'],\n",
       "     function(Core) {\n",
       "       var obj = Core.JSONR_unref({\"_typename\":\"TCanvas\",\"fUniqueID\":0,\"fBits\":53673992,\"fLineColor\":1,\"fLineStyle\":1,\"fLineWidth\":1,\"fFillColor\":0,\"fFillStyle\":1001,\"fLeftMargin\":0.13,\"fRightMargin\":0.3,\"fBottomMargin\":0.13,\"fTopMargin\":0.1,\"fXfile\":2,\"fYfile\":2,\"fAfile\":1,\"fXstat\":0.99,\"fYstat\":0.99,\"fAstat\":2,\"fFrameFillColor\":0,\"fFrameLineColor\":1,\"fFrameFillStyle\":1001,\"fFrameLineStyle\":1,\"fFrameLineWidth\":1,\"fFrameBorderSize\":1,\"fFrameBorderMode\":0,\"fX1\":-7.28070169934936,\"fY1\":-0.466932240038966,\"fX2\":10.2631581699199,\"fY2\":0.439732308644835,\"fXtoAbsPixelk\":330.340043357658,\"fXtoPixelk\":330.340043357658,\"fXtoPixel\":45.3719994306564,\"fYtoAbsPixelk\":277.42005159815,\"fYtoPixelk\":277.42005159815,\"fYtoPixel\":-630.883826692429,\"fUtoAbsPixelk\":5e-5,\"fUtoPixelk\":5e-5,\"fUtoPixel\":796,\"fVtoAbsPixelk\":572.00005,\"fVtoPixelk\":572,\"fVtoPixel\":-572,\"fAbsPixeltoXk\":-7.28070169934936,\"fPixeltoXk\":-7.28070169934936,\"fPixeltoX\":0.0220400249613935,\"fAbsPixeltoYk\":0.439732308644835,\"fPixeltoYk\":-0.466932240038966,\"fPixeltoY\":-0.00158507788231434,\"fXlowNDC\":0,\"fYlowNDC\":0,\"fXUpNDC\":0,\"fYUpNDC\":0,\"fWNDC\":1,\"fHNDC\":1,\"fAbsXlowNDC\":0,\"fAbsYlowNDC\":0,\"fAbsWNDC\":1,\"fAbsHNDC\":1,\"fUxmin\":-5,\"fUymin\":-0.349065850398866,\"fUxmax\":5,\"fUymax\":0.349065850398866,\"fTheta\":30,\"fPhi\":30,\"fAspectRatio\":0,\"fNumber\":0,\"fTickx\":0,\"fTicky\":0,\"fLogx\":0,\"fLogy\":0,\"fLogz\":0,\"fPadPaint\":0,\"fCrosshair\":0,\"fCrosshairPos\":0,\"fBorderSize\":2,\"fBorderMode\":0,\"fModified\":false,\"fGridx\":true,\"fGridy\":true,\"fAbsCoord\":false,\"fEditable\":true,\"fFixedAspectRatio\":false,\"fPrimitives\":{\"_typename\":\"TList\",\"name\":\"TList\",\"arr\":[{\"_typename\":\"TFrame\",\"fUniqueID\":0,\"fBits\":50331656,\"fLineColor\":1,\"fLineStyle\":1,\"fLineWidth\":1,\"fFillColor\":0,\"fFillStyle\":1001,\"fX1\":-5,\"fY1\":-0.349065850398866,\"fX2\":5,\"fY2\":0.349065850398866,\"fBorderSize\":1,\"fBorderMode\":0},{\"_typename\":\"TProfile2D\",\"fUniqueID\":0,\"fBits\":50332168,\"fName\":\"017c37\",\"fTitle\":\"\",\"fLineColor\":1,\"fLineStyle\":1,\"fLineWidth\":1,\"fFillColor\":0,\"fFillStyle\":1001,\"fMarkerColor\":1,\"fMarkerStyle\":1,\"fMarkerSize\":1,\"fNcells\":143,\"fXaxis\":{\"_typename\":\"TAxis\",\"fUniqueID\":0,\"fBits\":50331656,\"fName\":\"xaxis\",\"fTitle\":\" #eta, #phi\",\"fNdivisions\":510,\"fAxisColor\":1,\"fLabelColor\":1,\"fLabelFont\":42,\"fLabelOffset\":0.005,\"fLabelSize\":0.035,\"fTickLength\":0.03,\"fTitleOffset\":1.4,\"fTitleSize\":0.035,\"fTitleColor\":1,\"fTitleFont\":42,\"fNbins\":11,\"fXmin\":-5,\"fXmax\":5,\"fXbins\":[-5,-4,-3,-2.5,-1.5,-0.5,0.5,1.5,2.5,3,4,5],\"fFirst\":0,\"fLast\":0,\"fBits2\":0,\"fTimeDisplay\":false,\"fTimeFormat\":\"\",\"fLabels\":null,\"fModLabs\":null},\"fYaxis\":{\"_typename\":\"TAxis\",\"fUniqueID\":0,\"fBits\":50333704,\"fName\":\"yaxis\",\"fTitle\":\"\",\"fNdivisions\":510,\"fAxisColor\":1,\"fLabelColor\":1,\"fLabelFont\":42,\"fLabelOffset\":0.005,\"fLabelSize\":0.035,\"fTickLength\":0.03,\"fTitleOffset\":0,\"fTitleSize\":0.035,\"fTitleColor\":1,\"fTitleFont\":42,\"fNbins\":9,\"fXmin\":-3.14159265358979,\"fXmax\":3.14159265358979,\"fXbins\":[-3.14159265358979,-2.44346095279206,-1.74532925199433,-1.0471975511966,-0.349065850398866,0.349065850398866,1.0471975511966,1.74532925199433,2.44346095279206,3.14159265358979],\"fFirst\":5,\"fLast\":5,\"fBits2\":0,\"fTimeDisplay\":false,\"fTimeFormat\":\"\",\"fLabels\":null,\"fModLabs\":null},\"fZaxis\":{\"_typename\":\"TAxis\",\"fUniqueID\":0,\"fBits\":50331648,\"fName\":\"zaxis\",\"fTitle\":\"\",\"fNdivisions\":510,\"fAxisColor\":1,\"fLabelColor\":1,\"fLabelFont\":42,\"fLabelOffset\":0.005,\"fLabelSize\":0.035,\"fTickLength\":0.03,\"fTitleOffset\":1,\"fTitleSize\":0.035,\"fTitleColor\":1,\"fTitleFont\":42,\"fNbins\":1,\"fXmin\":0,\"fXmax\":1,\"fXbins\":[],\"fFirst\":0,\"fLast\":0,\"fBits2\":0,\"fTimeDisplay\":false,\"fTimeFormat\":\"\",\"fLabels\":null,\"fModLabs\":null},\"fBarOffset\":0,\"fBarWidth\":1000,\"fEntries\":17568738,\"fTsumw\":17568738,\"fTsumw2\":17568738,\"fTsumwx\":0,\"fTsumwx2\":143943864.75,\"fMaximum\":-1111,\"fMinimum\":-1111,\"fNormFactor\":0,\"fContour\":[0,0.0108180906334877,0.0216361812669755,0.0324542719004632,0.0432723625339509,0.0540904531674387,0.0649085438009264,0.0757266344344141,0.0865447250679019,0.0973628157013896,0.108180906334877,0.118998996968365,0.129817087601853,0.140635178235341,0.151453268868828,0.162271359502316,0.173089450135804,0.183907540769291,0.194725631402779,0.205543722036267],\"fSumw2\":[0,0,0,0,0,0,0,0,0,0,0,0,0,0,0,0,0,0,0,0,0,0,0,0,0,0,0,0,3670,17555,39403,41667,50943,43199,38734,17450,3677,0,0,0,0,3434,17115,38901,42296,51340,43531,39026,17320,3407,0,0,0,0,3606,17179,38502,43006,52062,42772,38891,17244,3462,0,0,0,0,3704,17375,38777,42812,51646,42485,39048,17590,3606,0,0,0,0,3315,17059,38831,42535,50993,42671,38750,17153,3385,0,0,0,0,3545,17223,38686,42651,51988,43673,38612,17246,3637,0,0,0,0,3840,17364,38428,42876,51729,44022,38668,17403,3737,0,0,0,0,0,0,0,0,0,0,0,0,0,0,0,0,0,0,0,0,0,0,0,0,0,0,0,0],\"fOption\":\"\",\"fFunctions\":{\"_typename\":\"TList\",\"name\":\"TList\",\"arr\":[{\"_typename\":\"TPaletteAxis\",\"fUniqueID\":0,\"fBits\":50331648,\"fLineColor\":1,\"fLineStyle\":1,\"fLineWidth\":1,\"fFillColor\":1178,\"fFillStyle\":1001,\"fX1\":5.08771929934635,\"fY1\":-0.349065850398866,\"fX2\":5.87719299346346,\"fY2\":0.349065850398866,\"fX1NDC\":0.704999988079071,\"fY1NDC\":0.129999998137355,\"fX2NDC\":0.749999988079071,\"fY2NDC\":0.89999999627471,\"fBorderSize\":4,\"fInit\":1,\"fShadowColor\":1,\"fCornerRadius\":0,\"fOption\":\"br\",\"fName\":\"TPave\",\"fAxis\":{\"_typename\":\"TGaxis\",\"fUniqueID\":0,\"fBits\":50331648,\"fLineColor\":1,\"fLineStyle\":1,\"fLineWidth\":1,\"fX1\":0,\"fY1\":0,\"fX2\":0,\"fY2\":0,\"fTextAngle\":0,\"fTextSize\":0.04,\"fTextAlign\":11,\"fTextColor\":1,\"fTextFont\":42,\"fWmin\":0,\"fWmax\":0,\"fGridLength\":0,\"fTickSize\":0.03,\"fLabelOffset\":0.005,\"fLabelSize\":0.035,\"fTitleOffset\":1,\"fTitleSize\":0.035,\"fNdiv\":0,\"fLabelColor\":1,\"fLabelFont\":42,\"fNModLabs\":0,\"fChopt\":\"\",\"fName\":\"\",\"fTitle\":\"\",\"fTimeFormat\":\"\",\"fFunctionName\":\"\",\"fModLabs\":null},\"fName\":\"palette\"}],\"opt\":[\"br\"]},\"fBufferSize\":0,\"fBuffer\":[],\"fBinStatErrOpt\":0,\"fStatOverflows\":2,\"fScalefactor\":1,\"fTsumwy\":0,\"fTsumwy2\":57085265.4770032,\"fTsumwxy\":3.26849658449646e-12,\"fArray\":[0,0,0,0,0,0,0,0,0,0,0,0,0,0,0,0,0,0,0,0,0,0,0,0,0,0,0,0,3436,15829,32519,32369,38063,33125,32146,15806,3459,0,0,0,0,3210,15497,32327,32720,38384,33463,32474,15730,3243,0,0,0,0,3376,15615,32090,33076,38722,33150,32389,15636,3286,0,0,0,0,3486,15701,32163,33096,38396,32845,32400,15974,3406,0,0,0,0,3093,15421,32433,32925,37817,33095,32356,15595,3169,0,0,0,0,3311,15551,32164,32923,38506,33519,32154,15566,3379,0,0,0,0,3600,15752,32048,33048,38311,33596,32162,15747,3487,0,0,0,0,0,0,0,0,0,0,0,0,0,0,0,0,0,0,0,0,0,0,0,0,0,0,0,0],\"fBinEntries\":[0,0,0,0,0,0,0,0,0,0,0,0,0,0,177462,177462,177462,177462,177462,177462,177462,177462,177462,177462,177462,0,0,177462,177462,177462,177462,177462,177462,177462,177462,177462,177462,177462,0,0,177462,177462,177462,177462,177462,177462,177462,177462,177462,177462,177462,0,0,177462,177462,177462,177462,177462,177462,177462,177462,177462,177462,177462,0,0,177462,177462,177462,177462,177462,177462,177462,177462,177462,177462,177462,0,0,177462,177462,177462,177462,177462,177462,177462,177462,177462,177462,177462,0,0,177462,177462,177462,177462,177462,177462,177462,177462,177462,177462,177462,0,0,177462,177462,177462,177462,177462,177462,177462,177462,177462,177462,177462,0,0,177462,177462,177462,177462,177462,177462,177462,177462,177462,177462,177462,0,0,0,0,0,0,0,0,0,0,0,0,0,0],\"fErrorMode\":0,\"fZmin\":0,\"fZmax\":0,\"fTsumwz\":1449335,\"fTsumwz2\":1796455,\"fBinSumw2\":[0,0,0,0,0,0,0,0,0,0,0,0,0,0,177462,177462,177462,177462,177462,177462,177462,177462,177462,177462,177462,0,0,177462,177462,177462,177462,177462,177462,177462,177462,177462,177462,177462,0,0,177462,177462,177462,177462,177462,177462,177462,177462,177462,177462,177462,0,0,177462,177462,177462,177462,177462,177462,177462,177462,177462,177462,177462,0,0,177462,177462,177462,177462,177462,177462,177462,177462,177462,177462,177462,0,0,177462,177462,177462,177462,177462,177462,177462,177462,177462,177462,177462,0,0,177462,177462,177462,177462,177462,177462,177462,177462,177462,177462,177462,0,0,177462,177462,177462,177462,177462,177462,177462,177462,177462,177462,177462,0,0,177462,177462,177462,177462,177462,177462,177462,177462,177462,177462,177462,0,0,0,0,0,0,0,0,0,0,0,0,0,0]},{\"_typename\":\"TLatex\",\"fUniqueID\":0,\"fBits\":50348040,\"fName\":\"\",\"fTitle\":\"DY, PU200, EG all, p_{T}^{tk} > 5 GeV\",\"fTextAngle\":0,\"fTextSize\":0.03,\"fTextAlign\":11,\"fTextColor\":1,\"fTextFont\":62,\"fX\":0.15,\"fY\":0.85,\"fLineColor\":1,\"fLineStyle\":1,\"fLineWidth\":2,\"fLimitFactorSize\":3,\"fOriginSize\":0.04},{\"_typename\":\"TLatex\",\"fUniqueID\":0,\"fBits\":50331656,\"fName\":\"\",\"fTitle\":\"\",\"fTextAngle\":0,\"fTextSize\":0.03,\"fTextAlign\":11,\"fTextColor\":1,\"fTextFont\":62,\"fX\":0,\"fY\":0,\"fLineColor\":1,\"fLineStyle\":1,\"fLineWidth\":2,\"fLimitFactorSize\":3,\"fOriginSize\":0.04}],\"opt\":[\"\",\"COLZ\",\"same\",\"same\"]},\"fExecs\":null,\"fName\":\"c_772246\",\"fTitle\":\"c_772246\",\"fNumPaletteColor\":0,\"fNextPaletteColor\":0,\"fDISPLAY\":\"$DISPLAY\",\"fDoubleBuffer\":0,\"fRetained\":true,\"fXsizeUser\":0,\"fYsizeUser\":0,\"fXsizeReal\":20,\"fYsizeReal\":15,\"fWindowTopX\":0,\"fWindowTopY\":0,\"fWindowWidth\":0,\"fWindowHeight\":0,\"fCw\":796,\"fCh\":572,\"fCatt\":{\"_typename\":\"TAttCanvas\",\"fXBetween\":2,\"fYBetween\":2,\"fTitleFromTop\":1.2,\"fXdate\":0.2,\"fYdate\":0.3,\"fAdate\":1},\"kMoveOpaque\":true,\"kResizeOpaque\":true,\"fHighLightColor\":2,\"fBatch\":true,\"kShowEventStatus\":false,\"kAutoExec\":true,\"kMenuBar\":true});\n",
       "       Core.draw(\"root_plot_40\", obj, \"\");\n",
       "     }\n",
       " );\n",
       "</script>\n"
      ],
      "text/plain": [
       "<IPython.core.display.HTML object>"
      ]
     },
     "metadata": {},
     "output_type": "display_data"
    }
   ],
   "source": [
    "hsets, labels, text = hplot.get_histo(histos.CorrOccupancyHistos, sample, 'PU200', ['EGALL'], ['Pt5'], None, debug=False)\n",
    "text = '{}, {}'.format(sample, text)\n",
    "\n",
    "\n",
    "res = np.zeros(quantiles.shape)\n",
    "n = hsets[0].h_eventMaxOcc.GetQuantiles(quantiles.shape[0], res, quantiles)\n",
    "for id,quantile in enumerate(quantiles):\n",
    "    print 'quantile {}% = {}'.format(quantile*100, res[id])\n",
    "\n",
    "\n",
    "draw([his.h_eventMaxOcc for his in hsets], labels, text=text, min_x=0., max_x=10, logy=False, options='hist', v_lines=res.tolist())\n",
    "draw([his.h_averageOccupancy for his in hsets], labels, text=text, logy=False, options='COLZ')\n",
    "\n",
    "\n"
   ]
  },
  {
   "cell_type": "markdown",
   "metadata": {},
   "source": [
    "### Tracks"
   ]
  },
  {
   "cell_type": "code",
   "execution_count": 43,
   "metadata": {},
   "outputs": [
    {
     "name": "stdout",
     "output_type": "stream",
     "text": [
      "quantile 90.0% = 2.63828913401\n",
      "quantile 95.0% = 2.92561409685\n",
      "quantile 99.5% = 4.80080331061\n"
     ]
    },
    {
     "data": {
      "text/plain": [
       "<drawingTools.DrawMachine at 0x11e39b790>"
      ]
     },
     "execution_count": 43,
     "metadata": {},
     "output_type": "execute_result"
    },
    {
     "data": {
      "text/html": [
       "\n",
       "<div id=\"root_plot_43\"\n",
       "     style=\"width: 796px; height: 572px\">\n",
       "</div>\n",
       "\n",
       "<script>\n",
       " requirejs.config({\n",
       "     paths: {\n",
       "       'JSRootCore' : 'https://root.cern.ch/js/notebook//scripts/JSRootCore',\n",
       "     }\n",
       "   });\n",
       " require(['JSRootCore'],\n",
       "     function(Core) {\n",
       "       var obj = Core.JSONR_unref({\"_typename\":\"TCanvas\",\"fUniqueID\":0,\"fBits\":53673992,\"fLineColor\":1,\"fLineStyle\":1,\"fLineWidth\":1,\"fFillColor\":0,\"fFillStyle\":1001,\"fLeftMargin\":0.13,\"fRightMargin\":0.3,\"fBottomMargin\":0.13,\"fTopMargin\":0.1,\"fXfile\":2,\"fYfile\":2,\"fAfile\":1,\"fXstat\":0.99,\"fYstat\":0.99,\"fAstat\":2,\"fFrameFillColor\":0,\"fFrameLineColor\":1,\"fFrameFillStyle\":1001,\"fFrameLineStyle\":1,\"fFrameLineWidth\":1,\"fFrameBorderSize\":1,\"fFrameBorderMode\":0,\"fX1\":-2.28070169934936,\"fY1\":-21761.9997408359,\"fX2\":15.2631581699199,\"fY2\":145638.000664108,\"fXtoAbsPixelk\":103.480046204376,\"fXtoPixelk\":103.480046204376,\"fXtoPixel\":45.3719994306564,\"fYtoAbsPixelk\":497.640051065433,\"fYtoPixelk\":497.640051065433,\"fYtoPixel\":-0.00341696534418352,\"fUtoAbsPixelk\":5e-5,\"fUtoPixelk\":5e-5,\"fUtoPixel\":796,\"fVtoAbsPixelk\":572.00005,\"fVtoPixelk\":572,\"fVtoPixel\":-572,\"fAbsPixeltoXk\":-2.28070169934936,\"fPixeltoXk\":-2.28070169934936,\"fPixeltoX\":0.0220400249613935,\"fAbsPixeltoYk\":145638.000664108,\"fPixeltoYk\":-21761.9997408359,\"fPixeltoY\":-292.657343365287,\"fXlowNDC\":0,\"fYlowNDC\":0,\"fXUpNDC\":0,\"fYUpNDC\":0,\"fWNDC\":1,\"fHNDC\":1,\"fAbsXlowNDC\":0,\"fAbsYlowNDC\":0,\"fAbsWNDC\":1,\"fAbsHNDC\":1,\"fUxmin\":0,\"fUymin\":0,\"fUxmax\":10,\"fUymax\":128898,\"fTheta\":30,\"fPhi\":30,\"fAspectRatio\":0,\"fNumber\":0,\"fTickx\":0,\"fTicky\":0,\"fLogx\":0,\"fLogy\":0,\"fLogz\":0,\"fPadPaint\":0,\"fCrosshair\":0,\"fCrosshairPos\":0,\"fBorderSize\":2,\"fBorderMode\":0,\"fModified\":true,\"fGridx\":true,\"fGridy\":true,\"fAbsCoord\":false,\"fEditable\":true,\"fFixedAspectRatio\":false,\"fPrimitives\":{\"_typename\":\"TList\",\"name\":\"TList\",\"arr\":[{\"_typename\":\"TFrame\",\"fUniqueID\":0,\"fBits\":50331656,\"fLineColor\":1,\"fLineStyle\":1,\"fLineWidth\":1,\"fFillColor\":0,\"fFillStyle\":1001,\"fX1\":0,\"fY1\":0,\"fX2\":10,\"fY2\":128898,\"fBorderSize\":1,\"fBorderMode\":0},{\"_typename\":\"TH1F\",\"fUniqueID\":0,\"fBits\":50332168,\"fName\":\"5ec20a\",\"fTitle\":\"\",\"fLineColor\":1,\"fLineStyle\":1,\"fLineWidth\":1,\"fFillColor\":0,\"fFillStyle\":1001,\"fMarkerColor\":1,\"fMarkerStyle\":1,\"fMarkerSize\":1,\"fNcells\":102,\"fXaxis\":{\"_typename\":\"TAxis\",\"fUniqueID\":0,\"fBits\":50333704,\"fName\":\"xaxis\",\"fTitle\":\"\",\"fNdivisions\":510,\"fAxisColor\":1,\"fLabelColor\":1,\"fLabelFont\":42,\"fLabelOffset\":0.005,\"fLabelSize\":0.035,\"fTickLength\":0.03,\"fTitleOffset\":1.4,\"fTitleSize\":0.035,\"fTitleColor\":1,\"fTitleFont\":42,\"fNbins\":100,\"fXmin\":0,\"fXmax\":100,\"fXbins\":[],\"fFirst\":1,\"fLast\":10,\"fBits2\":0,\"fTimeDisplay\":false,\"fTimeFormat\":\"\",\"fLabels\":null,\"fModLabs\":null},\"fYaxis\":{\"_typename\":\"TAxis\",\"fUniqueID\":0,\"fBits\":50331656,\"fName\":\"yaxis\",\"fTitle\":\"\",\"fNdivisions\":510,\"fAxisColor\":1,\"fLabelColor\":1,\"fLabelFont\":42,\"fLabelOffset\":0.005,\"fLabelSize\":0.035,\"fTickLength\":0.03,\"fTitleOffset\":0,\"fTitleSize\":0.035,\"fTitleColor\":1,\"fTitleFont\":42,\"fNbins\":1,\"fXmin\":0,\"fXmax\":1,\"fXbins\":[],\"fFirst\":0,\"fLast\":0,\"fBits2\":0,\"fTimeDisplay\":false,\"fTimeFormat\":\"\",\"fLabels\":null,\"fModLabs\":null},\"fZaxis\":{\"_typename\":\"TAxis\",\"fUniqueID\":0,\"fBits\":50331648,\"fName\":\"zaxis\",\"fTitle\":\"\",\"fNdivisions\":510,\"fAxisColor\":1,\"fLabelColor\":1,\"fLabelFont\":42,\"fLabelOffset\":0.005,\"fLabelSize\":0.035,\"fTickLength\":0.03,\"fTitleOffset\":1,\"fTitleSize\":0.035,\"fTitleColor\":1,\"fTitleFont\":42,\"fNbins\":1,\"fXmin\":0,\"fXmax\":1,\"fXbins\":[],\"fFirst\":0,\"fLast\":0,\"fBits2\":0,\"fTimeDisplay\":false,\"fTimeFormat\":\"\",\"fLabels\":null,\"fModLabs\":null},\"fBarOffset\":0,\"fBarWidth\":1000,\"fEntries\":146915,\"fTsumw\":146915,\"fTsumw2\":146915,\"fTsumwx\":177444,\"fTsumwx2\":280754,\"fMaximum\":128898,\"fMinimum\":0,\"fNormFactor\":0,\"fContour\":[],\"fSumw2\":[0,8490,107415,25566,3887,1027,303,117,46,33,14,5,5,2,0,5,0,0,0,0,0,0,0,0,0,0,0,0,0,0,0,0,0,0,0,0,0,0,0,0,0,0,0,0,0,0,0,0,0,0,0,0,0,0,0,0,0,0,0,0,0,0,0,0,0,0,0,0,0,0,0,0,0,0,0,0,0,0,0,0,0,0,0,0,0,0,0,0,0,0,0,0,0,0,0,0,0,0,0,0,0,0],\"fOption\":\"\",\"fFunctions\":{\"_typename\":\"TList\",\"name\":\"TList\",\"arr\":[],\"opt\":[]},\"fBufferSize\":0,\"fBuffer\":[],\"fBinStatErrOpt\":0,\"fStatOverflows\":2,\"fArray\":[0,8490,107415,25566,3887,1027,303,117,46,33,14,5,5,2,0,5,0,0,0,0,0,0,0,0,0,0,0,0,0,0,0,0,0,0,0,0,0,0,0,0,0,0,0,0,0,0,0,0,0,0,0,0,0,0,0,0,0,0,0,0,0,0,0,0,0,0,0,0,0,0,0,0,0,0,0,0,0,0,0,0,0,0,0,0,0,0,0,0,0,0,0,0,0,0,0,0,0,0,0,0,0,0]},{\"_typename\":\"TLatex\",\"fUniqueID\":0,\"fBits\":50348040,\"fName\":\"\",\"fTitle\":\"dyll, PU200, L1Track EMU, p_{T}^{tk} > 10 GeV\",\"fTextAngle\":0,\"fTextSize\":0.03,\"fTextAlign\":11,\"fTextColor\":1,\"fTextFont\":62,\"fX\":0.15,\"fY\":0.85,\"fLineColor\":1,\"fLineStyle\":1,\"fLineWidth\":2,\"fLimitFactorSize\":3,\"fOriginSize\":0.04},{\"_typename\":\"TLatex\",\"fUniqueID\":0,\"fBits\":50331656,\"fName\":\"\",\"fTitle\":\"\",\"fTextAngle\":0,\"fTextSize\":0.03,\"fTextAlign\":11,\"fTextColor\":1,\"fTextFont\":62,\"fX\":0,\"fY\":0,\"fLineColor\":1,\"fLineStyle\":1,\"fLineWidth\":2,\"fLimitFactorSize\":3,\"fOriginSize\":0.04},{\"_typename\":\"TLine\",\"fUniqueID\":0,\"fBits\":50331656,\"fLineColor\":1,\"fLineStyle\":2,\"fLineWidth\":1,\"fX1\":2.6382891340061,\"fY1\":0,\"fX2\":2.6382891340061,\"fY2\":128898},{\"_typename\":\"TLine\",\"fUniqueID\":0,\"fBits\":50331656,\"fLineColor\":1,\"fLineStyle\":2,\"fLineWidth\":1,\"fX1\":2.92561409684737,\"fY1\":0,\"fX2\":2.92561409684737,\"fY2\":128898},{\"_typename\":\"TLine\",\"fUniqueID\":0,\"fBits\":50331656,\"fLineColor\":1,\"fLineStyle\":2,\"fLineWidth\":1,\"fX1\":4.80080331061343,\"fY1\":0,\"fX2\":4.80080331061343,\"fY2\":128898}],\"opt\":[\"\",\"hist\",\"same\",\"same\",\"same\",\"same\",\"same\"]},\"fExecs\":null,\"fName\":\"c_1bae67\",\"fTitle\":\"c_1bae67\",\"fNumPaletteColor\":0,\"fNextPaletteColor\":0,\"fDISPLAY\":\"$DISPLAY\",\"fDoubleBuffer\":0,\"fRetained\":true,\"fXsizeUser\":0,\"fYsizeUser\":0,\"fXsizeReal\":20,\"fYsizeReal\":15,\"fWindowTopX\":0,\"fWindowTopY\":0,\"fWindowWidth\":0,\"fWindowHeight\":0,\"fCw\":796,\"fCh\":572,\"fCatt\":{\"_typename\":\"TAttCanvas\",\"fXBetween\":2,\"fYBetween\":2,\"fTitleFromTop\":1.2,\"fXdate\":0.2,\"fYdate\":0.3,\"fAdate\":1},\"kMoveOpaque\":true,\"kResizeOpaque\":true,\"fHighLightColor\":2,\"fBatch\":true,\"kShowEventStatus\":false,\"kAutoExec\":true,\"kMenuBar\":true});\n",
       "       Core.draw(\"root_plot_43\", obj, \"\");\n",
       "     }\n",
       " );\n",
       "</script>\n"
      ],
      "text/plain": [
       "<IPython.core.display.HTML object>"
      ]
     },
     "metadata": {},
     "output_type": "display_data"
    },
    {
     "data": {
      "text/html": [
       "\n",
       "<div id=\"root_plot_44\"\n",
       "     style=\"width: 796px; height: 572px\">\n",
       "</div>\n",
       "\n",
       "<script>\n",
       " requirejs.config({\n",
       "     paths: {\n",
       "       'JSRootCore' : 'https://root.cern.ch/js/notebook//scripts/JSRootCore',\n",
       "     }\n",
       "   });\n",
       " require(['JSRootCore'],\n",
       "     function(Core) {\n",
       "       var obj = Core.JSONR_unref({\"_typename\":\"TCanvas\",\"fUniqueID\":0,\"fBits\":53673992,\"fLineColor\":1,\"fLineStyle\":1,\"fLineWidth\":1,\"fFillColor\":0,\"fFillStyle\":1001,\"fLeftMargin\":0.13,\"fRightMargin\":0.3,\"fBottomMargin\":0.13,\"fTopMargin\":0.1,\"fXfile\":2,\"fYfile\":2,\"fAfile\":1,\"fXstat\":0.99,\"fYstat\":0.99,\"fAstat\":2,\"fFrameFillColor\":0,\"fFrameLineColor\":1,\"fFrameFillStyle\":1001,\"fFrameLineStyle\":1,\"fFrameLineWidth\":1,\"fFrameBorderSize\":1,\"fFrameBorderMode\":0,\"fX1\":-7.28070169934936,\"fY1\":-0.466932240038966,\"fX2\":10.2631581699199,\"fY2\":0.439732308644835,\"fXtoAbsPixelk\":330.340043357658,\"fXtoPixelk\":330.340043357658,\"fXtoPixel\":45.3719994306564,\"fYtoAbsPixelk\":277.42005159815,\"fYtoPixelk\":277.42005159815,\"fYtoPixel\":-630.883826692429,\"fUtoAbsPixelk\":5e-5,\"fUtoPixelk\":5e-5,\"fUtoPixel\":796,\"fVtoAbsPixelk\":572.00005,\"fVtoPixelk\":572,\"fVtoPixel\":-572,\"fAbsPixeltoXk\":-7.28070169934936,\"fPixeltoXk\":-7.28070169934936,\"fPixeltoX\":0.0220400249613935,\"fAbsPixeltoYk\":0.439732308644835,\"fPixeltoYk\":-0.466932240038966,\"fPixeltoY\":-0.00158507788231434,\"fXlowNDC\":0,\"fYlowNDC\":0,\"fXUpNDC\":0,\"fYUpNDC\":0,\"fWNDC\":1,\"fHNDC\":1,\"fAbsXlowNDC\":0,\"fAbsYlowNDC\":0,\"fAbsWNDC\":1,\"fAbsHNDC\":1,\"fUxmin\":-5,\"fUymin\":-0.349065850398866,\"fUxmax\":5,\"fUymax\":0.349065850398866,\"fTheta\":30,\"fPhi\":30,\"fAspectRatio\":0,\"fNumber\":0,\"fTickx\":0,\"fTicky\":0,\"fLogx\":0,\"fLogy\":0,\"fLogz\":0,\"fPadPaint\":0,\"fCrosshair\":0,\"fCrosshairPos\":0,\"fBorderSize\":2,\"fBorderMode\":0,\"fModified\":false,\"fGridx\":true,\"fGridy\":true,\"fAbsCoord\":false,\"fEditable\":true,\"fFixedAspectRatio\":false,\"fPrimitives\":{\"_typename\":\"TList\",\"name\":\"TList\",\"arr\":[{\"_typename\":\"TFrame\",\"fUniqueID\":0,\"fBits\":50331656,\"fLineColor\":1,\"fLineStyle\":1,\"fLineWidth\":1,\"fFillColor\":0,\"fFillStyle\":1001,\"fX1\":-5,\"fY1\":-0.349065850398866,\"fX2\":5,\"fY2\":0.349065850398866,\"fBorderSize\":1,\"fBorderMode\":0},{\"_typename\":\"TProfile2D\",\"fUniqueID\":0,\"fBits\":50332168,\"fName\":\"8e1acc\",\"fTitle\":\"\",\"fLineColor\":1,\"fLineStyle\":1,\"fLineWidth\":1,\"fFillColor\":0,\"fFillStyle\":1001,\"fMarkerColor\":1,\"fMarkerStyle\":1,\"fMarkerSize\":1,\"fNcells\":143,\"fXaxis\":{\"_typename\":\"TAxis\",\"fUniqueID\":0,\"fBits\":50331656,\"fName\":\"xaxis\",\"fTitle\":\" #eta, #phi\",\"fNdivisions\":510,\"fAxisColor\":1,\"fLabelColor\":1,\"fLabelFont\":42,\"fLabelOffset\":0.005,\"fLabelSize\":0.035,\"fTickLength\":0.03,\"fTitleOffset\":1.4,\"fTitleSize\":0.035,\"fTitleColor\":1,\"fTitleFont\":42,\"fNbins\":11,\"fXmin\":-5,\"fXmax\":5,\"fXbins\":[-5,-4,-3,-2.5,-1.5,-0.5,0.5,1.5,2.5,3,4,5],\"fFirst\":0,\"fLast\":0,\"fBits2\":0,\"fTimeDisplay\":false,\"fTimeFormat\":\"\",\"fLabels\":null,\"fModLabs\":null},\"fYaxis\":{\"_typename\":\"TAxis\",\"fUniqueID\":0,\"fBits\":50333704,\"fName\":\"yaxis\",\"fTitle\":\"\",\"fNdivisions\":510,\"fAxisColor\":1,\"fLabelColor\":1,\"fLabelFont\":42,\"fLabelOffset\":0.005,\"fLabelSize\":0.035,\"fTickLength\":0.03,\"fTitleOffset\":0,\"fTitleSize\":0.035,\"fTitleColor\":1,\"fTitleFont\":42,\"fNbins\":9,\"fXmin\":-3.14159265358979,\"fXmax\":3.14159265358979,\"fXbins\":[-3.14159265358979,-2.44346095279206,-1.74532925199433,-1.0471975511966,-0.349065850398866,0.349065850398866,1.0471975511966,1.74532925199433,2.44346095279206,3.14159265358979],\"fFirst\":5,\"fLast\":5,\"fBits2\":0,\"fTimeDisplay\":false,\"fTimeFormat\":\"\",\"fLabels\":null,\"fModLabs\":null},\"fZaxis\":{\"_typename\":\"TAxis\",\"fUniqueID\":0,\"fBits\":50331648,\"fName\":\"zaxis\",\"fTitle\":\"\",\"fNdivisions\":510,\"fAxisColor\":1,\"fLabelColor\":1,\"fLabelFont\":42,\"fLabelOffset\":0.005,\"fLabelSize\":0.035,\"fTickLength\":0.03,\"fTitleOffset\":1,\"fTitleSize\":0.035,\"fTitleColor\":1,\"fTitleFont\":42,\"fNbins\":1,\"fXmin\":0,\"fXmax\":1,\"fXbins\":[],\"fFirst\":0,\"fLast\":0,\"fBits2\":0,\"fTimeDisplay\":false,\"fTimeFormat\":\"\",\"fLabels\":null,\"fModLabs\":null},\"fBarOffset\":0,\"fBarWidth\":1000,\"fEntries\":14544585,\"fTsumw\":14544585,\"fTsumw2\":14544585,\"fTsumwx\":0,\"fTsumwx2\":119166429.375,\"fMaximum\":-1111,\"fMinimum\":-1111,\"fNormFactor\":0,\"fContour\":[0,0.00733076949256373,0.0146615389851275,0.0219923084776912,0.0293230779702549,0.0366538474628186,0.0439846169553824,0.0513153864479461,0.0586461559405098,0.0659769254330735,0.0733076949256373,0.080638464418201,0.0879692339107647,0.0953000034033284,0.102630772895892,0.109961542388456,0.11729231188102,0.124623081373583,0.131953850866147,0.139284620358711],\"fSumw2\":[0,0,0,0,0,0,0,0,0,0,0,0,0,0,0,0,0,0,0,0,0,0,0,0,0,0,0,0,0,2723,18958,26435,29661,26164,18496,2589,0,0,0,0,0,0,2424,18080,26508,29990,26674,18098,2394,0,0,0,0,0,0,2371,18257,26270,29733,26515,18436,2464,0,0,0,0,0,0,2596,18860,26585,29802,25893,18568,2691,0,0,0,0,0,0,2651,18660,26716,30059,26422,18819,2716,0,0,0,0,0,0,2696,18302,27073,29966,26869,18628,2509,0,0,0,0,0,0,2624,18076,26603,29574,27512,18588,2432,0,0,0,0,0,0,0,0,0,0,0,0,0,0,0,0,0,0,0,0,0,0,0,0,0,0,0,0,0],\"fOption\":\"\",\"fFunctions\":{\"_typename\":\"TList\",\"name\":\"TList\",\"arr\":[{\"_typename\":\"TPaletteAxis\",\"fUniqueID\":0,\"fBits\":50331648,\"fLineColor\":1,\"fLineStyle\":1,\"fLineWidth\":1,\"fFillColor\":1178,\"fFillStyle\":1001,\"fX1\":5.08771929934635,\"fY1\":-0.349065850398866,\"fX2\":5.87719299346346,\"fY2\":0.349065850398866,\"fX1NDC\":0.704999988079071,\"fY1NDC\":0.129999998137355,\"fX2NDC\":0.749999988079071,\"fY2NDC\":0.89999999627471,\"fBorderSize\":4,\"fInit\":1,\"fShadowColor\":1,\"fCornerRadius\":0,\"fOption\":\"br\",\"fName\":\"TPave\",\"fAxis\":{\"_typename\":\"TGaxis\",\"fUniqueID\":0,\"fBits\":50331648,\"fLineColor\":1,\"fLineStyle\":1,\"fLineWidth\":1,\"fX1\":0,\"fY1\":0,\"fX2\":0,\"fY2\":0,\"fTextAngle\":0,\"fTextSize\":0.04,\"fTextAlign\":11,\"fTextColor\":1,\"fTextFont\":42,\"fWmin\":0,\"fWmax\":0,\"fGridLength\":0,\"fTickSize\":0.03,\"fLabelOffset\":0.005,\"fLabelSize\":0.035,\"fTitleOffset\":1,\"fTitleSize\":0.035,\"fNdiv\":0,\"fLabelColor\":1,\"fLabelFont\":42,\"fNModLabs\":0,\"fChopt\":\"\",\"fName\":\"\",\"fTitle\":\"\",\"fTimeFormat\":\"\",\"fFunctionName\":\"\",\"fModLabs\":null},\"fName\":\"palette\"}],\"opt\":[\"br\"]},\"fBufferSize\":0,\"fBuffer\":[],\"fBinStatErrOpt\":0,\"fStatOverflows\":2,\"fScalefactor\":1,\"fTsumwy\":0,\"fTsumwy2\":47259028.8487324,\"fTsumwxy\":3.26849658449646e-12,\"fArray\":[0,0,0,0,0,0,0,0,0,0,0,0,0,0,0,0,0,0,0,0,0,0,0,0,0,0,0,0,0,1943,13608,19397,21745,19278,13462,1919,0,0,0,0,0,0,1802,13274,19564,21776,19364,13278,1790,0,0,0,0,0,0,1829,13341,19424,21647,19373,13324,1880,0,0,0,0,0,0,1916,13544,19455,21540,19315,13372,1949,0,0,0,0,0,0,1935,13536,19428,21697,19400,13593,1984,0,0,0,0,0,0,1946,13508,19511,21694,19575,13520,1893,0,0,0,0,0,0,1920,13426,19569,21458,19610,13464,1846,0,0,0,0,0,0,0,0,0,0,0,0,0,0,0,0,0,0,0,0,0,0,0,0,0,0,0,0,0],\"fBinEntries\":[0,0,0,0,0,0,0,0,0,0,0,0,0,0,146915,146915,146915,146915,146915,146915,146915,146915,146915,146915,146915,0,0,146915,146915,146915,146915,146915,146915,146915,146915,146915,146915,146915,0,0,146915,146915,146915,146915,146915,146915,146915,146915,146915,146915,146915,0,0,146915,146915,146915,146915,146915,146915,146915,146915,146915,146915,146915,0,0,146915,146915,146915,146915,146915,146915,146915,146915,146915,146915,146915,0,0,146915,146915,146915,146915,146915,146915,146915,146915,146915,146915,146915,0,0,146915,146915,146915,146915,146915,146915,146915,146915,146915,146915,146915,0,0,146915,146915,146915,146915,146915,146915,146915,146915,146915,146915,146915,0,0,146915,146915,146915,146915,146915,146915,146915,146915,146915,146915,146915,0,0,0,0,0,0,0,0,0,0,0,0,0,0],\"fErrorMode\":0,\"fZmin\":0,\"fZmax\":0,\"fTsumwz\":638622,\"fTsumwz2\":875730,\"fBinSumw2\":[0,0,0,0,0,0,0,0,0,0,0,0,0,0,146915,146915,146915,146915,146915,146915,146915,146915,146915,146915,146915,0,0,146915,146915,146915,146915,146915,146915,146915,146915,146915,146915,146915,0,0,146915,146915,146915,146915,146915,146915,146915,146915,146915,146915,146915,0,0,146915,146915,146915,146915,146915,146915,146915,146915,146915,146915,146915,0,0,146915,146915,146915,146915,146915,146915,146915,146915,146915,146915,146915,0,0,146915,146915,146915,146915,146915,146915,146915,146915,146915,146915,146915,0,0,146915,146915,146915,146915,146915,146915,146915,146915,146915,146915,146915,0,0,146915,146915,146915,146915,146915,146915,146915,146915,146915,146915,146915,0,0,146915,146915,146915,146915,146915,146915,146915,146915,146915,146915,146915,0,0,0,0,0,0,0,0,0,0,0,0,0,0]},{\"_typename\":\"TLatex\",\"fUniqueID\":0,\"fBits\":50348040,\"fName\":\"\",\"fTitle\":\"dyll, PU200, L1Track EMU, p_{T}^{tk} > 10 GeV\",\"fTextAngle\":0,\"fTextSize\":0.03,\"fTextAlign\":11,\"fTextColor\":1,\"fTextFont\":62,\"fX\":0.15,\"fY\":0.85,\"fLineColor\":1,\"fLineStyle\":1,\"fLineWidth\":2,\"fLimitFactorSize\":3,\"fOriginSize\":0.04},{\"_typename\":\"TLatex\",\"fUniqueID\":0,\"fBits\":50331656,\"fName\":\"\",\"fTitle\":\"\",\"fTextAngle\":0,\"fTextSize\":0.03,\"fTextAlign\":11,\"fTextColor\":1,\"fTextFont\":62,\"fX\":0,\"fY\":0,\"fLineColor\":1,\"fLineStyle\":1,\"fLineWidth\":2,\"fLimitFactorSize\":3,\"fOriginSize\":0.04}],\"opt\":[\"\",\"COLZ\",\"same\",\"same\"]},\"fExecs\":null,\"fName\":\"c_eef538\",\"fTitle\":\"c_eef538\",\"fNumPaletteColor\":0,\"fNextPaletteColor\":0,\"fDISPLAY\":\"$DISPLAY\",\"fDoubleBuffer\":0,\"fRetained\":true,\"fXsizeUser\":0,\"fYsizeUser\":0,\"fXsizeReal\":20,\"fYsizeReal\":15,\"fWindowTopX\":0,\"fWindowTopY\":0,\"fWindowWidth\":0,\"fWindowHeight\":0,\"fCw\":796,\"fCh\":572,\"fCatt\":{\"_typename\":\"TAttCanvas\",\"fXBetween\":2,\"fYBetween\":2,\"fTitleFromTop\":1.2,\"fXdate\":0.2,\"fYdate\":0.3,\"fAdate\":1},\"kMoveOpaque\":true,\"kResizeOpaque\":true,\"fHighLightColor\":2,\"fBatch\":true,\"kShowEventStatus\":false,\"kAutoExec\":true,\"kMenuBar\":true});\n",
       "       Core.draw(\"root_plot_44\", obj, \"\");\n",
       "     }\n",
       " );\n",
       "</script>\n"
      ],
      "text/plain": [
       "<IPython.core.display.HTML object>"
      ]
     },
     "metadata": {},
     "output_type": "display_data"
    }
   ],
   "source": [
    "hsets, labels, text = hplot.get_histo(histos.CorrOccupancyHistos, sample, 'PU200', ['L1TrkEmu'], ['Pt10'], None, debug=False)\n",
    "text = '{}, {}'.format(sample, text)\n",
    "\n",
    "res=np.zeros(quantiles.shape)\n",
    "n = hsets[0].h_eventMaxOcc.GetQuantiles(quantiles.shape[0], res, quantiles)\n",
    "for id,quantile in enumerate(quantiles):\n",
    "    print 'quantile {}% = {}'.format(quantile*100, res[id])\n",
    "\n",
    "\n",
    "draw([his.h_eventMaxOcc for his in hsets], labels, text=text, min_x=0., max_x=10, logy=False, options='hist', v_lines=res.tolist())\n",
    "draw([his.h_averageOccupancy for his in hsets], labels, text=text, logy=False, options='COLZ')\n"
   ]
  },
  {
   "cell_type": "code",
   "execution_count": 44,
   "metadata": {},
   "outputs": [
    {
     "name": "stdout",
     "output_type": "stream",
     "text": [
      "quantile 90.0% = 20.9828948793\n",
      "quantile 95.0% = 22.6126252038\n",
      "quantile 99.5% = 27.3004807692\n"
     ]
    },
    {
     "data": {
      "text/plain": [
       "<drawingTools.DrawMachine at 0x11e24af10>"
      ]
     },
     "execution_count": 44,
     "metadata": {},
     "output_type": "execute_result"
    },
    {
     "data": {
      "text/html": [
       "\n",
       "<div id=\"root_plot_45\"\n",
       "     style=\"width: 796px; height: 572px\">\n",
       "</div>\n",
       "\n",
       "<script>\n",
       " requirejs.config({\n",
       "     paths: {\n",
       "       'JSRootCore' : 'https://root.cern.ch/js/notebook//scripts/JSRootCore',\n",
       "     }\n",
       "   });\n",
       " require(['JSRootCore'],\n",
       "     function(Core) {\n",
       "       var obj = Core.JSONR_unref({\"_typename\":\"TCanvas\",\"fUniqueID\":0,\"fBits\":53673992,\"fLineColor\":1,\"fLineStyle\":1,\"fLineWidth\":1,\"fFillColor\":0,\"fFillStyle\":1001,\"fLeftMargin\":0.13,\"fRightMargin\":0.3,\"fBottomMargin\":0.13,\"fTopMargin\":0.1,\"fXfile\":2,\"fYfile\":2,\"fAfile\":1,\"fXstat\":0.99,\"fYstat\":0.99,\"fAstat\":2,\"fFrameFillColor\":0,\"fFrameLineColor\":1,\"fFrameFillStyle\":1001,\"fFrameLineStyle\":1,\"fFrameLineWidth\":1,\"fFrameBorderSize\":1,\"fFrameBorderMode\":0,\"fX1\":-2.28070169934936,\"fY1\":-4670.88306125748,\"fX2\":15.2631581699199,\"fY2\":31258.9871555277,\"fXtoAbsPixelk\":103.480046204376,\"fXtoPixelk\":103.480046204376,\"fXtoPixel\":45.3719994306564,\"fYtoAbsPixelk\":497.640051065433,\"fYtoPixelk\":497.640051065433,\"fYtoPixel\":-0.0159199016458674,\"fUtoAbsPixelk\":5e-5,\"fUtoPixelk\":5e-5,\"fUtoPixel\":796,\"fVtoAbsPixelk\":572.00005,\"fVtoPixelk\":572,\"fVtoPixel\":-572,\"fAbsPixeltoXk\":-2.28070169934936,\"fPixeltoXk\":-2.28070169934936,\"fPixeltoX\":0.0220400249613935,\"fAbsPixeltoYk\":31258.9871555277,\"fPixeltoYk\":-4670.88306125748,\"fPixeltoY\":-62.8144584209531,\"fXlowNDC\":0,\"fYlowNDC\":0,\"fXUpNDC\":0,\"fYUpNDC\":0,\"fWNDC\":1,\"fHNDC\":1,\"fAbsXlowNDC\":0,\"fAbsYlowNDC\":0,\"fAbsWNDC\":1,\"fAbsHNDC\":1,\"fUxmin\":0,\"fUymin\":0,\"fUxmax\":10,\"fUymax\":27666,\"fTheta\":30,\"fPhi\":30,\"fAspectRatio\":0,\"fNumber\":0,\"fTickx\":0,\"fTicky\":0,\"fLogx\":0,\"fLogy\":0,\"fLogz\":0,\"fPadPaint\":0,\"fCrosshair\":0,\"fCrosshairPos\":0,\"fBorderSize\":2,\"fBorderMode\":0,\"fModified\":true,\"fGridx\":true,\"fGridy\":true,\"fAbsCoord\":false,\"fEditable\":true,\"fFixedAspectRatio\":false,\"fPrimitives\":{\"_typename\":\"TList\",\"name\":\"TList\",\"arr\":[{\"_typename\":\"TFrame\",\"fUniqueID\":0,\"fBits\":50331656,\"fLineColor\":1,\"fLineStyle\":1,\"fLineWidth\":1,\"fFillColor\":0,\"fFillStyle\":1001,\"fX1\":0,\"fY1\":0,\"fX2\":10,\"fY2\":27666,\"fBorderSize\":1,\"fBorderMode\":0},{\"_typename\":\"TH1F\",\"fUniqueID\":0,\"fBits\":50332168,\"fName\":\"77a1e2\",\"fTitle\":\"\",\"fLineColor\":1,\"fLineStyle\":1,\"fLineWidth\":1,\"fFillColor\":0,\"fFillStyle\":1001,\"fMarkerColor\":1,\"fMarkerStyle\":1,\"fMarkerSize\":1,\"fNcells\":102,\"fXaxis\":{\"_typename\":\"TAxis\",\"fUniqueID\":0,\"fBits\":50333704,\"fName\":\"xaxis\",\"fTitle\":\"\",\"fNdivisions\":510,\"fAxisColor\":1,\"fLabelColor\":1,\"fLabelFont\":42,\"fLabelOffset\":0.005,\"fLabelSize\":0.035,\"fTickLength\":0.03,\"fTitleOffset\":1.4,\"fTitleSize\":0.035,\"fTitleColor\":1,\"fTitleFont\":42,\"fNbins\":100,\"fXmin\":0,\"fXmax\":100,\"fXbins\":[],\"fFirst\":1,\"fLast\":10,\"fBits2\":0,\"fTimeDisplay\":false,\"fTimeFormat\":\"\",\"fLabels\":null,\"fModLabs\":null},\"fYaxis\":{\"_typename\":\"TAxis\",\"fUniqueID\":0,\"fBits\":50331656,\"fName\":\"yaxis\",\"fTitle\":\"\",\"fNdivisions\":510,\"fAxisColor\":1,\"fLabelColor\":1,\"fLabelFont\":42,\"fLabelOffset\":0.005,\"fLabelSize\":0.035,\"fTickLength\":0.03,\"fTitleOffset\":0,\"fTitleSize\":0.035,\"fTitleColor\":1,\"fTitleFont\":42,\"fNbins\":1,\"fXmin\":0,\"fXmax\":1,\"fXbins\":[],\"fFirst\":0,\"fLast\":0,\"fBits2\":0,\"fTimeDisplay\":false,\"fTimeFormat\":\"\",\"fLabels\":null,\"fModLabs\":null},\"fZaxis\":{\"_typename\":\"TAxis\",\"fUniqueID\":0,\"fBits\":50331648,\"fName\":\"zaxis\",\"fTitle\":\"\",\"fNdivisions\":510,\"fAxisColor\":1,\"fLabelColor\":1,\"fLabelFont\":42,\"fLabelOffset\":0.005,\"fLabelSize\":0.035,\"fTickLength\":0.03,\"fTitleOffset\":1,\"fTitleSize\":0.035,\"fTitleColor\":1,\"fTitleFont\":42,\"fNbins\":1,\"fXmin\":0,\"fXmax\":1,\"fXbins\":[],\"fFirst\":0,\"fLast\":0,\"fBits2\":0,\"fTimeDisplay\":false,\"fTimeFormat\":\"\",\"fLabels\":null,\"fModLabs\":null},\"fBarOffset\":0,\"fBarWidth\":1000,\"fEntries\":184000,\"fTsumw\":184000,\"fTsumw2\":184000,\"fTsumwx\":2964549,\"fTsumwx2\":49834019,\"fMaximum\":27666,\"fMinimum\":0,\"fNormFactor\":0,\"fContour\":[],\"fSumw2\":[0,0,0,0,0,0,0,8,51,299,1195,3242,6796,11981,17072,21262,23055,22660,19905,16432,12563,9237,6412,4293,2871,1814,1106,701,416,239,150,84,54,38,25,13,12,3,4,1,2,2,0,0,1,0,0,0,0,0,0,0,0,0,1,0,0,0,0,0,0,0,0,0,0,0,0,0,0,0,0,0,0,0,0,0,0,0,0,0,0,0,0,0,0,0,0,0,0,0,0,0,0,0,0,0,0,0,0,0,0,0],\"fOption\":\"\",\"fFunctions\":{\"_typename\":\"TList\",\"name\":\"TList\",\"arr\":[],\"opt\":[]},\"fBufferSize\":0,\"fBuffer\":[],\"fBinStatErrOpt\":0,\"fStatOverflows\":2,\"fArray\":[0,0,0,0,0,0,0,8,51,299,1195,3242,6796,11981,17072,21262,23055,22660,19905,16432,12563,9237,6412,4293,2871,1814,1106,701,416,239,150,84,54,38,25,13,12,3,4,1,2,2,0,0,1,0,0,0,0,0,0,0,0,0,1,0,0,0,0,0,0,0,0,0,0,0,0,0,0,0,0,0,0,0,0,0,0,0,0,0,0,0,0,0,0,0,0,0,0,0,0,0,0,0,0,0,0,0,0,0,0,0]},{\"_typename\":\"TLatex\",\"fUniqueID\":0,\"fBits\":50348040,\"fName\":\"\",\"fTitle\":\"dyll, PU200, L1Track EMU, p_{T}^{tk} > 2 GeV\",\"fTextAngle\":0,\"fTextSize\":0.03,\"fTextAlign\":11,\"fTextColor\":1,\"fTextFont\":62,\"fX\":0.15,\"fY\":0.85,\"fLineColor\":1,\"fLineStyle\":1,\"fLineWidth\":2,\"fLimitFactorSize\":3,\"fOriginSize\":0.04},{\"_typename\":\"TLatex\",\"fUniqueID\":0,\"fBits\":50331656,\"fName\":\"\",\"fTitle\":\"\",\"fTextAngle\":0,\"fTextSize\":0.03,\"fTextAlign\":11,\"fTextColor\":1,\"fTextFont\":62,\"fX\":0,\"fY\":0,\"fLineColor\":1,\"fLineStyle\":1,\"fLineWidth\":2,\"fLimitFactorSize\":3,\"fOriginSize\":0.04},{\"_typename\":\"TLine\",\"fUniqueID\":0,\"fBits\":50331656,\"fLineColor\":1,\"fLineStyle\":2,\"fLineWidth\":1,\"fX1\":20.9828948792898,\"fY1\":0,\"fX2\":20.9828948792898,\"fY2\":27666},{\"_typename\":\"TLine\",\"fUniqueID\":0,\"fBits\":50331656,\"fLineColor\":1,\"fLineStyle\":2,\"fLineWidth\":1,\"fX1\":22.6126252038202,\"fY1\":0,\"fX2\":22.6126252038202,\"fY2\":27666},{\"_typename\":\"TLine\",\"fUniqueID\":0,\"fBits\":50331656,\"fLineColor\":1,\"fLineStyle\":2,\"fLineWidth\":1,\"fX1\":27.3004807692308,\"fY1\":0,\"fX2\":27.3004807692308,\"fY2\":27666}],\"opt\":[\"\",\"hist\",\"same\",\"same\",\"same\",\"same\",\"same\"]},\"fExecs\":null,\"fName\":\"c_3939b1\",\"fTitle\":\"c_3939b1\",\"fNumPaletteColor\":0,\"fNextPaletteColor\":0,\"fDISPLAY\":\"$DISPLAY\",\"fDoubleBuffer\":0,\"fRetained\":true,\"fXsizeUser\":0,\"fYsizeUser\":0,\"fXsizeReal\":20,\"fYsizeReal\":15,\"fWindowTopX\":0,\"fWindowTopY\":0,\"fWindowWidth\":0,\"fWindowHeight\":0,\"fCw\":796,\"fCh\":572,\"fCatt\":{\"_typename\":\"TAttCanvas\",\"fXBetween\":2,\"fYBetween\":2,\"fTitleFromTop\":1.2,\"fXdate\":0.2,\"fYdate\":0.3,\"fAdate\":1},\"kMoveOpaque\":true,\"kResizeOpaque\":true,\"fHighLightColor\":2,\"fBatch\":true,\"kShowEventStatus\":false,\"kAutoExec\":true,\"kMenuBar\":true});\n",
       "       Core.draw(\"root_plot_45\", obj, \"\");\n",
       "     }\n",
       " );\n",
       "</script>\n"
      ],
      "text/plain": [
       "<IPython.core.display.HTML object>"
      ]
     },
     "metadata": {},
     "output_type": "display_data"
    },
    {
     "data": {
      "text/html": [
       "\n",
       "<div id=\"root_plot_46\"\n",
       "     style=\"width: 796px; height: 572px\">\n",
       "</div>\n",
       "\n",
       "<script>\n",
       " requirejs.config({\n",
       "     paths: {\n",
       "       'JSRootCore' : 'https://root.cern.ch/js/notebook//scripts/JSRootCore',\n",
       "     }\n",
       "   });\n",
       " require(['JSRootCore'],\n",
       "     function(Core) {\n",
       "       var obj = Core.JSONR_unref({\"_typename\":\"TCanvas\",\"fUniqueID\":0,\"fBits\":53673992,\"fLineColor\":1,\"fLineStyle\":1,\"fLineWidth\":1,\"fFillColor\":0,\"fFillStyle\":1001,\"fLeftMargin\":0.13,\"fRightMargin\":0.3,\"fBottomMargin\":0.13,\"fTopMargin\":0.1,\"fXfile\":2,\"fYfile\":2,\"fAfile\":1,\"fXstat\":0.99,\"fYstat\":0.99,\"fAstat\":2,\"fFrameFillColor\":0,\"fFrameLineColor\":1,\"fFrameFillStyle\":1001,\"fFrameLineStyle\":1,\"fFrameLineWidth\":1,\"fFrameBorderSize\":1,\"fFrameBorderMode\":0,\"fX1\":-7.28070169934936,\"fY1\":-1.05626418823946,\"fX2\":10.2631581699199,\"fY2\":4.38372310386334,\"fXtoAbsPixelk\":330.340043357658,\"fXtoPixelk\":330.340043357658,\"fXtoPixel\":45.3719994306564,\"fYtoAbsPixelk\":460.936717820886,\"fYtoPixelk\":460.936717820886,\"fYtoPixel\":-105.147304448738,\"fUtoAbsPixelk\":5e-5,\"fUtoPixelk\":5e-5,\"fUtoPixel\":796,\"fVtoAbsPixelk\":572.00005,\"fVtoPixelk\":572,\"fVtoPixel\":-572,\"fAbsPixeltoXk\":-7.28070169934936,\"fPixeltoXk\":-7.28070169934936,\"fPixeltoX\":0.0220400249613935,\"fAbsPixeltoYk\":4.38372310386334,\"fPixeltoYk\":-1.05626418823946,\"fPixeltoY\":-0.00951046729388602,\"fXlowNDC\":0,\"fYlowNDC\":0,\"fXUpNDC\":0,\"fYUpNDC\":0,\"fWNDC\":1,\"fHNDC\":1,\"fAbsXlowNDC\":0,\"fAbsYlowNDC\":0,\"fAbsWNDC\":1,\"fAbsHNDC\":1,\"fUxmin\":-5,\"fUymin\":-0.349065850398866,\"fUxmax\":5,\"fUymax\":3.83972435438753,\"fTheta\":30,\"fPhi\":30,\"fAspectRatio\":0,\"fNumber\":0,\"fTickx\":0,\"fTicky\":0,\"fLogx\":0,\"fLogy\":0,\"fLogz\":0,\"fPadPaint\":0,\"fCrosshair\":0,\"fCrosshairPos\":0,\"fBorderSize\":2,\"fBorderMode\":0,\"fModified\":false,\"fGridx\":true,\"fGridy\":true,\"fAbsCoord\":false,\"fEditable\":true,\"fFixedAspectRatio\":false,\"fPrimitives\":{\"_typename\":\"TList\",\"name\":\"TList\",\"arr\":[{\"_typename\":\"TFrame\",\"fUniqueID\":0,\"fBits\":50331656,\"fLineColor\":1,\"fLineStyle\":1,\"fLineWidth\":1,\"fFillColor\":0,\"fFillStyle\":1001,\"fX1\":-5,\"fY1\":-0.349065850398866,\"fX2\":5,\"fY2\":3.83972435438753,\"fBorderSize\":1,\"fBorderMode\":0},{\"_typename\":\"TProfile2D\",\"fUniqueID\":0,\"fBits\":50332168,\"fName\":\"ff447f\",\"fTitle\":\"\",\"fLineColor\":1,\"fLineStyle\":1,\"fLineWidth\":1,\"fFillColor\":0,\"fFillStyle\":1001,\"fMarkerColor\":1,\"fMarkerStyle\":1,\"fMarkerSize\":1,\"fNcells\":143,\"fXaxis\":{\"_typename\":\"TAxis\",\"fUniqueID\":0,\"fBits\":50331656,\"fName\":\"xaxis\",\"fTitle\":\" #eta, #phi\",\"fNdivisions\":510,\"fAxisColor\":1,\"fLabelColor\":1,\"fLabelFont\":42,\"fLabelOffset\":0.005,\"fLabelSize\":0.035,\"fTickLength\":0.03,\"fTitleOffset\":1.4,\"fTitleSize\":0.035,\"fTitleColor\":1,\"fTitleFont\":42,\"fNbins\":11,\"fXmin\":-5,\"fXmax\":5,\"fXbins\":[-5,-4,-3,-2.5,-1.5,-0.5,0.5,1.5,2.5,3,4,5],\"fFirst\":0,\"fLast\":0,\"fBits2\":0,\"fTimeDisplay\":false,\"fTimeFormat\":\"\",\"fLabels\":null,\"fModLabs\":null},\"fYaxis\":{\"_typename\":\"TAxis\",\"fUniqueID\":0,\"fBits\":50333704,\"fName\":\"yaxis\",\"fTitle\":\"\",\"fNdivisions\":510,\"fAxisColor\":1,\"fLabelColor\":1,\"fLabelFont\":42,\"fLabelOffset\":0.005,\"fLabelSize\":0.035,\"fTickLength\":0.03,\"fTitleOffset\":0,\"fTitleSize\":0.035,\"fTitleColor\":1,\"fTitleFont\":42,\"fNbins\":9,\"fXmin\":-3.14159265358979,\"fXmax\":3.14159265358979,\"fXbins\":[-3.14159265358979,-2.44346095279206,-1.74532925199433,-1.0471975511966,-0.349065850398866,0.349065850398866,1.0471975511966,1.74532925199433,2.44346095279206,3.14159265358979],\"fFirst\":5,\"fLast\":10,\"fBits2\":0,\"fTimeDisplay\":false,\"fTimeFormat\":\"\",\"fLabels\":null,\"fModLabs\":null},\"fZaxis\":{\"_typename\":\"TAxis\",\"fUniqueID\":0,\"fBits\":50331648,\"fName\":\"zaxis\",\"fTitle\":\"\",\"fNdivisions\":510,\"fAxisColor\":1,\"fLabelColor\":1,\"fLabelFont\":42,\"fLabelOffset\":0.005,\"fLabelSize\":0.035,\"fTickLength\":0.03,\"fTitleOffset\":1,\"fTitleSize\":0.035,\"fTitleColor\":1,\"fTitleFont\":42,\"fNbins\":1,\"fXmin\":0,\"fXmax\":1,\"fXbins\":[],\"fFirst\":0,\"fLast\":0,\"fBits2\":0,\"fTimeDisplay\":false,\"fTimeFormat\":\"\",\"fLabels\":null,\"fModLabs\":null},\"fBarOffset\":0,\"fBarWidth\":1000,\"fEntries\":18216000,\"fTsumw\":18216000,\"fTsumw2\":18216000,\"fTsumwx\":0,\"fTsumwx2\":149247000,\"fMaximum\":-1111,\"fMinimum\":-1111,\"fNormFactor\":0,\"fContour\":[0,0.445915760869565,0.89183152173913,1.3377472826087,1.78366304347826,2.22957880434783,2.67549456521739,3.12141032608696,3.56732608695652,4.01324184782609,4.45915760869565,4.90507336956522,5.35098913043478,5.79690489130435,6.24282065217391,6.68873641304348,7.13465217391304,7.58056793478261,8.02648369565217,8.47239945652174],\"fSumw2\":[0,0,0,0,0,0,0,0,0,0,0,0,0,0,0,0,0,0,0,0,0,0,0,0,0,0,0,0,0,439256,11240176,17114536,17340595,16979616,11113358,442469,0,0,0,0,0,0,438134,11144044,17011894,17269371,17014452,11149371,443856,0,0,0,0,0,0,438692,11174089,16992982,17254339,17003769,11163019,436308,0,0,0,0,0,0,443035,11220313,17111231,17370192,17088023,11174419,439296,0,0,0,0,0,0,439246,11200743,17055760,17347194,17077953,11174587,435564,0,0,0,0,0,0,445809,11185634,16993291,17344106,17067897,11149900,436816,0,0,0,0,0,0,442843,11182728,17004299,17272154,17046372,11117372,435162,0,0,0,0,0,0,0,0,0,0,0,0,0,0,0,0,0,0,0,0,0,0,0,0,0,0,0,0,0],\"fOption\":\"\",\"fFunctions\":{\"_typename\":\"TList\",\"name\":\"TList\",\"arr\":[{\"_typename\":\"TPaletteAxis\",\"fUniqueID\":0,\"fBits\":50331648,\"fLineColor\":1,\"fLineStyle\":1,\"fLineWidth\":1,\"fFillColor\":1178,\"fFillStyle\":1001,\"fX1\":5.08771929934635,\"fY1\":-0.349065850398866,\"fX2\":5.87719299346346,\"fY2\":3.83972435438753,\"fX1NDC\":0.704999988079071,\"fY1NDC\":0.129999998137355,\"fX2NDC\":0.749999988079071,\"fY2NDC\":0.89999999627471,\"fBorderSize\":4,\"fInit\":1,\"fShadowColor\":1,\"fCornerRadius\":0,\"fOption\":\"br\",\"fName\":\"TPave\",\"fAxis\":{\"_typename\":\"TGaxis\",\"fUniqueID\":0,\"fBits\":50331648,\"fLineColor\":1,\"fLineStyle\":1,\"fLineWidth\":1,\"fX1\":0,\"fY1\":0,\"fX2\":0,\"fY2\":0,\"fTextAngle\":0,\"fTextSize\":0.04,\"fTextAlign\":11,\"fTextColor\":1,\"fTextFont\":42,\"fWmin\":0,\"fWmax\":0,\"fGridLength\":0,\"fTickSize\":0.03,\"fLabelOffset\":0.005,\"fLabelSize\":0.035,\"fTitleOffset\":1,\"fTitleSize\":0.035,\"fNdiv\":0,\"fLabelColor\":1,\"fLabelFont\":42,\"fNModLabs\":0,\"fChopt\":\"\",\"fName\":\"\",\"fTitle\":\"\",\"fTimeFormat\":\"\",\"fFunctionName\":\"\",\"fModLabs\":null},\"fName\":\"palette\"}],\"opt\":[\"br\"]},\"fBufferSize\":0,\"fBuffer\":[],\"fBinStatErrOpt\":0,\"fStatOverflows\":2,\"fScalefactor\":1,\"fTsumwy\":0,\"fTsumwy2\":59188383.1342408,\"fTsumwxy\":3.26849658449646e-12,\"fArray\":[0,0,0,0,0,0,0,0,0,0,0,0,0,0,0,0,0,0,0,0,0,0,0,0,0,0,0,0,0,189462,1298552,1628770,1640377,1622968,1290686,190225,0,0,0,0,0,0,189542,1293470,1624480,1636409,1623890,1292985,190490,0,0,0,0,0,0,189486,1294133,1623236,1635259,1622955,1293345,189296,0,0,0,0,0,0,190361,1297233,1629015,1640970,1626959,1294733,189916,0,0,0,0,0,0,190048,1296199,1626850,1639884,1627049,1295299,188976,0,0,0,0,0,0,191351,1295364,1622985,1639282,1625773,1294358,188888,0,0,0,0,0,0,190823,1294166,1622925,1635270,1624642,1290842,188184,0,0,0,0,0,0,0,0,0,0,0,0,0,0,0,0,0,0,0,0,0,0,0,0,0,0,0,0,0],\"fBinEntries\":[0,0,0,0,0,0,0,0,0,0,0,0,0,0,184000,184000,184000,184000,184000,184000,184000,184000,184000,184000,184000,0,0,184000,184000,184000,184000,184000,184000,184000,184000,184000,184000,184000,0,0,184000,184000,184000,184000,184000,184000,184000,184000,184000,184000,184000,0,0,184000,184000,184000,184000,184000,184000,184000,184000,184000,184000,184000,0,0,184000,184000,184000,184000,184000,184000,184000,184000,184000,184000,184000,0,0,184000,184000,184000,184000,184000,184000,184000,184000,184000,184000,184000,0,0,184000,184000,184000,184000,184000,184000,184000,184000,184000,184000,184000,0,0,184000,184000,184000,184000,184000,184000,184000,184000,184000,184000,184000,0,0,184000,184000,184000,184000,184000,184000,184000,184000,184000,184000,184000,0,0,0,0,0,0,0,0,0,0,0,0,0,0],\"fErrorMode\":0,\"fZmin\":0,\"fZmax\":0,\"fTsumwz\":54998361,\"fTsumwz2\":522306265,\"fBinSumw2\":[0,0,0,0,0,0,0,0,0,0,0,0,0,0,184000,184000,184000,184000,184000,184000,184000,184000,184000,184000,184000,0,0,184000,184000,184000,184000,184000,184000,184000,184000,184000,184000,184000,0,0,184000,184000,184000,184000,184000,184000,184000,184000,184000,184000,184000,0,0,184000,184000,184000,184000,184000,184000,184000,184000,184000,184000,184000,0,0,184000,184000,184000,184000,184000,184000,184000,184000,184000,184000,184000,0,0,184000,184000,184000,184000,184000,184000,184000,184000,184000,184000,184000,0,0,184000,184000,184000,184000,184000,184000,184000,184000,184000,184000,184000,0,0,184000,184000,184000,184000,184000,184000,184000,184000,184000,184000,184000,0,0,184000,184000,184000,184000,184000,184000,184000,184000,184000,184000,184000,0,0,0,0,0,0,0,0,0,0,0,0,0,0]},{\"_typename\":\"TLatex\",\"fUniqueID\":0,\"fBits\":50348040,\"fName\":\"\",\"fTitle\":\"dyll, PU200, L1Track EMU, p_{T}^{tk} > 2 GeV\",\"fTextAngle\":0,\"fTextSize\":0.03,\"fTextAlign\":11,\"fTextColor\":1,\"fTextFont\":62,\"fX\":0.15,\"fY\":0.85,\"fLineColor\":1,\"fLineStyle\":1,\"fLineWidth\":2,\"fLimitFactorSize\":3,\"fOriginSize\":0.04},{\"_typename\":\"TLatex\",\"fUniqueID\":0,\"fBits\":50331656,\"fName\":\"\",\"fTitle\":\"\",\"fTextAngle\":0,\"fTextSize\":0.03,\"fTextAlign\":11,\"fTextColor\":1,\"fTextFont\":62,\"fX\":0,\"fY\":0,\"fLineColor\":1,\"fLineStyle\":1,\"fLineWidth\":2,\"fLimitFactorSize\":3,\"fOriginSize\":0.04}],\"opt\":[\"\",\"COLZ\",\"same\",\"same\"]},\"fExecs\":null,\"fName\":\"c_0e5fea\",\"fTitle\":\"c_0e5fea\",\"fNumPaletteColor\":0,\"fNextPaletteColor\":0,\"fDISPLAY\":\"$DISPLAY\",\"fDoubleBuffer\":0,\"fRetained\":true,\"fXsizeUser\":0,\"fYsizeUser\":0,\"fXsizeReal\":20,\"fYsizeReal\":15,\"fWindowTopX\":0,\"fWindowTopY\":0,\"fWindowWidth\":0,\"fWindowHeight\":0,\"fCw\":796,\"fCh\":572,\"fCatt\":{\"_typename\":\"TAttCanvas\",\"fXBetween\":2,\"fYBetween\":2,\"fTitleFromTop\":1.2,\"fXdate\":0.2,\"fYdate\":0.3,\"fAdate\":1},\"kMoveOpaque\":true,\"kResizeOpaque\":true,\"fHighLightColor\":2,\"fBatch\":true,\"kShowEventStatus\":false,\"kAutoExec\":true,\"kMenuBar\":true});\n",
       "       Core.draw(\"root_plot_46\", obj, \"\");\n",
       "     }\n",
       " );\n",
       "</script>\n"
      ],
      "text/plain": [
       "<IPython.core.display.HTML object>"
      ]
     },
     "metadata": {},
     "output_type": "display_data"
    }
   ],
   "source": [
    "hsets, labels, text = hplot.get_histo(histos.CorrOccupancyHistos, sample, 'PU200', ['L1TrkEmu'], ['Pt2'], None, debug=False)\n",
    "text = '{}, {}'.format(sample, text)\n",
    "\n",
    "res=np.zeros(quantiles.shape)\n",
    "n = hsets[0].h_eventMaxOcc.GetQuantiles(quantiles.shape[0], res, quantiles)\n",
    "for id,quantile in enumerate(quantiles):\n",
    "    print 'quantile {}% = {}'.format(quantile*100, res[id])\n",
    "\n",
    "\n",
    "draw([his.h_eventMaxOcc for his in hsets], labels, text=text, min_x=0., max_x=10, logy=False, options='hist', v_lines=res.tolist())\n",
    "draw([his.h_averageOccupancy for his in hsets], labels, text=text, logy=False, options='COLZ')\n"
   ]
  },
  {
   "cell_type": "code",
   "execution_count": null,
   "metadata": {},
   "outputs": [],
   "source": []
  }
 ],
 "metadata": {
  "kernelspec": {
   "display_name": "HGCTPGPerformance",
   "language": "python",
   "name": "hgctpgperformance"
  },
  "language_info": {
   "codemirror_mode": {
    "name": "ipython",
    "version": 2
   },
   "file_extension": ".py",
   "mimetype": "text/x-python",
   "name": "python",
   "nbconvert_exporter": "python",
   "pygments_lexer": "ipython2",
   "version": "2.7.16"
  },
  "toc": {
   "base_numbering": 1,
   "nav_menu": {},
   "number_sections": true,
   "sideBar": true,
   "skip_h1_title": false,
   "title_cell": "Table of Contents",
   "title_sidebar": "Contents",
   "toc_cell": false,
   "toc_position": {
    "height": "calc(100% - 180px)",
    "left": "10px",
    "top": "150px",
    "width": "175.8px"
   },
   "toc_section_display": true,
   "toc_window_display": true
  }
 },
 "nbformat": 4,
 "nbformat_minor": 2
}
