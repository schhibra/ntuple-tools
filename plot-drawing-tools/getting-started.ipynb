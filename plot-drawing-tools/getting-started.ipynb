{
 "cells": [
  {
   "cell_type": "markdown",
   "metadata": {},
   "source": [
    "# Getting started\n"
   ]
  },
  {
   "cell_type": "code",
   "execution_count": 9,
   "metadata": {},
   "outputs": [],
   "source": [
    "import sys\n",
    "sys.path.insert(0, '..')\n",
    "# sys.path.insert(1, '../python/')\n",
    "sys.path.insert(1, 'python/')\n",
    "\n",
    "import ROOT\n",
    "import root_numpy as rnp\n",
    "# import python.l1THistos as histos\n",
    "import math\n",
    "import uuid\n",
    "import pandas as pd\n",
    "\n",
    "from drawingTools import *\n",
    "\n",
    "# ROOT.enableJSVis()\n",
    "ROOT.enableJSVis()\n",
    "\n",
    "#from drawingTools import *\n",
    "\n",
    "normalized_histos = list()"
   ]
  },
  {
   "cell_type": "code",
   "execution_count": 10,
   "metadata": {},
   "outputs": [],
   "source": [
    "# %load drawingTools.py"
   ]
  },
  {
   "cell_type": "markdown",
   "metadata": {},
   "source": [
    "## Histo classes: the basic functionality\n",
    "\n",
    "All classes inheriting from `BaseHistos` are capable of retrieveing the histograms from a root file so that you can access them as members of the class\n",
    "\n"
   ]
  },
  {
   "cell_type": "code",
   "execution_count": 15,
   "metadata": {},
   "outputs": [
    {
     "data": {
      "text/plain": [
       "['__class__',\n",
       " '__delattr__',\n",
       " '__dict__',\n",
       " '__dir__',\n",
       " '__doc__',\n",
       " '__eq__',\n",
       " '__format__',\n",
       " '__ge__',\n",
       " '__getattribute__',\n",
       " '__gt__',\n",
       " '__hash__',\n",
       " '__init__',\n",
       " '__init_subclass__',\n",
       " '__le__',\n",
       " '__lt__',\n",
       " '__module__',\n",
       " '__ne__',\n",
       " '__new__',\n",
       " '__reduce__',\n",
       " '__reduce_ex__',\n",
       " '__repr__',\n",
       " '__setattr__',\n",
       " '__sizeof__',\n",
       " '__str__',\n",
       " '__subclasshook__',\n",
       " '__weakref__',\n",
       " 'fill',\n",
       " 'h_dzRes',\n",
       " 'h_etaRes',\n",
       " 'h_exetaRes',\n",
       " 'h_exphiRes',\n",
       " 'h_phiRes',\n",
       " 'h_ptRes',\n",
       " 'h_ptResVpt',\n",
       " 'h_ptResVpt_graph',\n",
       " 'h_ptResp',\n",
       " 'h_ptRespVeta',\n",
       " 'h_ptRespVeta_graph',\n",
       " 'h_ptRespVpt',\n",
       " 'h_ptRespVpt_graph',\n",
       " 'name_',\n",
       " 'write']"
      ]
     },
     "execution_count": 15,
     "metadata": {},
     "output_type": "execute_result"
    }
   ],
   "source": [
    "import python.l1THistos as histos\n",
    "\n",
    "\n",
    "root_file = ROOT.TFile('/Users/cerminar/Workspace/hgcal-analysis/py3/ntuple-tools/plots1/histos_doubleele_flat1to100_PU200_eg_v150.69A.root')\n",
    "\n",
    "# retrieve a set of plots given the name\n",
    "\n",
    "histo_name = 'PFNFtkEmEB_all_GEN'\n",
    "\n",
    "histo_set = histos.EGResoHistos(histo_name, root_file)\n",
    "\n",
    "dir(histo_set)\n",
    "\n"
   ]
  },
  {
   "cell_type": "markdown",
   "metadata": {},
   "source": [
    "you can draw one of the histograms using the following code.\n",
    "\n",
    "**NOTE**: in `ROOTJs` drawing only happens when you draw the canvas!"
   ]
  },
  {
   "cell_type": "code",
   "execution_count": 17,
   "metadata": {},
   "outputs": [
    {
     "data": {
      "text/html": [
       "\n",
       "\n",
       "<div id=\"root_plot_1630406499853\"\n",
       "     style=\"width: 696px; height: 472px\">\n",
       "</div>\n",
       "<script>\n",
       "\n",
       "function display_root_plot_1630406499853(Core) {\n",
       "   let obj = Core.parse({\"_typename\":\"TCanvas\",\"fUniqueID\":0,\"fBits\":3342344,\"fLineColor\":1,\"fLineStyle\":1,\"fLineWidth\":1,\"fFillColor\":0,\"fFillStyle\":1001,\"fLeftMargin\":0.13,\"fRightMargin\":0.13,\"fBottomMargin\":0.13,\"fTopMargin\":0.1,\"fXfile\":2,\"fYfile\":2,\"fAfile\":1,\"fXstat\":0.99,\"fYstat\":0.99,\"fAstat\":2,\"fFrameFillColor\":0,\"fFrameLineColor\":1,\"fFrameFillStyle\":1001,\"fFrameLineStyle\":1,\"fFrameLineWidth\":1,\"fFrameBorderSize\":1,\"fFrameBorderMode\":0,\"fX1\":-0.135135133393582,\"fY1\":-1057.74138322733,\"fX2\":0.135135133393582,\"fY2\":7078.73091202414,\"fXtoAbsPixelk\":348.00005,\"fXtoPixelk\":348.00005,\"fXtoPixel\":2575.20003318787,\"fYtoAbsPixelk\":410.640050879169,\"fYtoPixelk\":410.640050879169,\"fYtoPixel\":-0.0580103984715175,\"fUtoAbsPixelk\":5e-5,\"fUtoPixelk\":5e-5,\"fUtoPixel\":696,\"fVtoAbsPixelk\":472.00005,\"fVtoPixelk\":472,\"fVtoPixel\":-472,\"fAbsPixeltoXk\":-0.135135133393582,\"fPixeltoXk\":-0.135135133393582,\"fPixeltoX\":3.88319348832133e-4,\"fAbsPixeltoYk\":7078.73091202414,\"fPixeltoYk\":-1057.74138322733,\"fPixeltoY\":-17.238288761126,\"fXlowNDC\":0,\"fYlowNDC\":0,\"fXUpNDC\":1,\"fYUpNDC\":1,\"fWNDC\":1,\"fHNDC\":1,\"fAbsXlowNDC\":0,\"fAbsYlowNDC\":0,\"fAbsWNDC\":1,\"fAbsHNDC\":1,\"fUxmin\":-0.1,\"fUymin\":0,\"fUxmax\":0.1,\"fUymax\":6265.08365218827,\"fTheta\":30,\"fPhi\":30,\"fAspectRatio\":0,\"fNumber\":0,\"fTickx\":0,\"fTicky\":0,\"fLogx\":0,\"fLogy\":0,\"fLogz\":0,\"fPadPaint\":0,\"fCrosshair\":0,\"fCrosshairPos\":0,\"fBorderSize\":2,\"fBorderMode\":0,\"fModified\":false,\"fGridx\":false,\"fGridy\":false,\"fAbsCoord\":false,\"fEditable\":true,\"fFixedAspectRatio\":false,\"fPrimitives\":{\"_typename\":\"TList\",\"name\":\"TList\",\"arr\":[{\"_typename\":\"TFrame\",\"fUniqueID\":0,\"fBits\":8,\"fLineColor\":1,\"fLineStyle\":1,\"fLineWidth\":1,\"fFillColor\":0,\"fFillStyle\":1001,\"fX1\":-0.1,\"fY1\":0,\"fX2\":0.1,\"fY2\":6265.08365218827,\"fBorderSize\":1,\"fBorderMode\":0},{\"_typename\":\"TH1F\",\"fUniqueID\":0,\"fBits\":8,\"fName\":\"PFNFtkEmEB_all_GEN_etaRes\",\"fTitle\":\"EG eta reso\",\"fLineColor\":602,\"fLineStyle\":1,\"fLineWidth\":1,\"fFillColor\":0,\"fFillStyle\":1001,\"fMarkerColor\":1,\"fMarkerStyle\":1,\"fMarkerSize\":1,\"fNcells\":102,\"fXaxis\":{\"_typename\":\"TAxis\",\"fUniqueID\":0,\"fBits\":0,\"fName\":\"xaxis\",\"fTitle\":\" #eta^{L1}-#eta^{GEN}\",\"fNdivisions\":510,\"fAxisColor\":1,\"fLabelColor\":1,\"fLabelFont\":42,\"fLabelOffset\":0.005,\"fLabelSize\":0.035,\"fTickLength\":0.03,\"fTitleOffset\":1,\"fTitleSize\":0.035,\"fTitleColor\":1,\"fTitleFont\":42,\"fNbins\":100,\"fXmin\":-0.1,\"fXmax\":0.1,\"fXbins\":[],\"fFirst\":0,\"fLast\":0,\"fBits2\":0,\"fTimeDisplay\":false,\"fTimeFormat\":\"\",\"fLabels\":null,\"fModLabs\":null},\"fYaxis\":{\"_typename\":\"TAxis\",\"fUniqueID\":0,\"fBits\":0,\"fName\":\"yaxis\",\"fTitle\":\"\",\"fNdivisions\":510,\"fAxisColor\":1,\"fLabelColor\":1,\"fLabelFont\":42,\"fLabelOffset\":0.005,\"fLabelSize\":0.035,\"fTickLength\":0.03,\"fTitleOffset\":0,\"fTitleSize\":0.035,\"fTitleColor\":1,\"fTitleFont\":42,\"fNbins\":1,\"fXmin\":0,\"fXmax\":1,\"fXbins\":[],\"fFirst\":0,\"fLast\":0,\"fBits2\":0,\"fTimeDisplay\":false,\"fTimeFormat\":\"\",\"fLabels\":null,\"fModLabs\":null},\"fZaxis\":{\"_typename\":\"TAxis\",\"fUniqueID\":0,\"fBits\":0,\"fName\":\"zaxis\",\"fTitle\":\"\",\"fNdivisions\":510,\"fAxisColor\":1,\"fLabelColor\":1,\"fLabelFont\":42,\"fLabelOffset\":0.005,\"fLabelSize\":0.035,\"fTickLength\":0.03,\"fTitleOffset\":1,\"fTitleSize\":0.035,\"fTitleColor\":1,\"fTitleFont\":42,\"fNbins\":1,\"fXmin\":0,\"fXmax\":1,\"fXbins\":[],\"fFirst\":0,\"fLast\":0,\"fBits2\":0,\"fTimeDisplay\":false,\"fTimeFormat\":\"\",\"fLabels\":null,\"fModLabs\":null},\"fBarOffset\":0,\"fBarWidth\":1000,\"fEntries\":174258,\"fTsumw\":174069,\"fTsumw2\":174069,\"fTsumwx\":-8.056744963862,\"fTsumwx2\":114.171844428179,\"fMaximum\":-1111,\"fMinimum\":-1111,\"fNormFactor\":0,\"fContour\":[],\"fSumw2\":[97,10,13,18,19,25,36,49,47,65,67,77,89,139,128,159,193,249,258,306,349,415,443,569,648,722,828,851,1025,1113,1293,1515,1710,1877,2104,2403,2650,2787,3143,3528,3745,4014,4311,4573,4924,5171,5403,5613,5746,5867,5839,5890,5808,5775,5544,5240,5117,4980,4633,4443,3996,3757,3393,3154,2823,2654,2338,2120,1924,1725,1525,1379,1168,1020,897,788,725,587,525,438,376,366,291,234,216,181,143,134,110,95,82,60,74,45,46,26,33,21,17,18,9,92],\"fOption\":\"\",\"fFunctions\":{\"_typename\":\"TList\",\"name\":\"TList\",\"arr\":[],\"opt\":[]},\"fBufferSize\":0,\"fBuffer\":[],\"fBinStatErrOpt\":0,\"fStatOverflows\":2,\"fArray\":[97,10,13,18,19,25,36,49,47,65,67,77,89,139,128,159,193,249,258,306,349,415,443,569,648,722,828,851,1025,1113,1293,1515,1710,1877,2104,2403,2650,2787,3143,3528,3745,4014,4311,4573,4924,5171,5403,5613,5746,5867,5839,5890,5808,5775,5544,5240,5117,4980,4633,4443,3996,3757,3393,3154,2823,2654,2338,2120,1924,1725,1525,1379,1168,1020,897,788,725,587,525,438,376,366,291,234,216,181,143,134,110,95,82,60,74,45,46,26,33,21,17,18,9,92]},{\"_typename\":\"TStyle\",\"fUniqueID\":0,\"fBits\":0,\"fName\":\"Modern\",\"fTitle\":\"Modern Style\",\"fLineColor\":1,\"fLineStyle\":1,\"fLineWidth\":1,\"fFillColor\":19,\"fFillStyle\":1001,\"fMarkerColor\":1,\"fMarkerStyle\":1,\"fMarkerSize\":1,\"fTextAngle\":0,\"fTextSize\":0.05,\"fTextAlign\":11,\"fTextColor\":1,\"fTextFont\":62,\"fXaxis\":{\"_typename\":\"TAttAxis\",\"fNdivisions\":510,\"fAxisColor\":1,\"fLabelColor\":1,\"fLabelFont\":42,\"fLabelOffset\":0.005,\"fLabelSize\":0.035,\"fTickLength\":0.03,\"fTitleOffset\":1,\"fTitleSize\":0.035,\"fTitleColor\":1,\"fTitleFont\":42},\"fYaxis\":{\"_typename\":\"TAttAxis\",\"fNdivisions\":510,\"fAxisColor\":1,\"fLabelColor\":1,\"fLabelFont\":42,\"fLabelOffset\":0.005,\"fLabelSize\":0.035,\"fTickLength\":0.03,\"fTitleOffset\":0,\"fTitleSize\":0.035,\"fTitleColor\":1,\"fTitleFont\":42},\"fZaxis\":{\"_typename\":\"TAttAxis\",\"fNdivisions\":510,\"fAxisColor\":1,\"fLabelColor\":1,\"fLabelFont\":42,\"fLabelOffset\":0.005,\"fLabelSize\":0.035,\"fTickLength\":0.03,\"fTitleOffset\":1,\"fTitleSize\":0.035,\"fTitleColor\":1,\"fTitleFont\":42},\"fBarWidth\":1,\"fBarOffset\":0,\"fColorModelPS\":0,\"fDrawBorder\":0,\"fOptLogx\":0,\"fOptLogy\":0,\"fOptLogz\":0,\"fOptDate\":0,\"fOptStat\":0,\"fOptTitle\":0,\"fOptFile\":0,\"fOptFit\":0,\"fShowEventStatus\":0,\"fShowEditor\":0,\"fShowToolBar\":0,\"fNumberContours\":20,\"fAttDate\":{\"_typename\":\"TAttText\",\"fTextAngle\":0,\"fTextSize\":0.025,\"fTextAlign\":11,\"fTextColor\":1,\"fTextFont\":62},\"fDateX\":0.01,\"fDateY\":0.01,\"fEndErrorSize\":2,\"fErrorX\":0.5,\"fFuncColor\":2,\"fFuncStyle\":1,\"fFuncWidth\":2,\"fGridColor\":0,\"fGridStyle\":3,\"fGridWidth\":1,\"fLegendBorderSize\":1,\"fLegendFillColor\":0,\"fLegendFont\":42,\"fLegendTextSize\":0,\"fHatchesLineWidth\":1,\"fHatchesSpacing\":1,\"fFrameFillColor\":0,\"fFrameLineColor\":1,\"fFrameFillStyle\":1001,\"fFrameLineStyle\":1,\"fFrameLineWidth\":1,\"fFrameBorderSize\":1,\"fFrameBorderMode\":0,\"fHistFillColor\":0,\"fHistLineColor\":602,\"fHistFillStyle\":1001,\"fHistLineStyle\":1,\"fHistLineWidth\":1,\"fHistMinimumZero\":false,\"fHistTopMargin\":0.05,\"fCanvasPreferGL\":false,\"fCanvasColor\":0,\"fCanvasBorderSize\":2,\"fCanvasBorderMode\":0,\"fCanvasDefH\":500,\"fCanvasDefW\":700,\"fCanvasDefX\":10,\"fCanvasDefY\":10,\"fPadColor\":0,\"fPadBorderSize\":2,\"fPadBorderMode\":0,\"fPadBottomMargin\":0.13,\"fPadTopMargin\":0.1,\"fPadLeftMargin\":0.13,\"fPadRightMargin\":0.13,\"fPadGridX\":false,\"fPadGridY\":false,\"fPadTickX\":0,\"fPadTickY\":0,\"fPaperSizeX\":20,\"fPaperSizeY\":26,\"fScreenFactor\":1,\"fStatColor\":0,\"fStatTextColor\":1,\"fStatBorderSize\":1,\"fStatFont\":42,\"fStatFontSize\":0,\"fStatStyle\":1001,\"fStatFormat\":\"6.4g\",\"fStatX\":0.98,\"fStatY\":0.935,\"fStatW\":0.2,\"fStatH\":0.16,\"fStripDecimals\":true,\"fTitleAlign\":23,\"fTitleColor\":0,\"fTitleTextColor\":1,\"fTitleBorderSize\":0,\"fTitleFont\":42,\"fTitleFontSize\":0.05,\"fTitleStyle\":0,\"fTitleX\":0.5,\"fTitleY\":0.995,\"fTitleW\":0,\"fTitleH\":0,\"fLegoInnerR\":0.5,\"fLineStyle\":[\"\",\"  \",\" 12 12\",\" 4 8\",\" 12 16 4 16\",\" 20 12 4 12\",\" 20 12 4 12 4 12 4 12\",\" 20 20\",\" 20 12 4 12 4 12\",\" 80 20\",\" 80 40 4 40\",\"  \",\"  \",\"  \",\"  \",\"  \",\"  \",\"  \",\"  \",\"  \",\"  \",\"  \",\"  \",\"  \",\"  \",\"  \",\"  \",\"  \",\"  \",\"  \"],\"fHeaderPS\":\"\",\"fTitlePS\":\"\",\"fFitFormat\":\"5.4g\",\"fPaintTextFormat\":\"g\",\"fLineScalePS\":3,\"fJoinLinePS\":0,\"fCapLinePS\":0,\"fTimeOffset\":788918400,\"fImageScaling\":1}],\"opt\":[\"\",\"\",\"\"]},\"fExecs\":null,\"fName\":\"c1_n4\",\"fTitle\":\"c1_n4\",\"fNumPaletteColor\":0,\"fNextPaletteColor\":0,\"fDISPLAY\":\"$DISPLAY\",\"fDoubleBuffer\":0,\"fRetained\":true,\"fXsizeUser\":0,\"fYsizeUser\":0,\"fXsizeReal\":20,\"fYsizeReal\":14.28571,\"fWindowTopX\":0,\"fWindowTopY\":0,\"fWindowWidth\":0,\"fWindowHeight\":0,\"fCw\":696,\"fCh\":472,\"fCatt\":{\"_typename\":\"TAttCanvas\",\"fXBetween\":2,\"fYBetween\":2,\"fTitleFromTop\":1.2,\"fXdate\":0.2,\"fYdate\":0.3,\"fAdate\":1},\"kMoveOpaque\":true,\"kResizeOpaque\":true,\"fHighLightColor\":2,\"fBatch\":true,\"kShowEventStatus\":false,\"kAutoExec\":true,\"kMenuBar\":true});\n",
       "   Core.settings.HandleKeys = false;\n",
       "   Core.draw(\"root_plot_1630406499853\", obj, \"\");\n",
       "}\n",
       "\n",
       "function script_load_root_plot_1630406499853(src, on_error) {\n",
       "    let script = document.createElement('script');\n",
       "    script.src = src;\n",
       "    script.onload = function() { display_root_plot_1630406499853(JSROOT); };\n",
       "    script.onerror = function() { script.remove(); on_error(); };\n",
       "    document.head.appendChild(script);\n",
       "}\n",
       "\n",
       "if (typeof requirejs !== 'undefined') {\n",
       "\n",
       "    // We are in jupyter notebooks, use require.js which should be configured already\n",
       "    requirejs.config({\n",
       "       paths: { 'JSRootCore' : [ 'scripts/JSRoot.core', 'https://root.cern/js/6.1.1/scripts/JSRoot.core.min', 'https://jsroot.gsi.de/6.1.1/scripts/JSRoot.core.min' ] }\n",
       "    })(['JSRootCore'],  function(Core) {\n",
       "       display_root_plot_1630406499853(Core);\n",
       "    });\n",
       "\n",
       "} else if (typeof JSROOT !== 'undefined') {\n",
       "\n",
       "   // JSROOT already loaded, just use it\n",
       "   display_root_plot_1630406499853(JSROOT);\n",
       "\n",
       "} else {\n",
       "\n",
       "    // We are in jupyterlab without require.js, directly loading jsroot\n",
       "    // Jupyterlab might be installed in a different base_url so we need to know it.\n",
       "    try {\n",
       "        var base_url = JSON.parse(document.getElementById('jupyter-config-data').innerHTML).baseUrl;\n",
       "    } catch(_) {\n",
       "        var base_url = '/';\n",
       "    }\n",
       "\n",
       "    // Try loading a local version of requirejs and fallback to cdn if not possible.\n",
       "    script_load_root_plot_1630406499853(base_url + 'static/scripts/JSRoot.core.js', function(){\n",
       "        console.error('Fail to load JSROOT locally, please check your jupyter_notebook_config.py file');\n",
       "        script_load_root_plot_1630406499853('https://root.cern/js/6.1.1/scripts/JSRoot.core.min.js', function(){\n",
       "            document.getElementById(\"root_plot_1630406499853\").innerHTML = \"Failed to load JSROOT\";\n",
       "        });\n",
       "    });\n",
       "}\n",
       "\n",
       "</script>\n"
      ],
      "text/plain": [
       "<IPython.core.display.HTML object>"
      ]
     },
     "metadata": {},
     "output_type": "display_data"
    }
   ],
   "source": [
    "c = ROOT.TCanvas()\n",
    "histo_set.h_etaRes.Draw()\n",
    "c.Draw()\n"
   ]
  },
  {
   "cell_type": "markdown",
   "metadata": {},
   "source": [
    "Another example: the efficiencies!\n",
    "Also the class used to create the efficiency plots works along the same principle. \n",
    "\n",
    "It has 4 important members:\n",
    "   * `h_den`: the collection of histos for the GEN level distribution of all the selected GEN particle\n",
    "   * `h_num`: the collection of histos for the GEN level distribution for the selcted GEN particles actually matching the object of interest \n",
    "   * `h_eff`: the GEN matching efficiency plot obtained dividing the corresponding plots of `h_num` and `h_den` collections\n",
    "   * `h_ton`: the turn-on plot for a given selection (factorizing out the GEN matching efficiency)\n",
    "    "
   ]
  },
  {
   "cell_type": "code",
   "execution_count": 20,
   "metadata": {},
   "outputs": [
    {
     "data": {
      "text/plain": [
       "['__class__',\n",
       " '__delattr__',\n",
       " '__dict__',\n",
       " '__dir__',\n",
       " '__doc__',\n",
       " '__eq__',\n",
       " '__format__',\n",
       " '__ge__',\n",
       " '__getattribute__',\n",
       " '__gt__',\n",
       " '__hash__',\n",
       " '__init__',\n",
       " '__init_subclass__',\n",
       " '__le__',\n",
       " '__lt__',\n",
       " '__module__',\n",
       " '__ne__',\n",
       " '__new__',\n",
       " '__reduce__',\n",
       " '__reduce_ex__',\n",
       " '__repr__',\n",
       " '__setattr__',\n",
       " '__sizeof__',\n",
       " '__str__',\n",
       " '__subclasshook__',\n",
       " '__weakref__',\n",
       " 'h_abseta',\n",
       " 'h_energy',\n",
       " 'h_eta',\n",
       " 'h_fBrem',\n",
       " 'h_pt',\n",
       " 'h_reachedEE']"
      ]
     },
     "execution_count": 20,
     "metadata": {},
     "output_type": "execute_result"
    }
   ],
   "source": [
    "histo_eff = histos.HistoSetEff(histo_name, root_file)\n",
    "\n",
    "dir(histo_eff)\n",
    "\n",
    "dir(histo_eff.h_eff)\n"
   ]
  },
  {
   "cell_type": "code",
   "execution_count": 21,
   "metadata": {},
   "outputs": [
    {
     "data": {
      "text/html": [
       "\n",
       "\n",
       "<div id=\"root_plot_1630409921126\"\n",
       "     style=\"width: 696px; height: 472px\">\n",
       "</div>\n",
       "<script>\n",
       "\n",
       "function display_root_plot_1630409921126(Core) {\n",
       "   let obj = Core.parse({\"_typename\":\"TCanvas\",\"fUniqueID\":0,\"fBits\":3342344,\"fLineColor\":1,\"fLineStyle\":1,\"fLineWidth\":1,\"fFillColor\":0,\"fFillStyle\":1001,\"fLeftMargin\":0.13,\"fRightMargin\":0.13,\"fBottomMargin\":0.13,\"fTopMargin\":0.1,\"fXfile\":2,\"fYfile\":2,\"fAfile\":1,\"fXstat\":0.99,\"fYstat\":0.99,\"fAstat\":2,\"fFrameFillColor\":0,\"fFrameLineColor\":1,\"fFrameFillStyle\":1001,\"fFrameLineStyle\":1,\"fFrameLineWidth\":1,\"fFrameBorderSize\":1,\"fFrameBorderMode\":0,\"fX1\":-4.86486480216896,\"fY1\":-0.181926000836933,\"fX2\":4.86486480216897,\"fY2\":1.21750479488288,\"fXtoAbsPixelk\":348.00005,\"fXtoPixelk\":348.00005,\"fXtoPixel\":71.5333342552185,\"fYtoAbsPixelk\":410.640050879169,\"fYtoPixelk\":410.640050879169,\"fYtoPixel\":-337.279986579987,\"fUtoAbsPixelk\":5e-5,\"fUtoPixelk\":5e-5,\"fUtoPixel\":696,\"fVtoAbsPixelk\":472.00005,\"fVtoPixelk\":472,\"fVtoPixel\":-472,\"fAbsPixeltoXk\":-4.86486480216896,\"fPixeltoXk\":-4.86486480216896,\"fPixeltoX\":0.0139794965579568,\"fAbsPixeltoYk\":1.21750479488288,\"fPixeltoYk\":-0.181926000836933,\"fPixeltoY\":-0.00296489575364368,\"fXlowNDC\":0,\"fYlowNDC\":0,\"fXUpNDC\":1,\"fYUpNDC\":1,\"fWNDC\":1,\"fHNDC\":1,\"fAbsXlowNDC\":0,\"fAbsYlowNDC\":0,\"fAbsWNDC\":1,\"fAbsHNDC\":1,\"fUxmin\":-3.6,\"fUymin\":0,\"fUxmax\":3.6,\"fUymax\":1.07756171009761,\"fTheta\":30,\"fPhi\":30,\"fAspectRatio\":0,\"fNumber\":0,\"fTickx\":0,\"fTicky\":0,\"fLogx\":0,\"fLogy\":0,\"fLogz\":0,\"fPadPaint\":0,\"fCrosshair\":0,\"fCrosshairPos\":0,\"fBorderSize\":2,\"fBorderMode\":0,\"fModified\":false,\"fGridx\":false,\"fGridy\":false,\"fAbsCoord\":false,\"fEditable\":true,\"fFixedAspectRatio\":false,\"fPrimitives\":{\"_typename\":\"TList\",\"name\":\"TList\",\"arr\":[{\"_typename\":\"TFrame\",\"fUniqueID\":0,\"fBits\":8,\"fLineColor\":1,\"fLineStyle\":1,\"fLineWidth\":1,\"fFillColor\":0,\"fFillStyle\":1001,\"fX1\":-3.6,\"fY1\":0,\"fX2\":3.6,\"fY2\":1.07756171009761,\"fBorderSize\":1,\"fBorderMode\":0},{\"_typename\":\"TEfficiency\",\"fUniqueID\":0,\"fBits\":8,\"fName\":\"h_effDen_PFNFtkEmEB_all_GEN_eta_clone\",\"fTitle\":\"\",\"fLineColor\":1,\"fLineStyle\":1,\"fLineWidth\":1,\"fFillColor\":19,\"fFillStyle\":1001,\"fMarkerColor\":1,\"fMarkerStyle\":1,\"fMarkerSize\":1,\"fBeta_alpha\":1,\"fBeta_beta\":1,\"fBeta_bin_params\":[],\"fConfLevel\":0.682689492137,\"fFunctions\":{\"_typename\":\"TList\",\"name\":\"TList\",\"arr\":[],\"opt\":[]},\"fPassedHistogram\":{\"_typename\":\"TH1F\",\"fUniqueID\":0,\"fBits\":8,\"fName\":\"h_effDen_PFNFtkEmEB_all_GEN_eta_clone_passed\",\"fTitle\":\"Gen Part eta\",\"fLineColor\":602,\"fLineStyle\":1,\"fLineWidth\":1,\"fFillColor\":0,\"fFillStyle\":1001,\"fMarkerColor\":1,\"fMarkerStyle\":1,\"fMarkerSize\":1,\"fNcells\":52,\"fXaxis\":{\"_typename\":\"TAxis\",\"fUniqueID\":0,\"fBits\":0,\"fName\":\"xaxis\",\"fTitle\":\" #eta^{GEN}\",\"fNdivisions\":510,\"fAxisColor\":1,\"fLabelColor\":1,\"fLabelFont\":42,\"fLabelOffset\":0.005,\"fLabelSize\":0.035,\"fTickLength\":0.03,\"fTitleOffset\":1,\"fTitleSize\":0.035,\"fTitleColor\":1,\"fTitleFont\":42,\"fNbins\":50,\"fXmin\":-3,\"fXmax\":3,\"fXbins\":[],\"fFirst\":0,\"fLast\":0,\"fBits2\":0,\"fTimeDisplay\":false,\"fTimeFormat\":\"\",\"fLabels\":null,\"fModLabs\":null},\"fYaxis\":{\"_typename\":\"TAxis\",\"fUniqueID\":0,\"fBits\":0,\"fName\":\"yaxis\",\"fTitle\":\"\",\"fNdivisions\":510,\"fAxisColor\":1,\"fLabelColor\":1,\"fLabelFont\":42,\"fLabelOffset\":0.005,\"fLabelSize\":0.035,\"fTickLength\":0.03,\"fTitleOffset\":0,\"fTitleSize\":0.035,\"fTitleColor\":1,\"fTitleFont\":42,\"fNbins\":1,\"fXmin\":0,\"fXmax\":1,\"fXbins\":[],\"fFirst\":0,\"fLast\":0,\"fBits2\":0,\"fTimeDisplay\":false,\"fTimeFormat\":\"\",\"fLabels\":null,\"fModLabs\":null},\"fZaxis\":{\"_typename\":\"TAxis\",\"fUniqueID\":0,\"fBits\":0,\"fName\":\"zaxis\",\"fTitle\":\"\",\"fNdivisions\":510,\"fAxisColor\":1,\"fLabelColor\":1,\"fLabelFont\":42,\"fLabelOffset\":0.005,\"fLabelSize\":0.035,\"fTickLength\":0.03,\"fTitleOffset\":1,\"fTitleSize\":0.035,\"fTitleColor\":1,\"fTitleFont\":42,\"fNbins\":1,\"fXmin\":0,\"fXmax\":1,\"fXbins\":[],\"fFirst\":0,\"fLast\":0,\"fBits2\":0,\"fTimeDisplay\":false,\"fTimeFormat\":\"\",\"fLabels\":null,\"fModLabs\":null},\"fBarOffset\":0,\"fBarWidth\":1000,\"fEntries\":174258,\"fTsumw\":174258,\"fTsumw2\":174258,\"fTsumwx\":-110.416008224391,\"fTsumwx2\":130995.043833563,\"fMaximum\":-1111,\"fMinimum\":-1111,\"fNormFactor\":0,\"fContour\":[],\"fSumw2\":[0,0,0,0,0,0,0,0,0,0,0,0,3,2854,7316,7474,7328,7139,6935,6864,6716,6258,6207,7296,7393,7390,7405,7393,7300,6226,6221,6681,6862,6954,7131,7310,7479,7270,2849,4,0,0,0,0,0,0,0,0,0,0,0,0],\"fOption\":\"\",\"fFunctions\":{\"_typename\":\"TList\",\"name\":\"TList\",\"arr\":[],\"opt\":[]},\"fBufferSize\":0,\"fBuffer\":[],\"fBinStatErrOpt\":0,\"fStatOverflows\":2,\"fArray\":[0,0,0,0,0,0,0,0,0,0,0,0,3,2854,7316,7474,7328,7139,6935,6864,6716,6258,6207,7296,7393,7390,7405,7393,7300,6226,6221,6681,6862,6954,7131,7310,7479,7270,2849,4,0,0,0,0,0,0,0,0,0,0,0,0]},\"fStatisticOption\":0,\"fTotalHistogram\":{\"_typename\":\"TH1F\",\"fUniqueID\":0,\"fBits\":8,\"fName\":\"h_effDen_PFNFtkEmEB_all_GEN_eta_clone_total\",\"fTitle\":\"Gen Part eta\",\"fLineColor\":602,\"fLineStyle\":1,\"fLineWidth\":1,\"fFillColor\":0,\"fFillStyle\":1001,\"fMarkerColor\":1,\"fMarkerStyle\":1,\"fMarkerSize\":1,\"fNcells\":52,\"fXaxis\":{\"_typename\":\"TAxis\",\"fUniqueID\":0,\"fBits\":0,\"fName\":\"xaxis\",\"fTitle\":\" #eta^{GEN}\",\"fNdivisions\":510,\"fAxisColor\":1,\"fLabelColor\":1,\"fLabelFont\":42,\"fLabelOffset\":0.005,\"fLabelSize\":0.035,\"fTickLength\":0.03,\"fTitleOffset\":1,\"fTitleSize\":0.035,\"fTitleColor\":1,\"fTitleFont\":42,\"fNbins\":50,\"fXmin\":-3,\"fXmax\":3,\"fXbins\":[],\"fFirst\":0,\"fLast\":0,\"fBits2\":0,\"fTimeDisplay\":false,\"fTimeFormat\":\"\",\"fLabels\":null,\"fModLabs\":null},\"fYaxis\":{\"_typename\":\"TAxis\",\"fUniqueID\":0,\"fBits\":0,\"fName\":\"yaxis\",\"fTitle\":\"\",\"fNdivisions\":510,\"fAxisColor\":1,\"fLabelColor\":1,\"fLabelFont\":42,\"fLabelOffset\":0.005,\"fLabelSize\":0.035,\"fTickLength\":0.03,\"fTitleOffset\":0,\"fTitleSize\":0.035,\"fTitleColor\":1,\"fTitleFont\":42,\"fNbins\":1,\"fXmin\":0,\"fXmax\":1,\"fXbins\":[],\"fFirst\":0,\"fLast\":0,\"fBits2\":0,\"fTimeDisplay\":false,\"fTimeFormat\":\"\",\"fLabels\":null,\"fModLabs\":null},\"fZaxis\":{\"_typename\":\"TAxis\",\"fUniqueID\":0,\"fBits\":0,\"fName\":\"zaxis\",\"fTitle\":\"\",\"fNdivisions\":510,\"fAxisColor\":1,\"fLabelColor\":1,\"fLabelFont\":42,\"fLabelOffset\":0.005,\"fLabelSize\":0.035,\"fTickLength\":0.03,\"fTitleOffset\":1,\"fTitleSize\":0.035,\"fTitleColor\":1,\"fTitleFont\":42,\"fNbins\":1,\"fXmin\":0,\"fXmax\":1,\"fXbins\":[],\"fFirst\":0,\"fLast\":0,\"fBits2\":0,\"fTimeDisplay\":false,\"fTimeFormat\":\"\",\"fLabels\":null,\"fModLabs\":null},\"fBarOffset\":0,\"fBarWidth\":1000,\"fEntries\":396000,\"fTsumw\":383221,\"fTsumw2\":383221,\"fTsumwx\":-3,\"fTsumwx2\":1153251.08785043,\"fMaximum\":-1111,\"fMinimum\":-1111,\"fNormFactor\":0,\"fContour\":[],\"fSumw2\":[6389,7763,7657,7631,7802,7651,7700,7714,7663,7860,7575,7723,7459,7675,7561,7780,7679,7641,7600,7703,7810,7508,7660,7606,7560,7630,7630,7560,7606,7660,7508,7810,7703,7600,7641,7679,7780,7561,7675,7459,7723,7575,7860,7663,7714,7700,7651,7802,7631,7657,7762,6390],\"fOption\":\"\",\"fFunctions\":{\"_typename\":\"TList\",\"name\":\"TList\",\"arr\":[],\"opt\":[]},\"fBufferSize\":0,\"fBuffer\":[],\"fBinStatErrOpt\":0,\"fStatOverflows\":2,\"fArray\":[6389,7763,7657,7631,7802,7651,7700,7714,7663,7860,7575,7723,7459,7675,7561,7780,7679,7641,7600,7703,7810,7508,7660,7606,7560,7630,7630,7560,7606,7660,7508,7810,7703,7600,7641,7679,7780,7561,7675,7459,7723,7575,7860,7663,7714,7700,7651,7802,7631,7657,7762,6390]},\"fWeight\":1},{\"_typename\":\"TStyle\",\"fUniqueID\":0,\"fBits\":0,\"fName\":\"Modern\",\"fTitle\":\"Modern Style\",\"fLineColor\":1,\"fLineStyle\":1,\"fLineWidth\":1,\"fFillColor\":19,\"fFillStyle\":1001,\"fMarkerColor\":1,\"fMarkerStyle\":1,\"fMarkerSize\":1,\"fTextAngle\":0,\"fTextSize\":0.05,\"fTextAlign\":11,\"fTextColor\":1,\"fTextFont\":62,\"fXaxis\":{\"_typename\":\"TAttAxis\",\"fNdivisions\":510,\"fAxisColor\":1,\"fLabelColor\":1,\"fLabelFont\":42,\"fLabelOffset\":0.005,\"fLabelSize\":0.035,\"fTickLength\":0.03,\"fTitleOffset\":1,\"fTitleSize\":0.035,\"fTitleColor\":1,\"fTitleFont\":42},\"fYaxis\":{\"_typename\":\"TAttAxis\",\"fNdivisions\":510,\"fAxisColor\":1,\"fLabelColor\":1,\"fLabelFont\":42,\"fLabelOffset\":0.005,\"fLabelSize\":0.035,\"fTickLength\":0.03,\"fTitleOffset\":0,\"fTitleSize\":0.035,\"fTitleColor\":1,\"fTitleFont\":42},\"fZaxis\":{\"_typename\":\"TAttAxis\",\"fNdivisions\":510,\"fAxisColor\":1,\"fLabelColor\":1,\"fLabelFont\":42,\"fLabelOffset\":0.005,\"fLabelSize\":0.035,\"fTickLength\":0.03,\"fTitleOffset\":1,\"fTitleSize\":0.035,\"fTitleColor\":1,\"fTitleFont\":42},\"fBarWidth\":1,\"fBarOffset\":0,\"fColorModelPS\":0,\"fDrawBorder\":0,\"fOptLogx\":0,\"fOptLogy\":0,\"fOptLogz\":0,\"fOptDate\":0,\"fOptStat\":0,\"fOptTitle\":0,\"fOptFile\":0,\"fOptFit\":0,\"fShowEventStatus\":0,\"fShowEditor\":0,\"fShowToolBar\":0,\"fNumberContours\":20,\"fAttDate\":{\"_typename\":\"TAttText\",\"fTextAngle\":0,\"fTextSize\":0.025,\"fTextAlign\":11,\"fTextColor\":1,\"fTextFont\":62},\"fDateX\":0.01,\"fDateY\":0.01,\"fEndErrorSize\":2,\"fErrorX\":0.5,\"fFuncColor\":2,\"fFuncStyle\":1,\"fFuncWidth\":2,\"fGridColor\":0,\"fGridStyle\":3,\"fGridWidth\":1,\"fLegendBorderSize\":1,\"fLegendFillColor\":0,\"fLegendFont\":42,\"fLegendTextSize\":0,\"fHatchesLineWidth\":1,\"fHatchesSpacing\":1,\"fFrameFillColor\":0,\"fFrameLineColor\":1,\"fFrameFillStyle\":1001,\"fFrameLineStyle\":1,\"fFrameLineWidth\":1,\"fFrameBorderSize\":1,\"fFrameBorderMode\":0,\"fHistFillColor\":0,\"fHistLineColor\":602,\"fHistFillStyle\":1001,\"fHistLineStyle\":1,\"fHistLineWidth\":1,\"fHistMinimumZero\":false,\"fHistTopMargin\":0.05,\"fCanvasPreferGL\":false,\"fCanvasColor\":0,\"fCanvasBorderSize\":2,\"fCanvasBorderMode\":0,\"fCanvasDefH\":500,\"fCanvasDefW\":700,\"fCanvasDefX\":10,\"fCanvasDefY\":10,\"fPadColor\":0,\"fPadBorderSize\":2,\"fPadBorderMode\":0,\"fPadBottomMargin\":0.13,\"fPadTopMargin\":0.1,\"fPadLeftMargin\":0.13,\"fPadRightMargin\":0.13,\"fPadGridX\":false,\"fPadGridY\":false,\"fPadTickX\":0,\"fPadTickY\":0,\"fPaperSizeX\":20,\"fPaperSizeY\":26,\"fScreenFactor\":1,\"fStatColor\":0,\"fStatTextColor\":1,\"fStatBorderSize\":1,\"fStatFont\":42,\"fStatFontSize\":0,\"fStatStyle\":1001,\"fStatFormat\":\"6.4g\",\"fStatX\":0.98,\"fStatY\":0.935,\"fStatW\":0.2,\"fStatH\":0.16,\"fStripDecimals\":true,\"fTitleAlign\":23,\"fTitleColor\":0,\"fTitleTextColor\":1,\"fTitleBorderSize\":0,\"fTitleFont\":42,\"fTitleFontSize\":0.05,\"fTitleStyle\":0,\"fTitleX\":0.5,\"fTitleY\":0.995,\"fTitleW\":0,\"fTitleH\":0,\"fLegoInnerR\":0.5,\"fLineStyle\":[\"\",\"  \",\" 12 12\",\" 4 8\",\" 12 16 4 16\",\" 20 12 4 12\",\" 20 12 4 12 4 12 4 12\",\" 20 20\",\" 20 12 4 12 4 12\",\" 80 20\",\" 80 40 4 40\",\"  \",\"  \",\"  \",\"  \",\"  \",\"  \",\"  \",\"  \",\"  \",\"  \",\"  \",\"  \",\"  \",\"  \",\"  \",\"  \",\"  \",\"  \",\"  \"],\"fHeaderPS\":\"\",\"fTitlePS\":\"\",\"fFitFormat\":\"5.4g\",\"fPaintTextFormat\":\"g\",\"fLineScalePS\":3,\"fJoinLinePS\":0,\"fCapLinePS\":0,\"fTimeOffset\":788918400,\"fImageScaling\":1}],\"opt\":[\"\",\"ap\",\"\"]},\"fExecs\":null,\"fName\":\"c1_n3\",\"fTitle\":\"c1_n3\",\"fNumPaletteColor\":0,\"fNextPaletteColor\":0,\"fDISPLAY\":\"$DISPLAY\",\"fDoubleBuffer\":0,\"fRetained\":true,\"fXsizeUser\":0,\"fYsizeUser\":0,\"fXsizeReal\":20,\"fYsizeReal\":14.28571,\"fWindowTopX\":0,\"fWindowTopY\":0,\"fWindowWidth\":0,\"fWindowHeight\":0,\"fCw\":696,\"fCh\":472,\"fCatt\":{\"_typename\":\"TAttCanvas\",\"fXBetween\":2,\"fYBetween\":2,\"fTitleFromTop\":1.2,\"fXdate\":0.2,\"fYdate\":0.3,\"fAdate\":1},\"kMoveOpaque\":true,\"kResizeOpaque\":true,\"fHighLightColor\":2,\"fBatch\":true,\"kShowEventStatus\":false,\"kAutoExec\":true,\"kMenuBar\":true});\n",
       "   Core.settings.HandleKeys = false;\n",
       "   Core.draw(\"root_plot_1630409921126\", obj, \"\");\n",
       "}\n",
       "\n",
       "function script_load_root_plot_1630409921126(src, on_error) {\n",
       "    let script = document.createElement('script');\n",
       "    script.src = src;\n",
       "    script.onload = function() { display_root_plot_1630409921126(JSROOT); };\n",
       "    script.onerror = function() { script.remove(); on_error(); };\n",
       "    document.head.appendChild(script);\n",
       "}\n",
       "\n",
       "if (typeof requirejs !== 'undefined') {\n",
       "\n",
       "    // We are in jupyter notebooks, use require.js which should be configured already\n",
       "    requirejs.config({\n",
       "       paths: { 'JSRootCore' : [ 'scripts/JSRoot.core', 'https://root.cern/js/6.1.1/scripts/JSRoot.core.min', 'https://jsroot.gsi.de/6.1.1/scripts/JSRoot.core.min' ] }\n",
       "    })(['JSRootCore'],  function(Core) {\n",
       "       display_root_plot_1630409921126(Core);\n",
       "    });\n",
       "\n",
       "} else if (typeof JSROOT !== 'undefined') {\n",
       "\n",
       "   // JSROOT already loaded, just use it\n",
       "   display_root_plot_1630409921126(JSROOT);\n",
       "\n",
       "} else {\n",
       "\n",
       "    // We are in jupyterlab without require.js, directly loading jsroot\n",
       "    // Jupyterlab might be installed in a different base_url so we need to know it.\n",
       "    try {\n",
       "        var base_url = JSON.parse(document.getElementById('jupyter-config-data').innerHTML).baseUrl;\n",
       "    } catch(_) {\n",
       "        var base_url = '/';\n",
       "    }\n",
       "\n",
       "    // Try loading a local version of requirejs and fallback to cdn if not possible.\n",
       "    script_load_root_plot_1630409921126(base_url + 'static/scripts/JSRoot.core.js', function(){\n",
       "        console.error('Fail to load JSROOT locally, please check your jupyter_notebook_config.py file');\n",
       "        script_load_root_plot_1630409921126('https://root.cern/js/6.1.1/scripts/JSRoot.core.min.js', function(){\n",
       "            document.getElementById(\"root_plot_1630409921126\").innerHTML = \"Failed to load JSROOT\";\n",
       "        });\n",
       "    });\n",
       "}\n",
       "\n",
       "</script>\n"
      ],
      "text/plain": [
       "<IPython.core.display.HTML object>"
      ]
     },
     "metadata": {},
     "output_type": "display_data"
    }
   ],
   "source": [
    "c = ROOT.TCanvas()\n",
    "histo_eff.h_eff.h_eta.Draw()\n",
    "c.Draw()\n"
   ]
  },
  {
   "cell_type": "markdown",
   "metadata": {},
   "source": [
    "## Histo files: the basic functionality\n",
    "\n",
    "The files are organized in folders representing the class of histograms (names as in `l1THistos.py`) and the actual histograms follow the following naming convention:\n",
    "\n",
    "`<tp-name>_<tp-selection>_<gen-selection>_h_<histoname>`\n",
    "\n",
    "The part up to the `_h_` is actually the name we used to read the HistoClasses in the previous examples.\n",
    "\n",
    "The class `HistoFile` allows to browse the content of the file in a couple of lines.\n",
    "\n"
   ]
  },
  {
   "cell_type": "code",
   "execution_count": 23,
   "metadata": {},
   "outputs": [
    {
     "name": "stdout",
     "output_type": "stream",
     "text": [
      "../plots1/histos_doubleele_flat1to100_PU200_eg_v150.68A.root\n"
     ]
    }
   ],
   "source": [
    "# %load samples.py\n",
    "\n",
    "samples = [\n",
    "    HistoFile('doubleele_flat1to100_PU200_eg', 'PU200', 'v150.68A', 'eg'),\n",
    "]\n",
    "\n",
    "dir(samples[0])\n",
    "\n",
    "print(samples[0].histo_filename)"
   ]
  },
  {
   "cell_type": "markdown",
   "metadata": {},
   "source": [
    "For each Histo Class stored in the file you can print all the strings corresponding to the `<tp-name>`, `<tp-selection>`, `<gen-selection>`"
   ]
  },
  {
   "cell_type": "code",
   "execution_count": 4,
   "metadata": {},
   "outputs": [
    {
     "name": "stdout",
     "output_type": "stream",
     "text": [
      "<HistoFile ../plots1/histos_doubleele_flat1to100_PU200_eg_v150.68A.root, eg>\n",
      "--- HistoClass: \n",
      "['EGHistos', 'EGResoHistos', 'HistoSetEff', 'DecTkHistos', 'DecTkResoHistos']\n",
      "--- TPs: \n",
      "[   'tkEleEB',\n",
      "    'tkEmEE',\n",
      "    'tkEmEB',\n",
      "    'PFNFtkEmEE',\n",
      "    'PFNFtkEleEE',\n",
      "    'tkEleEE',\n",
      "    'PFNFtkEmEB',\n",
      "    'PFNFtkEleEB',\n",
      "    'PFDecTk']\n",
      "--- TP selections:\n",
      "{   'PFDecTk': ['all', 'Pt10', 'Pt20'],\n",
      "    'PFNFtkEleEB': [   'LooseTkIDPt10',\n",
      "                       'Pt10',\n",
      "                       'LooseTkID',\n",
      "                       'all',\n",
      "                       'Pt20',\n",
      "                       'LooseTkIDPt20'],\n",
      "    'PFNFtkEleEE': [   'EGq1Pt20',\n",
      "                       'EGq1',\n",
      "                       'EGq2Pt10',\n",
      "                       'EGq2',\n",
      "                       'EGq1Pt10',\n",
      "                       'EGq2Pt20'],\n",
      "    'PFNFtkEmEB': [   'Pt20',\n",
      "                      'LooseTkIDPt20',\n",
      "                      'LooseTkIDPt10',\n",
      "                      'LooseTkID',\n",
      "                      'all',\n",
      "                      'Pt10'],\n",
      "    'PFNFtkEmEE': [   'EGq2Pt10',\n",
      "                      'EGq1Pt10',\n",
      "                      'EGq1Pt20',\n",
      "                      'EGq1',\n",
      "                      'EGq2Pt20',\n",
      "                      'EGq2'],\n",
      "    'tkEleEB': [   'LooseTkID',\n",
      "                   'all',\n",
      "                   'Pt10',\n",
      "                   'LooseTkIDPt20',\n",
      "                   'Pt20',\n",
      "                   'LooseTkIDPt10'],\n",
      "    'tkEleEE': [   'EGq4Pt10',\n",
      "                   'EGq4Pt20',\n",
      "                   'EGq4Pt30',\n",
      "                   'EGq5Pt10',\n",
      "                   'EGq5',\n",
      "                   'EGq5Pt30',\n",
      "                   'EGq4',\n",
      "                   'EGq5Pt20'],\n",
      "    'tkEmEB': [   'LooseTkIDPt10',\n",
      "                  'Pt10',\n",
      "                  'LooseTkIDPt20',\n",
      "                  'Pt20',\n",
      "                  'LooseTkID',\n",
      "                  'all'],\n",
      "    'tkEmEE': [   'EGq5',\n",
      "                  'EGq4Pt20',\n",
      "                  'EGq5Pt30',\n",
      "                  'EGq4',\n",
      "                  'EGq4Pt10',\n",
      "                  'EGq4Pt30',\n",
      "                  'EGq5Pt20',\n",
      "                  'EGq5Pt10']}\n",
      "--- GEN selections:\n",
      "{   'PFDecTk': ['GENEePt15', 'GENEe', 'GENEeEtaBC', 'GENEePt30'],\n",
      "    'PFNFtkEleEB': ['GENEtaF', 'GENPt15', 'GEN', 'GENPt30'],\n",
      "    'PFNFtkEleEE': ['GENEeEtaBC', 'GENEePt15', 'GENEePt30', 'GENEe'],\n",
      "    'PFNFtkEmEB': ['GEN', 'GENPt30', 'GENPt15', 'GENEtaF'],\n",
      "    'PFNFtkEmEE': ['GENEe', 'GENEeEtaBC', 'GENEePt30', 'GENEePt15'],\n",
      "    'tkEleEB': ['GENPt30', 'GENEtaF', 'GEN', 'GENPt15'],\n",
      "    'tkEleEE': ['GENEePt15', 'GENEePt30', 'GENEe', 'GENEeEtaBC'],\n",
      "    'tkEmEB': ['GENPt30', 'GENPt15', 'GENEtaF', 'GEN'],\n",
      "    'tkEmEE': ['GENEeEtaBC', 'GENEePt15', 'GENEePt30', 'GENEe']}\n"
     ]
    }
   ],
   "source": [
    "# %load python/settings.py\n",
    "\n",
    "for hf in samples:\n",
    "    hf.print_primitives()\n",
    "\n"
   ]
  },
  {
   "cell_type": "markdown",
   "metadata": {},
   "source": [
    "## Labels for drawing\n",
    "\n",
    "In the `ntuple-tools` all *collections*, *selections* and *samples* have a label assigned which can be used during the drawing. You can retrieve all of them via the `EventManager` which stores them in an python `dict`: the `key` is the object `name` and the `label` is in ROOT `TLatex` format. \n"
   ]
  },
  {
   "cell_type": "code",
   "execution_count": 24,
   "metadata": {},
   "outputs": [
    {
     "name": "stdout",
     "output_type": "stream",
     "text": [
      "{'MC': 'MC particles', 'GEN': '', 'TC': 'Trigger Cells', 'TCTrue': 'Trigger Cells True', 'DEF2D': 'dRC2d', 'DEF2DTrue': 'dRC2d True', 'HMvDRTrue': 'HM+dR(layer) True Cl3d', 'DEF': 'dRC3d', 'DEFNC': 'dRC3d NewTh', 'HMvDR': 'HM+dR(layer) Cl3d', 'HMvDREmInt': 'HM+dR(layer) Cl3d EM Int', 'HMvDREmIntMerged': 'HM+dR(layer) Cl3d EM Int Merged', 'HMvDRRebin': 'HM+dR(layer) rebin Cl3d ', 'HMvDRsTC': 'HM+dR(layer) SuperTC Cl3d ', 'HMvDRNC0': 'HM+dR(layer) Cl3d + NewTh0', 'HMvDRNC1': 'HM+dR(layer) Cl3d + NewTh1', 'DEFMerged': 'dRC3d merged', 'DEFCalib': 'dRC3d calib.', 'HMvDRMerged': 'HM+dR(layer) merged', 'HMvDRfixed': 'HM fixed', 'HMvDRcylind10': 'HM Cylinder 10cm', 'HMvDRcylind5': 'HM Cylinder 5cm', 'HMvDRcylind2p5': 'HM Cylinder 2.5cm', 'HMvDRshape': 'HM shape', 'HMvDRshapeDr': 'HM #Delta#rho < 0.015', 'HMvDRshapeDtDu': 'HM #Deltau #Deltat', 'HMvDRCalib': 'HM calib.', 'HMvDRcylind10Calib': 'HM Cylinder 10cm calib.', 'HMvDRcylind5Calib': 'HM Cylinder 5cm calib.', 'HMvDRcylind2p5Calib': 'HM Cylinder 2.5cm calib.', 'HMvDRfixedCalib': 'HM fixed calib.', 'HMvDRshapeCalib': 'HM shape calib.', 'HMvDRshapeDrCalib': 'HM #Delta#rho < 0.015 calib.', 'HMvDRshapeDrCalibNew': 'HM #Delta#rho < 0.015 calib.', 'HMvDRshapeDtDuCalib': 'HM #Deltat#Deltau calib.', 'HMvDRCalibMerged': 'HM calib. merged', 'HMvDRshapeCalibMerged': 'HM shape calib. merged', 'HMvDRcylind2p5CalibMerged': 'HM cyl. 2.5cms calib. merged', 'HMvDRshapeCalib1': 'HM shape calib. dedx', 'HMvDRfixedCalib1': 'HM fixed calib. dedx', 'HMvDRcylind10Calib1': 'HM Cylinder 10cm calib. dedx', 'HMvDRcylind5Calib1': 'HM Cylinder 5cm calib. dedx', 'HMvDRcylind2p5Calib1': 'HM Cylinder 2.5cm calib. dedx', 'TT': 'TT (TC)', 'SimTT': 'TT (sim)', 'HgcrocTT': 'TT (HGCROC)', 'WaferTT': 'TT (Wafer)', 'EG': 'EG', 'EGBRL': 'EG barrel', 'EGALL': 'EG all', 'L1Trk': 'L1Track', 'L1TrkEmu': 'L1Track EMU', 'TkEle': 'TkEle', 'tkEleEE': 'TkEle EE', 'TkIsoEle': 'TkIsoEle', 'TkEG': 'TkEG', 'TkEGshapeCalib': 'TkEGshapecalib', 'TkEGEmu': 'TkEG Emu', 'TkEleBRL': 'TkEle barrel', 'tkEleEB': 'TkEle EB', 'tkEleEllAll': 'TkEle Ell. match all', 'TkEleALL': 'TkEle all', 'EgEE': 'EG EE', 'EgEB': 'EG EB', 'PFEgEE': 'EG EE Corr.', 'PFNFEgEE': 'EG EE Corr. New', 'PFtkEleEE': 'TkEle EE Corr.', 'PFtkEleEB': 'TkEle EB Corr', 'PFNFtkEleEE': 'TkEle EE Corr. New', 'PFNFtkEleEB': 'TkEle EB Corr. New', 'tkEmEE': 'TkEm EE', 'tkEmEB': 'TkEm EB', 'PFtkEmEE': 'TkEm EE Corr.', 'PFtkEmEB': 'TkEm EB Corr', 'PFNFtkEmEE': 'TkEm EE Corr. New', 'PFNFtkEmEB': 'TkEm EB Corr. New', 'PFOutEgEE': 'EG EE Corr.', 'PFOuttkEleEE': 'TkEle EE Corr.', 'PFOuttkEleEB': 'TkEle EB Corr', 'PFOuttkEmEE': 'TkEm EE Corr.', 'PFOuttkEmEB': 'TkEm EB Corr', 'egEEPFin': 'EG EE Input', 'egEBPFin': 'EG EB Input', 'HMvDRPFin': 'HMvDR Input', 'PFDecTk': 'decoded Tk', 'all': '', 'Em': 'EGId', 'Pt10': 'p_{T}^{L1}>=10GeV', 'Pt20': 'p_{T}^{L1}>=20GeV', 'Pt30': 'p_{T}^{L1}>=30GeV', 'Pt15': 'p_{T}^{L1}>=15GeV', 'Pt25': 'p_{T}^{L1}>=25GeV', 'Pt40': 'p_{T}^{L1}>=40GeV', 'Pt5to10': '5 <= p_{T}^{L1} < 10GeV', 'Pt10to20': '10 <= p_{T}^{L1} < 20GeV', 'EtaBC': '1.52 < |#eta^{L1}| <= 2.4', 'EtaBCD': '1.52 < |#eta^{L1}| <= 2.8', 'Ele': 'e^{#pm}', 'Phot': '#gamma', 'Pion': '#pi', 'Ee': '', 'EtaA': '|#eta^{L1}| <= 1.52', 'EtaB': '1.52 < |#eta^{L1}| <= 1.7', 'EtaC': '1.7 < |#eta^{L1}| <= 2.4', 'EtaD': '2.4 < |#eta^{L1}| <= 2.8', 'EtaDE': '2.4 < |#eta^{L1}| <= 3.0', 'EtaE': '|#eta^{L1}| > 2.8', 'EtaAB': '|#eta^{L1}| <= 1.7', 'EtaABC': '|#eta^{L1}| <= 2.4', 'EtaBCDE': '1.52 < |#eta^{L1}|', 'EtaF': '|#eta^{L1}| <= 1.479', '': '', 'GEN11': '', 'BremH': 'f_{BREM}>=0.5', 'BremL': 'f_{BREM}<0.5', 'EGq1': 'hwQual 1', 'EGq2': 'hwQual=2', 'EGq3': 'hwQual=3', 'EGq2or3': 'hwQual=2/3', 'EGq1or3': 'hwQual=1/3', 'EGq4': 'hwQual=4', 'EGq5': 'hwQual=5', 'EGq6': 'hwQual=6', 'St4': '# stubs > 3', 'Pt2': 'p_{T}^{L1}>=2GeV', 'Pt5': 'p_{T}^{L1}>=5GeV', 'PFinBRL': 'Barrel', 'PFinHGC': 'HgCal', 'PFinHGCNoTk': 'HgCalNoTk', 'PFinHF': 'HF', 'TkPt2Chi2': 'p_{T}^{L1} > 2GeV & #Chi^{2}_{norm} < 15', 'TkPt2': 'p_{T}^{L1} > 2GeV', 'TkPt2Chi2Pt5': '(p_{T}^{L1} > 2GeV & #Chi^{2}_{norm} < 15) | p_{T}^{L1} > 5GeV ', 'TkPt2Chi2Pt10': '(p_{T}^{L1} > 2GeV & #Chi^{2}_{norm} < 15) | p_{T}^{L1} > 10GeV ', 'TkPt5': 'p_{T}^{L1} > 5GeV', 'TkPt10': 'p_{T}^{L1} > 10GeV', 'Pt1': 'p_{T}^{L1}>=1GeV', 'LooseTkID': 'LooseTkID', 'Iso0p2': 'Iso0p2', 'Iso0p1': 'Iso0p1', 'Iso0p3': 'Iso0p3', 'EmEtaBC': 'EGId, 1.52 < |#eta^{L1}| <= 2.4', 'EmEtaBCD': 'EGId, 1.52 < |#eta^{L1}| <= 2.8', 'EmPt10': 'EGId, p_{T}^{L1}>=10GeV', 'EmPt20': 'EGId, p_{T}^{L1}>=20GeV', 'EmPt30': 'EGId, p_{T}^{L1}>=30GeV', 'St4Pt10': '# stubs > 3, p_{T}^{L1}>=10GeV', 'St4Pt2': '# stubs > 3, p_{T}^{L1}>=2GeV', 'St4Pt5': '# stubs > 3, p_{T}^{L1}>=5GeV', 'GENEe': '', 'GENEeEtaBC': '1.52 < |#eta^{GEN}| <= 2.4', 'GENEeEtaBCD': '1.52 < |#eta^{GEN}| <= 2.8', 'GENEePt30': 'p_{T}^{GEN}>=30GeV', 'GENEePt15': 'p_{T}^{GEN}>=15GeV', 'GENPt30': 'p_{T}^{GEN}>=30GeV', 'GENPt15': 'p_{T}^{GEN}>=15GeV', 'GENEtaF': '|#eta^{GEN}| <= 1.479', 'GEN11EtaBC': '1.52 < |#eta^{GEN}| <= 2.4', 'GEN11EtaBCD': '1.52 < |#eta^{GEN}| <= 2.8', 'GEN11Pt15': 'p_{T}^{GEN}>=15GeV', 'GEN11EtaBCPt15': '1.52 < |#eta^{GEN}| <= 2.4, p_{T}^{GEN}>=15GeV', 'GEN11EtaBCDPt15': '1.52 < |#eta^{GEN}| <= 2.8, p_{T}^{GEN}>=15GeV', 'GENEtaBC': '1.52 < |#eta^{GEN}| <= 2.4', 'GENEtaBCD': '1.52 < |#eta^{GEN}| <= 2.8', 'GENEtaD': '2.4 < |#eta^{GEN}| <= 2.8', 'GENEeEtaBCBremH': '1.52 < |#eta^{GEN}| <= 2.4, f_{BREM}>=0.5', 'GENEeEtaBCBremL': '1.52 < |#eta^{GEN}| <= 2.4, f_{BREM}<0.5', 'GENEeEtaBCDBremH': '1.52 < |#eta^{GEN}| <= 2.8, f_{BREM}>=0.5', 'GENEeEtaBCDBremL': '1.52 < |#eta^{GEN}| <= 2.8, f_{BREM}<0.5', 'LooseTkIDPt10': 'LooseTkID, p_{T}^{L1}>=10GeV', 'LooseTkIDPt20': 'LooseTkID, p_{T}^{L1}>=20GeV', 'LooseTkIDPt30': 'LooseTkID, p_{T}^{L1}>=30GeV', 'LooseTkIDPt15': 'LooseTkID, p_{T}^{L1}>=15GeV', 'LooseTkIDPt25': 'LooseTkID, p_{T}^{L1}>=25GeV', 'LooseTkIDPt40': 'LooseTkID, p_{T}^{L1}>=40GeV', 'EGq4Pt10': 'hwQual=4, p_{T}^{L1}>=10GeV', 'EGq4Pt20': 'hwQual=4, p_{T}^{L1}>=20GeV', 'EGq4Pt30': 'hwQual=4, p_{T}^{L1}>=30GeV', 'EGq4Pt40': 'hwQual=4, p_{T}^{L1}>=40GeV', 'EGq5Pt10': 'hwQual=5, p_{T}^{L1}>=10GeV', 'EGq5Pt20': 'hwQual=5, p_{T}^{L1}>=20GeV', 'EGq5Pt30': 'hwQual=5, p_{T}^{L1}>=30GeV', 'EGq5Pt40': 'hwQual=5, p_{T}^{L1}>=40GeV', 'EGq4Pt15': 'hwQual=4, p_{T}^{L1}>=15GeV', 'EGq4Pt25': 'hwQual=4, p_{T}^{L1}>=25GeV', 'EGq5Pt15': 'hwQual=5, p_{T}^{L1}>=15GeV', 'EGq5Pt25': 'hwQual=5, p_{T}^{L1}>=25GeV', 'EGq1Pt10': 'hwQual=1, p_{T}^{L1}>=10GeV', 'EGq1Pt20': 'hwQual=1, p_{T}^{L1}>=20GeV', 'EGq1Pt30': 'hwQual=1, p_{T}^{L1}>=30GeV', 'EGq2Pt10': 'hwQual=2, p_{T}^{L1}>=10GeV', 'EGq2Pt20': 'hwQual=2, p_{T}^{L1}>=20GeV', 'EGq2Pt30': 'hwQual=2, p_{T}^{L1}>=30GeV', 'EGq4EtaBC': 'hwQual=4, 1.52 < |#eta^{L1}| <= 2.4', 'EGq4EtaBCD': 'hwQual=4, 1.52 < |#eta^{L1}| <= 2.8', 'EGq5EtaBC': 'hwQual=5, 1.52 < |#eta^{L1}| <= 2.4', 'EGq5EtaBCD': 'hwQual=5, 1.52 < |#eta^{L1}| <= 2.8', 'EGq1EtaBC': 'hwQual=1, 1.52 < |#eta^{L1}| <= 2.4', 'EGq1EtaBCD': 'hwQual=1, 1.52 < |#eta^{L1}| <= 2.8', 'EGq2EtaBC': 'hwQual=2, 1.52 < |#eta^{L1}| <= 2.4', 'EGq2EtaBCD': 'hwQual=2, 1.52 < |#eta^{L1}| <= 2.8', 'EGq3EtaBC': 'hwQual=3, 1.52 < |#eta^{L1}| <= 2.4', 'EGq3EtaBCD': 'hwQual=3, 1.52 < |#eta^{L1}| <= 2.8', 'EGq2or3EtaBC': 'hwQual=2/3, 1.52 < |#eta^{L1}| <= 2.4', 'EGq2or3EtaBCD': 'hwQual=2/3, 1.52 < |#eta^{L1}| <= 2.8', 'EGq1or3EtaBC': 'hwQual=1/3, 1.52 < |#eta^{L1}| <= 2.4', 'EGq1or3EtaBCD': 'hwQual=1/3, 1.52 < |#eta^{L1}| <= 2.8', 'EGq6EtaBC': 'hwQual=6, 1.52 < |#eta^{L1}| <= 2.4', 'EGq6EtaBCD': 'hwQual=6, 1.52 < |#eta^{L1}| <= 2.8', 'PFinHGCPt2': 'HgCal, p_{T}^{L1}>=2GeV', 'PFinHGCPt5': 'HgCal, p_{T}^{L1}>=5GeV', 'PFinHGCPt1': 'HgCal, p_{T}^{L1}>=1GeV', 'PFinHGCNoTkPt2': 'HgCalNoTk, p_{T}^{L1}>=2GeV', 'PFinHGCNoTkPt5': 'HgCalNoTk, p_{T}^{L1}>=5GeV', 'PFinHGCNoTkPt1': 'HgCalNoTk, p_{T}^{L1}>=1GeV', 'PFinHFPt2': 'HF, p_{T}^{L1}>=2GeV', 'PFinHFPt5': 'HF, p_{T}^{L1}>=5GeV', 'PFinHFPt1': 'HF, p_{T}^{L1}>=1GeV', 'PFinHGCEm': 'HgCal, EGId', 'PFinHGCPt2Em': 'HgCal, p_{T}^{L1}>=2GeV, EGId', 'PFinHGCPt5Em': 'HgCal, p_{T}^{L1}>=5GeV, EGId', 'PFinHGCPt1Em': 'HgCal, p_{T}^{L1}>=1GeV, EGId', 'PFinHGCNoTkEm': 'HgCalNoTk, EGId', 'PFinHGCNoTkPt2Em': 'HgCalNoTk, p_{T}^{L1}>=2GeV, EGId', 'PFinHGCNoTkPt5Em': 'HgCalNoTk, p_{T}^{L1}>=5GeV, EGId', 'PFinHGCNoTkPt1Em': 'HgCalNoTk, p_{T}^{L1}>=1GeV, EGId', 'PFinHFEm': 'HF, EGId', 'PFinHFPt2Em': 'HF, p_{T}^{L1}>=2GeV, EGId', 'PFinHFPt5Em': 'HF, p_{T}^{L1}>=5GeV, EGId', 'PFinHFPt1Em': 'HF, p_{T}^{L1}>=1GeV, EGId', 'PFinHGCEGq1': 'HgCal, hwQual=1', 'PFinHGCPt2EGq1': 'HgCal, p_{T}^{L1}>=2GeV, hwQual=1', 'PFinHGCPt5EGq1': 'HgCal, p_{T}^{L1}>=5GeV, hwQual=1', 'PFinHGCPt1EGq1': 'HgCal, p_{T}^{L1}>=1GeV, hwQual=1', 'PFinHGCNoTkEGq1': 'HgCalNoTk, hwQual=1', 'PFinHGCNoTkPt2EGq1': 'HgCalNoTk, p_{T}^{L1}>=2GeV, hwQual=1', 'PFinHGCNoTkPt5EGq1': 'HgCalNoTk, p_{T}^{L1}>=5GeV, hwQual=1', 'PFinHGCNoTkPt1EGq1': 'HgCalNoTk, p_{T}^{L1}>=1GeV, hwQual=1', 'PFinHFEGq1': 'HF, hwQual=1', 'PFinHFPt2EGq1': 'HF, p_{T}^{L1}>=2GeV, hwQual=1', 'PFinHFPt5EGq1': 'HF, p_{T}^{L1}>=5GeV, hwQual=1', 'PFinHFPt1EGq1': 'HF, p_{T}^{L1}>=1GeV, hwQual=1', 'PFinBRLPt2': 'Barrel, p_{T}^{L1}>=2GeV', 'PFinBRLPt5': 'Barrel, p_{T}^{L1}>=5GeV', 'PFinBRLPt1': 'Barrel, p_{T}^{L1}>=1GeV', 'PFinBRLTkPt2Chi2': 'Barrel, p_{T}^{L1} > 2GeV & #Chi^{2}_{norm} < 15', 'PFinBRLTkPt2': 'Barrel, p_{T}^{L1} > 2GeV', 'PFinBRLTkPt2Chi2Pt5': 'Barrel, (p_{T}^{L1} > 2GeV & #Chi^{2}_{norm} < 15) | p_{T}^{L1} > 5GeV ', 'PFinBRLTkPt2Chi2Pt10': 'Barrel, (p_{T}^{L1} > 2GeV & #Chi^{2}_{norm} < 15) | p_{T}^{L1} > 10GeV ', 'PFinBRLTkPt5': 'Barrel, p_{T}^{L1} > 5GeV', 'PFinBRLTkPt10': 'Barrel, p_{T}^{L1} > 10GeV', 'PFinHGCTkPt2Chi2': 'HgCal, p_{T}^{L1} > 2GeV & #Chi^{2}_{norm} < 15', 'PFinHGCTkPt2': 'HgCal, p_{T}^{L1} > 2GeV', 'PFinHGCTkPt2Chi2Pt5': 'HgCal, (p_{T}^{L1} > 2GeV & #Chi^{2}_{norm} < 15) | p_{T}^{L1} > 5GeV ', 'PFinHGCTkPt2Chi2Pt10': 'HgCal, (p_{T}^{L1} > 2GeV & #Chi^{2}_{norm} < 15) | p_{T}^{L1} > 10GeV ', 'PFinHGCTkPt5': 'HgCal, p_{T}^{L1} > 5GeV', 'PFinHGCTkPt10': 'HgCal, p_{T}^{L1} > 10GeV', 'EtaBCPt10': '1.52 < |#eta^{L1}| <= 2.4, p_{T}^{L1}>=10GeV', 'EtaBCPt20': '1.52 < |#eta^{L1}| <= 2.4, p_{T}^{L1}>=20GeV', 'EtaBPt10': '1.52 < |#eta^{L1}| <= 1.7, p_{T}^{L1}>=10GeV', 'EtaBPt20': '1.52 < |#eta^{L1}| <= 1.7, p_{T}^{L1}>=20GeV', 'EtaCPt10': '1.7 < |#eta^{L1}| <= 2.4, p_{T}^{L1}>=10GeV', 'EtaCPt20': '1.7 < |#eta^{L1}| <= 2.4, p_{T}^{L1}>=20GeV', 'EtaABPt10': '|#eta^{L1}| <= 1.7, p_{T}^{L1}>=10GeV', 'EtaABPt20': '|#eta^{L1}| <= 1.7, p_{T}^{L1}>=20GeV', 'EtaABCPt10': '|#eta^{L1}| <= 2.4, p_{T}^{L1}>=10GeV', 'EtaABCPt20': '|#eta^{L1}| <= 2.4, p_{T}^{L1}>=20GeV', 'EGq1Pt15': 'hwQual=1, p_{T}^{L1}>=15GeV', 'EGq1Pt25': 'hwQual=1, p_{T}^{L1}>=25GeV', 'EGq1Pt40': 'hwQual=1, p_{T}^{L1}>=40GeV', 'EGq2Pt15': 'hwQual=2, p_{T}^{L1}>=15GeV', 'EGq2Pt25': 'hwQual=2, p_{T}^{L1}>=25GeV', 'EGq2Pt40': 'hwQual=2, p_{T}^{L1}>=40GeV', 'EGq3Pt10': 'hwQual=3, p_{T}^{L1}>=10GeV', 'EGq3Pt15': 'hwQual=3, p_{T}^{L1}>=15GeV', 'EGq3Pt20': 'hwQual=3, p_{T}^{L1}>=20GeV', 'EGq3Pt25': 'hwQual=3, p_{T}^{L1}>=25GeV', 'EGq3Pt30': 'hwQual=3, p_{T}^{L1}>=30GeV', 'EGq3Pt40': 'hwQual=3, p_{T}^{L1}>=40GeV', 'EGq2or3Pt10': 'hwQual=2/3, p_{T}^{L1}>=10GeV', 'EGq2or3Pt15': 'hwQual=2/3, p_{T}^{L1}>=15GeV', 'EGq2or3Pt20': 'hwQual=2/3, p_{T}^{L1}>=20GeV', 'EGq2or3Pt25': 'hwQual=2/3, p_{T}^{L1}>=25GeV', 'EGq2or3Pt30': 'hwQual=2/3, p_{T}^{L1}>=30GeV', 'EGq2or3Pt40': 'hwQual=2/3, p_{T}^{L1}>=40GeV', 'EGq1or3Pt10': 'hwQual=1/3, p_{T}^{L1}>=10GeV', 'EGq1or3Pt15': 'hwQual=1/3, p_{T}^{L1}>=15GeV', 'EGq1or3Pt20': 'hwQual=1/3, p_{T}^{L1}>=20GeV', 'EGq1or3Pt25': 'hwQual=1/3, p_{T}^{L1}>=25GeV', 'EGq1or3Pt30': 'hwQual=1/3, p_{T}^{L1}>=30GeV', 'EGq1or3Pt40': 'hwQual=1/3, p_{T}^{L1}>=40GeV', 'EGq6Pt10': 'hwQual=6, p_{T}^{L1}>=10GeV', 'EGq6Pt15': 'hwQual=6, p_{T}^{L1}>=15GeV', 'EGq6Pt20': 'hwQual=6, p_{T}^{L1}>=20GeV', 'EGq6Pt25': 'hwQual=6, p_{T}^{L1}>=25GeV', 'EGq6Pt30': 'hwQual=6, p_{T}^{L1}>=30GeV', 'EGq6Pt40': 'hwQual=6, p_{T}^{L1}>=40GeV'}\n"
     ]
    }
   ],
   "source": [
    "import python.collections as collections\n",
    "import python.selections as selections\n",
    "\n",
    "labels_dict = {}\n",
    "\n",
    "evm = collections.EventManager()\n",
    "labels_dict.update(evm.get_labels())\n",
    "selm = selections.SelectionManager()\n",
    "labels_dict.update(selm.get_labels())\n",
    "\n",
    "print(labels_dict)\n",
    "\n",
    "\n",
    "\n"
   ]
  },
  {
   "cell_type": "markdown",
   "metadata": {},
   "source": [
    "## Automatic reading of the histograms\n",
    "\n",
    "The `HPlot` class allows to read all the histos belonging to a certain HistoClass in a `list` of samples."
   ]
  },
  {
   "cell_type": "code",
   "execution_count": 25,
   "metadata": {},
   "outputs": [
    {
     "name": "stdout",
     "output_type": "stream",
     "text": [
      "--- EGHistos\n",
      "# of plots: 1664\n",
      "# of primitives: 208\n",
      "--- EGResoHistos\n",
      "# of plots: 2080\n",
      "# of primitives: 208\n",
      "--- GenParticleHistos\n",
      "# of plots: 2640\n",
      "# of primitives: 220\n",
      "--- DecTkHistos\n",
      "# of plots: 192\n",
      "# of primitives: 12\n",
      "--- DecTkResoHistos\n",
      "# of plots: 180\n",
      "# of primitives: 12\n",
      "--- EGHistos\n",
      "# of plots: 1664\n",
      "# of primitives: 208\n",
      "--- EGResoHistos\n",
      "# of plots: 2080\n",
      "# of primitives: 208\n",
      "--- GenParticleHistos\n",
      "# of plots: 2640\n",
      "# of primitives: 220\n",
      "--- DecTkHistos\n",
      "# of plots: 192\n",
      "# of primitives: 12\n",
      "--- DecTkResoHistos\n",
      "# of plots: 180\n",
      "# of primitives: 12\n",
      "CPU times: user 642 ms, sys: 52.5 ms, total: 694 ms\n",
      "Wall time: 714 ms\n"
     ]
    }
   ],
   "source": [
    "%%time\n",
    "\n",
    "import python.l1THistos as histos\n",
    "\n",
    "hplot = HPlot(samples, labels_dict)\n",
    "\n",
    "hplot.create_histo_proxies(histos.EGResoHistos)\n",
    "hplot.create_histo_proxies(histos.DecTkResoHistos)\n"
   ]
  },
  {
   "cell_type": "markdown",
   "metadata": {},
   "source": [
    "The histogram classes are stored in a pandas `DataFrame`"
   ]
  },
  {
   "cell_type": "code",
   "execution_count": 26,
   "metadata": {},
   "outputs": [
    {
     "data": {
      "text/html": [
       "<div>\n",
       "<style scoped>\n",
       "    .dataframe tbody tr th:only-of-type {\n",
       "        vertical-align: middle;\n",
       "    }\n",
       "\n",
       "    .dataframe tbody tr th {\n",
       "        vertical-align: top;\n",
       "    }\n",
       "\n",
       "    .dataframe thead th {\n",
       "        text-align: right;\n",
       "    }\n",
       "</style>\n",
       "<table border=\"1\" class=\"dataframe\">\n",
       "  <thead>\n",
       "    <tr style=\"text-align: right;\">\n",
       "      <th></th>\n",
       "      <th>sample</th>\n",
       "      <th>pu</th>\n",
       "      <th>tp</th>\n",
       "      <th>tp_sel</th>\n",
       "      <th>gen_sel</th>\n",
       "      <th>classtype</th>\n",
       "      <th>histo</th>\n",
       "    </tr>\n",
       "  </thead>\n",
       "  <tbody>\n",
       "    <tr>\n",
       "      <th>0</th>\n",
       "      <td>eg</td>\n",
       "      <td>PU200</td>\n",
       "      <td>PFNFtkEleEE</td>\n",
       "      <td>EGq1Pt10</td>\n",
       "      <td>GENEeEtaBC</td>\n",
       "      <td>&lt;class 'python.l1THistos.EGResoHistos'&gt;</td>\n",
       "      <td>&lt;drawingTools.HProxy object at 0x13b6eacd0&gt;</td>\n",
       "    </tr>\n",
       "    <tr>\n",
       "      <th>1</th>\n",
       "      <td>eg</td>\n",
       "      <td>PU200</td>\n",
       "      <td>tkEleEB</td>\n",
       "      <td>LooseTkID</td>\n",
       "      <td>GENPt15</td>\n",
       "      <td>&lt;class 'python.l1THistos.EGResoHistos'&gt;</td>\n",
       "      <td>&lt;drawingTools.HProxy object at 0x127c6c5e0&gt;</td>\n",
       "    </tr>\n",
       "    <tr>\n",
       "      <th>2</th>\n",
       "      <td>eg</td>\n",
       "      <td>PU200</td>\n",
       "      <td>tkEmEE</td>\n",
       "      <td>EGq4</td>\n",
       "      <td>GENEeEtaBC</td>\n",
       "      <td>&lt;class 'python.l1THistos.EGResoHistos'&gt;</td>\n",
       "      <td>&lt;drawingTools.HProxy object at 0x127bec370&gt;</td>\n",
       "    </tr>\n",
       "    <tr>\n",
       "      <th>3</th>\n",
       "      <td>eg</td>\n",
       "      <td>PU200</td>\n",
       "      <td>PFNFtkEleEE</td>\n",
       "      <td>EGq1Pt20</td>\n",
       "      <td>GENEePt30</td>\n",
       "      <td>&lt;class 'python.l1THistos.EGResoHistos'&gt;</td>\n",
       "      <td>&lt;drawingTools.HProxy object at 0x127c6c580&gt;</td>\n",
       "    </tr>\n",
       "    <tr>\n",
       "      <th>4</th>\n",
       "      <td>eg</td>\n",
       "      <td>PU200</td>\n",
       "      <td>tkEmEE</td>\n",
       "      <td>EGq4Pt20</td>\n",
       "      <td>GENEe</td>\n",
       "      <td>&lt;class 'python.l1THistos.EGResoHistos'&gt;</td>\n",
       "      <td>&lt;drawingTools.HProxy object at 0x127bec430&gt;</td>\n",
       "    </tr>\n",
       "    <tr>\n",
       "      <th>5</th>\n",
       "      <td>eg</td>\n",
       "      <td>PU200</td>\n",
       "      <td>tkEmEB</td>\n",
       "      <td>LooseTkID</td>\n",
       "      <td>GENPt15</td>\n",
       "      <td>&lt;class 'python.l1THistos.EGResoHistos'&gt;</td>\n",
       "      <td>&lt;drawingTools.HProxy object at 0x127bca460&gt;</td>\n",
       "    </tr>\n",
       "    <tr>\n",
       "      <th>6</th>\n",
       "      <td>eg</td>\n",
       "      <td>PU200</td>\n",
       "      <td>tkEleEE</td>\n",
       "      <td>EGq5Pt30</td>\n",
       "      <td>GENEe</td>\n",
       "      <td>&lt;class 'python.l1THistos.EGResoHistos'&gt;</td>\n",
       "      <td>&lt;drawingTools.HProxy object at 0x13b6eabe0&gt;</td>\n",
       "    </tr>\n",
       "    <tr>\n",
       "      <th>7</th>\n",
       "      <td>eg</td>\n",
       "      <td>PU200</td>\n",
       "      <td>PFNFtkEleEB</td>\n",
       "      <td>LooseTkIDPt20</td>\n",
       "      <td>GENEtaF</td>\n",
       "      <td>&lt;class 'python.l1THistos.EGResoHistos'&gt;</td>\n",
       "      <td>&lt;drawingTools.HProxy object at 0x127c52fd0&gt;</td>\n",
       "    </tr>\n",
       "    <tr>\n",
       "      <th>8</th>\n",
       "      <td>eg</td>\n",
       "      <td>PU200</td>\n",
       "      <td>PFNFtkEleEB</td>\n",
       "      <td>all</td>\n",
       "      <td>GENEtaF</td>\n",
       "      <td>&lt;class 'python.l1THistos.EGResoHistos'&gt;</td>\n",
       "      <td>&lt;drawingTools.HProxy object at 0x127c65790&gt;</td>\n",
       "    </tr>\n",
       "    <tr>\n",
       "      <th>9</th>\n",
       "      <td>eg</td>\n",
       "      <td>PU200</td>\n",
       "      <td>tkEmEB</td>\n",
       "      <td>LooseTkIDPt10</td>\n",
       "      <td>GENEtaF</td>\n",
       "      <td>&lt;class 'python.l1THistos.EGResoHistos'&gt;</td>\n",
       "      <td>&lt;drawingTools.HProxy object at 0x13b6eaa90&gt;</td>\n",
       "    </tr>\n",
       "  </tbody>\n",
       "</table>\n",
       "</div>"
      ],
      "text/plain": [
       "  sample     pu           tp         tp_sel     gen_sel  \\\n",
       "0     eg  PU200  PFNFtkEleEE       EGq1Pt10  GENEeEtaBC   \n",
       "1     eg  PU200      tkEleEB      LooseTkID     GENPt15   \n",
       "2     eg  PU200       tkEmEE           EGq4  GENEeEtaBC   \n",
       "3     eg  PU200  PFNFtkEleEE       EGq1Pt20   GENEePt30   \n",
       "4     eg  PU200       tkEmEE       EGq4Pt20       GENEe   \n",
       "5     eg  PU200       tkEmEB      LooseTkID     GENPt15   \n",
       "6     eg  PU200      tkEleEE       EGq5Pt30       GENEe   \n",
       "7     eg  PU200  PFNFtkEleEB  LooseTkIDPt20     GENEtaF   \n",
       "8     eg  PU200  PFNFtkEleEB            all     GENEtaF   \n",
       "9     eg  PU200       tkEmEB  LooseTkIDPt10     GENEtaF   \n",
       "\n",
       "                                 classtype  \\\n",
       "0  <class 'python.l1THistos.EGResoHistos'>   \n",
       "1  <class 'python.l1THistos.EGResoHistos'>   \n",
       "2  <class 'python.l1THistos.EGResoHistos'>   \n",
       "3  <class 'python.l1THistos.EGResoHistos'>   \n",
       "4  <class 'python.l1THistos.EGResoHistos'>   \n",
       "5  <class 'python.l1THistos.EGResoHistos'>   \n",
       "6  <class 'python.l1THistos.EGResoHistos'>   \n",
       "7  <class 'python.l1THistos.EGResoHistos'>   \n",
       "8  <class 'python.l1THistos.EGResoHistos'>   \n",
       "9  <class 'python.l1THistos.EGResoHistos'>   \n",
       "\n",
       "                                         histo  \n",
       "0  <drawingTools.HProxy object at 0x13b6eacd0>  \n",
       "1  <drawingTools.HProxy object at 0x127c6c5e0>  \n",
       "2  <drawingTools.HProxy object at 0x127bec370>  \n",
       "3  <drawingTools.HProxy object at 0x127c6c580>  \n",
       "4  <drawingTools.HProxy object at 0x127bec430>  \n",
       "5  <drawingTools.HProxy object at 0x127bca460>  \n",
       "6  <drawingTools.HProxy object at 0x13b6eabe0>  \n",
       "7  <drawingTools.HProxy object at 0x127c52fd0>  \n",
       "8  <drawingTools.HProxy object at 0x127c65790>  \n",
       "9  <drawingTools.HProxy object at 0x13b6eaa90>  "
      ]
     },
     "execution_count": 26,
     "metadata": {},
     "output_type": "execute_result"
    }
   ],
   "source": [
    "hplot.data[:10]"
   ]
  },
  {
   "cell_type": "markdown",
   "metadata": {},
   "source": [
    "The `HPlot` class allows to retrieve a set histograms belonging to a certain HistoClass on the basis of the `<tp-name>`, `<tp-selection>`, `<gen-selection>`"
   ]
  },
  {
   "cell_type": "code",
   "execution_count": 32,
   "metadata": {},
   "outputs": [
    {
     "name": "stdout",
     "output_type": "stream",
     "text": [
      "[<EGResoHistos PFNFtkEmEE_EGq1Pt10_GENEeEtaBC>]\n",
      "['']\n",
      "PU200, TkEm EE Corr. New, hwQual=1, p_{T}^{L1}>=10GeV, 1.52 < |#eta^{GEN}| <= 2.4\n"
     ]
    },
    {
     "data": {
      "text/plain": [
       "['__class__',\n",
       " '__delattr__',\n",
       " '__dict__',\n",
       " '__dir__',\n",
       " '__doc__',\n",
       " '__eq__',\n",
       " '__format__',\n",
       " '__ge__',\n",
       " '__getattribute__',\n",
       " '__gt__',\n",
       " '__hash__',\n",
       " '__init__',\n",
       " '__init_subclass__',\n",
       " '__le__',\n",
       " '__lt__',\n",
       " '__module__',\n",
       " '__ne__',\n",
       " '__new__',\n",
       " '__reduce__',\n",
       " '__reduce_ex__',\n",
       " '__repr__',\n",
       " '__setattr__',\n",
       " '__sizeof__',\n",
       " '__str__',\n",
       " '__subclasshook__',\n",
       " '__weakref__',\n",
       " 'fill',\n",
       " 'h_etaRes',\n",
       " 'h_exetaRes',\n",
       " 'h_exphiRes',\n",
       " 'h_hdzRes',\n",
       " 'h_phiRes',\n",
       " 'h_ptRes',\n",
       " 'h_ptResVpt',\n",
       " 'h_ptResVpt_graph',\n",
       " 'h_ptResp',\n",
       " 'h_ptRespVeta',\n",
       " 'h_ptRespVeta_graph',\n",
       " 'h_ptRespVpt',\n",
       " 'h_ptRespVpt_graph',\n",
       " 'name_',\n",
       " 'write']"
      ]
     },
     "execution_count": 32,
     "metadata": {},
     "output_type": "execute_result"
    }
   ],
   "source": [
    "hsets, labels, text = hplot.get_histo(histos.EGResoHistos, 'eg', ['PU200'], 'PFNFtkEmEE', 'EGq1Pt10', 'GENEeEtaBC', False)            \n",
    "print(hsets)\n",
    "print(labels)\n",
    "print(text)\n",
    "\n",
    "dir(hsets[0])\n"
   ]
  },
  {
   "cell_type": "code",
   "execution_count": 33,
   "metadata": {},
   "outputs": [
    {
     "data": {
      "text/html": [
       "\n",
       "\n",
       "<div id=\"root_plot_1630411104244\"\n",
       "     style=\"width: 696px; height: 472px\">\n",
       "</div>\n",
       "<script>\n",
       "\n",
       "function display_root_plot_1630411104244(Core) {\n",
       "   let obj = Core.parse({\"_typename\":\"TCanvas\",\"fUniqueID\":0,\"fBits\":3342344,\"fLineColor\":1,\"fLineStyle\":1,\"fLineWidth\":1,\"fFillColor\":0,\"fFillStyle\":1001,\"fLeftMargin\":0.13,\"fRightMargin\":0.13,\"fBottomMargin\":0.13,\"fTopMargin\":0.1,\"fXfile\":2,\"fYfile\":2,\"fAfile\":1,\"fXstat\":0.99,\"fYstat\":0.99,\"fAstat\":2,\"fFrameFillColor\":0,\"fFrameLineColor\":1,\"fFrameFillStyle\":1001,\"fFrameLineStyle\":1,\"fFrameLineWidth\":1,\"fFrameBorderSize\":1,\"fFrameBorderMode\":0,\"fX1\":-1.35135133393582,\"fY1\":-2132.59088369384,\"fX2\":1.35135133393582,\"fY2\":14271.9546105345,\"fXtoAbsPixelk\":348.00005,\"fXtoPixelk\":348.00005,\"fXtoPixel\":257.520003318787,\"fYtoAbsPixelk\":410.640050879169,\"fYtoPixelk\":410.640050879169,\"fYtoPixel\":-0.0287725130919393,\"fUtoAbsPixelk\":5e-5,\"fUtoPixelk\":5e-5,\"fUtoPixel\":696,\"fVtoAbsPixelk\":472.00005,\"fVtoPixelk\":472,\"fVtoPixel\":-472,\"fAbsPixeltoXk\":-1.35135133393582,\"fPixeltoXk\":-1.35135133393582,\"fPixeltoX\":0.00388319348832133,\"fAbsPixeltoYk\":14271.9546105345,\"fPixeltoYk\":-2132.59088369384,\"fPixeltoY\":-34.7553929962465,\"fXlowNDC\":0,\"fYlowNDC\":0,\"fXUpNDC\":1,\"fYUpNDC\":1,\"fWNDC\":1,\"fHNDC\":1,\"fAbsXlowNDC\":0,\"fAbsYlowNDC\":0,\"fAbsWNDC\":1,\"fAbsHNDC\":1,\"fUxmin\":-1,\"fUymin\":0,\"fUxmax\":1,\"fUymax\":12631.5,\"fTheta\":30,\"fPhi\":30,\"fAspectRatio\":0,\"fNumber\":0,\"fTickx\":0,\"fTicky\":0,\"fLogx\":0,\"fLogy\":0,\"fLogz\":0,\"fPadPaint\":0,\"fCrosshair\":0,\"fCrosshairPos\":0,\"fBorderSize\":2,\"fBorderMode\":0,\"fModified\":false,\"fGridx\":false,\"fGridy\":false,\"fAbsCoord\":false,\"fEditable\":true,\"fFixedAspectRatio\":false,\"fPrimitives\":{\"_typename\":\"TList\",\"name\":\"TList\",\"arr\":[{\"_typename\":\"TFrame\",\"fUniqueID\":0,\"fBits\":8,\"fLineColor\":1,\"fLineStyle\":1,\"fLineWidth\":1,\"fFillColor\":0,\"fFillStyle\":1001,\"fX1\":-1,\"fY1\":0,\"fX2\":1,\"fY2\":12631.5,\"fBorderSize\":1,\"fBorderMode\":0},{\"_typename\":\"TH1F\",\"fUniqueID\":0,\"fBits\":8,\"fName\":\"PFNFtkEmEE_EGq1Pt10_GENEeEtaBC_ptRes\",\"fTitle\":\"EG Pt res.\",\"fLineColor\":602,\"fLineStyle\":1,\"fLineWidth\":1,\"fFillColor\":0,\"fFillStyle\":1001,\"fMarkerColor\":1,\"fMarkerStyle\":1,\"fMarkerSize\":1,\"fNcells\":102,\"fXaxis\":{\"_typename\":\"TAxis\",\"fUniqueID\":0,\"fBits\":0,\"fName\":\"xaxis\",\"fTitle\":\" (p_{T}^{L1}-p_{T}^{GEN})\\/p_{T}^{GEN}\",\"fNdivisions\":510,\"fAxisColor\":1,\"fLabelColor\":1,\"fLabelFont\":42,\"fLabelOffset\":0.005,\"fLabelSize\":0.035,\"fTickLength\":0.03,\"fTitleOffset\":1,\"fTitleSize\":0.035,\"fTitleColor\":1,\"fTitleFont\":42,\"fNbins\":100,\"fXmin\":-1,\"fXmax\":1,\"fXbins\":[],\"fFirst\":0,\"fLast\":0,\"fBits2\":0,\"fTimeDisplay\":false,\"fTimeFormat\":\"\",\"fLabels\":null,\"fModLabs\":null},\"fYaxis\":{\"_typename\":\"TAxis\",\"fUniqueID\":0,\"fBits\":0,\"fName\":\"yaxis\",\"fTitle\":\"\",\"fNdivisions\":510,\"fAxisColor\":1,\"fLabelColor\":1,\"fLabelFont\":42,\"fLabelOffset\":0.005,\"fLabelSize\":0.035,\"fTickLength\":0.03,\"fTitleOffset\":0,\"fTitleSize\":0.035,\"fTitleColor\":1,\"fTitleFont\":42,\"fNbins\":1,\"fXmin\":0,\"fXmax\":1,\"fXbins\":[],\"fFirst\":0,\"fLast\":0,\"fBits2\":0,\"fTimeDisplay\":false,\"fTimeFormat\":\"\",\"fLabels\":null,\"fModLabs\":null},\"fZaxis\":{\"_typename\":\"TAxis\",\"fUniqueID\":0,\"fBits\":0,\"fName\":\"zaxis\",\"fTitle\":\"\",\"fNdivisions\":510,\"fAxisColor\":1,\"fLabelColor\":1,\"fLabelFont\":42,\"fLabelOffset\":0.005,\"fLabelSize\":0.035,\"fTickLength\":0.03,\"fTitleOffset\":1,\"fTitleSize\":0.035,\"fTitleColor\":1,\"fTitleFont\":42,\"fNbins\":1,\"fXmin\":0,\"fXmax\":1,\"fXbins\":[],\"fFirst\":0,\"fLast\":0,\"fBits2\":0,\"fTimeDisplay\":false,\"fTimeFormat\":\"\",\"fLabels\":null,\"fModLabs\":null},\"fBarOffset\":0,\"fBarWidth\":1000,\"fEntries\":91407,\"fTsumw\":91402,\"fTsumw2\":91402,\"fTsumwx\":-343.997367718844,\"fTsumwx2\":1053.93770814586,\"fMaximum\":-1111,\"fMinimum\":-1111,\"fNormFactor\":0,\"fContour\":[],\"fSumw2\":[0,0,0,0,0,0,1,1,1,3,3,3,4,8,4,7,7,14,11,15,20,34,23,55,44,56,71,72,94,115,126,137,185,221,250,302,352,419,426,550,650,774,950,1171,1505,1990,2716,3737,5388,7676,10336,12030,11808,9274,6215,4055,2312,1505,1054,650,405,294,212,182,148,128,94,84,72,58,42,32,27,24,28,18,15,16,17,9,8,6,6,8,5,5,7,2,3,2,2,2,1,1,2,0,3,1,1,1,1,5],\"fOption\":\"\",\"fFunctions\":{\"_typename\":\"TList\",\"name\":\"TList\",\"arr\":[],\"opt\":[]},\"fBufferSize\":0,\"fBuffer\":[],\"fBinStatErrOpt\":0,\"fStatOverflows\":2,\"fArray\":[0,0,0,0,0,0,1,1,1,3,3,3,4,8,4,7,7,14,11,15,20,34,23,55,44,56,71,72,94,115,126,137,185,221,250,302,352,419,426,550,650,774,950,1171,1505,1990,2716,3737,5388,7676,10336,12030,11808,9274,6215,4055,2312,1505,1054,650,405,294,212,182,148,128,94,84,72,58,42,32,27,24,28,18,15,16,17,9,8,6,6,8,5,5,7,2,3,2,2,2,1,1,2,0,3,1,1,1,1,5]},{\"_typename\":\"TStyle\",\"fUniqueID\":0,\"fBits\":0,\"fName\":\"Modern\",\"fTitle\":\"Modern Style\",\"fLineColor\":1,\"fLineStyle\":1,\"fLineWidth\":1,\"fFillColor\":19,\"fFillStyle\":1001,\"fMarkerColor\":1,\"fMarkerStyle\":1,\"fMarkerSize\":1,\"fTextAngle\":0,\"fTextSize\":0.05,\"fTextAlign\":11,\"fTextColor\":1,\"fTextFont\":62,\"fXaxis\":{\"_typename\":\"TAttAxis\",\"fNdivisions\":510,\"fAxisColor\":1,\"fLabelColor\":1,\"fLabelFont\":42,\"fLabelOffset\":0.005,\"fLabelSize\":0.035,\"fTickLength\":0.03,\"fTitleOffset\":1,\"fTitleSize\":0.035,\"fTitleColor\":1,\"fTitleFont\":42},\"fYaxis\":{\"_typename\":\"TAttAxis\",\"fNdivisions\":510,\"fAxisColor\":1,\"fLabelColor\":1,\"fLabelFont\":42,\"fLabelOffset\":0.005,\"fLabelSize\":0.035,\"fTickLength\":0.03,\"fTitleOffset\":0,\"fTitleSize\":0.035,\"fTitleColor\":1,\"fTitleFont\":42},\"fZaxis\":{\"_typename\":\"TAttAxis\",\"fNdivisions\":510,\"fAxisColor\":1,\"fLabelColor\":1,\"fLabelFont\":42,\"fLabelOffset\":0.005,\"fLabelSize\":0.035,\"fTickLength\":0.03,\"fTitleOffset\":1,\"fTitleSize\":0.035,\"fTitleColor\":1,\"fTitleFont\":42},\"fBarWidth\":1,\"fBarOffset\":0,\"fColorModelPS\":0,\"fDrawBorder\":0,\"fOptLogx\":0,\"fOptLogy\":0,\"fOptLogz\":0,\"fOptDate\":0,\"fOptStat\":0,\"fOptTitle\":0,\"fOptFile\":0,\"fOptFit\":0,\"fShowEventStatus\":0,\"fShowEditor\":0,\"fShowToolBar\":0,\"fNumberContours\":20,\"fAttDate\":{\"_typename\":\"TAttText\",\"fTextAngle\":0,\"fTextSize\":0.025,\"fTextAlign\":11,\"fTextColor\":1,\"fTextFont\":62},\"fDateX\":0.01,\"fDateY\":0.01,\"fEndErrorSize\":2,\"fErrorX\":0.5,\"fFuncColor\":2,\"fFuncStyle\":1,\"fFuncWidth\":2,\"fGridColor\":0,\"fGridStyle\":3,\"fGridWidth\":1,\"fLegendBorderSize\":1,\"fLegendFillColor\":0,\"fLegendFont\":42,\"fLegendTextSize\":0,\"fHatchesLineWidth\":1,\"fHatchesSpacing\":1,\"fFrameFillColor\":0,\"fFrameLineColor\":1,\"fFrameFillStyle\":1001,\"fFrameLineStyle\":1,\"fFrameLineWidth\":1,\"fFrameBorderSize\":1,\"fFrameBorderMode\":0,\"fHistFillColor\":0,\"fHistLineColor\":602,\"fHistFillStyle\":1001,\"fHistLineStyle\":1,\"fHistLineWidth\":1,\"fHistMinimumZero\":false,\"fHistTopMargin\":0.05,\"fCanvasPreferGL\":false,\"fCanvasColor\":0,\"fCanvasBorderSize\":2,\"fCanvasBorderMode\":0,\"fCanvasDefH\":500,\"fCanvasDefW\":700,\"fCanvasDefX\":10,\"fCanvasDefY\":10,\"fPadColor\":0,\"fPadBorderSize\":2,\"fPadBorderMode\":0,\"fPadBottomMargin\":0.13,\"fPadTopMargin\":0.1,\"fPadLeftMargin\":0.13,\"fPadRightMargin\":0.13,\"fPadGridX\":false,\"fPadGridY\":false,\"fPadTickX\":0,\"fPadTickY\":0,\"fPaperSizeX\":20,\"fPaperSizeY\":26,\"fScreenFactor\":1,\"fStatColor\":0,\"fStatTextColor\":1,\"fStatBorderSize\":1,\"fStatFont\":42,\"fStatFontSize\":0,\"fStatStyle\":1001,\"fStatFormat\":\"6.4g\",\"fStatX\":0.98,\"fStatY\":0.935,\"fStatW\":0.2,\"fStatH\":0.16,\"fStripDecimals\":true,\"fTitleAlign\":23,\"fTitleColor\":0,\"fTitleTextColor\":1,\"fTitleBorderSize\":0,\"fTitleFont\":42,\"fTitleFontSize\":0.05,\"fTitleStyle\":0,\"fTitleX\":0.5,\"fTitleY\":0.995,\"fTitleW\":0,\"fTitleH\":0,\"fLegoInnerR\":0.5,\"fLineStyle\":[\"\",\"  \",\" 12 12\",\" 4 8\",\" 12 16 4 16\",\" 20 12 4 12\",\" 20 12 4 12 4 12 4 12\",\" 20 20\",\" 20 12 4 12 4 12\",\" 80 20\",\" 80 40 4 40\",\"  \",\"  \",\"  \",\"  \",\"  \",\"  \",\"  \",\"  \",\"  \",\"  \",\"  \",\"  \",\"  \",\"  \",\"  \",\"  \",\"  \",\"  \",\"  \"],\"fHeaderPS\":\"\",\"fTitlePS\":\"\",\"fFitFormat\":\"5.4g\",\"fPaintTextFormat\":\"g\",\"fLineScalePS\":3,\"fJoinLinePS\":0,\"fCapLinePS\":0,\"fTimeOffset\":788918400,\"fImageScaling\":1}],\"opt\":[\"\",\"hist\",\"\"]},\"fExecs\":null,\"fName\":\"c1_n4\",\"fTitle\":\"c1_n4\",\"fNumPaletteColor\":0,\"fNextPaletteColor\":0,\"fDISPLAY\":\"$DISPLAY\",\"fDoubleBuffer\":0,\"fRetained\":true,\"fXsizeUser\":0,\"fYsizeUser\":0,\"fXsizeReal\":20,\"fYsizeReal\":14.28571,\"fWindowTopX\":0,\"fWindowTopY\":0,\"fWindowWidth\":0,\"fWindowHeight\":0,\"fCw\":696,\"fCh\":472,\"fCatt\":{\"_typename\":\"TAttCanvas\",\"fXBetween\":2,\"fYBetween\":2,\"fTitleFromTop\":1.2,\"fXdate\":0.2,\"fYdate\":0.3,\"fAdate\":1},\"kMoveOpaque\":true,\"kResizeOpaque\":true,\"fHighLightColor\":2,\"fBatch\":true,\"kShowEventStatus\":false,\"kAutoExec\":true,\"kMenuBar\":true});\n",
       "   Core.settings.HandleKeys = false;\n",
       "   Core.draw(\"root_plot_1630411104244\", obj, \"\");\n",
       "}\n",
       "\n",
       "function script_load_root_plot_1630411104244(src, on_error) {\n",
       "    let script = document.createElement('script');\n",
       "    script.src = src;\n",
       "    script.onload = function() { display_root_plot_1630411104244(JSROOT); };\n",
       "    script.onerror = function() { script.remove(); on_error(); };\n",
       "    document.head.appendChild(script);\n",
       "}\n",
       "\n",
       "if (typeof requirejs !== 'undefined') {\n",
       "\n",
       "    // We are in jupyter notebooks, use require.js which should be configured already\n",
       "    requirejs.config({\n",
       "       paths: { 'JSRootCore' : [ 'scripts/JSRoot.core', 'https://root.cern/js/6.1.1/scripts/JSRoot.core.min', 'https://jsroot.gsi.de/6.1.1/scripts/JSRoot.core.min' ] }\n",
       "    })(['JSRootCore'],  function(Core) {\n",
       "       display_root_plot_1630411104244(Core);\n",
       "    });\n",
       "\n",
       "} else if (typeof JSROOT !== 'undefined') {\n",
       "\n",
       "   // JSROOT already loaded, just use it\n",
       "   display_root_plot_1630411104244(JSROOT);\n",
       "\n",
       "} else {\n",
       "\n",
       "    // We are in jupyterlab without require.js, directly loading jsroot\n",
       "    // Jupyterlab might be installed in a different base_url so we need to know it.\n",
       "    try {\n",
       "        var base_url = JSON.parse(document.getElementById('jupyter-config-data').innerHTML).baseUrl;\n",
       "    } catch(_) {\n",
       "        var base_url = '/';\n",
       "    }\n",
       "\n",
       "    // Try loading a local version of requirejs and fallback to cdn if not possible.\n",
       "    script_load_root_plot_1630411104244(base_url + 'static/scripts/JSRoot.core.js', function(){\n",
       "        console.error('Fail to load JSROOT locally, please check your jupyter_notebook_config.py file');\n",
       "        script_load_root_plot_1630411104244('https://root.cern/js/6.1.1/scripts/JSRoot.core.min.js', function(){\n",
       "            document.getElementById(\"root_plot_1630411104244\").innerHTML = \"Failed to load JSROOT\";\n",
       "        });\n",
       "    });\n",
       "}\n",
       "\n",
       "</script>\n"
      ],
      "text/plain": [
       "<IPython.core.display.HTML object>"
      ]
     },
     "metadata": {},
     "output_type": "display_data"
    }
   ],
   "source": [
    "c1 = ROOT.TCanvas()\n",
    "hsets[0].h_ptRes.Draw('hist')\n",
    "c1.Draw()"
   ]
  },
  {
   "cell_type": "markdown",
   "metadata": {},
   "source": [
    "## DrawingTools\n",
    "\n",
    "Once you retrieved the set of histograms, labels and text from the file you can produce the plot using the drawing tools.\n"
   ]
  },
  {
   "cell_type": "code",
   "execution_count": 34,
   "metadata": {},
   "outputs": [
    {
     "data": {
      "text/html": [
       "\n",
       "\n",
       "<div id=\"root_plot_1630411215303\"\n",
       "     style=\"width: 796px; height: 572px\">\n",
       "</div>\n",
       "<script>\n",
       "\n",
       "function display_root_plot_1630411215303(Core) {\n",
       "   let obj = Core.parse({\"_typename\":\"TCanvas\",\"fUniqueID\":0,\"fBits\":3342344,\"fLineColor\":1,\"fLineStyle\":1,\"fLineWidth\":1,\"fFillColor\":0,\"fFillStyle\":1001,\"fLeftMargin\":0.13,\"fRightMargin\":0.3,\"fBottomMargin\":0.13,\"fTopMargin\":0.1,\"fXfile\":2,\"fYfile\":2,\"fAfile\":1,\"fXstat\":0.99,\"fYstat\":0.99,\"fAstat\":2,\"fFrameFillColor\":0,\"fFrameLineColor\":1,\"fFrameFillStyle\":1001,\"fFrameLineStyle\":1,\"fFrameLineWidth\":1,\"fFrameBorderSize\":1,\"fFrameBorderMode\":0,\"fX1\":-0.145614033986987,\"fY1\":-0.046444560169762,\"fX2\":0.205263163398398,\"fY2\":0.310821292408865,\"fXtoAbsPixelk\":330.340043357658,\"fXtoPixelk\":330.340043357658,\"fXtoPixel\":2268.59997153282,\"fYtoAbsPixelk\":497.640051065433,\"fYtoPixelk\":497.640051065433,\"fYtoPixel\":-1601.04861931666,\"fUtoAbsPixelk\":5e-5,\"fUtoPixelk\":5e-5,\"fUtoPixel\":796,\"fVtoAbsPixelk\":572.00005,\"fVtoPixelk\":572,\"fVtoPixel\":-572,\"fAbsPixeltoXk\":-0.145614033986987,\"fPixeltoXk\":-0.145614033986987,\"fPixeltoX\":4.4080049922787e-4,\"fAbsPixeltoYk\":0.310821292408865,\"fPixeltoYk\":-0.046444560169762,\"fPixeltoY\":-6.24590651361237e-4,\"fXlowNDC\":0,\"fYlowNDC\":0,\"fXUpNDC\":1,\"fYUpNDC\":1,\"fWNDC\":1,\"fHNDC\":1,\"fAbsXlowNDC\":0,\"fAbsYlowNDC\":0,\"fAbsWNDC\":1,\"fAbsHNDC\":1,\"fUxmin\":-0.1,\"fUymin\":0,\"fUxmax\":0.1,\"fUymax\":0.275094705820084,\"fTheta\":30,\"fPhi\":30,\"fAspectRatio\":0,\"fNumber\":0,\"fTickx\":0,\"fTicky\":0,\"fLogx\":0,\"fLogy\":0,\"fLogz\":0,\"fPadPaint\":0,\"fCrosshair\":0,\"fCrosshairPos\":0,\"fBorderSize\":2,\"fBorderMode\":0,\"fModified\":false,\"fGridx\":false,\"fGridy\":false,\"fAbsCoord\":false,\"fEditable\":true,\"fFixedAspectRatio\":false,\"fPrimitives\":{\"_typename\":\"TList\",\"name\":\"TList\",\"arr\":[{\"_typename\":\"TFrame\",\"fUniqueID\":0,\"fBits\":8,\"fLineColor\":1,\"fLineStyle\":1,\"fLineWidth\":1,\"fFillColor\":0,\"fFillStyle\":1001,\"fX1\":-0.1,\"fY1\":0,\"fX2\":0.1,\"fY2\":0.275094705820084,\"fBorderSize\":1,\"fBorderMode\":0},{\"_typename\":\"TH1F\",\"fUniqueID\":0,\"fBits\":521,\"fName\":\"75070a\",\"fTitle\":\"\",\"fLineColor\":604,\"fLineStyle\":1,\"fLineWidth\":1,\"fFillColor\":0,\"fFillStyle\":1001,\"fMarkerColor\":1,\"fMarkerStyle\":1,\"fMarkerSize\":1,\"fNcells\":102,\"fXaxis\":{\"_typename\":\"TAxis\",\"fUniqueID\":0,\"fBits\":0,\"fName\":\"xaxis\",\"fTitle\":\" #phi^{L1}-#phi^{GEN}_{calo}\",\"fNdivisions\":510,\"fAxisColor\":1,\"fLabelColor\":1,\"fLabelFont\":42,\"fLabelOffset\":0.005,\"fLabelSize\":0.035,\"fTickLength\":0.03,\"fTitleOffset\":1.4,\"fTitleSize\":0.035,\"fTitleColor\":1,\"fTitleFont\":42,\"fNbins\":100,\"fXmin\":-0.1,\"fXmax\":0.1,\"fXbins\":[],\"fFirst\":0,\"fLast\":0,\"fBits2\":0,\"fTimeDisplay\":false,\"fTimeFormat\":\"\",\"fLabels\":null,\"fModLabs\":null},\"fYaxis\":{\"_typename\":\"TAxis\",\"fUniqueID\":0,\"fBits\":0,\"fName\":\"yaxis\",\"fTitle\":\"\",\"fNdivisions\":510,\"fAxisColor\":1,\"fLabelColor\":1,\"fLabelFont\":42,\"fLabelOffset\":0.005,\"fLabelSize\":0.035,\"fTickLength\":0.03,\"fTitleOffset\":0,\"fTitleSize\":0.035,\"fTitleColor\":1,\"fTitleFont\":42,\"fNbins\":1,\"fXmin\":0,\"fXmax\":1,\"fXbins\":[],\"fFirst\":0,\"fLast\":0,\"fBits2\":0,\"fTimeDisplay\":false,\"fTimeFormat\":\"\",\"fLabels\":null,\"fModLabs\":null},\"fZaxis\":{\"_typename\":\"TAxis\",\"fUniqueID\":0,\"fBits\":0,\"fName\":\"zaxis\",\"fTitle\":\"\",\"fNdivisions\":510,\"fAxisColor\":1,\"fLabelColor\":1,\"fLabelFont\":42,\"fLabelOffset\":0.005,\"fLabelSize\":0.035,\"fTickLength\":0.03,\"fTitleOffset\":1,\"fTitleSize\":0.035,\"fTitleColor\":1,\"fTitleFont\":42,\"fNbins\":1,\"fXmin\":0,\"fXmax\":1,\"fXbins\":[],\"fFirst\":0,\"fLast\":0,\"fBits2\":0,\"fTimeDisplay\":false,\"fTimeFormat\":\"\",\"fLabels\":null,\"fModLabs\":null},\"fBarOffset\":0,\"fBarWidth\":1000,\"fEntries\":91407,\"fTsumw\":1,\"fTsumw2\":1.09493047191503e-5,\"fTsumwx\":1.34468577452005e-4,\"fTsumwx2\":6.94934201502672e-5,\"fMaximum\":0.275094705820084,\"fMinimum\":0,\"fNormFactor\":0,\"fContour\":[],\"fSumw2\":[5.75458914397477e-9,0,1.19887273832808e-10,1.19887273832808e-10,2.39774547665615e-10,1.19887273832808e-10,1.19887273832808e-10,5.99436369164039e-10,2.39774547665615e-10,4.79549095331231e-10,1.19887273832808e-10,3.59661821498423e-10,2.39774547665615e-10,3.59661821498423e-10,3.59661821498423e-10,9.59098190662462e-10,1.07898546449527e-9,8.39210916829654e-10,7.19323642996846e-10,1.5585345598265e-9,1.91819638132492e-9,1.07898546449527e-9,1.43864728599369e-9,1.91819638132492e-9,2.15797092899054e-9,2.63752002432177e-9,2.63752002432177e-9,3.117069119653e-9,4.79549095331231e-9,4.6756036794795e-9,6.83357460847004e-9,5.51481459630916e-9,8.87165826362777e-9,9.11143281129339e-9,8.75177098979497e-9,1.29478255739432e-8,1.31876001216089e-8,1.58251201459306e-8,2.15797092899054e-8,2.31382438497319e-8,3.30888875778549e-8,4.14809967461515e-8,4.43582913181389e-8,5.76657787135805e-8,8.73978226241169e-8,1.13173586498171e-7,1.77792827094054e-7,3.117069119653e-7,5.76058350766641e-7,1.29574165558499e-6,2.41357059680209e-6,2.5100798522375e-6,1.42977562773007e-6,6.27489991240916e-7,3.15183642906452e-7,1.96615129085805e-7,1.2384355386929e-7,7.92454880034859e-8,6.34203678575553e-8,5.17913022957729e-8,3.98025749124922e-8,3.0571254827366e-8,2.50564402310568e-8,2.20592583852366e-8,1.69041056104259e-8,1.51057965029338e-8,1.23483892047792e-8,9.11143281129339e-9,8.99154553746058e-9,9.2313200851262e-9,5.63470187014196e-9,5.39492732247635e-9,5.51481459630916e-9,4.31594185798108e-9,2.99718184582019e-9,3.35684366731862e-9,2.03808365515773e-9,2.51763275048896e-9,2.51763275048896e-9,2.27785820282335e-9,1.91819638132492e-9,1.07898546449527e-9,5.99436369164039e-10,1.07898546449527e-9,7.19323642996846e-10,5.99436369164039e-10,9.59098190662462e-10,5.99436369164039e-10,9.59098190662462e-10,8.39210916829654e-10,9.59098190662462e-10,4.79549095331231e-10,3.59661821498423e-10,3.59661821498423e-10,3.59661821498423e-10,3.59661821498423e-10,1.19887273832808e-10,3.59661821498423e-10,1.19887273832808e-10,1.19887273832808e-10,3.59661821498423e-10,3.47673094115142e-9],\"fOption\":\"\",\"fFunctions\":{\"_typename\":\"TList\",\"name\":\"TList\",\"arr\":[],\"opt\":[]},\"fBufferSize\":0,\"fBuffer\":[],\"fBinStatErrOpt\":0,\"fStatOverflows\":2,\"fArray\":[5.255666e-4,0,1.09493e-5,1.09493e-5,2.189861e-5,1.09493e-5,1.09493e-5,5.474652e-5,2.189861e-5,4.379722e-5,1.09493e-5,3.284791e-5,2.189861e-5,3.284791e-5,3.284791e-5,8.759444e-5,9.854374e-5,7.664513e-5,6.569583e-5,1.42341e-4,1.751889e-4,9.854374e-5,1.313917e-4,1.751889e-4,1.970875e-4,2.408847e-4,2.408847e-4,2.846819e-4,4.379722e-4,4.270229e-4,6.241103e-4,5.03668e-4,8.102485e-4,8.321471e-4,7.992992e-4,0.001182525,0.001204423,0.001445308,0.001970875,0.002113216,0.003022008,0.003788459,0.004051243,0.005266616,0.007982044,0.01033614,0.01623782,0.02846819,0.05261141,0.1183401,0.2204314,0.2292456,0.1305814,0.05730866,0.02878572,0.01795686,0.01131063,0.00723749,0.005792182,0.0047301,0.003635169,0.002792073,0.002288405,0.002014672,0.001543852,0.001379612,0.001127778,8.321471e-4,8.211979e-4,8.430965e-4,5.146173e-4,4.927187e-4,5.03668e-4,3.94175e-4,2.737326e-4,3.065805e-4,1.861382e-4,2.299354e-4,2.299354e-4,2.080368e-4,1.751889e-4,9.854374e-5,5.474652e-5,9.854374e-5,6.569583e-5,5.474652e-5,8.759444e-5,5.474652e-5,8.759444e-5,7.664513e-5,8.759444e-5,4.379722e-5,3.284791e-5,3.284791e-5,3.284791e-5,3.284791e-5,1.09493e-5,3.284791e-5,1.09493e-5,1.09493e-5,3.284791e-5,3.175298e-4]},{\"_typename\":\"TLatex\",\"fUniqueID\":0,\"fBits\":16392,\"fName\":\"\",\"fTitle\":\"PU200, TkEm EE Corr. New, hwQual=1, p_{T}^{L1}>=10GeV, 1.52 < |#eta^{GEN}| <= 2.4\",\"fTextAngle\":0,\"fTextSize\":0.03,\"fTextAlign\":11,\"fTextColor\":1,\"fTextFont\":62,\"fX\":0.15,\"fY\":0.85,\"fLineColor\":1,\"fLineStyle\":1,\"fLineWidth\":2,\"fLimitFactorSize\":3,\"fOriginSize\":0.04},{\"_typename\":\"TLatex\",\"fUniqueID\":0,\"fBits\":8,\"fName\":\"\",\"fTitle\":\"\",\"fTextAngle\":0,\"fTextSize\":0.03,\"fTextAlign\":11,\"fTextColor\":1,\"fTextFont\":62,\"fX\":0,\"fY\":0,\"fLineColor\":1,\"fLineStyle\":1,\"fLineWidth\":2,\"fLimitFactorSize\":3,\"fOriginSize\":0.04},{\"_typename\":\"TStyle\",\"fUniqueID\":0,\"fBits\":0,\"fName\":\"Modern\",\"fTitle\":\"Modern Style\",\"fLineColor\":1,\"fLineStyle\":1,\"fLineWidth\":1,\"fFillColor\":19,\"fFillStyle\":1001,\"fMarkerColor\":1,\"fMarkerStyle\":1,\"fMarkerSize\":1,\"fTextAngle\":0,\"fTextSize\":0.05,\"fTextAlign\":11,\"fTextColor\":1,\"fTextFont\":62,\"fXaxis\":{\"_typename\":\"TAttAxis\",\"fNdivisions\":510,\"fAxisColor\":1,\"fLabelColor\":1,\"fLabelFont\":42,\"fLabelOffset\":0.005,\"fLabelSize\":0.035,\"fTickLength\":0.03,\"fTitleOffset\":1,\"fTitleSize\":0.035,\"fTitleColor\":1,\"fTitleFont\":42},\"fYaxis\":{\"_typename\":\"TAttAxis\",\"fNdivisions\":510,\"fAxisColor\":1,\"fLabelColor\":1,\"fLabelFont\":42,\"fLabelOffset\":0.005,\"fLabelSize\":0.035,\"fTickLength\":0.03,\"fTitleOffset\":0,\"fTitleSize\":0.035,\"fTitleColor\":1,\"fTitleFont\":42},\"fZaxis\":{\"_typename\":\"TAttAxis\",\"fNdivisions\":510,\"fAxisColor\":1,\"fLabelColor\":1,\"fLabelFont\":42,\"fLabelOffset\":0.005,\"fLabelSize\":0.035,\"fTickLength\":0.03,\"fTitleOffset\":1,\"fTitleSize\":0.035,\"fTitleColor\":1,\"fTitleFont\":42},\"fBarWidth\":1,\"fBarOffset\":0,\"fColorModelPS\":0,\"fDrawBorder\":0,\"fOptLogx\":0,\"fOptLogy\":0,\"fOptLogz\":0,\"fOptDate\":0,\"fOptStat\":0,\"fOptTitle\":0,\"fOptFile\":0,\"fOptFit\":0,\"fShowEventStatus\":0,\"fShowEditor\":0,\"fShowToolBar\":0,\"fNumberContours\":20,\"fAttDate\":{\"_typename\":\"TAttText\",\"fTextAngle\":0,\"fTextSize\":0.025,\"fTextAlign\":11,\"fTextColor\":1,\"fTextFont\":62},\"fDateX\":0.01,\"fDateY\":0.01,\"fEndErrorSize\":2,\"fErrorX\":0.5,\"fFuncColor\":2,\"fFuncStyle\":1,\"fFuncWidth\":2,\"fGridColor\":0,\"fGridStyle\":3,\"fGridWidth\":1,\"fLegendBorderSize\":1,\"fLegendFillColor\":0,\"fLegendFont\":42,\"fLegendTextSize\":0,\"fHatchesLineWidth\":1,\"fHatchesSpacing\":1,\"fFrameFillColor\":0,\"fFrameLineColor\":1,\"fFrameFillStyle\":1001,\"fFrameLineStyle\":1,\"fFrameLineWidth\":1,\"fFrameBorderSize\":1,\"fFrameBorderMode\":0,\"fHistFillColor\":0,\"fHistLineColor\":602,\"fHistFillStyle\":1001,\"fHistLineStyle\":1,\"fHistLineWidth\":1,\"fHistMinimumZero\":false,\"fHistTopMargin\":0.05,\"fCanvasPreferGL\":false,\"fCanvasColor\":0,\"fCanvasBorderSize\":2,\"fCanvasBorderMode\":0,\"fCanvasDefH\":500,\"fCanvasDefW\":700,\"fCanvasDefX\":10,\"fCanvasDefY\":10,\"fPadColor\":0,\"fPadBorderSize\":2,\"fPadBorderMode\":0,\"fPadBottomMargin\":0.13,\"fPadTopMargin\":0.1,\"fPadLeftMargin\":0.13,\"fPadRightMargin\":0.13,\"fPadGridX\":false,\"fPadGridY\":false,\"fPadTickX\":0,\"fPadTickY\":0,\"fPaperSizeX\":20,\"fPaperSizeY\":26,\"fScreenFactor\":1,\"fStatColor\":0,\"fStatTextColor\":1,\"fStatBorderSize\":1,\"fStatFont\":42,\"fStatFontSize\":0,\"fStatStyle\":1001,\"fStatFormat\":\"6.4g\",\"fStatX\":0.98,\"fStatY\":0.935,\"fStatW\":0.2,\"fStatH\":0.16,\"fStripDecimals\":true,\"fTitleAlign\":23,\"fTitleColor\":0,\"fTitleTextColor\":1,\"fTitleBorderSize\":0,\"fTitleFont\":42,\"fTitleFontSize\":0.05,\"fTitleStyle\":0,\"fTitleX\":0.5,\"fTitleY\":0.995,\"fTitleW\":0,\"fTitleH\":0,\"fLegoInnerR\":0.5,\"fLineStyle\":[\"\",\"  \",\" 12 12\",\" 4 8\",\" 12 16 4 16\",\" 20 12 4 12\",\" 20 12 4 12 4 12 4 12\",\" 20 20\",\" 20 12 4 12 4 12\",\" 80 20\",\" 80 40 4 40\",\"  \",\"  \",\"  \",\"  \",\"  \",\"  \",\"  \",\"  \",\"  \",\"  \",\"  \",\"  \",\"  \",\"  \",\"  \",\"  \",\"  \",\"  \",\"  \"],\"fHeaderPS\":\"\",\"fTitlePS\":\"\",\"fFitFormat\":\"5.4g\",\"fPaintTextFormat\":\"g\",\"fLineScalePS\":3,\"fJoinLinePS\":0,\"fCapLinePS\":0,\"fTimeOffset\":788918400,\"fImageScaling\":1}],\"opt\":[\"\",\"HIST\",\"same\",\"same\",\"\"]},\"fExecs\":null,\"fName\":\"c_e42015\",\"fTitle\":\"c_e42015\",\"fNumPaletteColor\":0,\"fNextPaletteColor\":0,\"fDISPLAY\":\"$DISPLAY\",\"fDoubleBuffer\":0,\"fRetained\":true,\"fXsizeUser\":0,\"fYsizeUser\":0,\"fXsizeReal\":20,\"fYsizeReal\":15,\"fWindowTopX\":0,\"fWindowTopY\":0,\"fWindowWidth\":0,\"fWindowHeight\":0,\"fCw\":796,\"fCh\":572,\"fCatt\":{\"_typename\":\"TAttCanvas\",\"fXBetween\":2,\"fYBetween\":2,\"fTitleFromTop\":1.2,\"fXdate\":0.2,\"fYdate\":0.3,\"fAdate\":1},\"kMoveOpaque\":true,\"kResizeOpaque\":true,\"fHighLightColor\":2,\"fBatch\":true,\"kShowEventStatus\":false,\"kAutoExec\":true,\"kMenuBar\":true});\n",
       "   Core.settings.HandleKeys = false;\n",
       "   Core.draw(\"root_plot_1630411215303\", obj, \"\");\n",
       "}\n",
       "\n",
       "function script_load_root_plot_1630411215303(src, on_error) {\n",
       "    let script = document.createElement('script');\n",
       "    script.src = src;\n",
       "    script.onload = function() { display_root_plot_1630411215303(JSROOT); };\n",
       "    script.onerror = function() { script.remove(); on_error(); };\n",
       "    document.head.appendChild(script);\n",
       "}\n",
       "\n",
       "if (typeof requirejs !== 'undefined') {\n",
       "\n",
       "    // We are in jupyter notebooks, use require.js which should be configured already\n",
       "    requirejs.config({\n",
       "       paths: { 'JSRootCore' : [ 'scripts/JSRoot.core', 'https://root.cern/js/6.1.1/scripts/JSRoot.core.min', 'https://jsroot.gsi.de/6.1.1/scripts/JSRoot.core.min' ] }\n",
       "    })(['JSRootCore'],  function(Core) {\n",
       "       display_root_plot_1630411215303(Core);\n",
       "    });\n",
       "\n",
       "} else if (typeof JSROOT !== 'undefined') {\n",
       "\n",
       "   // JSROOT already loaded, just use it\n",
       "   display_root_plot_1630411215303(JSROOT);\n",
       "\n",
       "} else {\n",
       "\n",
       "    // We are in jupyterlab without require.js, directly loading jsroot\n",
       "    // Jupyterlab might be installed in a different base_url so we need to know it.\n",
       "    try {\n",
       "        var base_url = JSON.parse(document.getElementById('jupyter-config-data').innerHTML).baseUrl;\n",
       "    } catch(_) {\n",
       "        var base_url = '/';\n",
       "    }\n",
       "\n",
       "    // Try loading a local version of requirejs and fallback to cdn if not possible.\n",
       "    script_load_root_plot_1630411215303(base_url + 'static/scripts/JSRoot.core.js', function(){\n",
       "        console.error('Fail to load JSROOT locally, please check your jupyter_notebook_config.py file');\n",
       "        script_load_root_plot_1630411215303('https://root.cern/js/6.1.1/scripts/JSRoot.core.min.js', function(){\n",
       "            document.getElementById(\"root_plot_1630411215303\").innerHTML = \"Failed to load JSROOT\";\n",
       "        });\n",
       "    });\n",
       "}\n",
       "\n",
       "</script>\n"
      ],
      "text/plain": [
       "<IPython.core.display.HTML object>"
      ]
     },
     "metadata": {},
     "output_type": "display_data"
    }
   ],
   "source": [
    "dm = DrawMachine(rleg_config)\n",
    "\n",
    "dm.addHistos([his.h_exphiRes for his in hsets], labels)\n",
    "\n",
    "dm.draw(text=text, options='hist', norm=True)\n"
   ]
  },
  {
   "cell_type": "code",
   "execution_count": 36,
   "metadata": {},
   "outputs": [
    {
     "name": "stdout",
     "output_type": "stream",
     "text": [
      "Help on method draw in module drawingTools:\n",
      "\n",
      "draw(text, options='', norm=False, y_log=False, x_log=False, y_min=None, y_max=None, x_min=None, x_max=None, y_axis_label=None, x_axis_label=None, v_lines=None, h_lines=None, do_profile=False, do_ratio=False, y_min_ratio=0.7, y_max_ratio=1.3) method of drawingTools.DrawMachine instance\n",
      "\n"
     ]
    }
   ],
   "source": [
    "help(dm.draw)"
   ]
  },
  {
   "cell_type": "code",
   "execution_count": null,
   "metadata": {},
   "outputs": [],
   "source": []
  },
  {
   "cell_type": "code",
   "execution_count": null,
   "metadata": {},
   "outputs": [],
   "source": []
  }
 ],
 "metadata": {
  "kernelspec": {
   "display_name": "ntp-tools-py38",
   "language": "python",
   "name": "ntp-tools-py38"
  },
  "language_info": {
   "codemirror_mode": {
    "name": "ipython",
    "version": 3
   },
   "file_extension": ".py",
   "mimetype": "text/x-python",
   "name": "python",
   "nbconvert_exporter": "python",
   "pygments_lexer": "ipython3",
   "version": "3.8.11"
  },
  "toc": {
   "base_numbering": 1,
   "nav_menu": {},
   "number_sections": true,
   "sideBar": true,
   "skip_h1_title": false,
   "title_cell": "Table of Contents",
   "title_sidebar": "Contents",
   "toc_cell": false,
   "toc_position": {
    "height": "calc(100% - 180px)",
    "left": "10px",
    "top": "150px",
    "width": "341px"
   },
   "toc_section_display": true,
   "toc_window_display": true
  }
 },
 "nbformat": 4,
 "nbformat_minor": 2
}
